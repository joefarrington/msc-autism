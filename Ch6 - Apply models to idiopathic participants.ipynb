{
 "cells": [
  {
   "cell_type": "markdown",
   "metadata": {},
   "source": [
    "# Chapter 6 - Apply models to idiopathic participants"
   ]
  },
  {
   "cell_type": "markdown",
   "metadata": {
    "heading_collapsed": true
   },
   "source": [
    "## Setup"
   ]
  },
  {
   "cell_type": "markdown",
   "metadata": {
    "hidden": true
   },
   "source": [
    "Run Python file to import libraries and custom functions"
   ]
  },
  {
   "cell_type": "code",
   "execution_count": 1,
   "metadata": {
    "hidden": true
   },
   "outputs": [
    {
     "name": "stderr",
     "output_type": "stream",
     "text": [
      "/Users/joefarrington/anaconda3/lib/python3.6/site-packages/sklearn/externals/six.py:31: DeprecationWarning: The module is deprecated in version 0.21 and will be removed in version 0.23 since we've dropped support for Python 2.7. Please rely on the official version of six (https://pypi.org/project/six/).\n",
      "  \"(https://pypi.org/project/six/).\", DeprecationWarning)\n",
      "/Users/joefarrington/anaconda3/lib/python3.6/site-packages/sklearn/externals/joblib/__init__.py:15: DeprecationWarning: sklearn.externals.joblib is deprecated in 0.21 and will be removed in 0.23. Please import this functionality directly from joblib, which can be installed with: pip install joblib. If this warning is raised when loading pickled models, you may need to re-serialize those models with scikit-learn 0.21+.\n",
      "  warnings.warn(msg, category=DeprecationWarning)\n"
     ]
    }
   ],
   "source": [
    "%run libraries.py"
   ]
  },
  {
   "cell_type": "markdown",
   "metadata": {
    "hidden": true
   },
   "source": [
    "Set paths for data and models"
   ]
  },
  {
   "cell_type": "code",
   "execution_count": 2,
   "metadata": {
    "hidden": true
   },
   "outputs": [],
   "source": [
    "data_path = '/Users/joefarrington/Documents/MSc Machine Learning/Project/August/Data for import/'\n",
    "results_path = '/Users/joefarrington/Documents/MSc Machine Learning/Project/August/Results/Ch6idiosubset/'"
   ]
  },
  {
   "cell_type": "markdown",
   "metadata": {
    "hidden": true
   },
   "source": [
    "Define a string to be added to the name of all saved results from this notebook"
   ]
  },
  {
   "cell_type": "code",
   "execution_count": 3,
   "metadata": {
    "hidden": true
   },
   "outputs": [],
   "source": [
    "nbname = 'Ch6idiosubset'"
   ]
  },
  {
   "cell_type": "markdown",
   "metadata": {
    "hidden": true
   },
   "source": [
    "Import the data for the Bruining dataset"
   ]
  },
  {
   "cell_type": "code",
   "execution_count": 4,
   "metadata": {
    "hidden": true
   },
   "outputs": [],
   "source": [
    "X_syn_B = pd.read_csv(data_path+'X_all_B.csv', index_col=0)\n",
    "y_syn_B = np.array(pd.read_csv(data_path+'y_all_B.csv', index_col=0, header=None)).reshape(-1,)"
   ]
  },
  {
   "cell_type": "markdown",
   "metadata": {
    "hidden": true
   },
   "source": [
    "Import the data for all the syndromic participants"
   ]
  },
  {
   "cell_type": "code",
   "execution_count": 5,
   "metadata": {
    "hidden": true
   },
   "outputs": [],
   "source": [
    "X_syn_all = pd.read_csv(data_path+'X_all_Rev.csv', index_col=0)\n",
    "y_syn_all = np.array(pd.read_csv(data_path+'y_all_Rev.csv', index_col=0, header=None)).reshape(-1,)"
   ]
  },
  {
   "cell_type": "markdown",
   "metadata": {
    "hidden": true
   },
   "source": [
    "Import the data for the participants with idiopathic ASD"
   ]
  },
  {
   "cell_type": "code",
   "execution_count": 6,
   "metadata": {
    "hidden": true
   },
   "outputs": [],
   "source": [
    "X_idio_subset = pd.read_csv(data_path+'X_idio_subset.csv', index_col=0)"
   ]
  },
  {
   "cell_type": "markdown",
   "metadata": {
    "hidden": true
   },
   "source": [
    "Define an sklearn scorer object to calculate the Matthews Correlation Coefficient (MCC)"
   ]
  },
  {
   "cell_type": "code",
   "execution_count": 7,
   "metadata": {
    "hidden": true
   },
   "outputs": [],
   "source": [
    "mcc_scorer = make_scorer(matthews_corrcoef)"
   ]
  },
  {
   "cell_type": "markdown",
   "metadata": {
    "hidden": true
   },
   "source": [
    "Function to train models on syndromic and predict on idiopathic"
   ]
  },
  {
   "cell_type": "code",
   "execution_count": 8,
   "metadata": {
    "hidden": true
   },
   "outputs": [],
   "source": [
    "def train_syn_pred_idio(X_B, y_B, X_Rev, y_Rev, X_idio, n_folds, param_grid, model, scorer, verbose):\n",
    "    \n",
    "    #For Bruining\n",
    "    skf_B = StratifiedKFold(n_splits=n_folds)\n",
    "    gs_B = GridSearchCV(model, param_grid, cv=skf_B, iid=False, scoring=scorer, n_jobs=-1, verbose=verbose)\n",
    "    gs_B.fit(X_B, y_B)\n",
    "    ypreds_B = gs_B.predict(X_idio)\n",
    "    \n",
    "    #For whole syndromic dataset\n",
    "    skf_Rev = StratifiedKFold(n_splits=n_folds)\n",
    "    gs_Rev = GridSearchCV(model, param_grid, cv=skf_Rev, iid=False, scoring=scorer, n_jobs=-1, verbose=verbose)\n",
    "    gs_Rev.fit(X_Rev, y_Rev)\n",
    "    ypreds_Rev = gs_Rev.predict(X_idio)\n",
    "    \n",
    "    #Produce dataframe that compares predictions\n",
    "    \n",
    "    \n",
    "    B_labels = np.unique(y_B)\n",
    "    nclasses_B = len(B_labels)\n",
    "    \n",
    "    Rev_labels = np.unique(y_Rev)\n",
    "    nclasses_Rev = len(Rev_labels)\n",
    "\n",
    "    res_df = pd.DataFrame(np.zeros((nclasses_B, nclasses_Rev)), index = B_labels, columns = Rev_labels)\n",
    "    \n",
    "    for i in range(0, len(ypreds_Rev)):\n",
    "        r = ypreds_B[i]\n",
    "        c = ypreds_Rev[i]\n",
    "        res_df.loc[r,c] += 1\n",
    "    \n",
    "    #Return a dictionary with the results\n",
    "    res_dict = {'model_B': gs_B, 'model_Rev': gs_Rev, 'ypreds_B':ypreds_B, 'ypreds_Rev':ypreds_Rev, 'res_df':res_df}\n",
    "    \n",
    "    print(res_df)\n",
    "    \n",
    "    return res_dict\n",
    "    "
   ]
  },
  {
   "cell_type": "markdown",
   "metadata": {
    "heading_collapsed": true
   },
   "source": [
    "## Model 1: OvO SVM with RBF kernel"
   ]
  },
  {
   "cell_type": "markdown",
   "metadata": {
    "hidden": true
   },
   "source": [
    "Define the number of folds for cross-validation"
   ]
  },
  {
   "cell_type": "code",
   "execution_count": 9,
   "metadata": {
    "hidden": true
   },
   "outputs": [],
   "source": [
    "n_folds = 10"
   ]
  },
  {
   "cell_type": "markdown",
   "metadata": {
    "hidden": true
   },
   "source": [
    "Define the model"
   ]
  },
  {
   "cell_type": "code",
   "execution_count": 10,
   "metadata": {
    "hidden": true
   },
   "outputs": [],
   "source": [
    "svc_rbf = SVC(decision_function_shape='ovo', kernel='rbf')\n",
    "steps_rbf = [('scaler', StandardScaler()),\n",
    "     ('model',svc_rbf)]\n",
    "pipeline_rbf = Pipeline(steps_rbf)"
   ]
  },
  {
   "cell_type": "markdown",
   "metadata": {
    "hidden": true
   },
   "source": [
    "Define the parameters for the grid seach"
   ]
  },
  {
   "cell_type": "code",
   "execution_count": 11,
   "metadata": {
    "hidden": true
   },
   "outputs": [],
   "source": [
    "rbf_C_range = np.logspace(start=-5, stop=15, num=21, base=2)\n",
    "rbf_gamma_range = np.logspace(start=-15, stop=3, num=19, base=2)\n",
    "rbf_parameters = dict(model__gamma=rbf_gamma_range, model__C=rbf_C_range)"
   ]
  },
  {
   "cell_type": "markdown",
   "metadata": {
    "hidden": true
   },
   "source": [
    "Run the training and prediction"
   ]
  },
  {
   "cell_type": "code",
   "execution_count": 12,
   "metadata": {
    "hidden": true
   },
   "outputs": [
    {
     "name": "stdout",
     "output_type": "stream",
     "text": [
      "Fitting 10 folds for each of 399 candidates, totalling 3990 fits\n"
     ]
    },
    {
     "name": "stderr",
     "output_type": "stream",
     "text": [
      "[Parallel(n_jobs=-1)]: Using backend LokyBackend with 8 concurrent workers.\n",
      "[Parallel(n_jobs=-1)]: Done  34 tasks      | elapsed:    2.0s\n",
      "[Parallel(n_jobs=-1)]: Done 1812 tasks      | elapsed:    7.3s\n",
      "[Parallel(n_jobs=-1)]: Done 3990 out of 3990 | elapsed:   14.5s finished\n",
      "[Parallel(n_jobs=-1)]: Using backend LokyBackend with 8 concurrent workers.\n"
     ]
    },
    {
     "name": "stdout",
     "output_type": "stream",
     "text": [
      "Fitting 10 folds for each of 399 candidates, totalling 3990 fits\n"
     ]
    },
    {
     "name": "stderr",
     "output_type": "stream",
     "text": [
      "[Parallel(n_jobs=-1)]: Done 160 tasks      | elapsed:    1.5s\n",
      "[Parallel(n_jobs=-1)]: Done 1360 tasks      | elapsed:   10.9s\n",
      "[Parallel(n_jobs=-1)]: Done 3360 tasks      | elapsed:   29.7s\n"
     ]
    },
    {
     "name": "stdout",
     "output_type": "stream",
     "text": [
      "         22q11DS  Down  FXS-F  FXS-M  NF1  PW-UPD  PW-del  SMC15   TSC  XXY\n",
      "22q11DS      2.0   0.0    2.0    8.0  2.0     0.0     0.0    0.0  11.0  1.0\n",
      "Down         0.0   0.0    0.0    0.0  0.0     0.0     0.0    0.0   0.0  0.0\n",
      "PW           0.0   0.0    0.0    1.0  0.0     1.0     0.0    0.0   2.0  0.0\n",
      "SMC15        0.0   0.0    0.0    1.0  0.0     0.0     0.0    0.0   0.0  0.0\n",
      "TSC          0.0   0.0    2.0   16.0  7.0     0.0     0.0    0.0  40.0  0.0\n",
      "XXY          0.0   0.0    0.0    5.0  3.0     0.0     0.0    0.0  18.0  2.0\n"
     ]
    },
    {
     "name": "stderr",
     "output_type": "stream",
     "text": [
      "[Parallel(n_jobs=-1)]: Done 3990 out of 3990 | elapsed:   37.9s finished\n"
     ]
    }
   ],
   "source": [
    "rbf_svm_resdict = train_syn_pred_idio(X_B = X_syn_B, y_B = y_syn_B, X_Rev = X_syn_all, y_Rev = y_syn_all, \n",
    "                                           X_idio = X_idio_subset, n_folds = n_folds, param_grid = rbf_parameters,\n",
    "                                           model = pipeline_rbf, scorer = mcc_scorer, verbose =1)"
   ]
  },
  {
   "cell_type": "markdown",
   "metadata": {
    "hidden": true
   },
   "source": [
    "Save the results"
   ]
  },
  {
   "cell_type": "code",
   "execution_count": 13,
   "metadata": {
    "hidden": true
   },
   "outputs": [],
   "source": [
    "pickle.dump(rbf_svm_resdict, open(results_path+f\"rbf_svm_resdict.p\", \"wb\" ))"
   ]
  },
  {
   "cell_type": "markdown",
   "metadata": {
    "hidden": true
   },
   "source": [
    "Load the results"
   ]
  },
  {
   "cell_type": "code",
   "execution_count": 14,
   "metadata": {
    "hidden": true
   },
   "outputs": [],
   "source": [
    "rbf_svm_dict = pickle.load(open(results_path+f\"rbf_svm_resdict.p\", \"rb\" ))"
   ]
  },
  {
   "cell_type": "markdown",
   "metadata": {
    "hidden": true
   },
   "source": [
    "Print the dataframe (normalized)"
   ]
  },
  {
   "cell_type": "code",
   "execution_count": 18,
   "metadata": {
    "hidden": true
   },
   "outputs": [
    {
     "data": {
      "text/html": [
       "<div>\n",
       "<style scoped>\n",
       "    .dataframe tbody tr th:only-of-type {\n",
       "        vertical-align: middle;\n",
       "    }\n",
       "\n",
       "    .dataframe tbody tr th {\n",
       "        vertical-align: top;\n",
       "    }\n",
       "\n",
       "    .dataframe thead th {\n",
       "        text-align: right;\n",
       "    }\n",
       "</style>\n",
       "<table border=\"1\" class=\"dataframe\">\n",
       "  <thead>\n",
       "    <tr style=\"text-align: right;\">\n",
       "      <th></th>\n",
       "      <th>22q11DS</th>\n",
       "      <th>Down</th>\n",
       "      <th>FXS-F</th>\n",
       "      <th>FXS-M</th>\n",
       "      <th>NF1</th>\n",
       "      <th>PW-UPD</th>\n",
       "      <th>PW-del</th>\n",
       "      <th>SMC15</th>\n",
       "      <th>TSC</th>\n",
       "      <th>XXY</th>\n",
       "    </tr>\n",
       "  </thead>\n",
       "  <tbody>\n",
       "    <tr>\n",
       "      <th>22q11DS</th>\n",
       "      <td>0.016129</td>\n",
       "      <td>0.0</td>\n",
       "      <td>0.016129</td>\n",
       "      <td>0.064516</td>\n",
       "      <td>0.016129</td>\n",
       "      <td>0.000000</td>\n",
       "      <td>0.0</td>\n",
       "      <td>0.0</td>\n",
       "      <td>0.088710</td>\n",
       "      <td>0.008065</td>\n",
       "    </tr>\n",
       "    <tr>\n",
       "      <th>Down</th>\n",
       "      <td>0.000000</td>\n",
       "      <td>0.0</td>\n",
       "      <td>0.000000</td>\n",
       "      <td>0.000000</td>\n",
       "      <td>0.000000</td>\n",
       "      <td>0.000000</td>\n",
       "      <td>0.0</td>\n",
       "      <td>0.0</td>\n",
       "      <td>0.000000</td>\n",
       "      <td>0.000000</td>\n",
       "    </tr>\n",
       "    <tr>\n",
       "      <th>PW</th>\n",
       "      <td>0.000000</td>\n",
       "      <td>0.0</td>\n",
       "      <td>0.000000</td>\n",
       "      <td>0.008065</td>\n",
       "      <td>0.000000</td>\n",
       "      <td>0.008065</td>\n",
       "      <td>0.0</td>\n",
       "      <td>0.0</td>\n",
       "      <td>0.016129</td>\n",
       "      <td>0.000000</td>\n",
       "    </tr>\n",
       "    <tr>\n",
       "      <th>SMC15</th>\n",
       "      <td>0.000000</td>\n",
       "      <td>0.0</td>\n",
       "      <td>0.000000</td>\n",
       "      <td>0.008065</td>\n",
       "      <td>0.000000</td>\n",
       "      <td>0.000000</td>\n",
       "      <td>0.0</td>\n",
       "      <td>0.0</td>\n",
       "      <td>0.000000</td>\n",
       "      <td>0.000000</td>\n",
       "    </tr>\n",
       "    <tr>\n",
       "      <th>TSC</th>\n",
       "      <td>0.000000</td>\n",
       "      <td>0.0</td>\n",
       "      <td>0.016129</td>\n",
       "      <td>0.129032</td>\n",
       "      <td>0.056452</td>\n",
       "      <td>0.000000</td>\n",
       "      <td>0.0</td>\n",
       "      <td>0.0</td>\n",
       "      <td>0.322581</td>\n",
       "      <td>0.000000</td>\n",
       "    </tr>\n",
       "    <tr>\n",
       "      <th>XXY</th>\n",
       "      <td>0.000000</td>\n",
       "      <td>0.0</td>\n",
       "      <td>0.000000</td>\n",
       "      <td>0.040323</td>\n",
       "      <td>0.024194</td>\n",
       "      <td>0.000000</td>\n",
       "      <td>0.0</td>\n",
       "      <td>0.0</td>\n",
       "      <td>0.145161</td>\n",
       "      <td>0.016129</td>\n",
       "    </tr>\n",
       "  </tbody>\n",
       "</table>\n",
       "</div>"
      ],
      "text/plain": [
       "          22q11DS  Down     FXS-F     FXS-M       NF1    PW-UPD  PW-del  \\\n",
       "22q11DS  0.016129   0.0  0.016129  0.064516  0.016129  0.000000     0.0   \n",
       "Down     0.000000   0.0  0.000000  0.000000  0.000000  0.000000     0.0   \n",
       "PW       0.000000   0.0  0.000000  0.008065  0.000000  0.008065     0.0   \n",
       "SMC15    0.000000   0.0  0.000000  0.008065  0.000000  0.000000     0.0   \n",
       "TSC      0.000000   0.0  0.016129  0.129032  0.056452  0.000000     0.0   \n",
       "XXY      0.000000   0.0  0.000000  0.040323  0.024194  0.000000     0.0   \n",
       "\n",
       "         SMC15       TSC       XXY  \n",
       "22q11DS    0.0  0.088710  0.008065  \n",
       "Down       0.0  0.000000  0.000000  \n",
       "PW         0.0  0.016129  0.000000  \n",
       "SMC15      0.0  0.000000  0.000000  \n",
       "TSC        0.0  0.322581  0.000000  \n",
       "XXY        0.0  0.145161  0.016129  "
      ]
     },
     "execution_count": 18,
     "metadata": {},
     "output_type": "execute_result"
    }
   ],
   "source": [
    "rbf_svm_dict['res_df']/124"
   ]
  },
  {
   "cell_type": "markdown",
   "metadata": {
    "hidden": true
   },
   "source": [
    "Print the proportions assigned to each class"
   ]
  },
  {
   "cell_type": "code",
   "execution_count": 19,
   "metadata": {
    "hidden": true
   },
   "outputs": [
    {
     "data": {
      "text/plain": [
       "TSC        0.524194\n",
       "XXY        0.225806\n",
       "22q11DS    0.209677\n",
       "PW         0.032258\n",
       "SMC15      0.008065\n",
       "dtype: float64"
      ]
     },
     "execution_count": 19,
     "metadata": {},
     "output_type": "execute_result"
    }
   ],
   "source": [
    "pd.Series(rbf_svm_resdict['ypreds_B']).value_counts()/124"
   ]
  },
  {
   "cell_type": "code",
   "execution_count": 20,
   "metadata": {
    "hidden": true
   },
   "outputs": [
    {
     "data": {
      "text/plain": [
       "TSC        0.572581\n",
       "FXS-M      0.250000\n",
       "NF1        0.096774\n",
       "FXS-F      0.032258\n",
       "XXY        0.024194\n",
       "22q11DS    0.016129\n",
       "PW-UPD     0.008065\n",
       "dtype: float64"
      ]
     },
     "execution_count": 20,
     "metadata": {},
     "output_type": "execute_result"
    }
   ],
   "source": [
    "pd.Series(rbf_svm_resdict['ypreds_Rev']).value_counts()/124"
   ]
  },
  {
   "cell_type": "markdown",
   "metadata": {
    "hidden": true
   },
   "source": [
    "Plot a figure for the results"
   ]
  },
  {
   "cell_type": "code",
   "execution_count": 21,
   "metadata": {
    "hidden": true
   },
   "outputs": [
    {
     "data": {
      "image/png": "[encoded data removed]",
      "text/plain": [
       "<Figure size 576x1152 with 1 Axes>"
      ]
     },
     "metadata": {
      "needs_background": "light"
     },
     "output_type": "display_data"
    }
   ],
   "source": [
    "fig, ax = plt.subplots(figsize=(8,16))\n",
    "sns.heatmap((rbf_svm_resdict['res_df']), cmap='Blues', annot = (rbf_svm_resdict['res_df'])/1.24, \n",
    "            square=True, cbar=False, ax=ax);\n",
    "\n",
    "B_labels = np.unique(y_syn_B);\n",
    "B_labels[1] = 'DS';\n",
    "\n",
    "Rev_labels = np.unique(y_syn_all);\n",
    "Rev_labels[1] = 'DS';\n",
    "\n",
    "ax.set_xticklabels(Rev_labels);\n",
    "ax.set_yticklabels(B_labels);"
   ]
  },
  {
   "cell_type": "markdown",
   "metadata": {
    "heading_collapsed": true
   },
   "source": [
    "## Model 2: OvO SVM with linear kernel"
   ]
  },
  {
   "cell_type": "markdown",
   "metadata": {
    "hidden": true
   },
   "source": [
    "Define the number of folds for cross-validation"
   ]
  },
  {
   "cell_type": "code",
   "execution_count": 22,
   "metadata": {
    "hidden": true
   },
   "outputs": [],
   "source": [
    "n_folds = 10"
   ]
  },
  {
   "cell_type": "markdown",
   "metadata": {
    "hidden": true
   },
   "source": [
    "Define the model"
   ]
  },
  {
   "cell_type": "code",
   "execution_count": 23,
   "metadata": {
    "hidden": true
   },
   "outputs": [],
   "source": [
    "svc_lin = SVC(decision_function_shape='ovo', kernel='linear')\n",
    "steps_lin = [('scaler', StandardScaler()),\n",
    "     ('model',svc_lin)]\n",
    "pipeline_lin = Pipeline(steps_lin)"
   ]
  },
  {
   "cell_type": "markdown",
   "metadata": {
    "hidden": true
   },
   "source": [
    "Define the parameters for the grid seach"
   ]
  },
  {
   "cell_type": "code",
   "execution_count": 24,
   "metadata": {
    "hidden": true
   },
   "outputs": [],
   "source": [
    "lin_C_range = np.logspace(start=-10, stop=10, num=21, base=2)\n",
    "lin_parameters = dict(model__C=lin_C_range)"
   ]
  },
  {
   "cell_type": "markdown",
   "metadata": {
    "hidden": true
   },
   "source": [
    "Run the training and prediction"
   ]
  },
  {
   "cell_type": "code",
   "execution_count": 25,
   "metadata": {
    "hidden": true
   },
   "outputs": [
    {
     "name": "stdout",
     "output_type": "stream",
     "text": [
      "Fitting 10 folds for each of 21 candidates, totalling 210 fits\n"
     ]
    },
    {
     "name": "stderr",
     "output_type": "stream",
     "text": [
      "[Parallel(n_jobs=-1)]: Using backend LokyBackend with 8 concurrent workers.\n",
      "[Parallel(n_jobs=-1)]: Done 210 out of 210 | elapsed:    5.1s finished\n",
      "[Parallel(n_jobs=-1)]: Using backend LokyBackend with 8 concurrent workers.\n"
     ]
    },
    {
     "name": "stdout",
     "output_type": "stream",
     "text": [
      "Fitting 10 folds for each of 21 candidates, totalling 210 fits\n"
     ]
    },
    {
     "name": "stderr",
     "output_type": "stream",
     "text": [
      "[Parallel(n_jobs=-1)]: Done 124 tasks      | elapsed:    1.7s\n"
     ]
    },
    {
     "name": "stdout",
     "output_type": "stream",
     "text": [
      "         22q11DS  Down  FXS-F  FXS-M  NF1  PW-UPD  PW-del  SMC15   TSC  XXY\n",
      "22q11DS      3.0   0.0    1.0    8.0  1.0     0.0     0.0    0.0   7.0  0.0\n",
      "Down         0.0   0.0    0.0    0.0  0.0     0.0     0.0    0.0   0.0  0.0\n",
      "PW           0.0   0.0    0.0    0.0  0.0     2.0     0.0    0.0   2.0  0.0\n",
      "SMC15        0.0   0.0    0.0    2.0  2.0     0.0     0.0    1.0   3.0  0.0\n",
      "TSC          0.0   0.0    1.0   13.0  3.0     0.0     0.0    1.0  46.0  0.0\n",
      "XXY          0.0   0.0    2.0    2.0  6.0     0.0     0.0    0.0  15.0  3.0\n"
     ]
    },
    {
     "name": "stderr",
     "output_type": "stream",
     "text": [
      "[Parallel(n_jobs=-1)]: Done 210 out of 210 | elapsed:  2.6min finished\n"
     ]
    }
   ],
   "source": [
    "lin_svm_resdict = train_syn_pred_idio(X_B = X_syn_B, y_B = y_syn_B, X_Rev = X_syn_all, y_Rev = y_syn_all, \n",
    "                                           X_idio = X_idio_subset, n_folds = n_folds, param_grid = lin_parameters,\n",
    "                                           model = pipeline_lin, scorer = mcc_scorer, verbose =1)"
   ]
  },
  {
   "cell_type": "markdown",
   "metadata": {
    "hidden": true
   },
   "source": [
    "Save the results"
   ]
  },
  {
   "cell_type": "code",
   "execution_count": 32,
   "metadata": {
    "hidden": true
   },
   "outputs": [],
   "source": [
    "pickle.dump(lin_svm_resdict, open(results_path+f\"lin_svm_resdict.p\", \"wb\" ))"
   ]
  },
  {
   "cell_type": "markdown",
   "metadata": {
    "hidden": true
   },
   "source": [
    "Load the results"
   ]
  },
  {
   "cell_type": "code",
   "execution_count": 33,
   "metadata": {
    "hidden": true
   },
   "outputs": [],
   "source": [
    "lin_svm_dict = pickle.load(open(results_path+f\"lin_svm_resdict.p\", \"rb\" ))"
   ]
  },
  {
   "cell_type": "markdown",
   "metadata": {
    "hidden": true
   },
   "source": [
    "Print the dataframe (normalized)"
   ]
  },
  {
   "cell_type": "code",
   "execution_count": 34,
   "metadata": {
    "hidden": true
   },
   "outputs": [
    {
     "data": {
      "text/html": [
       "<div>\n",
       "<style scoped>\n",
       "    .dataframe tbody tr th:only-of-type {\n",
       "        vertical-align: middle;\n",
       "    }\n",
       "\n",
       "    .dataframe tbody tr th {\n",
       "        vertical-align: top;\n",
       "    }\n",
       "\n",
       "    .dataframe thead th {\n",
       "        text-align: right;\n",
       "    }\n",
       "</style>\n",
       "<table border=\"1\" class=\"dataframe\">\n",
       "  <thead>\n",
       "    <tr style=\"text-align: right;\">\n",
       "      <th></th>\n",
       "      <th>22q11DS</th>\n",
       "      <th>Down</th>\n",
       "      <th>FXS-F</th>\n",
       "      <th>FXS-M</th>\n",
       "      <th>NF1</th>\n",
       "      <th>PW-UPD</th>\n",
       "      <th>PW-del</th>\n",
       "      <th>SMC15</th>\n",
       "      <th>TSC</th>\n",
       "      <th>XXY</th>\n",
       "    </tr>\n",
       "  </thead>\n",
       "  <tbody>\n",
       "    <tr>\n",
       "      <th>22q11DS</th>\n",
       "      <td>0.024194</td>\n",
       "      <td>0.0</td>\n",
       "      <td>0.008065</td>\n",
       "      <td>0.064516</td>\n",
       "      <td>0.008065</td>\n",
       "      <td>0.000000</td>\n",
       "      <td>0.0</td>\n",
       "      <td>0.000000</td>\n",
       "      <td>0.056452</td>\n",
       "      <td>0.000000</td>\n",
       "    </tr>\n",
       "    <tr>\n",
       "      <th>Down</th>\n",
       "      <td>0.000000</td>\n",
       "      <td>0.0</td>\n",
       "      <td>0.000000</td>\n",
       "      <td>0.000000</td>\n",
       "      <td>0.000000</td>\n",
       "      <td>0.000000</td>\n",
       "      <td>0.0</td>\n",
       "      <td>0.000000</td>\n",
       "      <td>0.000000</td>\n",
       "      <td>0.000000</td>\n",
       "    </tr>\n",
       "    <tr>\n",
       "      <th>PW</th>\n",
       "      <td>0.000000</td>\n",
       "      <td>0.0</td>\n",
       "      <td>0.000000</td>\n",
       "      <td>0.000000</td>\n",
       "      <td>0.000000</td>\n",
       "      <td>0.016129</td>\n",
       "      <td>0.0</td>\n",
       "      <td>0.000000</td>\n",
       "      <td>0.016129</td>\n",
       "      <td>0.000000</td>\n",
       "    </tr>\n",
       "    <tr>\n",
       "      <th>SMC15</th>\n",
       "      <td>0.000000</td>\n",
       "      <td>0.0</td>\n",
       "      <td>0.000000</td>\n",
       "      <td>0.016129</td>\n",
       "      <td>0.016129</td>\n",
       "      <td>0.000000</td>\n",
       "      <td>0.0</td>\n",
       "      <td>0.008065</td>\n",
       "      <td>0.024194</td>\n",
       "      <td>0.000000</td>\n",
       "    </tr>\n",
       "    <tr>\n",
       "      <th>TSC</th>\n",
       "      <td>0.000000</td>\n",
       "      <td>0.0</td>\n",
       "      <td>0.008065</td>\n",
       "      <td>0.104839</td>\n",
       "      <td>0.024194</td>\n",
       "      <td>0.000000</td>\n",
       "      <td>0.0</td>\n",
       "      <td>0.008065</td>\n",
       "      <td>0.370968</td>\n",
       "      <td>0.000000</td>\n",
       "    </tr>\n",
       "    <tr>\n",
       "      <th>XXY</th>\n",
       "      <td>0.000000</td>\n",
       "      <td>0.0</td>\n",
       "      <td>0.016129</td>\n",
       "      <td>0.016129</td>\n",
       "      <td>0.048387</td>\n",
       "      <td>0.000000</td>\n",
       "      <td>0.0</td>\n",
       "      <td>0.000000</td>\n",
       "      <td>0.120968</td>\n",
       "      <td>0.024194</td>\n",
       "    </tr>\n",
       "  </tbody>\n",
       "</table>\n",
       "</div>"
      ],
      "text/plain": [
       "          22q11DS  Down     FXS-F     FXS-M       NF1    PW-UPD  PW-del  \\\n",
       "22q11DS  0.024194   0.0  0.008065  0.064516  0.008065  0.000000     0.0   \n",
       "Down     0.000000   0.0  0.000000  0.000000  0.000000  0.000000     0.0   \n",
       "PW       0.000000   0.0  0.000000  0.000000  0.000000  0.016129     0.0   \n",
       "SMC15    0.000000   0.0  0.000000  0.016129  0.016129  0.000000     0.0   \n",
       "TSC      0.000000   0.0  0.008065  0.104839  0.024194  0.000000     0.0   \n",
       "XXY      0.000000   0.0  0.016129  0.016129  0.048387  0.000000     0.0   \n",
       "\n",
       "            SMC15       TSC       XXY  \n",
       "22q11DS  0.000000  0.056452  0.000000  \n",
       "Down     0.000000  0.000000  0.000000  \n",
       "PW       0.000000  0.016129  0.000000  \n",
       "SMC15    0.008065  0.024194  0.000000  \n",
       "TSC      0.008065  0.370968  0.000000  \n",
       "XXY      0.000000  0.120968  0.024194  "
      ]
     },
     "execution_count": 34,
     "metadata": {},
     "output_type": "execute_result"
    }
   ],
   "source": [
    "lin_svm_dict['res_df']/124"
   ]
  },
  {
   "cell_type": "markdown",
   "metadata": {
    "hidden": true
   },
   "source": [
    "Print the proportions assigned to each class"
   ]
  },
  {
   "cell_type": "code",
   "execution_count": 35,
   "metadata": {
    "hidden": true
   },
   "outputs": [
    {
     "data": {
      "text/plain": [
       "TSC        0.516129\n",
       "XXY        0.225806\n",
       "22q11DS    0.161290\n",
       "SMC15      0.064516\n",
       "PW         0.032258\n",
       "dtype: float64"
      ]
     },
     "execution_count": 35,
     "metadata": {},
     "output_type": "execute_result"
    }
   ],
   "source": [
    "pd.Series(lin_svm_resdict['ypreds_B']).value_counts()/124"
   ]
  },
  {
   "cell_type": "code",
   "execution_count": 36,
   "metadata": {
    "hidden": true
   },
   "outputs": [
    {
     "data": {
      "text/plain": [
       "TSC        0.588710\n",
       "FXS-M      0.201613\n",
       "NF1        0.096774\n",
       "FXS-F      0.032258\n",
       "22q11DS    0.024194\n",
       "XXY        0.024194\n",
       "PW-UPD     0.016129\n",
       "SMC15      0.016129\n",
       "dtype: float64"
      ]
     },
     "execution_count": 36,
     "metadata": {},
     "output_type": "execute_result"
    }
   ],
   "source": [
    "pd.Series(lin_svm_resdict['ypreds_Rev']).value_counts()/124"
   ]
  },
  {
   "cell_type": "markdown",
   "metadata": {
    "hidden": true
   },
   "source": [
    "Plot a figure for the results"
   ]
  },
  {
   "cell_type": "code",
   "execution_count": 37,
   "metadata": {
    "hidden": true
   },
   "outputs": [
    {
     "data": {
      "image/png": "[encoded data removed]",
      "text/plain": [
       "<Figure size 576x1152 with 1 Axes>"
      ]
     },
     "metadata": {
      "needs_background": "light"
     },
     "output_type": "display_data"
    }
   ],
   "source": [
    "fig, ax = plt.subplots(figsize=(8,16))\n",
    "sns.heatmap((lin_svm_resdict['res_df']), cmap='Blues', annot = (lin_svm_resdict['res_df'])/1.24, \n",
    "            square=True, cbar=False, ax=ax);\n",
    "\n",
    "B_labels = np.unique(y_syn_B);\n",
    "B_labels[1] = 'DS';\n",
    "\n",
    "Rev_labels = np.unique(y_syn_all);\n",
    "Rev_labels[1] = 'DS';\n",
    "\n",
    "ax.set_xticklabels(Rev_labels);\n",
    "ax.set_yticklabels(B_labels);"
   ]
  },
  {
   "cell_type": "markdown",
   "metadata": {
    "heading_collapsed": true
   },
   "source": [
    "## Model 3: Naive Bayes (learn prior)"
   ]
  },
  {
   "cell_type": "markdown",
   "metadata": {
    "hidden": true
   },
   "source": [
    "See <b>Naive Bayes in R.ipynb</b>"
   ]
  },
  {
   "cell_type": "markdown",
   "metadata": {
    "hidden": true
   },
   "source": [
    "Load in the results"
   ]
  },
  {
   "cell_type": "code",
   "execution_count": 76,
   "metadata": {
    "hidden": true
   },
   "outputs": [],
   "source": [
    "nb_noprior_res = pd.read_csv(results_path+'nb_idio_noprior_res.csv', index_col=0)"
   ]
  },
  {
   "cell_type": "markdown",
   "metadata": {
    "hidden": true
   },
   "source": [
    "Print the proportions assigned to each class"
   ]
  },
  {
   "cell_type": "code",
   "execution_count": 79,
   "metadata": {
    "hidden": true
   },
   "outputs": [
    {
     "data": {
      "text/plain": [
       "SMC15      0.516129\n",
       "TSC        0.330645\n",
       "XXY        0.088710\n",
       "22q11DS    0.056452\n",
       "PW         0.008065\n",
       "Name: ypreds_B, dtype: float64"
      ]
     },
     "execution_count": 79,
     "metadata": {},
     "output_type": "execute_result"
    }
   ],
   "source": [
    "nb_noprior_res['ypreds_B'].value_counts()/124"
   ]
  },
  {
   "cell_type": "code",
   "execution_count": 80,
   "metadata": {
    "hidden": true
   },
   "outputs": [
    {
     "data": {
      "text/plain": [
       "FXS-M      0.556452\n",
       "TSC        0.145161\n",
       "SMC15      0.145161\n",
       "NF1        0.104839\n",
       "XXY        0.024194\n",
       "FXS-F      0.016129\n",
       "22q11DS    0.008065\n",
       "Name: ypreds_Rev, dtype: float64"
      ]
     },
     "execution_count": 80,
     "metadata": {},
     "output_type": "execute_result"
    }
   ],
   "source": [
    "nb_noprior_res['ypreds_Rev'].value_counts()/124"
   ]
  },
  {
   "cell_type": "markdown",
   "metadata": {
    "hidden": true
   },
   "source": [
    "Produce a dataframe comparing the predictions"
   ]
  },
  {
   "cell_type": "code",
   "execution_count": 81,
   "metadata": {
    "hidden": true
   },
   "outputs": [],
   "source": [
    "B_labels = np.unique(y_syn_B)\n",
    "nclasses_B = len(B_labels)\n",
    "\n",
    "Rev_labels = np.unique(y_syn_all)\n",
    "nclasses_Rev = len(Rev_labels)"
   ]
  },
  {
   "cell_type": "code",
   "execution_count": 82,
   "metadata": {
    "hidden": true
   },
   "outputs": [],
   "source": [
    "nb_noprior_res_df = pd.DataFrame(np.zeros((nclasses_B, nclasses_Rev)), index = B_labels, columns = Rev_labels)"
   ]
  },
  {
   "cell_type": "code",
   "execution_count": 83,
   "metadata": {
    "hidden": true
   },
   "outputs": [],
   "source": [
    "ypreds_B = np.array(nb_noprior_res['ypreds_B'])\n",
    "ypreds_Rev = np.array(nb_noprior_res['ypreds_Rev'])\n",
    "\n",
    "for i in range(0, len(ypreds_Rev)):\n",
    "    r = ypreds_B[i]\n",
    "    c = ypreds_Rev[i]\n",
    "    nb_noprior_res_df.loc[r,c] += 1"
   ]
  },
  {
   "cell_type": "markdown",
   "metadata": {
    "hidden": true
   },
   "source": [
    "Print the dataframe (normalized)"
   ]
  },
  {
   "cell_type": "code",
   "execution_count": 85,
   "metadata": {
    "hidden": true
   },
   "outputs": [
    {
     "data": {
      "text/html": [
       "<div>\n",
       "<style scoped>\n",
       "    .dataframe tbody tr th:only-of-type {\n",
       "        vertical-align: middle;\n",
       "    }\n",
       "\n",
       "    .dataframe tbody tr th {\n",
       "        vertical-align: top;\n",
       "    }\n",
       "\n",
       "    .dataframe thead th {\n",
       "        text-align: right;\n",
       "    }\n",
       "</style>\n",
       "<table border=\"1\" class=\"dataframe\">\n",
       "  <thead>\n",
       "    <tr style=\"text-align: right;\">\n",
       "      <th></th>\n",
       "      <th>22q11DS</th>\n",
       "      <th>Down</th>\n",
       "      <th>FXS-F</th>\n",
       "      <th>FXS-M</th>\n",
       "      <th>NF1</th>\n",
       "      <th>PW-UPD</th>\n",
       "      <th>PW-del</th>\n",
       "      <th>SMC15</th>\n",
       "      <th>TSC</th>\n",
       "      <th>XXY</th>\n",
       "    </tr>\n",
       "  </thead>\n",
       "  <tbody>\n",
       "    <tr>\n",
       "      <th>22q11DS</th>\n",
       "      <td>0.008065</td>\n",
       "      <td>0.0</td>\n",
       "      <td>0.000000</td>\n",
       "      <td>0.024194</td>\n",
       "      <td>0.008065</td>\n",
       "      <td>0.0</td>\n",
       "      <td>0.0</td>\n",
       "      <td>0.000000</td>\n",
       "      <td>0.016129</td>\n",
       "      <td>0.000000</td>\n",
       "    </tr>\n",
       "    <tr>\n",
       "      <th>Down</th>\n",
       "      <td>0.000000</td>\n",
       "      <td>0.0</td>\n",
       "      <td>0.000000</td>\n",
       "      <td>0.000000</td>\n",
       "      <td>0.000000</td>\n",
       "      <td>0.0</td>\n",
       "      <td>0.0</td>\n",
       "      <td>0.000000</td>\n",
       "      <td>0.000000</td>\n",
       "      <td>0.000000</td>\n",
       "    </tr>\n",
       "    <tr>\n",
       "      <th>PW</th>\n",
       "      <td>0.000000</td>\n",
       "      <td>0.0</td>\n",
       "      <td>0.008065</td>\n",
       "      <td>0.000000</td>\n",
       "      <td>0.000000</td>\n",
       "      <td>0.0</td>\n",
       "      <td>0.0</td>\n",
       "      <td>0.000000</td>\n",
       "      <td>0.000000</td>\n",
       "      <td>0.000000</td>\n",
       "    </tr>\n",
       "    <tr>\n",
       "      <th>SMC15</th>\n",
       "      <td>0.000000</td>\n",
       "      <td>0.0</td>\n",
       "      <td>0.000000</td>\n",
       "      <td>0.322581</td>\n",
       "      <td>0.048387</td>\n",
       "      <td>0.0</td>\n",
       "      <td>0.0</td>\n",
       "      <td>0.145161</td>\n",
       "      <td>0.000000</td>\n",
       "      <td>0.000000</td>\n",
       "    </tr>\n",
       "    <tr>\n",
       "      <th>TSC</th>\n",
       "      <td>0.000000</td>\n",
       "      <td>0.0</td>\n",
       "      <td>0.000000</td>\n",
       "      <td>0.177419</td>\n",
       "      <td>0.032258</td>\n",
       "      <td>0.0</td>\n",
       "      <td>0.0</td>\n",
       "      <td>0.000000</td>\n",
       "      <td>0.120968</td>\n",
       "      <td>0.000000</td>\n",
       "    </tr>\n",
       "    <tr>\n",
       "      <th>XXY</th>\n",
       "      <td>0.000000</td>\n",
       "      <td>0.0</td>\n",
       "      <td>0.008065</td>\n",
       "      <td>0.032258</td>\n",
       "      <td>0.016129</td>\n",
       "      <td>0.0</td>\n",
       "      <td>0.0</td>\n",
       "      <td>0.000000</td>\n",
       "      <td>0.008065</td>\n",
       "      <td>0.024194</td>\n",
       "    </tr>\n",
       "  </tbody>\n",
       "</table>\n",
       "</div>"
      ],
      "text/plain": [
       "          22q11DS  Down     FXS-F     FXS-M       NF1  PW-UPD  PW-del  \\\n",
       "22q11DS  0.008065   0.0  0.000000  0.024194  0.008065     0.0     0.0   \n",
       "Down     0.000000   0.0  0.000000  0.000000  0.000000     0.0     0.0   \n",
       "PW       0.000000   0.0  0.008065  0.000000  0.000000     0.0     0.0   \n",
       "SMC15    0.000000   0.0  0.000000  0.322581  0.048387     0.0     0.0   \n",
       "TSC      0.000000   0.0  0.000000  0.177419  0.032258     0.0     0.0   \n",
       "XXY      0.000000   0.0  0.008065  0.032258  0.016129     0.0     0.0   \n",
       "\n",
       "            SMC15       TSC       XXY  \n",
       "22q11DS  0.000000  0.016129  0.000000  \n",
       "Down     0.000000  0.000000  0.000000  \n",
       "PW       0.000000  0.000000  0.000000  \n",
       "SMC15    0.145161  0.000000  0.000000  \n",
       "TSC      0.000000  0.120968  0.000000  \n",
       "XXY      0.000000  0.008065  0.024194  "
      ]
     },
     "execution_count": 85,
     "metadata": {},
     "output_type": "execute_result"
    }
   ],
   "source": [
    "nb_noprior_res_df/124"
   ]
  },
  {
   "cell_type": "markdown",
   "metadata": {
    "hidden": true
   },
   "source": [
    "Plot a figure with the results"
   ]
  },
  {
   "cell_type": "code",
   "execution_count": 86,
   "metadata": {
    "hidden": true
   },
   "outputs": [
    {
     "data": {
      "image/png": "[encoded data removed]",
      "text/plain": [
       "<Figure size 576x1152 with 1 Axes>"
      ]
     },
     "metadata": {
      "needs_background": "light"
     },
     "output_type": "display_data"
    }
   ],
   "source": [
    "fig, ax = plt.subplots(figsize=(8,16))\n",
    "sns.heatmap(nb_noprior_res_df, cmap='Blues', annot = nb_noprior_res_df/1.24, \n",
    "            square=True, cbar=False, ax=ax);\n",
    "\n",
    "B_labels = np.unique(y_syn_B);\n",
    "B_labels[1] = 'DS';\n",
    "\n",
    "Rev_labels = np.unique(y_syn_all);\n",
    "Rev_labels[1] = 'DS';\n",
    "\n",
    "ax.set_xticklabels(Rev_labels);\n",
    "ax.set_yticklabels(B_labels);"
   ]
  },
  {
   "cell_type": "markdown",
   "metadata": {
    "heading_collapsed": true
   },
   "source": [
    "## Model 4: Naive Bayes (uniform prior)"
   ]
  },
  {
   "cell_type": "markdown",
   "metadata": {
    "hidden": true
   },
   "source": [
    "See <b>Naive Bayes in R.ipynb</b>"
   ]
  },
  {
   "cell_type": "markdown",
   "metadata": {
    "hidden": true
   },
   "source": [
    "Load in the results"
   ]
  },
  {
   "cell_type": "code",
   "execution_count": 87,
   "metadata": {
    "hidden": true
   },
   "outputs": [],
   "source": [
    "nb_uniprior_res = pd.read_csv(results_path+'nb_idio_uniprior_res.csv', index_col=0)"
   ]
  },
  {
   "cell_type": "markdown",
   "metadata": {
    "hidden": true
   },
   "source": [
    "Print the proportions assigned to each class"
   ]
  },
  {
   "cell_type": "code",
   "execution_count": 88,
   "metadata": {
    "hidden": true
   },
   "outputs": [
    {
     "data": {
      "text/plain": [
       "SMC15      0.556452\n",
       "TSC        0.314516\n",
       "XXY        0.080645\n",
       "22q11DS    0.032258\n",
       "Down       0.016129\n",
       "Name: ypreds_B, dtype: float64"
      ]
     },
     "execution_count": 88,
     "metadata": {},
     "output_type": "execute_result"
    }
   ],
   "source": [
    "nb_uniprior_res['ypreds_B'].value_counts()/124"
   ]
  },
  {
   "cell_type": "code",
   "execution_count": 89,
   "metadata": {
    "hidden": true
   },
   "outputs": [
    {
     "data": {
      "text/plain": [
       "FXS-M      0.459677\n",
       "NF1        0.233871\n",
       "SMC15      0.193548\n",
       "TSC        0.064516\n",
       "XXY        0.024194\n",
       "FXS-F      0.016129\n",
       "22q11DS    0.008065\n",
       "Name: ypreds_Rev, dtype: float64"
      ]
     },
     "execution_count": 89,
     "metadata": {},
     "output_type": "execute_result"
    }
   ],
   "source": [
    "nb_uniprior_res['ypreds_Rev'].value_counts()/124"
   ]
  },
  {
   "cell_type": "markdown",
   "metadata": {
    "hidden": true
   },
   "source": [
    "Produce a dataframe comparing the predictions"
   ]
  },
  {
   "cell_type": "code",
   "execution_count": 90,
   "metadata": {
    "hidden": true
   },
   "outputs": [],
   "source": [
    "B_labels = np.unique(y_syn_B)\n",
    "nclasses_B = len(B_labels)\n",
    "\n",
    "Rev_labels = np.unique(y_syn_all)\n",
    "nclasses_Rev = len(Rev_labels)"
   ]
  },
  {
   "cell_type": "code",
   "execution_count": 91,
   "metadata": {
    "hidden": true
   },
   "outputs": [],
   "source": [
    "nb_uniprior_res_df = pd.DataFrame(np.zeros((nclasses_B, nclasses_Rev)), index = B_labels, columns = Rev_labels)"
   ]
  },
  {
   "cell_type": "code",
   "execution_count": 92,
   "metadata": {
    "hidden": true
   },
   "outputs": [],
   "source": [
    "ypreds_B = np.array(nb_uniprior_res['ypreds_B'])\n",
    "ypreds_Rev = np.array(nb_uniprior_res['ypreds_Rev'])\n",
    "\n",
    "for i in range(0, len(ypreds_Rev)):\n",
    "    r = ypreds_B[i]\n",
    "    c = ypreds_Rev[i]\n",
    "    nb_uniprior_res_df.loc[r,c] += 1"
   ]
  },
  {
   "cell_type": "markdown",
   "metadata": {
    "hidden": true
   },
   "source": [
    "Print the dataframe (normalized)"
   ]
  },
  {
   "cell_type": "code",
   "execution_count": 93,
   "metadata": {
    "hidden": true
   },
   "outputs": [
    {
     "data": {
      "text/html": [
       "<div>\n",
       "<style scoped>\n",
       "    .dataframe tbody tr th:only-of-type {\n",
       "        vertical-align: middle;\n",
       "    }\n",
       "\n",
       "    .dataframe tbody tr th {\n",
       "        vertical-align: top;\n",
       "    }\n",
       "\n",
       "    .dataframe thead th {\n",
       "        text-align: right;\n",
       "    }\n",
       "</style>\n",
       "<table border=\"1\" class=\"dataframe\">\n",
       "  <thead>\n",
       "    <tr style=\"text-align: right;\">\n",
       "      <th></th>\n",
       "      <th>22q11DS</th>\n",
       "      <th>Down</th>\n",
       "      <th>FXS-F</th>\n",
       "      <th>FXS-M</th>\n",
       "      <th>NF1</th>\n",
       "      <th>PW-UPD</th>\n",
       "      <th>PW-del</th>\n",
       "      <th>SMC15</th>\n",
       "      <th>TSC</th>\n",
       "      <th>XXY</th>\n",
       "    </tr>\n",
       "  </thead>\n",
       "  <tbody>\n",
       "    <tr>\n",
       "      <th>22q11DS</th>\n",
       "      <td>0.008065</td>\n",
       "      <td>0.0</td>\n",
       "      <td>0.000000</td>\n",
       "      <td>0.016129</td>\n",
       "      <td>0.008065</td>\n",
       "      <td>0.0</td>\n",
       "      <td>0.0</td>\n",
       "      <td>0.000000</td>\n",
       "      <td>0.000000</td>\n",
       "      <td>0.000000</td>\n",
       "    </tr>\n",
       "    <tr>\n",
       "      <th>Down</th>\n",
       "      <td>0.000000</td>\n",
       "      <td>0.0</td>\n",
       "      <td>0.016129</td>\n",
       "      <td>0.000000</td>\n",
       "      <td>0.000000</td>\n",
       "      <td>0.0</td>\n",
       "      <td>0.0</td>\n",
       "      <td>0.000000</td>\n",
       "      <td>0.000000</td>\n",
       "      <td>0.000000</td>\n",
       "    </tr>\n",
       "    <tr>\n",
       "      <th>PW</th>\n",
       "      <td>0.000000</td>\n",
       "      <td>0.0</td>\n",
       "      <td>0.000000</td>\n",
       "      <td>0.000000</td>\n",
       "      <td>0.000000</td>\n",
       "      <td>0.0</td>\n",
       "      <td>0.0</td>\n",
       "      <td>0.000000</td>\n",
       "      <td>0.000000</td>\n",
       "      <td>0.000000</td>\n",
       "    </tr>\n",
       "    <tr>\n",
       "      <th>SMC15</th>\n",
       "      <td>0.000000</td>\n",
       "      <td>0.0</td>\n",
       "      <td>0.000000</td>\n",
       "      <td>0.282258</td>\n",
       "      <td>0.080645</td>\n",
       "      <td>0.0</td>\n",
       "      <td>0.0</td>\n",
       "      <td>0.193548</td>\n",
       "      <td>0.000000</td>\n",
       "      <td>0.000000</td>\n",
       "    </tr>\n",
       "    <tr>\n",
       "      <th>TSC</th>\n",
       "      <td>0.000000</td>\n",
       "      <td>0.0</td>\n",
       "      <td>0.000000</td>\n",
       "      <td>0.137097</td>\n",
       "      <td>0.129032</td>\n",
       "      <td>0.0</td>\n",
       "      <td>0.0</td>\n",
       "      <td>0.000000</td>\n",
       "      <td>0.048387</td>\n",
       "      <td>0.000000</td>\n",
       "    </tr>\n",
       "    <tr>\n",
       "      <th>XXY</th>\n",
       "      <td>0.000000</td>\n",
       "      <td>0.0</td>\n",
       "      <td>0.000000</td>\n",
       "      <td>0.024194</td>\n",
       "      <td>0.016129</td>\n",
       "      <td>0.0</td>\n",
       "      <td>0.0</td>\n",
       "      <td>0.000000</td>\n",
       "      <td>0.016129</td>\n",
       "      <td>0.024194</td>\n",
       "    </tr>\n",
       "  </tbody>\n",
       "</table>\n",
       "</div>"
      ],
      "text/plain": [
       "          22q11DS  Down     FXS-F     FXS-M       NF1  PW-UPD  PW-del  \\\n",
       "22q11DS  0.008065   0.0  0.000000  0.016129  0.008065     0.0     0.0   \n",
       "Down     0.000000   0.0  0.016129  0.000000  0.000000     0.0     0.0   \n",
       "PW       0.000000   0.0  0.000000  0.000000  0.000000     0.0     0.0   \n",
       "SMC15    0.000000   0.0  0.000000  0.282258  0.080645     0.0     0.0   \n",
       "TSC      0.000000   0.0  0.000000  0.137097  0.129032     0.0     0.0   \n",
       "XXY      0.000000   0.0  0.000000  0.024194  0.016129     0.0     0.0   \n",
       "\n",
       "            SMC15       TSC       XXY  \n",
       "22q11DS  0.000000  0.000000  0.000000  \n",
       "Down     0.000000  0.000000  0.000000  \n",
       "PW       0.000000  0.000000  0.000000  \n",
       "SMC15    0.193548  0.000000  0.000000  \n",
       "TSC      0.000000  0.048387  0.000000  \n",
       "XXY      0.000000  0.016129  0.024194  "
      ]
     },
     "execution_count": 93,
     "metadata": {},
     "output_type": "execute_result"
    }
   ],
   "source": [
    "nb_uniprior_res_df/124"
   ]
  },
  {
   "cell_type": "markdown",
   "metadata": {
    "hidden": true
   },
   "source": [
    "Plot a figure with the results"
   ]
  },
  {
   "cell_type": "code",
   "execution_count": 94,
   "metadata": {
    "hidden": true
   },
   "outputs": [
    {
     "data": {
      "image/png": "[encoded data removed]",
      "text/plain": [
       "<Figure size 576x1152 with 1 Axes>"
      ]
     },
     "metadata": {
      "needs_background": "light"
     },
     "output_type": "display_data"
    }
   ],
   "source": [
    "fig, ax = plt.subplots(figsize=(8,16))\n",
    "sns.heatmap(nb_uniprior_res_df, cmap='Blues', annot = nb_uniprior_res_df/1.24, \n",
    "            square=True, cbar=False, ax=ax);\n",
    "\n",
    "B_labels = np.unique(y_syn_B);\n",
    "B_labels[1] = 'DS';\n",
    "\n",
    "Rev_labels = np.unique(y_syn_all);\n",
    "Rev_labels[1] = 'DS';\n",
    "\n",
    "ax.set_xticklabels(Rev_labels);\n",
    "ax.set_yticklabels(B_labels);"
   ]
  },
  {
   "cell_type": "markdown",
   "metadata": {
    "heading_collapsed": true
   },
   "source": [
    "## Model 5 : Standard Random Forest"
   ]
  },
  {
   "cell_type": "markdown",
   "metadata": {
    "hidden": true
   },
   "source": [
    "Define the number of folds for cross-validation"
   ]
  },
  {
   "cell_type": "code",
   "execution_count": 38,
   "metadata": {
    "hidden": true
   },
   "outputs": [],
   "source": [
    "n_folds = 10"
   ]
  },
  {
   "cell_type": "markdown",
   "metadata": {
    "hidden": true
   },
   "source": [
    "Define the model"
   ]
  },
  {
   "cell_type": "code",
   "execution_count": 39,
   "metadata": {
    "hidden": true
   },
   "outputs": [],
   "source": [
    "rfc_naive = RandomForestClassifier()"
   ]
  },
  {
   "cell_type": "markdown",
   "metadata": {
    "hidden": true
   },
   "source": [
    "Define the parameters for the grid seach"
   ]
  },
  {
   "cell_type": "code",
   "execution_count": 40,
   "metadata": {
    "hidden": true
   },
   "outputs": [],
   "source": [
    "n_features = X_syn_B.shape[1]\n",
    "default_mtry = np.sqrt(n_features)\n",
    "rfc_parameters = {'max_features': [int(0.5*default_mtry), int(default_mtry), int(1.5*default_mtry), int(2*default_mtry), int(3*default_mtry)],\n",
    "             'n_estimators': [2000], 'min_samples_leaf': [1,2, 3, 4, 5]}"
   ]
  },
  {
   "cell_type": "markdown",
   "metadata": {
    "hidden": true
   },
   "source": [
    "Run the training and prediction"
   ]
  },
  {
   "cell_type": "code",
   "execution_count": 41,
   "metadata": {
    "hidden": true
   },
   "outputs": [
    {
     "name": "stdout",
     "output_type": "stream",
     "text": [
      "Fitting 10 folds for each of 25 candidates, totalling 250 fits\n"
     ]
    },
    {
     "name": "stderr",
     "output_type": "stream",
     "text": [
      "[Parallel(n_jobs=-1)]: Using backend LokyBackend with 8 concurrent workers.\n",
      "[Parallel(n_jobs=-1)]: Done  34 tasks      | elapsed:   16.5s\n",
      "/Users/joefarrington/anaconda3/lib/python3.6/site-packages/joblib/externals/loky/process_executor.py:706: UserWarning: A worker stopped while some jobs were given to the executor. This can be caused by a too short worker timeout or by a memory leak.\n",
      "  \"timeout or by a memory leak.\", UserWarning\n",
      "[Parallel(n_jobs=-1)]: Done 184 tasks      | elapsed:  1.4min\n",
      "[Parallel(n_jobs=-1)]: Done 250 out of 250 | elapsed:  2.0min finished\n"
     ]
    },
    {
     "name": "stdout",
     "output_type": "stream",
     "text": [
      "Fitting 10 folds for each of 25 candidates, totalling 250 fits\n"
     ]
    },
    {
     "name": "stderr",
     "output_type": "stream",
     "text": [
      "[Parallel(n_jobs=-1)]: Using backend LokyBackend with 8 concurrent workers.\n",
      "/Users/joefarrington/anaconda3/lib/python3.6/site-packages/joblib/externals/loky/process_executor.py:706: UserWarning: A worker stopped while some jobs were given to the executor. This can be caused by a too short worker timeout or by a memory leak.\n",
      "  \"timeout or by a memory leak.\", UserWarning\n",
      "[Parallel(n_jobs=-1)]: Done  34 tasks      | elapsed:   18.7s\n",
      "[Parallel(n_jobs=-1)]: Done 184 tasks      | elapsed:  1.8min\n",
      "[Parallel(n_jobs=-1)]: Done 250 out of 250 | elapsed:  2.6min finished\n"
     ]
    },
    {
     "name": "stdout",
     "output_type": "stream",
     "text": [
      "         22q11DS  Down  FXS-F  FXS-M  NF1  PW-UPD  PW-del  SMC15   TSC  XXY\n",
      "22q11DS      1.0   0.0    0.0   11.0  0.0     0.0     0.0    1.0  20.0  0.0\n",
      "Down         0.0   0.0    0.0    0.0  0.0     0.0     0.0    0.0   0.0  0.0\n",
      "PW           0.0   0.0    1.0    2.0  0.0     0.0     0.0    0.0   2.0  0.0\n",
      "SMC15        0.0   0.0    0.0    1.0  0.0     0.0     0.0    0.0   0.0  0.0\n",
      "TSC          0.0   0.0    0.0   19.0  3.0     0.0     0.0    2.0  46.0  0.0\n",
      "XXY          0.0   0.0    0.0    2.0  0.0     0.0     0.0    0.0  12.0  1.0\n"
     ]
    }
   ],
   "source": [
    "rfc_naive_resdict = train_syn_pred_idio(X_B = X_syn_B, y_B = y_syn_B, X_Rev = X_syn_all, y_Rev = y_syn_all, \n",
    "                                           X_idio = X_idio_subset, n_folds = n_folds, param_grid = rfc_parameters,\n",
    "                                           model = rfc_naive, scorer = mcc_scorer, verbose =1)"
   ]
  },
  {
   "cell_type": "markdown",
   "metadata": {
    "hidden": true
   },
   "source": [
    "Save the results"
   ]
  },
  {
   "cell_type": "code",
   "execution_count": 43,
   "metadata": {
    "hidden": true
   },
   "outputs": [],
   "source": [
    "pickle.dump(rfc_naive_resdict, open(results_path+f\"rfc_naive_resdict.p\", \"wb\" ))"
   ]
  },
  {
   "cell_type": "markdown",
   "metadata": {
    "hidden": true
   },
   "source": [
    "Load the results"
   ]
  },
  {
   "cell_type": "code",
   "execution_count": 44,
   "metadata": {
    "hidden": true
   },
   "outputs": [],
   "source": [
    "rfc_naive_resdict = pickle.load(open(results_path+f\"rfc_naive_resdict.p\", \"rb\" ))"
   ]
  },
  {
   "cell_type": "markdown",
   "metadata": {
    "hidden": true
   },
   "source": [
    "Print the dataframe (normalized)"
   ]
  },
  {
   "cell_type": "code",
   "execution_count": 45,
   "metadata": {
    "hidden": true
   },
   "outputs": [
    {
     "data": {
      "text/html": [
       "<div>\n",
       "<style scoped>\n",
       "    .dataframe tbody tr th:only-of-type {\n",
       "        vertical-align: middle;\n",
       "    }\n",
       "\n",
       "    .dataframe tbody tr th {\n",
       "        vertical-align: top;\n",
       "    }\n",
       "\n",
       "    .dataframe thead th {\n",
       "        text-align: right;\n",
       "    }\n",
       "</style>\n",
       "<table border=\"1\" class=\"dataframe\">\n",
       "  <thead>\n",
       "    <tr style=\"text-align: right;\">\n",
       "      <th></th>\n",
       "      <th>22q11DS</th>\n",
       "      <th>Down</th>\n",
       "      <th>FXS-F</th>\n",
       "      <th>FXS-M</th>\n",
       "      <th>NF1</th>\n",
       "      <th>PW-UPD</th>\n",
       "      <th>PW-del</th>\n",
       "      <th>SMC15</th>\n",
       "      <th>TSC</th>\n",
       "      <th>XXY</th>\n",
       "    </tr>\n",
       "  </thead>\n",
       "  <tbody>\n",
       "    <tr>\n",
       "      <th>22q11DS</th>\n",
       "      <td>0.008065</td>\n",
       "      <td>0.0</td>\n",
       "      <td>0.000000</td>\n",
       "      <td>0.088710</td>\n",
       "      <td>0.000000</td>\n",
       "      <td>0.0</td>\n",
       "      <td>0.0</td>\n",
       "      <td>0.008065</td>\n",
       "      <td>0.161290</td>\n",
       "      <td>0.000000</td>\n",
       "    </tr>\n",
       "    <tr>\n",
       "      <th>Down</th>\n",
       "      <td>0.000000</td>\n",
       "      <td>0.0</td>\n",
       "      <td>0.000000</td>\n",
       "      <td>0.000000</td>\n",
       "      <td>0.000000</td>\n",
       "      <td>0.0</td>\n",
       "      <td>0.0</td>\n",
       "      <td>0.000000</td>\n",
       "      <td>0.000000</td>\n",
       "      <td>0.000000</td>\n",
       "    </tr>\n",
       "    <tr>\n",
       "      <th>PW</th>\n",
       "      <td>0.000000</td>\n",
       "      <td>0.0</td>\n",
       "      <td>0.008065</td>\n",
       "      <td>0.016129</td>\n",
       "      <td>0.000000</td>\n",
       "      <td>0.0</td>\n",
       "      <td>0.0</td>\n",
       "      <td>0.000000</td>\n",
       "      <td>0.016129</td>\n",
       "      <td>0.000000</td>\n",
       "    </tr>\n",
       "    <tr>\n",
       "      <th>SMC15</th>\n",
       "      <td>0.000000</td>\n",
       "      <td>0.0</td>\n",
       "      <td>0.000000</td>\n",
       "      <td>0.008065</td>\n",
       "      <td>0.000000</td>\n",
       "      <td>0.0</td>\n",
       "      <td>0.0</td>\n",
       "      <td>0.000000</td>\n",
       "      <td>0.000000</td>\n",
       "      <td>0.000000</td>\n",
       "    </tr>\n",
       "    <tr>\n",
       "      <th>TSC</th>\n",
       "      <td>0.000000</td>\n",
       "      <td>0.0</td>\n",
       "      <td>0.000000</td>\n",
       "      <td>0.153226</td>\n",
       "      <td>0.024194</td>\n",
       "      <td>0.0</td>\n",
       "      <td>0.0</td>\n",
       "      <td>0.016129</td>\n",
       "      <td>0.370968</td>\n",
       "      <td>0.000000</td>\n",
       "    </tr>\n",
       "    <tr>\n",
       "      <th>XXY</th>\n",
       "      <td>0.000000</td>\n",
       "      <td>0.0</td>\n",
       "      <td>0.000000</td>\n",
       "      <td>0.016129</td>\n",
       "      <td>0.000000</td>\n",
       "      <td>0.0</td>\n",
       "      <td>0.0</td>\n",
       "      <td>0.000000</td>\n",
       "      <td>0.096774</td>\n",
       "      <td>0.008065</td>\n",
       "    </tr>\n",
       "  </tbody>\n",
       "</table>\n",
       "</div>"
      ],
      "text/plain": [
       "          22q11DS  Down     FXS-F     FXS-M       NF1  PW-UPD  PW-del  \\\n",
       "22q11DS  0.008065   0.0  0.000000  0.088710  0.000000     0.0     0.0   \n",
       "Down     0.000000   0.0  0.000000  0.000000  0.000000     0.0     0.0   \n",
       "PW       0.000000   0.0  0.008065  0.016129  0.000000     0.0     0.0   \n",
       "SMC15    0.000000   0.0  0.000000  0.008065  0.000000     0.0     0.0   \n",
       "TSC      0.000000   0.0  0.000000  0.153226  0.024194     0.0     0.0   \n",
       "XXY      0.000000   0.0  0.000000  0.016129  0.000000     0.0     0.0   \n",
       "\n",
       "            SMC15       TSC       XXY  \n",
       "22q11DS  0.008065  0.161290  0.000000  \n",
       "Down     0.000000  0.000000  0.000000  \n",
       "PW       0.000000  0.016129  0.000000  \n",
       "SMC15    0.000000  0.000000  0.000000  \n",
       "TSC      0.016129  0.370968  0.000000  \n",
       "XXY      0.000000  0.096774  0.008065  "
      ]
     },
     "execution_count": 45,
     "metadata": {},
     "output_type": "execute_result"
    }
   ],
   "source": [
    "rfc_naive_resdict['res_df']/124"
   ]
  },
  {
   "cell_type": "markdown",
   "metadata": {
    "hidden": true
   },
   "source": [
    "Print the proportions assigned to each class"
   ]
  },
  {
   "cell_type": "code",
   "execution_count": 46,
   "metadata": {
    "hidden": true
   },
   "outputs": [
    {
     "data": {
      "text/plain": [
       "TSC        56.451613\n",
       "22q11DS    26.612903\n",
       "XXY        12.096774\n",
       "PW          4.032258\n",
       "SMC15       0.806452\n",
       "dtype: float64"
      ]
     },
     "execution_count": 46,
     "metadata": {},
     "output_type": "execute_result"
    }
   ],
   "source": [
    "pd.Series(rfc_naive_resdict['ypreds_B']).value_counts()/1.24"
   ]
  },
  {
   "cell_type": "code",
   "execution_count": 47,
   "metadata": {
    "hidden": true
   },
   "outputs": [
    {
     "data": {
      "text/plain": [
       "TSC        64.516129\n",
       "FXS-M      28.225806\n",
       "NF1         2.419355\n",
       "SMC15       2.419355\n",
       "XXY         0.806452\n",
       "22q11DS     0.806452\n",
       "FXS-F       0.806452\n",
       "dtype: float64"
      ]
     },
     "execution_count": 47,
     "metadata": {},
     "output_type": "execute_result"
    }
   ],
   "source": [
    "pd.Series(rfc_naive_resdict['ypreds_Rev']).value_counts()/1.24"
   ]
  },
  {
   "cell_type": "markdown",
   "metadata": {
    "hidden": true
   },
   "source": [
    "Plot a figure for the results"
   ]
  },
  {
   "cell_type": "code",
   "execution_count": 49,
   "metadata": {
    "hidden": true
   },
   "outputs": [
    {
     "data": {
      "image/png": "[encoded data removed]",
      "text/plain": [
       "<Figure size 576x1152 with 1 Axes>"
      ]
     },
     "metadata": {
      "needs_background": "light"
     },
     "output_type": "display_data"
    }
   ],
   "source": [
    "fig, ax = plt.subplots(figsize=(8,16))\n",
    "sns.heatmap((rfc_naive_resdict['res_df']), cmap='Blues', annot = (rfc_naive_resdict['res_df'])/1.24, \n",
    "            square=True, cbar=False, ax=ax);\n",
    "\n",
    "B_labels = np.unique(y_syn_B);\n",
    "B_labels[1] = 'DS';\n",
    "\n",
    "Rev_labels = np.unique(y_syn_all);\n",
    "Rev_labels[1] = 'DS';\n",
    "\n",
    "ax.set_xticklabels(Rev_labels);\n",
    "ax.set_yticklabels(B_labels);"
   ]
  },
  {
   "cell_type": "markdown",
   "metadata": {
    "heading_collapsed": true
   },
   "source": [
    "## Model 6 : Balanced Random Forest"
   ]
  },
  {
   "cell_type": "markdown",
   "metadata": {
    "hidden": true
   },
   "source": [
    "Define the number of folds for cross-validation"
   ]
  },
  {
   "cell_type": "code",
   "execution_count": 50,
   "metadata": {
    "hidden": true
   },
   "outputs": [],
   "source": [
    "n_folds = 10"
   ]
  },
  {
   "cell_type": "markdown",
   "metadata": {
    "hidden": true
   },
   "source": [
    "Define the model"
   ]
  },
  {
   "cell_type": "code",
   "execution_count": 51,
   "metadata": {
    "hidden": true
   },
   "outputs": [],
   "source": [
    "rfc_bal = BalancedRandomForestClassifier()"
   ]
  },
  {
   "cell_type": "markdown",
   "metadata": {
    "hidden": true
   },
   "source": [
    "Define the parameters for the grid seach"
   ]
  },
  {
   "cell_type": "code",
   "execution_count": 52,
   "metadata": {
    "hidden": true
   },
   "outputs": [],
   "source": [
    "n_features = X_syn_B.shape[1]\n",
    "default_mtry = np.sqrt(n_features)\n",
    "rfc_parameters = {'max_features': [int(0.5*default_mtry), int(default_mtry), int(1.5*default_mtry), int(2*default_mtry), int(3*default_mtry)],\n",
    "             'n_estimators': [2000], 'min_samples_leaf': [1,2, 3, 4, 5]}"
   ]
  },
  {
   "cell_type": "markdown",
   "metadata": {
    "hidden": true
   },
   "source": [
    "Run the training and prediction"
   ]
  },
  {
   "cell_type": "code",
   "execution_count": 53,
   "metadata": {
    "hidden": true
   },
   "outputs": [
    {
     "name": "stdout",
     "output_type": "stream",
     "text": [
      "Fitting 10 folds for each of 25 candidates, totalling 250 fits\n"
     ]
    },
    {
     "name": "stderr",
     "output_type": "stream",
     "text": [
      "[Parallel(n_jobs=-1)]: Using backend LokyBackend with 8 concurrent workers.\n",
      "[Parallel(n_jobs=-1)]: Done  34 tasks      | elapsed:   40.6s\n",
      "[Parallel(n_jobs=-1)]: Done 184 tasks      | elapsed:  3.5min\n",
      "[Parallel(n_jobs=-1)]: Done 250 out of 250 | elapsed:  4.8min finished\n"
     ]
    },
    {
     "name": "stdout",
     "output_type": "stream",
     "text": [
      "Fitting 10 folds for each of 25 candidates, totalling 250 fits\n"
     ]
    },
    {
     "name": "stderr",
     "output_type": "stream",
     "text": [
      "[Parallel(n_jobs=-1)]: Using backend LokyBackend with 8 concurrent workers.\n",
      "/Users/joefarrington/anaconda3/lib/python3.6/site-packages/joblib/externals/loky/process_executor.py:706: UserWarning: A worker stopped while some jobs were given to the executor. This can be caused by a too short worker timeout or by a memory leak.\n",
      "  \"timeout or by a memory leak.\", UserWarning\n",
      "[Parallel(n_jobs=-1)]: Done  34 tasks      | elapsed:   56.4s\n",
      "[Parallel(n_jobs=-1)]: Done 184 tasks      | elapsed:  4.6min\n",
      "[Parallel(n_jobs=-1)]: Done 250 out of 250 | elapsed:  6.2min finished\n"
     ]
    },
    {
     "name": "stdout",
     "output_type": "stream",
     "text": [
      "         22q11DS  Down  FXS-F  FXS-M   NF1  PW-UPD  PW-del  SMC15   TSC  XXY\n",
      "22q11DS      2.0   0.0    0.0    3.0   2.0     0.0     0.0    0.0   1.0  0.0\n",
      "Down         0.0   0.0    2.0    1.0   2.0     0.0     0.0    0.0   0.0  0.0\n",
      "PW           0.0   0.0    0.0    0.0   0.0     0.0     0.0    0.0   0.0  0.0\n",
      "SMC15        0.0   0.0    0.0    7.0   6.0     0.0     0.0    6.0   2.0  0.0\n",
      "TSC          0.0   0.0    2.0   31.0  26.0     0.0     0.0    8.0  12.0  0.0\n",
      "XXY          0.0   0.0    1.0    3.0   4.0     0.0     0.0    0.0   1.0  2.0\n"
     ]
    }
   ],
   "source": [
    "rfc_bal_resdict = train_syn_pred_idio(X_B = X_syn_B, y_B = y_syn_B, X_Rev = X_syn_all, y_Rev = y_syn_all, \n",
    "                                           X_idio = X_idio_subset, n_folds = n_folds, param_grid = rfc_parameters,\n",
    "                                           model = rfc_bal, scorer = mcc_scorer, verbose =1)"
   ]
  },
  {
   "cell_type": "markdown",
   "metadata": {
    "hidden": true
   },
   "source": [
    "Save the results"
   ]
  },
  {
   "cell_type": "code",
   "execution_count": 60,
   "metadata": {
    "hidden": true
   },
   "outputs": [],
   "source": [
    "pickle.dump(rfc_bal_resdict, open(results_path+f\"rfc_bal_resdict.p\", \"wb\" ))"
   ]
  },
  {
   "cell_type": "markdown",
   "metadata": {
    "hidden": true
   },
   "source": [
    "Load the results"
   ]
  },
  {
   "cell_type": "code",
   "execution_count": 61,
   "metadata": {
    "hidden": true
   },
   "outputs": [],
   "source": [
    "rfc_bal_resdict = pickle.load(open(results_path+f\"rfc_bal_resdict.p\", \"rb\" ))"
   ]
  },
  {
   "cell_type": "markdown",
   "metadata": {
    "hidden": true
   },
   "source": [
    "Print the dataframe (normalized)"
   ]
  },
  {
   "cell_type": "code",
   "execution_count": 62,
   "metadata": {
    "hidden": true
   },
   "outputs": [
    {
     "data": {
      "text/html": [
       "<div>\n",
       "<style scoped>\n",
       "    .dataframe tbody tr th:only-of-type {\n",
       "        vertical-align: middle;\n",
       "    }\n",
       "\n",
       "    .dataframe tbody tr th {\n",
       "        vertical-align: top;\n",
       "    }\n",
       "\n",
       "    .dataframe thead th {\n",
       "        text-align: right;\n",
       "    }\n",
       "</style>\n",
       "<table border=\"1\" class=\"dataframe\">\n",
       "  <thead>\n",
       "    <tr style=\"text-align: right;\">\n",
       "      <th></th>\n",
       "      <th>22q11DS</th>\n",
       "      <th>Down</th>\n",
       "      <th>FXS-F</th>\n",
       "      <th>FXS-M</th>\n",
       "      <th>NF1</th>\n",
       "      <th>PW-UPD</th>\n",
       "      <th>PW-del</th>\n",
       "      <th>SMC15</th>\n",
       "      <th>TSC</th>\n",
       "      <th>XXY</th>\n",
       "    </tr>\n",
       "  </thead>\n",
       "  <tbody>\n",
       "    <tr>\n",
       "      <th>22q11DS</th>\n",
       "      <td>0.016129</td>\n",
       "      <td>0.0</td>\n",
       "      <td>0.000000</td>\n",
       "      <td>0.024194</td>\n",
       "      <td>0.016129</td>\n",
       "      <td>0.0</td>\n",
       "      <td>0.0</td>\n",
       "      <td>0.000000</td>\n",
       "      <td>0.008065</td>\n",
       "      <td>0.000000</td>\n",
       "    </tr>\n",
       "    <tr>\n",
       "      <th>Down</th>\n",
       "      <td>0.000000</td>\n",
       "      <td>0.0</td>\n",
       "      <td>0.016129</td>\n",
       "      <td>0.008065</td>\n",
       "      <td>0.016129</td>\n",
       "      <td>0.0</td>\n",
       "      <td>0.0</td>\n",
       "      <td>0.000000</td>\n",
       "      <td>0.000000</td>\n",
       "      <td>0.000000</td>\n",
       "    </tr>\n",
       "    <tr>\n",
       "      <th>PW</th>\n",
       "      <td>0.000000</td>\n",
       "      <td>0.0</td>\n",
       "      <td>0.000000</td>\n",
       "      <td>0.000000</td>\n",
       "      <td>0.000000</td>\n",
       "      <td>0.0</td>\n",
       "      <td>0.0</td>\n",
       "      <td>0.000000</td>\n",
       "      <td>0.000000</td>\n",
       "      <td>0.000000</td>\n",
       "    </tr>\n",
       "    <tr>\n",
       "      <th>SMC15</th>\n",
       "      <td>0.000000</td>\n",
       "      <td>0.0</td>\n",
       "      <td>0.000000</td>\n",
       "      <td>0.056452</td>\n",
       "      <td>0.048387</td>\n",
       "      <td>0.0</td>\n",
       "      <td>0.0</td>\n",
       "      <td>0.048387</td>\n",
       "      <td>0.016129</td>\n",
       "      <td>0.000000</td>\n",
       "    </tr>\n",
       "    <tr>\n",
       "      <th>TSC</th>\n",
       "      <td>0.000000</td>\n",
       "      <td>0.0</td>\n",
       "      <td>0.016129</td>\n",
       "      <td>0.250000</td>\n",
       "      <td>0.209677</td>\n",
       "      <td>0.0</td>\n",
       "      <td>0.0</td>\n",
       "      <td>0.064516</td>\n",
       "      <td>0.096774</td>\n",
       "      <td>0.000000</td>\n",
       "    </tr>\n",
       "    <tr>\n",
       "      <th>XXY</th>\n",
       "      <td>0.000000</td>\n",
       "      <td>0.0</td>\n",
       "      <td>0.008065</td>\n",
       "      <td>0.024194</td>\n",
       "      <td>0.032258</td>\n",
       "      <td>0.0</td>\n",
       "      <td>0.0</td>\n",
       "      <td>0.000000</td>\n",
       "      <td>0.008065</td>\n",
       "      <td>0.016129</td>\n",
       "    </tr>\n",
       "  </tbody>\n",
       "</table>\n",
       "</div>"
      ],
      "text/plain": [
       "          22q11DS  Down     FXS-F     FXS-M       NF1  PW-UPD  PW-del  \\\n",
       "22q11DS  0.016129   0.0  0.000000  0.024194  0.016129     0.0     0.0   \n",
       "Down     0.000000   0.0  0.016129  0.008065  0.016129     0.0     0.0   \n",
       "PW       0.000000   0.0  0.000000  0.000000  0.000000     0.0     0.0   \n",
       "SMC15    0.000000   0.0  0.000000  0.056452  0.048387     0.0     0.0   \n",
       "TSC      0.000000   0.0  0.016129  0.250000  0.209677     0.0     0.0   \n",
       "XXY      0.000000   0.0  0.008065  0.024194  0.032258     0.0     0.0   \n",
       "\n",
       "            SMC15       TSC       XXY  \n",
       "22q11DS  0.000000  0.008065  0.000000  \n",
       "Down     0.000000  0.000000  0.000000  \n",
       "PW       0.000000  0.000000  0.000000  \n",
       "SMC15    0.048387  0.016129  0.000000  \n",
       "TSC      0.064516  0.096774  0.000000  \n",
       "XXY      0.000000  0.008065  0.016129  "
      ]
     },
     "execution_count": 62,
     "metadata": {},
     "output_type": "execute_result"
    }
   ],
   "source": [
    "rfc_bal_resdict['res_df']/124"
   ]
  },
  {
   "cell_type": "markdown",
   "metadata": {
    "hidden": true
   },
   "source": [
    "Print the proportions assigned to each class"
   ]
  },
  {
   "cell_type": "code",
   "execution_count": 63,
   "metadata": {
    "hidden": true
   },
   "outputs": [
    {
     "data": {
      "text/plain": [
       "TSC        0.637097\n",
       "SMC15      0.169355\n",
       "XXY        0.088710\n",
       "22q11DS    0.064516\n",
       "Down       0.040323\n",
       "dtype: float64"
      ]
     },
     "execution_count": 63,
     "metadata": {},
     "output_type": "execute_result"
    }
   ],
   "source": [
    "pd.Series(rfc_bal_resdict['ypreds_B']).value_counts()/124"
   ]
  },
  {
   "cell_type": "code",
   "execution_count": 64,
   "metadata": {
    "hidden": true
   },
   "outputs": [
    {
     "data": {
      "text/plain": [
       "FXS-M      0.362903\n",
       "NF1        0.322581\n",
       "TSC        0.129032\n",
       "SMC15      0.112903\n",
       "FXS-F      0.040323\n",
       "22q11DS    0.016129\n",
       "XXY        0.016129\n",
       "dtype: float64"
      ]
     },
     "execution_count": 64,
     "metadata": {},
     "output_type": "execute_result"
    }
   ],
   "source": [
    "pd.Series(rfc_bal_resdict['ypreds_Rev']).value_counts()/124"
   ]
  },
  {
   "cell_type": "markdown",
   "metadata": {
    "hidden": true
   },
   "source": [
    "Plot a figure for the results"
   ]
  },
  {
   "cell_type": "code",
   "execution_count": 65,
   "metadata": {
    "hidden": true
   },
   "outputs": [
    {
     "data": {
      "image/png": "[encoded data removed]",
      "text/plain": [
       "<Figure size 576x1152 with 1 Axes>"
      ]
     },
     "metadata": {
      "needs_background": "light"
     },
     "output_type": "display_data"
    }
   ],
   "source": [
    "fig, ax = plt.subplots(figsize=(8,16))\n",
    "sns.heatmap((rfc_bal_resdict['res_df']), cmap='Blues', annot = (rfc_bal_resdict['res_df'])/1.24, \n",
    "            square=True, cbar=False, ax=ax);\n",
    "\n",
    "B_labels = np.unique(y_syn_B);\n",
    "B_labels[1] = 'DS';\n",
    "\n",
    "Rev_labels = np.unique(y_syn_all);\n",
    "Rev_labels[1] = 'DS';\n",
    "\n",
    "ax.set_xticklabels(Rev_labels);\n",
    "ax.set_yticklabels(B_labels);"
   ]
  },
  {
   "cell_type": "markdown",
   "metadata": {
    "heading_collapsed": true
   },
   "source": [
    "## Model 7: Weighted Random Forest"
   ]
  },
  {
   "cell_type": "markdown",
   "metadata": {
    "hidden": true
   },
   "source": [
    "Define the number of folds for cross-validation"
   ]
  },
  {
   "cell_type": "code",
   "execution_count": 66,
   "metadata": {
    "hidden": true
   },
   "outputs": [],
   "source": [
    "n_folds = 10"
   ]
  },
  {
   "cell_type": "markdown",
   "metadata": {
    "hidden": true
   },
   "source": [
    "Define the model"
   ]
  },
  {
   "cell_type": "code",
   "execution_count": 67,
   "metadata": {
    "hidden": true
   },
   "outputs": [],
   "source": [
    "rfc_weighted = RandomForestClassifier(class_weight = 'balanced_subsample')"
   ]
  },
  {
   "cell_type": "markdown",
   "metadata": {
    "hidden": true
   },
   "source": [
    "Define the parameters for the grid seach"
   ]
  },
  {
   "cell_type": "code",
   "execution_count": 68,
   "metadata": {
    "hidden": true
   },
   "outputs": [],
   "source": [
    "n_features = X_syn_B.shape[1]\n",
    "default_mtry = np.sqrt(n_features)\n",
    "rfc_parameters = {'max_features': [int(0.5*default_mtry), int(default_mtry), int(1.5*default_mtry), int(2*default_mtry), int(3*default_mtry)],\n",
    "             'n_estimators': [2000], 'min_samples_leaf': [1,2, 3, 4, 5]}"
   ]
  },
  {
   "cell_type": "markdown",
   "metadata": {
    "hidden": true
   },
   "source": [
    "Run the training and prediction"
   ]
  },
  {
   "cell_type": "code",
   "execution_count": 69,
   "metadata": {
    "hidden": true
   },
   "outputs": [
    {
     "name": "stdout",
     "output_type": "stream",
     "text": [
      "Fitting 10 folds for each of 25 candidates, totalling 250 fits\n"
     ]
    },
    {
     "name": "stderr",
     "output_type": "stream",
     "text": [
      "[Parallel(n_jobs=-1)]: Using backend LokyBackend with 8 concurrent workers.\n",
      "[Parallel(n_jobs=-1)]: Done  34 tasks      | elapsed:   21.6s\n",
      "[Parallel(n_jobs=-1)]: Done 184 tasks      | elapsed:  1.8min\n",
      "[Parallel(n_jobs=-1)]: Done 250 out of 250 | elapsed:  2.5min finished\n"
     ]
    },
    {
     "name": "stdout",
     "output_type": "stream",
     "text": [
      "Fitting 10 folds for each of 25 candidates, totalling 250 fits\n"
     ]
    },
    {
     "name": "stderr",
     "output_type": "stream",
     "text": [
      "[Parallel(n_jobs=-1)]: Using backend LokyBackend with 8 concurrent workers.\n",
      "[Parallel(n_jobs=-1)]: Done  34 tasks      | elapsed:   26.5s\n",
      "[Parallel(n_jobs=-1)]: Done 184 tasks      | elapsed:  2.3min\n",
      "[Parallel(n_jobs=-1)]: Done 250 out of 250 | elapsed:  3.3min finished\n"
     ]
    },
    {
     "name": "stdout",
     "output_type": "stream",
     "text": [
      "         22q11DS  Down  FXS-F  FXS-M   NF1  PW-UPD  PW-del  SMC15   TSC  XXY\n",
      "22q11DS      2.0   0.0    0.0   22.0   3.0     0.0     0.0    1.0   9.0  0.0\n",
      "Down         0.0   0.0    0.0    0.0   0.0     0.0     0.0    0.0   0.0  0.0\n",
      "PW           0.0   0.0    1.0    0.0   0.0     0.0     0.0    0.0   1.0  0.0\n",
      "SMC15        0.0   0.0    0.0    1.0   2.0     0.0     0.0    0.0   0.0  0.0\n",
      "TSC          0.0   0.0    0.0   25.0  14.0     0.0     0.0    8.0  20.0  0.0\n",
      "XXY          0.0   0.0    1.0    7.0   2.0     0.0     0.0    0.0   3.0  2.0\n"
     ]
    }
   ],
   "source": [
    "rfc_weighted_resdict = train_syn_pred_idio(X_B = X_syn_B, y_B = y_syn_B, X_Rev = X_syn_all, y_Rev = y_syn_all, \n",
    "                                           X_idio = X_idio_subset, n_folds = n_folds, param_grid = rfc_parameters,\n",
    "                                           model = rfc_weighted, scorer = mcc_scorer, verbose =1)"
   ]
  },
  {
   "cell_type": "markdown",
   "metadata": {
    "hidden": true
   },
   "source": [
    "Save the results"
   ]
  },
  {
   "cell_type": "code",
   "execution_count": 70,
   "metadata": {
    "hidden": true
   },
   "outputs": [],
   "source": [
    "pickle.dump(rfc_weighted_resdict, open(results_path+f\"rfc_weighted_resdict.p\", \"wb\" ))"
   ]
  },
  {
   "cell_type": "markdown",
   "metadata": {
    "hidden": true
   },
   "source": [
    "Load the results"
   ]
  },
  {
   "cell_type": "code",
   "execution_count": 71,
   "metadata": {
    "hidden": true
   },
   "outputs": [],
   "source": [
    "rfc_weighted_resdict = pickle.load(open(results_path+f\"rfc_weighted_resdict.p\", \"rb\" ))"
   ]
  },
  {
   "cell_type": "markdown",
   "metadata": {
    "hidden": true
   },
   "source": [
    "Print the dataframe (normalized)"
   ]
  },
  {
   "cell_type": "code",
   "execution_count": 72,
   "metadata": {
    "hidden": true
   },
   "outputs": [
    {
     "data": {
      "text/html": [
       "<div>\n",
       "<style scoped>\n",
       "    .dataframe tbody tr th:only-of-type {\n",
       "        vertical-align: middle;\n",
       "    }\n",
       "\n",
       "    .dataframe tbody tr th {\n",
       "        vertical-align: top;\n",
       "    }\n",
       "\n",
       "    .dataframe thead th {\n",
       "        text-align: right;\n",
       "    }\n",
       "</style>\n",
       "<table border=\"1\" class=\"dataframe\">\n",
       "  <thead>\n",
       "    <tr style=\"text-align: right;\">\n",
       "      <th></th>\n",
       "      <th>22q11DS</th>\n",
       "      <th>Down</th>\n",
       "      <th>FXS-F</th>\n",
       "      <th>FXS-M</th>\n",
       "      <th>NF1</th>\n",
       "      <th>PW-UPD</th>\n",
       "      <th>PW-del</th>\n",
       "      <th>SMC15</th>\n",
       "      <th>TSC</th>\n",
       "      <th>XXY</th>\n",
       "    </tr>\n",
       "  </thead>\n",
       "  <tbody>\n",
       "    <tr>\n",
       "      <th>22q11DS</th>\n",
       "      <td>0.016129</td>\n",
       "      <td>0.0</td>\n",
       "      <td>0.000000</td>\n",
       "      <td>0.177419</td>\n",
       "      <td>0.024194</td>\n",
       "      <td>0.0</td>\n",
       "      <td>0.0</td>\n",
       "      <td>0.008065</td>\n",
       "      <td>0.072581</td>\n",
       "      <td>0.000000</td>\n",
       "    </tr>\n",
       "    <tr>\n",
       "      <th>Down</th>\n",
       "      <td>0.000000</td>\n",
       "      <td>0.0</td>\n",
       "      <td>0.000000</td>\n",
       "      <td>0.000000</td>\n",
       "      <td>0.000000</td>\n",
       "      <td>0.0</td>\n",
       "      <td>0.0</td>\n",
       "      <td>0.000000</td>\n",
       "      <td>0.000000</td>\n",
       "      <td>0.000000</td>\n",
       "    </tr>\n",
       "    <tr>\n",
       "      <th>PW</th>\n",
       "      <td>0.000000</td>\n",
       "      <td>0.0</td>\n",
       "      <td>0.008065</td>\n",
       "      <td>0.000000</td>\n",
       "      <td>0.000000</td>\n",
       "      <td>0.0</td>\n",
       "      <td>0.0</td>\n",
       "      <td>0.000000</td>\n",
       "      <td>0.008065</td>\n",
       "      <td>0.000000</td>\n",
       "    </tr>\n",
       "    <tr>\n",
       "      <th>SMC15</th>\n",
       "      <td>0.000000</td>\n",
       "      <td>0.0</td>\n",
       "      <td>0.000000</td>\n",
       "      <td>0.008065</td>\n",
       "      <td>0.016129</td>\n",
       "      <td>0.0</td>\n",
       "      <td>0.0</td>\n",
       "      <td>0.000000</td>\n",
       "      <td>0.000000</td>\n",
       "      <td>0.000000</td>\n",
       "    </tr>\n",
       "    <tr>\n",
       "      <th>TSC</th>\n",
       "      <td>0.000000</td>\n",
       "      <td>0.0</td>\n",
       "      <td>0.000000</td>\n",
       "      <td>0.201613</td>\n",
       "      <td>0.112903</td>\n",
       "      <td>0.0</td>\n",
       "      <td>0.0</td>\n",
       "      <td>0.064516</td>\n",
       "      <td>0.161290</td>\n",
       "      <td>0.000000</td>\n",
       "    </tr>\n",
       "    <tr>\n",
       "      <th>XXY</th>\n",
       "      <td>0.000000</td>\n",
       "      <td>0.0</td>\n",
       "      <td>0.008065</td>\n",
       "      <td>0.056452</td>\n",
       "      <td>0.016129</td>\n",
       "      <td>0.0</td>\n",
       "      <td>0.0</td>\n",
       "      <td>0.000000</td>\n",
       "      <td>0.024194</td>\n",
       "      <td>0.016129</td>\n",
       "    </tr>\n",
       "  </tbody>\n",
       "</table>\n",
       "</div>"
      ],
      "text/plain": [
       "          22q11DS  Down     FXS-F     FXS-M       NF1  PW-UPD  PW-del  \\\n",
       "22q11DS  0.016129   0.0  0.000000  0.177419  0.024194     0.0     0.0   \n",
       "Down     0.000000   0.0  0.000000  0.000000  0.000000     0.0     0.0   \n",
       "PW       0.000000   0.0  0.008065  0.000000  0.000000     0.0     0.0   \n",
       "SMC15    0.000000   0.0  0.000000  0.008065  0.016129     0.0     0.0   \n",
       "TSC      0.000000   0.0  0.000000  0.201613  0.112903     0.0     0.0   \n",
       "XXY      0.000000   0.0  0.008065  0.056452  0.016129     0.0     0.0   \n",
       "\n",
       "            SMC15       TSC       XXY  \n",
       "22q11DS  0.008065  0.072581  0.000000  \n",
       "Down     0.000000  0.000000  0.000000  \n",
       "PW       0.000000  0.008065  0.000000  \n",
       "SMC15    0.000000  0.000000  0.000000  \n",
       "TSC      0.064516  0.161290  0.000000  \n",
       "XXY      0.000000  0.024194  0.016129  "
      ]
     },
     "execution_count": 72,
     "metadata": {},
     "output_type": "execute_result"
    }
   ],
   "source": [
    "rfc_weighted_resdict['res_df']/124"
   ]
  },
  {
   "cell_type": "markdown",
   "metadata": {
    "hidden": true
   },
   "source": [
    "Print the proportions assigned to each class"
   ]
  },
  {
   "cell_type": "code",
   "execution_count": 73,
   "metadata": {
    "hidden": true
   },
   "outputs": [
    {
     "data": {
      "text/plain": [
       "TSC        0.540323\n",
       "22q11DS    0.298387\n",
       "XXY        0.120968\n",
       "SMC15      0.024194\n",
       "PW         0.016129\n",
       "dtype: float64"
      ]
     },
     "execution_count": 73,
     "metadata": {},
     "output_type": "execute_result"
    }
   ],
   "source": [
    "pd.Series(rfc_weighted_resdict['ypreds_B']).value_counts()/124"
   ]
  },
  {
   "cell_type": "code",
   "execution_count": 74,
   "metadata": {
    "hidden": true
   },
   "outputs": [
    {
     "data": {
      "text/plain": [
       "FXS-M      0.443548\n",
       "TSC        0.266129\n",
       "NF1        0.169355\n",
       "SMC15      0.072581\n",
       "22q11DS    0.016129\n",
       "XXY        0.016129\n",
       "FXS-F      0.016129\n",
       "dtype: float64"
      ]
     },
     "execution_count": 74,
     "metadata": {},
     "output_type": "execute_result"
    }
   ],
   "source": [
    "pd.Series(rfc_weighted_resdict['ypreds_Rev']).value_counts()/124"
   ]
  },
  {
   "cell_type": "markdown",
   "metadata": {
    "hidden": true
   },
   "source": [
    "Plot a figure for the results"
   ]
  },
  {
   "cell_type": "code",
   "execution_count": 75,
   "metadata": {
    "hidden": true
   },
   "outputs": [
    {
     "data": {
      "image/png": "[encoded data removed]",
      "text/plain": [
       "<Figure size 576x1152 with 1 Axes>"
      ]
     },
     "metadata": {
      "needs_background": "light"
     },
     "output_type": "display_data"
    }
   ],
   "source": [
    "fig, ax = plt.subplots(figsize=(8,16))\n",
    "sns.heatmap((rfc_weighted_resdict['res_df']), cmap='Blues', annot = (rfc_weighted_resdict['res_df'])/1.24, \n",
    "            square=True, cbar=False, ax=ax);\n",
    "\n",
    "B_labels = np.unique(y_syn_B);\n",
    "B_labels[1] = 'DS';\n",
    "\n",
    "Rev_labels = np.unique(y_syn_all);\n",
    "Rev_labels[1] = 'DS';\n",
    "\n",
    "ax.set_xticklabels(Rev_labels);\n",
    "ax.set_yticklabels(B_labels);"
   ]
  },
  {
   "cell_type": "code",
   "execution_count": null,
   "metadata": {
    "hidden": true
   },
   "outputs": [],
   "source": []
  }
 ],
 "metadata": {
  "kernelspec": {
   "display_name": "Python 3",
   "language": "python",
   "name": "python3"
  },
  "language_info": {
   "codemirror_mode": {
    "name": "ipython",
    "version": 3
   },
   "file_extension": ".py",
   "mimetype": "text/x-python",
   "name": "python",
   "nbconvert_exporter": "python",
   "pygments_lexer": "ipython3",
   "version": "3.6.7"
  }
 },
 "nbformat": 4,
 "nbformat_minor": 2
}

{
 "cells": [
  {
   "cell_type": "markdown",
   "metadata": {},
   "source": [
    "# Chapter 6 - Apply models to idiopathic participants"
   ]
  },
  {
   "cell_type": "markdown",
   "metadata": {
    "heading_collapsed": true
   },
   "source": [
    "## Setup"
   ]
  },
  {
   "cell_type": "markdown",
   "metadata": {
    "hidden": true
   },
   "source": [
    "Run Python file to import libraries and custom functions"
   ]
  },
  {
   "cell_type": "code",
   "execution_count": 1,
   "metadata": {
    "hidden": true
   },
   "outputs": [
    {
     "name": "stderr",
     "output_type": "stream",
     "text": [
      "/Users/joefarrington/anaconda3/lib/python3.6/site-packages/sklearn/externals/six.py:31: DeprecationWarning: The module is deprecated in version 0.21 and will be removed in version 0.23 since we've dropped support for Python 2.7. Please rely on the official version of six (https://pypi.org/project/six/).\n",
      "  \"(https://pypi.org/project/six/).\", DeprecationWarning)\n",
      "/Users/joefarrington/anaconda3/lib/python3.6/site-packages/sklearn/externals/joblib/__init__.py:15: DeprecationWarning: sklearn.externals.joblib is deprecated in 0.21 and will be removed in 0.23. Please import this functionality directly from joblib, which can be installed with: pip install joblib. If this warning is raised when loading pickled models, you may need to re-serialize those models with scikit-learn 0.21+.\n",
      "  warnings.warn(msg, category=DeprecationWarning)\n"
     ]
    }
   ],
   "source": [
    "%run libraries.py"
   ]
  },
  {
   "cell_type": "markdown",
   "metadata": {
    "hidden": true
   },
   "source": [
    "Set paths for data and models"
   ]
  },
  {
   "cell_type": "code",
   "execution_count": 2,
   "metadata": {
    "hidden": true
   },
   "outputs": [],
   "source": [
    "data_path = '/Users/joefarrington/Documents/MSc Machine Learning/Project/August/Data for import/'\n",
    "results_path = '/Users/joefarrington/Documents/MSc Machine Learning/Project/August/Results/Ch6idio/'"
   ]
  },
  {
   "cell_type": "markdown",
   "metadata": {
    "hidden": true
   },
   "source": [
    "Define a string to be added to the name of all saved results from this notebook"
   ]
  },
  {
   "cell_type": "code",
   "execution_count": 9,
   "metadata": {
    "hidden": true
   },
   "outputs": [],
   "source": [
    "nbname = 'Ch6idio'"
   ]
  },
  {
   "cell_type": "markdown",
   "metadata": {
    "hidden": true
   },
   "source": [
    "Import the data for the Bruining dataset"
   ]
  },
  {
   "cell_type": "code",
   "execution_count": 10,
   "metadata": {
    "hidden": true
   },
   "outputs": [],
   "source": [
    "X_syn_B = pd.read_csv(data_path+'X_all_B.csv', index_col=0)\n",
    "y_syn_B = np.array(pd.read_csv(data_path+'y_all_B.csv', index_col=0, header=None)).reshape(-1,)"
   ]
  },
  {
   "cell_type": "markdown",
   "metadata": {
    "hidden": true
   },
   "source": [
    "Import the data for all the syndromic participants"
   ]
  },
  {
   "cell_type": "code",
   "execution_count": 11,
   "metadata": {
    "hidden": true
   },
   "outputs": [],
   "source": [
    "X_syn_all = pd.read_csv(data_path+'X_all_Rev.csv', index_col=0)\n",
    "y_syn_all = np.array(pd.read_csv(data_path+'y_all_Rev.csv', index_col=0, header=None)).reshape(-1,)"
   ]
  },
  {
   "cell_type": "markdown",
   "metadata": {
    "hidden": true
   },
   "source": [
    "Import the data for the idiopathic participants"
   ]
  },
  {
   "cell_type": "code",
   "execution_count": 6,
   "metadata": {
    "hidden": true
   },
   "outputs": [],
   "source": [
    "X_idio_all = pd.read_csv(data_path+'X_idio_all.csv', index_col=0)"
   ]
  },
  {
   "cell_type": "markdown",
   "metadata": {
    "hidden": true
   },
   "source": [
    "Define an sklearn scorer object to calculate the Matthews Correlation Coefficient (MCC)"
   ]
  },
  {
   "cell_type": "code",
   "execution_count": 7,
   "metadata": {
    "hidden": true
   },
   "outputs": [],
   "source": [
    "mcc_scorer = make_scorer(matthews_corrcoef)"
   ]
  },
  {
   "cell_type": "markdown",
   "metadata": {
    "hidden": true
   },
   "source": [
    "Function to train models on syndromic and predict on idiopathic"
   ]
  },
  {
   "cell_type": "code",
   "execution_count": 13,
   "metadata": {
    "hidden": true
   },
   "outputs": [],
   "source": [
    "def train_syn_pred_idio(X_B, y_B, X_Rev, y_Rev, X_idio, n_folds, param_grid, model, scorer, verbose):\n",
    "    \n",
    "    #For Bruining\n",
    "    skf_B = StratifiedKFold(n_splits=n_folds)\n",
    "    gs_B = GridSearchCV(model, param_grid, cv=skf_B, iid=False, scoring=scorer, n_jobs=-1, verbose=verbose)\n",
    "    gs_B.fit(X_B, y_B)\n",
    "    ypreds_B = gs_B.predict(X_idio)\n",
    "    \n",
    "    #For whole syndromic dataset\n",
    "    skf_Rev = StratifiedKFold(n_splits=n_folds)\n",
    "    gs_Rev = GridSearchCV(model, param_grid, cv=skf_Rev, iid=False, scoring=scorer, n_jobs=-1, verbose=verbose)\n",
    "    gs_Rev.fit(X_Rev, y_Rev)\n",
    "    ypreds_Rev = gs_Rev.predict(X_idio)\n",
    "    \n",
    "    #Produce dataframe that compares predictions\n",
    "    \n",
    "    \n",
    "    B_labels = np.unique(y_B)\n",
    "    nclasses_B = len(B_labels)\n",
    "    \n",
    "    Rev_labels = np.unique(y_Rev)\n",
    "    nclasses_Rev = len(Rev_labels)\n",
    "\n",
    "    res_df = pd.DataFrame(np.zeros((nclasses_B, nclasses_Rev)), index = B_labels, columns = Rev_labels)\n",
    "    \n",
    "    for i in range(0, len(ypreds_Rev)):\n",
    "        r = ypreds_B[i]\n",
    "        c = ypreds_Rev[i]\n",
    "        res_df.loc[r,c] += 1\n",
    "    \n",
    "    #Return a dictionary with the results\n",
    "    res_dict = {'model_B': gs_B, 'model_Rev': gs_Rev, 'ypreds_B':ypreds_B, 'ypreds_Rev':ypreds_Rev, 'res_df':res_df}\n",
    "    \n",
    "    print(res_df)\n",
    "    \n",
    "    return res_dict\n",
    "    "
   ]
  },
  {
   "cell_type": "markdown",
   "metadata": {
    "heading_collapsed": true
   },
   "source": [
    "## Model 1: OvO SVM with RBF kernel"
   ]
  },
  {
   "cell_type": "markdown",
   "metadata": {
    "hidden": true
   },
   "source": [
    "Define the number of folds for cross-validation"
   ]
  },
  {
   "cell_type": "code",
   "execution_count": 9,
   "metadata": {
    "hidden": true
   },
   "outputs": [],
   "source": [
    "n_folds = 10"
   ]
  },
  {
   "cell_type": "markdown",
   "metadata": {
    "hidden": true
   },
   "source": [
    "Define the model"
   ]
  },
  {
   "cell_type": "code",
   "execution_count": 10,
   "metadata": {
    "hidden": true
   },
   "outputs": [],
   "source": [
    "svc_rbf = SVC(decision_function_shape='ovo', kernel='rbf')\n",
    "steps_rbf = [('scaler', StandardScaler()),\n",
    "     ('model',svc_rbf)]\n",
    "pipeline_rbf = Pipeline(steps_rbf)"
   ]
  },
  {
   "cell_type": "markdown",
   "metadata": {
    "hidden": true
   },
   "source": [
    "Define the parameters for the grid seach"
   ]
  },
  {
   "cell_type": "code",
   "execution_count": 11,
   "metadata": {
    "hidden": true
   },
   "outputs": [],
   "source": [
    "rbf_C_range = np.logspace(start=-5, stop=15, num=21, base=2)\n",
    "rbf_gamma_range = np.logspace(start=-15, stop=3, num=19, base=2)\n",
    "rbf_parameters = dict(model__gamma=rbf_gamma_range, model__C=rbf_C_range)"
   ]
  },
  {
   "cell_type": "markdown",
   "metadata": {
    "hidden": true
   },
   "source": [
    "Run the training and prediction"
   ]
  },
  {
   "cell_type": "code",
   "execution_count": 14,
   "metadata": {
    "hidden": true
   },
   "outputs": [
    {
     "name": "stdout",
     "output_type": "stream",
     "text": [
      "Fitting 10 folds for each of 399 candidates, totalling 3990 fits\n"
     ]
    },
    {
     "name": "stderr",
     "output_type": "stream",
     "text": [
      "[Parallel(n_jobs=-1)]: Using backend LokyBackend with 8 concurrent workers.\n",
      "[Parallel(n_jobs=-1)]: Done 304 tasks      | elapsed:    1.9s\n",
      "[Parallel(n_jobs=-1)]: Done 2704 tasks      | elapsed:   10.7s\n",
      "[Parallel(n_jobs=-1)]: Done 3990 out of 3990 | elapsed:   16.2s finished\n",
      "[Parallel(n_jobs=-1)]: Using backend LokyBackend with 8 concurrent workers.\n"
     ]
    },
    {
     "name": "stdout",
     "output_type": "stream",
     "text": [
      "Fitting 10 folds for each of 399 candidates, totalling 3990 fits\n"
     ]
    },
    {
     "name": "stderr",
     "output_type": "stream",
     "text": [
      "[Parallel(n_jobs=-1)]: Done 124 tasks      | elapsed:    1.4s\n",
      "[Parallel(n_jobs=-1)]: Done 1024 tasks      | elapsed:   10.7s\n",
      "[Parallel(n_jobs=-1)]: Done 2524 tasks      | elapsed:   26.8s\n",
      "[Parallel(n_jobs=-1)]: Done 3975 out of 3990 | elapsed:   47.5s remaining:    0.2s\n",
      "[Parallel(n_jobs=-1)]: Done 3990 out of 3990 | elapsed:   47.6s finished\n"
     ]
    },
    {
     "name": "stdout",
     "output_type": "stream",
     "text": [
      "         22q11DS  Down  FXS-F  FXS-M  NF1  PW-UPD  PW-del  SMC15   TSC  XXY\n",
      "22q11DS     31.0   1.0    3.0    9.0  3.0     0.0     0.0    0.0  34.0  1.0\n",
      "Down         0.0   2.0    0.0    0.0  0.0     0.0     0.0    0.0   7.0  0.0\n",
      "PW           1.0   0.0    1.0    1.0  0.0     3.0     3.0    0.0   7.0  0.0\n",
      "SMC15        0.0   0.0    0.0    2.0  0.0     0.0     0.0    0.0   0.0  0.0\n",
      "TSC          1.0   0.0    4.0   18.0  7.0     0.0     0.0    0.0  60.0  0.0\n",
      "XXY          3.0   0.0    2.0    7.0  4.0     0.0     0.0    0.0  33.0  3.0\n"
     ]
    }
   ],
   "source": [
    "rbf_svm_resdict = train_syn_pred_idio(X_B = X_syn_B, y_B = y_syn_B, X_Rev = X_syn_all, y_Rev = y_syn_all, \n",
    "                                           X_idio = X_idio_all, n_folds = n_folds, param_grid = rbf_parameters,\n",
    "                                           model = pipeline_rbf, scorer = mcc_scorer, verbose =1)"
   ]
  },
  {
   "cell_type": "markdown",
   "metadata": {
    "hidden": true
   },
   "source": [
    "Save the results"
   ]
  },
  {
   "cell_type": "code",
   "execution_count": 16,
   "metadata": {
    "hidden": true
   },
   "outputs": [],
   "source": [
    "pickle.dump(rbf_svm_resdict, open(results_path+f\"rbf_svm_resdict.p\", \"wb\" ))"
   ]
  },
  {
   "cell_type": "markdown",
   "metadata": {
    "hidden": true
   },
   "source": [
    "Load the results"
   ]
  },
  {
   "cell_type": "code",
   "execution_count": 45,
   "metadata": {
    "hidden": true
   },
   "outputs": [],
   "source": [
    "rbf_svm_dict = pickle.load(open(results_path+f\"rbf_svm_resdict.p\", \"rb\" ))"
   ]
  },
  {
   "cell_type": "markdown",
   "metadata": {
    "hidden": true
   },
   "source": [
    "Print the dataframe (normalized)"
   ]
  },
  {
   "cell_type": "code",
   "execution_count": 47,
   "metadata": {
    "hidden": true
   },
   "outputs": [
    {
     "data": {
      "text/html": [
       "<div>\n",
       "<style scoped>\n",
       "    .dataframe tbody tr th:only-of-type {\n",
       "        vertical-align: middle;\n",
       "    }\n",
       "\n",
       "    .dataframe tbody tr th {\n",
       "        vertical-align: top;\n",
       "    }\n",
       "\n",
       "    .dataframe thead th {\n",
       "        text-align: right;\n",
       "    }\n",
       "</style>\n",
       "<table border=\"1\" class=\"dataframe\">\n",
       "  <thead>\n",
       "    <tr style=\"text-align: right;\">\n",
       "      <th></th>\n",
       "      <th>22q11DS</th>\n",
       "      <th>Down</th>\n",
       "      <th>FXS-F</th>\n",
       "      <th>FXS-M</th>\n",
       "      <th>NF1</th>\n",
       "      <th>PW-UPD</th>\n",
       "      <th>PW-del</th>\n",
       "      <th>SMC15</th>\n",
       "      <th>TSC</th>\n",
       "      <th>XXY</th>\n",
       "    </tr>\n",
       "  </thead>\n",
       "  <tbody>\n",
       "    <tr>\n",
       "      <th>22q11DS</th>\n",
       "      <td>0.123506</td>\n",
       "      <td>0.003984</td>\n",
       "      <td>0.011952</td>\n",
       "      <td>0.035857</td>\n",
       "      <td>0.011952</td>\n",
       "      <td>0.000000</td>\n",
       "      <td>0.000000</td>\n",
       "      <td>0.0</td>\n",
       "      <td>0.135458</td>\n",
       "      <td>0.003984</td>\n",
       "    </tr>\n",
       "    <tr>\n",
       "      <th>Down</th>\n",
       "      <td>0.000000</td>\n",
       "      <td>0.007968</td>\n",
       "      <td>0.000000</td>\n",
       "      <td>0.000000</td>\n",
       "      <td>0.000000</td>\n",
       "      <td>0.000000</td>\n",
       "      <td>0.000000</td>\n",
       "      <td>0.0</td>\n",
       "      <td>0.027888</td>\n",
       "      <td>0.000000</td>\n",
       "    </tr>\n",
       "    <tr>\n",
       "      <th>PW</th>\n",
       "      <td>0.003984</td>\n",
       "      <td>0.000000</td>\n",
       "      <td>0.003984</td>\n",
       "      <td>0.003984</td>\n",
       "      <td>0.000000</td>\n",
       "      <td>0.011952</td>\n",
       "      <td>0.011952</td>\n",
       "      <td>0.0</td>\n",
       "      <td>0.027888</td>\n",
       "      <td>0.000000</td>\n",
       "    </tr>\n",
       "    <tr>\n",
       "      <th>SMC15</th>\n",
       "      <td>0.000000</td>\n",
       "      <td>0.000000</td>\n",
       "      <td>0.000000</td>\n",
       "      <td>0.007968</td>\n",
       "      <td>0.000000</td>\n",
       "      <td>0.000000</td>\n",
       "      <td>0.000000</td>\n",
       "      <td>0.0</td>\n",
       "      <td>0.000000</td>\n",
       "      <td>0.000000</td>\n",
       "    </tr>\n",
       "    <tr>\n",
       "      <th>TSC</th>\n",
       "      <td>0.003984</td>\n",
       "      <td>0.000000</td>\n",
       "      <td>0.015936</td>\n",
       "      <td>0.071713</td>\n",
       "      <td>0.027888</td>\n",
       "      <td>0.000000</td>\n",
       "      <td>0.000000</td>\n",
       "      <td>0.0</td>\n",
       "      <td>0.239044</td>\n",
       "      <td>0.000000</td>\n",
       "    </tr>\n",
       "    <tr>\n",
       "      <th>XXY</th>\n",
       "      <td>0.011952</td>\n",
       "      <td>0.000000</td>\n",
       "      <td>0.007968</td>\n",
       "      <td>0.027888</td>\n",
       "      <td>0.015936</td>\n",
       "      <td>0.000000</td>\n",
       "      <td>0.000000</td>\n",
       "      <td>0.0</td>\n",
       "      <td>0.131474</td>\n",
       "      <td>0.011952</td>\n",
       "    </tr>\n",
       "  </tbody>\n",
       "</table>\n",
       "</div>"
      ],
      "text/plain": [
       "          22q11DS      Down     FXS-F     FXS-M       NF1    PW-UPD    PW-del  \\\n",
       "22q11DS  0.123506  0.003984  0.011952  0.035857  0.011952  0.000000  0.000000   \n",
       "Down     0.000000  0.007968  0.000000  0.000000  0.000000  0.000000  0.000000   \n",
       "PW       0.003984  0.000000  0.003984  0.003984  0.000000  0.011952  0.011952   \n",
       "SMC15    0.000000  0.000000  0.000000  0.007968  0.000000  0.000000  0.000000   \n",
       "TSC      0.003984  0.000000  0.015936  0.071713  0.027888  0.000000  0.000000   \n",
       "XXY      0.011952  0.000000  0.007968  0.027888  0.015936  0.000000  0.000000   \n",
       "\n",
       "         SMC15       TSC       XXY  \n",
       "22q11DS    0.0  0.135458  0.003984  \n",
       "Down       0.0  0.027888  0.000000  \n",
       "PW         0.0  0.027888  0.000000  \n",
       "SMC15      0.0  0.000000  0.000000  \n",
       "TSC        0.0  0.239044  0.000000  \n",
       "XXY        0.0  0.131474  0.011952  "
      ]
     },
     "execution_count": 47,
     "metadata": {},
     "output_type": "execute_result"
    }
   ],
   "source": [
    "rbf_svm_dict['res_df']/251"
   ]
  },
  {
   "cell_type": "markdown",
   "metadata": {
    "hidden": true
   },
   "source": [
    "Print the proportions assigned to each class"
   ]
  },
  {
   "cell_type": "code",
   "execution_count": 23,
   "metadata": {
    "hidden": true
   },
   "outputs": [
    {
     "data": {
      "text/plain": [
       "TSC        0.358566\n",
       "22q11DS    0.326693\n",
       "XXY        0.207171\n",
       "PW         0.063745\n",
       "Down       0.035857\n",
       "SMC15      0.007968\n",
       "dtype: float64"
      ]
     },
     "execution_count": 23,
     "metadata": {},
     "output_type": "execute_result"
    }
   ],
   "source": [
    "pd.Series(rbf_svm_resdict['ypreds_B']).value_counts()/251"
   ]
  },
  {
   "cell_type": "code",
   "execution_count": 24,
   "metadata": {
    "hidden": true
   },
   "outputs": [
    {
     "data": {
      "text/plain": [
       "TSC        0.561753\n",
       "FXS-M      0.147410\n",
       "22q11DS    0.143426\n",
       "NF1        0.055777\n",
       "FXS-F      0.039841\n",
       "XXY        0.015936\n",
       "PW-del     0.011952\n",
       "Down       0.011952\n",
       "PW-UPD     0.011952\n",
       "dtype: float64"
      ]
     },
     "execution_count": 24,
     "metadata": {},
     "output_type": "execute_result"
    }
   ],
   "source": [
    "pd.Series(rbf_svm_resdict['ypreds_Rev']).value_counts()/251"
   ]
  },
  {
   "cell_type": "markdown",
   "metadata": {
    "hidden": true
   },
   "source": [
    "Plot a figure for the results"
   ]
  },
  {
   "cell_type": "code",
   "execution_count": 26,
   "metadata": {
    "hidden": true
   },
   "outputs": [
    {
     "data": {
      "image/png": "[encoded data removed]",
      "text/plain": [
       "<Figure size 576x1152 with 1 Axes>"
      ]
     },
     "metadata": {
      "needs_background": "light"
     },
     "output_type": "display_data"
    }
   ],
   "source": [
    "fig, ax = plt.subplots(figsize=(8,16))\n",
    "sns.heatmap((rbf_svm_resdict['res_df']), cmap='Blues', annot = (rbf_svm_resdict['res_df'])/2.51, \n",
    "            square=True, cbar=False, ax=ax);\n",
    "\n",
    "B_labels = np.unique(y_syn_B);\n",
    "B_labels[1] = 'DS';\n",
    "\n",
    "Rev_labels = np.unique(y_syn_all);\n",
    "Rev_labels[1] = 'DS';\n",
    "\n",
    "ax.set_xticklabels(Rev_labels);\n",
    "ax.set_yticklabels(B_labels);"
   ]
  },
  {
   "cell_type": "markdown",
   "metadata": {
    "heading_collapsed": true
   },
   "source": [
    "## Model 2: OvO SVM with linear kernel"
   ]
  },
  {
   "cell_type": "markdown",
   "metadata": {
    "hidden": true
   },
   "source": [
    "Define the number of folds for cross-validation"
   ]
  },
  {
   "cell_type": "code",
   "execution_count": 27,
   "metadata": {
    "hidden": true
   },
   "outputs": [],
   "source": [
    "n_folds = 10"
   ]
  },
  {
   "cell_type": "markdown",
   "metadata": {
    "hidden": true
   },
   "source": [
    "Define the model"
   ]
  },
  {
   "cell_type": "code",
   "execution_count": 28,
   "metadata": {
    "hidden": true
   },
   "outputs": [],
   "source": [
    "svc_lin = SVC(decision_function_shape='ovo', kernel='linear')\n",
    "steps_lin = [('scaler', StandardScaler()),\n",
    "     ('model',svc_lin)]\n",
    "pipeline_lin = Pipeline(steps_lin)"
   ]
  },
  {
   "cell_type": "markdown",
   "metadata": {
    "hidden": true
   },
   "source": [
    "Define the parameters for the grid seach"
   ]
  },
  {
   "cell_type": "code",
   "execution_count": 29,
   "metadata": {
    "hidden": true
   },
   "outputs": [],
   "source": [
    "lin_C_range = np.logspace(start=-10, stop=10, num=21, base=2)\n",
    "lin_parameters = dict(model__C=lin_C_range)"
   ]
  },
  {
   "cell_type": "markdown",
   "metadata": {
    "hidden": true
   },
   "source": [
    "Run the training and prediction"
   ]
  },
  {
   "cell_type": "code",
   "execution_count": 32,
   "metadata": {
    "hidden": true
   },
   "outputs": [
    {
     "name": "stdout",
     "output_type": "stream",
     "text": [
      "Fitting 10 folds for each of 21 candidates, totalling 210 fits\n"
     ]
    },
    {
     "name": "stderr",
     "output_type": "stream",
     "text": [
      "[Parallel(n_jobs=-1)]: Using backend LokyBackend with 8 concurrent workers.\n",
      "[Parallel(n_jobs=-1)]: Done 210 out of 210 | elapsed:    5.1s finished\n",
      "[Parallel(n_jobs=-1)]: Using backend LokyBackend with 8 concurrent workers.\n"
     ]
    },
    {
     "name": "stdout",
     "output_type": "stream",
     "text": [
      "Fitting 10 folds for each of 21 candidates, totalling 210 fits\n",
      "         22q11DS  Down  FXS-F  FXS-M  NF1  PW-UPD  PW-del  SMC15   TSC  XXY\n",
      "22q11DS     17.0   1.0    3.0   10.0  1.0     0.0     0.0    0.0  36.0  0.0\n",
      "Down         0.0   0.0    0.0    0.0  0.0     0.0     0.0    0.0   0.0  0.0\n",
      "PW          16.0   4.0    1.0    0.0  0.0     3.0     6.0    0.0  25.0  3.0\n",
      "SMC15        0.0   0.0    0.0    2.0  2.0     0.0     0.0    1.0   3.0  0.0\n",
      "TSC          0.0   0.0    4.0   14.0  4.0     0.0     0.0    1.0  53.0  0.0\n",
      "XXY          0.0   0.0    3.0    4.0  6.0     0.0     0.0    0.0  22.0  6.0\n"
     ]
    },
    {
     "name": "stderr",
     "output_type": "stream",
     "text": [
      "[Parallel(n_jobs=-1)]: Done 210 out of 210 | elapsed:  4.2min finished\n"
     ]
    }
   ],
   "source": [
    "lin_svm_resdict = train_syn_pred_idio(X_B = X_syn_B, y_B = y_syn_B, X_Rev = X_syn_all, y_Rev = y_syn_all, \n",
    "                                           X_idio = X_idio_all, n_folds = n_folds, param_grid = lin_parameters,\n",
    "                                           model = pipeline_lin, scorer = mcc_scorer, verbose =1)"
   ]
  },
  {
   "cell_type": "markdown",
   "metadata": {
    "hidden": true
   },
   "source": [
    "Save the results"
   ]
  },
  {
   "cell_type": "code",
   "execution_count": 33,
   "metadata": {
    "hidden": true
   },
   "outputs": [],
   "source": [
    "pickle.dump(lin_svm_resdict, open(results_path+f\"lin_svm_resdict.p\", \"wb\" ))"
   ]
  },
  {
   "cell_type": "markdown",
   "metadata": {
    "hidden": true
   },
   "source": [
    "Load the results"
   ]
  },
  {
   "cell_type": "code",
   "execution_count": 48,
   "metadata": {
    "hidden": true
   },
   "outputs": [],
   "source": [
    "lin_svm_dict = pickle.load(open(results_path+f\"lin_svm_resdict.p\", \"rb\" ))"
   ]
  },
  {
   "cell_type": "markdown",
   "metadata": {
    "hidden": true
   },
   "source": [
    "Print the dataframe (normalized)"
   ]
  },
  {
   "cell_type": "code",
   "execution_count": 50,
   "metadata": {
    "hidden": true
   },
   "outputs": [
    {
     "data": {
      "text/html": [
       "<div>\n",
       "<style scoped>\n",
       "    .dataframe tbody tr th:only-of-type {\n",
       "        vertical-align: middle;\n",
       "    }\n",
       "\n",
       "    .dataframe tbody tr th {\n",
       "        vertical-align: top;\n",
       "    }\n",
       "\n",
       "    .dataframe thead th {\n",
       "        text-align: right;\n",
       "    }\n",
       "</style>\n",
       "<table border=\"1\" class=\"dataframe\">\n",
       "  <thead>\n",
       "    <tr style=\"text-align: right;\">\n",
       "      <th></th>\n",
       "      <th>22q11DS</th>\n",
       "      <th>Down</th>\n",
       "      <th>FXS-F</th>\n",
       "      <th>FXS-M</th>\n",
       "      <th>NF1</th>\n",
       "      <th>PW-UPD</th>\n",
       "      <th>PW-del</th>\n",
       "      <th>SMC15</th>\n",
       "      <th>TSC</th>\n",
       "      <th>XXY</th>\n",
       "    </tr>\n",
       "  </thead>\n",
       "  <tbody>\n",
       "    <tr>\n",
       "      <th>22q11DS</th>\n",
       "      <td>0.067729</td>\n",
       "      <td>0.003984</td>\n",
       "      <td>0.011952</td>\n",
       "      <td>0.039841</td>\n",
       "      <td>0.003984</td>\n",
       "      <td>0.000000</td>\n",
       "      <td>0.000000</td>\n",
       "      <td>0.000000</td>\n",
       "      <td>0.143426</td>\n",
       "      <td>0.000000</td>\n",
       "    </tr>\n",
       "    <tr>\n",
       "      <th>Down</th>\n",
       "      <td>0.000000</td>\n",
       "      <td>0.000000</td>\n",
       "      <td>0.000000</td>\n",
       "      <td>0.000000</td>\n",
       "      <td>0.000000</td>\n",
       "      <td>0.000000</td>\n",
       "      <td>0.000000</td>\n",
       "      <td>0.000000</td>\n",
       "      <td>0.000000</td>\n",
       "      <td>0.000000</td>\n",
       "    </tr>\n",
       "    <tr>\n",
       "      <th>PW</th>\n",
       "      <td>0.063745</td>\n",
       "      <td>0.015936</td>\n",
       "      <td>0.003984</td>\n",
       "      <td>0.000000</td>\n",
       "      <td>0.000000</td>\n",
       "      <td>0.011952</td>\n",
       "      <td>0.023904</td>\n",
       "      <td>0.000000</td>\n",
       "      <td>0.099602</td>\n",
       "      <td>0.011952</td>\n",
       "    </tr>\n",
       "    <tr>\n",
       "      <th>SMC15</th>\n",
       "      <td>0.000000</td>\n",
       "      <td>0.000000</td>\n",
       "      <td>0.000000</td>\n",
       "      <td>0.007968</td>\n",
       "      <td>0.007968</td>\n",
       "      <td>0.000000</td>\n",
       "      <td>0.000000</td>\n",
       "      <td>0.003984</td>\n",
       "      <td>0.011952</td>\n",
       "      <td>0.000000</td>\n",
       "    </tr>\n",
       "    <tr>\n",
       "      <th>TSC</th>\n",
       "      <td>0.000000</td>\n",
       "      <td>0.000000</td>\n",
       "      <td>0.015936</td>\n",
       "      <td>0.055777</td>\n",
       "      <td>0.015936</td>\n",
       "      <td>0.000000</td>\n",
       "      <td>0.000000</td>\n",
       "      <td>0.003984</td>\n",
       "      <td>0.211155</td>\n",
       "      <td>0.000000</td>\n",
       "    </tr>\n",
       "    <tr>\n",
       "      <th>XXY</th>\n",
       "      <td>0.000000</td>\n",
       "      <td>0.000000</td>\n",
       "      <td>0.011952</td>\n",
       "      <td>0.015936</td>\n",
       "      <td>0.023904</td>\n",
       "      <td>0.000000</td>\n",
       "      <td>0.000000</td>\n",
       "      <td>0.000000</td>\n",
       "      <td>0.087649</td>\n",
       "      <td>0.023904</td>\n",
       "    </tr>\n",
       "  </tbody>\n",
       "</table>\n",
       "</div>"
      ],
      "text/plain": [
       "          22q11DS      Down     FXS-F     FXS-M       NF1    PW-UPD    PW-del  \\\n",
       "22q11DS  0.067729  0.003984  0.011952  0.039841  0.003984  0.000000  0.000000   \n",
       "Down     0.000000  0.000000  0.000000  0.000000  0.000000  0.000000  0.000000   \n",
       "PW       0.063745  0.015936  0.003984  0.000000  0.000000  0.011952  0.023904   \n",
       "SMC15    0.000000  0.000000  0.000000  0.007968  0.007968  0.000000  0.000000   \n",
       "TSC      0.000000  0.000000  0.015936  0.055777  0.015936  0.000000  0.000000   \n",
       "XXY      0.000000  0.000000  0.011952  0.015936  0.023904  0.000000  0.000000   \n",
       "\n",
       "            SMC15       TSC       XXY  \n",
       "22q11DS  0.000000  0.143426  0.000000  \n",
       "Down     0.000000  0.000000  0.000000  \n",
       "PW       0.000000  0.099602  0.011952  \n",
       "SMC15    0.003984  0.011952  0.000000  \n",
       "TSC      0.003984  0.211155  0.000000  \n",
       "XXY      0.000000  0.087649  0.023904  "
      ]
     },
     "execution_count": 50,
     "metadata": {},
     "output_type": "execute_result"
    }
   ],
   "source": [
    "lin_svm_dict['res_df']/251"
   ]
  },
  {
   "cell_type": "markdown",
   "metadata": {
    "hidden": true
   },
   "source": [
    "Print the proportions assigned to each class"
   ]
  },
  {
   "cell_type": "code",
   "execution_count": 35,
   "metadata": {
    "hidden": true
   },
   "outputs": [
    {
     "data": {
      "text/plain": [
       "TSC        0.302789\n",
       "22q11DS    0.270916\n",
       "PW         0.231076\n",
       "XXY        0.163347\n",
       "SMC15      0.031873\n",
       "dtype: float64"
      ]
     },
     "execution_count": 35,
     "metadata": {},
     "output_type": "execute_result"
    }
   ],
   "source": [
    "pd.Series(lin_svm_resdict['ypreds_B']).value_counts()/251"
   ]
  },
  {
   "cell_type": "code",
   "execution_count": 36,
   "metadata": {
    "hidden": true
   },
   "outputs": [
    {
     "data": {
      "text/plain": [
       "TSC        0.553785\n",
       "22q11DS    0.131474\n",
       "FXS-M      0.119522\n",
       "NF1        0.051793\n",
       "FXS-F      0.043825\n",
       "XXY        0.035857\n",
       "PW-del     0.023904\n",
       "Down       0.019920\n",
       "PW-UPD     0.011952\n",
       "SMC15      0.007968\n",
       "dtype: float64"
      ]
     },
     "execution_count": 36,
     "metadata": {},
     "output_type": "execute_result"
    }
   ],
   "source": [
    "pd.Series(lin_svm_resdict['ypreds_Rev']).value_counts()/251"
   ]
  },
  {
   "cell_type": "markdown",
   "metadata": {
    "hidden": true
   },
   "source": [
    "Plot a figure for the results"
   ]
  },
  {
   "cell_type": "code",
   "execution_count": 38,
   "metadata": {
    "hidden": true
   },
   "outputs": [
    {
     "data": {
      "image/png": "[encoded data removed]",
      "text/plain": [
       "<Figure size 576x1152 with 1 Axes>"
      ]
     },
     "metadata": {
      "needs_background": "light"
     },
     "output_type": "display_data"
    }
   ],
   "source": [
    "fig, ax = plt.subplots(figsize=(8,16))\n",
    "sns.heatmap((lin_svm_resdict['res_df']), cmap='Blues', annot = (lin_svm_resdict['res_df'])/2.51, \n",
    "            square=True, cbar=False, ax=ax);\n",
    "\n",
    "B_labels = np.unique(y_syn_B);\n",
    "B_labels[1] = 'DS';\n",
    "\n",
    "Rev_labels = np.unique(y_syn_all);\n",
    "Rev_labels[1] = 'DS';\n",
    "\n",
    "ax.set_xticklabels(Rev_labels);\n",
    "ax.set_yticklabels(B_labels);"
   ]
  },
  {
   "cell_type": "markdown",
   "metadata": {
    "heading_collapsed": true
   },
   "source": [
    "## Model 3: Naive Bayes (learn prior)"
   ]
  },
  {
   "cell_type": "markdown",
   "metadata": {
    "hidden": true
   },
   "source": [
    "See <b>Naive Bayes in R.ipynb</b>"
   ]
  },
  {
   "cell_type": "markdown",
   "metadata": {
    "hidden": true
   },
   "source": [
    "Load in the results"
   ]
  },
  {
   "cell_type": "code",
   "execution_count": 4,
   "metadata": {
    "hidden": true
   },
   "outputs": [],
   "source": [
    "nb_noprior_res = pd.read_csv(results_path+'nb_idio_noprior_res.csv', index_col=0)"
   ]
  },
  {
   "cell_type": "markdown",
   "metadata": {
    "hidden": true
   },
   "source": [
    "Print the proportions assigned to each class"
   ]
  },
  {
   "cell_type": "code",
   "execution_count": 6,
   "metadata": {
    "hidden": true
   },
   "outputs": [
    {
     "data": {
      "text/plain": [
       "PW         0.290837\n",
       "SMC15      0.258964\n",
       "TSC        0.191235\n",
       "22q11DS    0.147410\n",
       "XXY        0.107570\n",
       "Down       0.003984\n",
       "Name: ypreds_B, dtype: float64"
      ]
     },
     "execution_count": 6,
     "metadata": {},
     "output_type": "execute_result"
    }
   ],
   "source": [
    "nb_noprior_res['ypreds_B'].value_counts()/251"
   ]
  },
  {
   "cell_type": "code",
   "execution_count": 7,
   "metadata": {
    "hidden": true
   },
   "outputs": [
    {
     "data": {
      "text/plain": [
       "FXS-M      0.294821\n",
       "PW-del     0.179283\n",
       "Down       0.127490\n",
       "TSC        0.099602\n",
       "SMC15      0.071713\n",
       "22q11DS    0.067729\n",
       "NF1        0.059761\n",
       "FXS-F      0.059761\n",
       "XXY        0.039841\n",
       "Name: ypreds_Rev, dtype: float64"
      ]
     },
     "execution_count": 7,
     "metadata": {},
     "output_type": "execute_result"
    }
   ],
   "source": [
    "nb_noprior_res['ypreds_Rev'].value_counts()/251"
   ]
  },
  {
   "cell_type": "markdown",
   "metadata": {
    "hidden": true
   },
   "source": [
    "Produce a dataframe comparing the predictions"
   ]
  },
  {
   "cell_type": "code",
   "execution_count": 14,
   "metadata": {
    "hidden": true
   },
   "outputs": [],
   "source": [
    "B_labels = np.unique(y_syn_B)\n",
    "nclasses_B = len(B_labels)\n",
    "\n",
    "Rev_labels = np.unique(y_syn_all)\n",
    "nclasses_Rev = len(Rev_labels)"
   ]
  },
  {
   "cell_type": "code",
   "execution_count": 15,
   "metadata": {
    "hidden": true
   },
   "outputs": [],
   "source": [
    "nb_noprior_res_df = pd.DataFrame(np.zeros((nclasses_B, nclasses_Rev)), index = B_labels, columns = Rev_labels)"
   ]
  },
  {
   "cell_type": "code",
   "execution_count": 23,
   "metadata": {
    "hidden": true
   },
   "outputs": [],
   "source": [
    "ypreds_B = np.array(nb_noprior_res['ypreds_B'])\n",
    "ypreds_Rev = np.array(nb_noprior_res['ypreds_Rev'])\n",
    "\n",
    "for i in range(0, len(ypreds_Rev)):\n",
    "    r = ypreds_B[i]\n",
    "    c = ypreds_Rev[i]\n",
    "    nb_noprior_res_df.loc[r,c] += 1"
   ]
  },
  {
   "cell_type": "markdown",
   "metadata": {
    "hidden": true
   },
   "source": [
    "Print the dataframe (normalized)"
   ]
  },
  {
   "cell_type": "code",
   "execution_count": 44,
   "metadata": {
    "hidden": true
   },
   "outputs": [
    {
     "data": {
      "text/html": [
       "<div>\n",
       "<style scoped>\n",
       "    .dataframe tbody tr th:only-of-type {\n",
       "        vertical-align: middle;\n",
       "    }\n",
       "\n",
       "    .dataframe tbody tr th {\n",
       "        vertical-align: top;\n",
       "    }\n",
       "\n",
       "    .dataframe thead th {\n",
       "        text-align: right;\n",
       "    }\n",
       "</style>\n",
       "<table border=\"1\" class=\"dataframe\">\n",
       "  <thead>\n",
       "    <tr style=\"text-align: right;\">\n",
       "      <th></th>\n",
       "      <th>22q11DS</th>\n",
       "      <th>Down</th>\n",
       "      <th>FXS-F</th>\n",
       "      <th>FXS-M</th>\n",
       "      <th>NF1</th>\n",
       "      <th>PW-UPD</th>\n",
       "      <th>PW-del</th>\n",
       "      <th>SMC15</th>\n",
       "      <th>TSC</th>\n",
       "      <th>XXY</th>\n",
       "    </tr>\n",
       "  </thead>\n",
       "  <tbody>\n",
       "    <tr>\n",
       "      <th>22q11DS</th>\n",
       "      <td>0.059761</td>\n",
       "      <td>0.015936</td>\n",
       "      <td>0.027888</td>\n",
       "      <td>0.019920</td>\n",
       "      <td>0.007968</td>\n",
       "      <td>0.0</td>\n",
       "      <td>0.003984</td>\n",
       "      <td>0.000000</td>\n",
       "      <td>0.011952</td>\n",
       "      <td>0.000000</td>\n",
       "    </tr>\n",
       "    <tr>\n",
       "      <th>Down</th>\n",
       "      <td>0.000000</td>\n",
       "      <td>0.003984</td>\n",
       "      <td>0.000000</td>\n",
       "      <td>0.000000</td>\n",
       "      <td>0.000000</td>\n",
       "      <td>0.0</td>\n",
       "      <td>0.000000</td>\n",
       "      <td>0.000000</td>\n",
       "      <td>0.000000</td>\n",
       "      <td>0.000000</td>\n",
       "    </tr>\n",
       "    <tr>\n",
       "      <th>PW</th>\n",
       "      <td>0.003984</td>\n",
       "      <td>0.099602</td>\n",
       "      <td>0.007968</td>\n",
       "      <td>0.000000</td>\n",
       "      <td>0.000000</td>\n",
       "      <td>0.0</td>\n",
       "      <td>0.175299</td>\n",
       "      <td>0.000000</td>\n",
       "      <td>0.000000</td>\n",
       "      <td>0.003984</td>\n",
       "    </tr>\n",
       "    <tr>\n",
       "      <th>SMC15</th>\n",
       "      <td>0.000000</td>\n",
       "      <td>0.000000</td>\n",
       "      <td>0.000000</td>\n",
       "      <td>0.163347</td>\n",
       "      <td>0.023904</td>\n",
       "      <td>0.0</td>\n",
       "      <td>0.000000</td>\n",
       "      <td>0.071713</td>\n",
       "      <td>0.000000</td>\n",
       "      <td>0.000000</td>\n",
       "    </tr>\n",
       "    <tr>\n",
       "      <th>TSC</th>\n",
       "      <td>0.003984</td>\n",
       "      <td>0.000000</td>\n",
       "      <td>0.000000</td>\n",
       "      <td>0.091633</td>\n",
       "      <td>0.019920</td>\n",
       "      <td>0.0</td>\n",
       "      <td>0.000000</td>\n",
       "      <td>0.000000</td>\n",
       "      <td>0.075697</td>\n",
       "      <td>0.000000</td>\n",
       "    </tr>\n",
       "    <tr>\n",
       "      <th>XXY</th>\n",
       "      <td>0.000000</td>\n",
       "      <td>0.007968</td>\n",
       "      <td>0.023904</td>\n",
       "      <td>0.019920</td>\n",
       "      <td>0.007968</td>\n",
       "      <td>0.0</td>\n",
       "      <td>0.000000</td>\n",
       "      <td>0.000000</td>\n",
       "      <td>0.011952</td>\n",
       "      <td>0.035857</td>\n",
       "    </tr>\n",
       "  </tbody>\n",
       "</table>\n",
       "</div>"
      ],
      "text/plain": [
       "          22q11DS      Down     FXS-F     FXS-M       NF1  PW-UPD    PW-del  \\\n",
       "22q11DS  0.059761  0.015936  0.027888  0.019920  0.007968     0.0  0.003984   \n",
       "Down     0.000000  0.003984  0.000000  0.000000  0.000000     0.0  0.000000   \n",
       "PW       0.003984  0.099602  0.007968  0.000000  0.000000     0.0  0.175299   \n",
       "SMC15    0.000000  0.000000  0.000000  0.163347  0.023904     0.0  0.000000   \n",
       "TSC      0.003984  0.000000  0.000000  0.091633  0.019920     0.0  0.000000   \n",
       "XXY      0.000000  0.007968  0.023904  0.019920  0.007968     0.0  0.000000   \n",
       "\n",
       "            SMC15       TSC       XXY  \n",
       "22q11DS  0.000000  0.011952  0.000000  \n",
       "Down     0.000000  0.000000  0.000000  \n",
       "PW       0.000000  0.000000  0.003984  \n",
       "SMC15    0.071713  0.000000  0.000000  \n",
       "TSC      0.000000  0.075697  0.000000  \n",
       "XXY      0.000000  0.011952  0.035857  "
      ]
     },
     "execution_count": 44,
     "metadata": {},
     "output_type": "execute_result"
    }
   ],
   "source": [
    "nb_noprior_res_df/251"
   ]
  },
  {
   "cell_type": "markdown",
   "metadata": {
    "hidden": true
   },
   "source": [
    "Plot a figure with the results"
   ]
  },
  {
   "cell_type": "code",
   "execution_count": 25,
   "metadata": {
    "hidden": true
   },
   "outputs": [
    {
     "data": {
      "image/png": "[encoded data removed]",
      "text/plain": [
       "<Figure size 576x1152 with 1 Axes>"
      ]
     },
     "metadata": {
      "needs_background": "light"
     },
     "output_type": "display_data"
    }
   ],
   "source": [
    "fig, ax = plt.subplots(figsize=(8,16))\n",
    "sns.heatmap(nb_noprior_res_df, cmap='Blues', annot = nb_noprior_res_df/2.51, \n",
    "            square=True, cbar=False, ax=ax);\n",
    "\n",
    "B_labels = np.unique(y_syn_B);\n",
    "B_labels[1] = 'DS';\n",
    "\n",
    "Rev_labels = np.unique(y_syn_all);\n",
    "Rev_labels[1] = 'DS';\n",
    "\n",
    "ax.set_xticklabels(Rev_labels);\n",
    "ax.set_yticklabels(B_labels);"
   ]
  },
  {
   "cell_type": "markdown",
   "metadata": {
    "heading_collapsed": true
   },
   "source": [
    "## Model 4: Naive Bayes (uniform prior)"
   ]
  },
  {
   "cell_type": "markdown",
   "metadata": {
    "hidden": true
   },
   "source": [
    "See <b>Naive Bayes in R.ipynb</b>"
   ]
  },
  {
   "cell_type": "markdown",
   "metadata": {
    "hidden": true
   },
   "source": [
    "Load in the results"
   ]
  },
  {
   "cell_type": "code",
   "execution_count": 26,
   "metadata": {
    "hidden": true
   },
   "outputs": [],
   "source": [
    "nb_uniprior_res = pd.read_csv(results_path+'nb_idio_uniprior_res.csv', index_col=0)"
   ]
  },
  {
   "cell_type": "markdown",
   "metadata": {
    "hidden": true
   },
   "source": [
    "Print the proportions assigned to each class"
   ]
  },
  {
   "cell_type": "code",
   "execution_count": 27,
   "metadata": {
    "hidden": true
   },
   "outputs": [
    {
     "data": {
      "text/plain": [
       "SMC15      0.290837\n",
       "PW         0.270916\n",
       "TSC        0.183267\n",
       "XXY        0.127490\n",
       "22q11DS    0.091633\n",
       "Down       0.035857\n",
       "Name: ypreds_B, dtype: float64"
      ]
     },
     "execution_count": 27,
     "metadata": {},
     "output_type": "execute_result"
    }
   ],
   "source": [
    "nb_uniprior_res['ypreds_B'].value_counts()/251"
   ]
  },
  {
   "cell_type": "code",
   "execution_count": 28,
   "metadata": {
    "hidden": true
   },
   "outputs": [
    {
     "data": {
      "text/plain": [
       "FXS-M      0.247012\n",
       "PW-del     0.183267\n",
       "Down       0.151394\n",
       "NF1        0.123506\n",
       "SMC15      0.095618\n",
       "FXS-F      0.063745\n",
       "22q11DS    0.051793\n",
       "TSC        0.043825\n",
       "XXY        0.039841\n",
       "Name: ypreds_Rev, dtype: float64"
      ]
     },
     "execution_count": 28,
     "metadata": {},
     "output_type": "execute_result"
    }
   ],
   "source": [
    "nb_uniprior_res['ypreds_Rev'].value_counts()/251"
   ]
  },
  {
   "cell_type": "markdown",
   "metadata": {
    "hidden": true
   },
   "source": [
    "Produce a dataframe comparing the predictions"
   ]
  },
  {
   "cell_type": "code",
   "execution_count": 29,
   "metadata": {
    "hidden": true
   },
   "outputs": [],
   "source": [
    "B_labels = np.unique(y_syn_B)\n",
    "nclasses_B = len(B_labels)\n",
    "\n",
    "Rev_labels = np.unique(y_syn_all)\n",
    "nclasses_Rev = len(Rev_labels)"
   ]
  },
  {
   "cell_type": "code",
   "execution_count": 30,
   "metadata": {
    "hidden": true
   },
   "outputs": [],
   "source": [
    "nb_uniprior_res_df = pd.DataFrame(np.zeros((nclasses_B, nclasses_Rev)), index = B_labels, columns = Rev_labels)"
   ]
  },
  {
   "cell_type": "code",
   "execution_count": 31,
   "metadata": {
    "hidden": true
   },
   "outputs": [],
   "source": [
    "ypreds_B = np.array(nb_uniprior_res['ypreds_B'])\n",
    "ypreds_Rev = np.array(nb_uniprior_res['ypreds_Rev'])\n",
    "\n",
    "for i in range(0, len(ypreds_Rev)):\n",
    "    r = ypreds_B[i]\n",
    "    c = ypreds_Rev[i]\n",
    "    nb_uniprior_res_df.loc[r,c] += 1"
   ]
  },
  {
   "cell_type": "markdown",
   "metadata": {
    "hidden": true
   },
   "source": [
    "Print the dataframe (normalized)"
   ]
  },
  {
   "cell_type": "code",
   "execution_count": 43,
   "metadata": {
    "hidden": true
   },
   "outputs": [
    {
     "data": {
      "text/html": [
       "<div>\n",
       "<style scoped>\n",
       "    .dataframe tbody tr th:only-of-type {\n",
       "        vertical-align: middle;\n",
       "    }\n",
       "\n",
       "    .dataframe tbody tr th {\n",
       "        vertical-align: top;\n",
       "    }\n",
       "\n",
       "    .dataframe thead th {\n",
       "        text-align: right;\n",
       "    }\n",
       "</style>\n",
       "<table border=\"1\" class=\"dataframe\">\n",
       "  <thead>\n",
       "    <tr style=\"text-align: right;\">\n",
       "      <th></th>\n",
       "      <th>22q11DS</th>\n",
       "      <th>Down</th>\n",
       "      <th>FXS-F</th>\n",
       "      <th>FXS-M</th>\n",
       "      <th>NF1</th>\n",
       "      <th>PW-UPD</th>\n",
       "      <th>PW-del</th>\n",
       "      <th>SMC15</th>\n",
       "      <th>TSC</th>\n",
       "      <th>XXY</th>\n",
       "    </tr>\n",
       "  </thead>\n",
       "  <tbody>\n",
       "    <tr>\n",
       "      <th>22q11DS</th>\n",
       "      <td>0.047809</td>\n",
       "      <td>0.007968</td>\n",
       "      <td>0.011952</td>\n",
       "      <td>0.011952</td>\n",
       "      <td>0.007968</td>\n",
       "      <td>0.0</td>\n",
       "      <td>0.003984</td>\n",
       "      <td>0.000000</td>\n",
       "      <td>0.000000</td>\n",
       "      <td>0.000000</td>\n",
       "    </tr>\n",
       "    <tr>\n",
       "      <th>Down</th>\n",
       "      <td>0.000000</td>\n",
       "      <td>0.027888</td>\n",
       "      <td>0.007968</td>\n",
       "      <td>0.000000</td>\n",
       "      <td>0.000000</td>\n",
       "      <td>0.0</td>\n",
       "      <td>0.000000</td>\n",
       "      <td>0.000000</td>\n",
       "      <td>0.000000</td>\n",
       "      <td>0.000000</td>\n",
       "    </tr>\n",
       "    <tr>\n",
       "      <th>PW</th>\n",
       "      <td>0.000000</td>\n",
       "      <td>0.099602</td>\n",
       "      <td>0.000000</td>\n",
       "      <td>0.000000</td>\n",
       "      <td>0.000000</td>\n",
       "      <td>0.0</td>\n",
       "      <td>0.171315</td>\n",
       "      <td>0.000000</td>\n",
       "      <td>0.000000</td>\n",
       "      <td>0.000000</td>\n",
       "    </tr>\n",
       "    <tr>\n",
       "      <th>SMC15</th>\n",
       "      <td>0.000000</td>\n",
       "      <td>0.000000</td>\n",
       "      <td>0.000000</td>\n",
       "      <td>0.151394</td>\n",
       "      <td>0.043825</td>\n",
       "      <td>0.0</td>\n",
       "      <td>0.000000</td>\n",
       "      <td>0.095618</td>\n",
       "      <td>0.000000</td>\n",
       "      <td>0.000000</td>\n",
       "    </tr>\n",
       "    <tr>\n",
       "      <th>TSC</th>\n",
       "      <td>0.003984</td>\n",
       "      <td>0.003984</td>\n",
       "      <td>0.007968</td>\n",
       "      <td>0.071713</td>\n",
       "      <td>0.063745</td>\n",
       "      <td>0.0</td>\n",
       "      <td>0.000000</td>\n",
       "      <td>0.000000</td>\n",
       "      <td>0.031873</td>\n",
       "      <td>0.000000</td>\n",
       "    </tr>\n",
       "    <tr>\n",
       "      <th>XXY</th>\n",
       "      <td>0.000000</td>\n",
       "      <td>0.011952</td>\n",
       "      <td>0.035857</td>\n",
       "      <td>0.011952</td>\n",
       "      <td>0.007968</td>\n",
       "      <td>0.0</td>\n",
       "      <td>0.007968</td>\n",
       "      <td>0.000000</td>\n",
       "      <td>0.011952</td>\n",
       "      <td>0.039841</td>\n",
       "    </tr>\n",
       "  </tbody>\n",
       "</table>\n",
       "</div>"
      ],
      "text/plain": [
       "          22q11DS      Down     FXS-F     FXS-M       NF1  PW-UPD    PW-del  \\\n",
       "22q11DS  0.047809  0.007968  0.011952  0.011952  0.007968     0.0  0.003984   \n",
       "Down     0.000000  0.027888  0.007968  0.000000  0.000000     0.0  0.000000   \n",
       "PW       0.000000  0.099602  0.000000  0.000000  0.000000     0.0  0.171315   \n",
       "SMC15    0.000000  0.000000  0.000000  0.151394  0.043825     0.0  0.000000   \n",
       "TSC      0.003984  0.003984  0.007968  0.071713  0.063745     0.0  0.000000   \n",
       "XXY      0.000000  0.011952  0.035857  0.011952  0.007968     0.0  0.007968   \n",
       "\n",
       "            SMC15       TSC       XXY  \n",
       "22q11DS  0.000000  0.000000  0.000000  \n",
       "Down     0.000000  0.000000  0.000000  \n",
       "PW       0.000000  0.000000  0.000000  \n",
       "SMC15    0.095618  0.000000  0.000000  \n",
       "TSC      0.000000  0.031873  0.000000  \n",
       "XXY      0.000000  0.011952  0.039841  "
      ]
     },
     "execution_count": 43,
     "metadata": {},
     "output_type": "execute_result"
    }
   ],
   "source": [
    "nb_uniprior_res_df/251"
   ]
  },
  {
   "cell_type": "markdown",
   "metadata": {
    "hidden": true
   },
   "source": [
    "Plot a figure with the results"
   ]
  },
  {
   "cell_type": "code",
   "execution_count": 32,
   "metadata": {
    "hidden": true
   },
   "outputs": [
    {
     "data": {
      "image/png": "[encoded data removed]",
      "text/plain": [
       "<Figure size 576x1152 with 1 Axes>"
      ]
     },
     "metadata": {
      "needs_background": "light"
     },
     "output_type": "display_data"
    }
   ],
   "source": [
    "fig, ax = plt.subplots(figsize=(8,16))\n",
    "sns.heatmap(nb_uniprior_res_df, cmap='Blues', annot = nb_uniprior_res_df/2.51, \n",
    "            square=True, cbar=False, ax=ax);\n",
    "\n",
    "B_labels = np.unique(y_syn_B);\n",
    "B_labels[1] = 'DS';\n",
    "\n",
    "Rev_labels = np.unique(y_syn_all);\n",
    "Rev_labels[1] = 'DS';\n",
    "\n",
    "ax.set_xticklabels(Rev_labels);\n",
    "ax.set_yticklabels(B_labels);"
   ]
  },
  {
   "cell_type": "markdown",
   "metadata": {
    "heading_collapsed": true
   },
   "source": [
    "## Model 5 : Standard Random Forest"
   ]
  },
  {
   "cell_type": "markdown",
   "metadata": {
    "hidden": true
   },
   "source": [
    "Define the number of folds for cross-validation"
   ]
  },
  {
   "cell_type": "code",
   "execution_count": 39,
   "metadata": {
    "hidden": true
   },
   "outputs": [],
   "source": [
    "n_folds = 10"
   ]
  },
  {
   "cell_type": "markdown",
   "metadata": {
    "hidden": true
   },
   "source": [
    "Define the model"
   ]
  },
  {
   "cell_type": "code",
   "execution_count": 40,
   "metadata": {
    "hidden": true
   },
   "outputs": [],
   "source": [
    "rfc_naive = RandomForestClassifier()"
   ]
  },
  {
   "cell_type": "markdown",
   "metadata": {
    "hidden": true
   },
   "source": [
    "Define the parameters for the grid seach"
   ]
  },
  {
   "cell_type": "code",
   "execution_count": 41,
   "metadata": {
    "hidden": true
   },
   "outputs": [],
   "source": [
    "n_features = X_syn_B.shape[1]\n",
    "default_mtry = np.sqrt(n_features)\n",
    "rfc_parameters = {'max_features': [int(0.5*default_mtry), int(default_mtry), int(1.5*default_mtry), int(2*default_mtry), int(3*default_mtry)],\n",
    "             'n_estimators': [2000], 'min_samples_leaf': [1,2, 3, 4, 5]}"
   ]
  },
  {
   "cell_type": "markdown",
   "metadata": {
    "hidden": true
   },
   "source": [
    "Run the training and prediction"
   ]
  },
  {
   "cell_type": "code",
   "execution_count": 42,
   "metadata": {
    "hidden": true
   },
   "outputs": [
    {
     "name": "stdout",
     "output_type": "stream",
     "text": [
      "Fitting 10 folds for each of 25 candidates, totalling 250 fits\n"
     ]
    },
    {
     "name": "stderr",
     "output_type": "stream",
     "text": [
      "[Parallel(n_jobs=-1)]: Using backend LokyBackend with 8 concurrent workers.\n",
      "/Users/joefarrington/anaconda3/lib/python3.6/site-packages/joblib/externals/loky/process_executor.py:706: UserWarning: A worker stopped while some jobs were given to the executor. This can be caused by a too short worker timeout or by a memory leak.\n",
      "  \"timeout or by a memory leak.\", UserWarning\n",
      "[Parallel(n_jobs=-1)]: Done  34 tasks      | elapsed:   22.3s\n",
      "[Parallel(n_jobs=-1)]: Done 184 tasks      | elapsed:  1.8min\n",
      "[Parallel(n_jobs=-1)]: Done 250 out of 250 | elapsed:  2.4min finished\n"
     ]
    },
    {
     "name": "stdout",
     "output_type": "stream",
     "text": [
      "Fitting 10 folds for each of 25 candidates, totalling 250 fits\n"
     ]
    },
    {
     "name": "stderr",
     "output_type": "stream",
     "text": [
      "[Parallel(n_jobs=-1)]: Using backend LokyBackend with 8 concurrent workers.\n",
      "[Parallel(n_jobs=-1)]: Done  34 tasks      | elapsed:   25.3s\n",
      "[Parallel(n_jobs=-1)]: Done 184 tasks      | elapsed:  2.2min\n",
      "/Users/joefarrington/anaconda3/lib/python3.6/site-packages/joblib/externals/loky/process_executor.py:706: UserWarning: A worker stopped while some jobs were given to the executor. This can be caused by a too short worker timeout or by a memory leak.\n",
      "  \"timeout or by a memory leak.\", UserWarning\n",
      "[Parallel(n_jobs=-1)]: Done 250 out of 250 | elapsed:  3.1min finished\n"
     ]
    },
    {
     "name": "stdout",
     "output_type": "stream",
     "text": [
      "         22q11DS  Down  FXS-F  FXS-M  NF1  PW-UPD  PW-del  SMC15   TSC  XXY\n",
      "22q11DS     30.0   2.0    6.0   18.0  0.0     0.0     0.0    1.0  51.0  4.0\n",
      "Down         0.0   0.0    0.0    0.0  0.0     0.0     0.0    0.0   1.0  0.0\n",
      "PW           4.0   8.0    4.0    1.0  0.0     4.0     4.0    0.0  14.0  1.0\n",
      "SMC15        0.0   0.0    0.0    0.0  0.0     0.0     0.0    0.0   1.0  0.0\n",
      "TSC          1.0   0.0    0.0   16.0  5.0     0.0     0.0    2.0  56.0  1.0\n",
      "XXY          0.0   0.0    0.0    2.0  1.0     0.0     0.0    0.0  10.0  3.0\n"
     ]
    }
   ],
   "source": [
    "rfc_naive_resdict = train_syn_pred_idio(X_B = X_syn_B, y_B = y_syn_B, X_Rev = X_syn_all, y_Rev = y_syn_all, \n",
    "                                           X_idio = X_idio_all, n_folds = n_folds, param_grid = rfc_parameters,\n",
    "                                           model = rfc_naive, scorer = mcc_scorer, verbose =1)"
   ]
  },
  {
   "cell_type": "markdown",
   "metadata": {
    "hidden": true
   },
   "source": [
    "Save the results"
   ]
  },
  {
   "cell_type": "code",
   "execution_count": 44,
   "metadata": {
    "hidden": true
   },
   "outputs": [],
   "source": [
    "pickle.dump(rfc_weighted_resdict, open(results_path+f\"rfc_naive_resdict.p\", \"wb\" ))"
   ]
  },
  {
   "cell_type": "markdown",
   "metadata": {
    "hidden": true
   },
   "source": [
    "Load the results"
   ]
  },
  {
   "cell_type": "code",
   "execution_count": 51,
   "metadata": {
    "hidden": true
   },
   "outputs": [],
   "source": [
    "rfc_naive_resdict = pickle.load(open(results_path+f\"rfc_naive_resdict.p\", \"rb\" ))"
   ]
  },
  {
   "cell_type": "markdown",
   "metadata": {
    "hidden": true
   },
   "source": [
    "Print the dataframe (normalized)"
   ]
  },
  {
   "cell_type": "code",
   "execution_count": 53,
   "metadata": {
    "hidden": true
   },
   "outputs": [
    {
     "data": {
      "text/html": [
       "<div>\n",
       "<style scoped>\n",
       "    .dataframe tbody tr th:only-of-type {\n",
       "        vertical-align: middle;\n",
       "    }\n",
       "\n",
       "    .dataframe tbody tr th {\n",
       "        vertical-align: top;\n",
       "    }\n",
       "\n",
       "    .dataframe thead th {\n",
       "        text-align: right;\n",
       "    }\n",
       "</style>\n",
       "<table border=\"1\" class=\"dataframe\">\n",
       "  <thead>\n",
       "    <tr style=\"text-align: right;\">\n",
       "      <th></th>\n",
       "      <th>22q11DS</th>\n",
       "      <th>Down</th>\n",
       "      <th>FXS-F</th>\n",
       "      <th>FXS-M</th>\n",
       "      <th>NF1</th>\n",
       "      <th>PW-UPD</th>\n",
       "      <th>PW-del</th>\n",
       "      <th>SMC15</th>\n",
       "      <th>TSC</th>\n",
       "      <th>XXY</th>\n",
       "    </tr>\n",
       "  </thead>\n",
       "  <tbody>\n",
       "    <tr>\n",
       "      <th>22q11DS</th>\n",
       "      <td>0.119522</td>\n",
       "      <td>0.007968</td>\n",
       "      <td>0.023904</td>\n",
       "      <td>0.071713</td>\n",
       "      <td>0.000000</td>\n",
       "      <td>0.000000</td>\n",
       "      <td>0.000000</td>\n",
       "      <td>0.003984</td>\n",
       "      <td>0.203187</td>\n",
       "      <td>0.015936</td>\n",
       "    </tr>\n",
       "    <tr>\n",
       "      <th>Down</th>\n",
       "      <td>0.000000</td>\n",
       "      <td>0.000000</td>\n",
       "      <td>0.000000</td>\n",
       "      <td>0.000000</td>\n",
       "      <td>0.000000</td>\n",
       "      <td>0.000000</td>\n",
       "      <td>0.000000</td>\n",
       "      <td>0.000000</td>\n",
       "      <td>0.003984</td>\n",
       "      <td>0.000000</td>\n",
       "    </tr>\n",
       "    <tr>\n",
       "      <th>PW</th>\n",
       "      <td>0.015936</td>\n",
       "      <td>0.031873</td>\n",
       "      <td>0.015936</td>\n",
       "      <td>0.003984</td>\n",
       "      <td>0.000000</td>\n",
       "      <td>0.015936</td>\n",
       "      <td>0.015936</td>\n",
       "      <td>0.000000</td>\n",
       "      <td>0.055777</td>\n",
       "      <td>0.003984</td>\n",
       "    </tr>\n",
       "    <tr>\n",
       "      <th>SMC15</th>\n",
       "      <td>0.000000</td>\n",
       "      <td>0.000000</td>\n",
       "      <td>0.000000</td>\n",
       "      <td>0.000000</td>\n",
       "      <td>0.000000</td>\n",
       "      <td>0.000000</td>\n",
       "      <td>0.000000</td>\n",
       "      <td>0.000000</td>\n",
       "      <td>0.003984</td>\n",
       "      <td>0.000000</td>\n",
       "    </tr>\n",
       "    <tr>\n",
       "      <th>TSC</th>\n",
       "      <td>0.003984</td>\n",
       "      <td>0.000000</td>\n",
       "      <td>0.000000</td>\n",
       "      <td>0.063745</td>\n",
       "      <td>0.019920</td>\n",
       "      <td>0.000000</td>\n",
       "      <td>0.000000</td>\n",
       "      <td>0.007968</td>\n",
       "      <td>0.223108</td>\n",
       "      <td>0.003984</td>\n",
       "    </tr>\n",
       "    <tr>\n",
       "      <th>XXY</th>\n",
       "      <td>0.000000</td>\n",
       "      <td>0.000000</td>\n",
       "      <td>0.000000</td>\n",
       "      <td>0.007968</td>\n",
       "      <td>0.003984</td>\n",
       "      <td>0.000000</td>\n",
       "      <td>0.000000</td>\n",
       "      <td>0.000000</td>\n",
       "      <td>0.039841</td>\n",
       "      <td>0.011952</td>\n",
       "    </tr>\n",
       "  </tbody>\n",
       "</table>\n",
       "</div>"
      ],
      "text/plain": [
       "          22q11DS      Down     FXS-F     FXS-M       NF1    PW-UPD    PW-del  \\\n",
       "22q11DS  0.119522  0.007968  0.023904  0.071713  0.000000  0.000000  0.000000   \n",
       "Down     0.000000  0.000000  0.000000  0.000000  0.000000  0.000000  0.000000   \n",
       "PW       0.015936  0.031873  0.015936  0.003984  0.000000  0.015936  0.015936   \n",
       "SMC15    0.000000  0.000000  0.000000  0.000000  0.000000  0.000000  0.000000   \n",
       "TSC      0.003984  0.000000  0.000000  0.063745  0.019920  0.000000  0.000000   \n",
       "XXY      0.000000  0.000000  0.000000  0.007968  0.003984  0.000000  0.000000   \n",
       "\n",
       "            SMC15       TSC       XXY  \n",
       "22q11DS  0.003984  0.203187  0.015936  \n",
       "Down     0.000000  0.003984  0.000000  \n",
       "PW       0.000000  0.055777  0.003984  \n",
       "SMC15    0.000000  0.003984  0.000000  \n",
       "TSC      0.007968  0.223108  0.003984  \n",
       "XXY      0.000000  0.039841  0.011952  "
      ]
     },
     "execution_count": 53,
     "metadata": {},
     "output_type": "execute_result"
    }
   ],
   "source": [
    "rfc_naive_resdict['res_df']/251"
   ]
  },
  {
   "cell_type": "markdown",
   "metadata": {
    "hidden": true
   },
   "source": [
    "Print the proportions assigned to each class"
   ]
  },
  {
   "cell_type": "code",
   "execution_count": 46,
   "metadata": {
    "hidden": true
   },
   "outputs": [
    {
     "data": {
      "text/plain": [
       "22q11DS    0.446215\n",
       "TSC        0.322709\n",
       "PW         0.159363\n",
       "XXY        0.063745\n",
       "SMC15      0.003984\n",
       "Down       0.003984\n",
       "dtype: float64"
      ]
     },
     "execution_count": 46,
     "metadata": {},
     "output_type": "execute_result"
    }
   ],
   "source": [
    "pd.Series(rfc_naive_resdict['ypreds_B']).value_counts()/251"
   ]
  },
  {
   "cell_type": "code",
   "execution_count": 47,
   "metadata": {
    "hidden": true
   },
   "outputs": [
    {
     "data": {
      "text/plain": [
       "TSC        0.529880\n",
       "FXS-M      0.147410\n",
       "22q11DS    0.139442\n",
       "FXS-F      0.039841\n",
       "Down       0.039841\n",
       "XXY        0.035857\n",
       "NF1        0.023904\n",
       "PW-del     0.015936\n",
       "PW-UPD     0.015936\n",
       "SMC15      0.011952\n",
       "dtype: float64"
      ]
     },
     "execution_count": 47,
     "metadata": {},
     "output_type": "execute_result"
    }
   ],
   "source": [
    "pd.Series(rfc_naive_resdict['ypreds_Rev']).value_counts()/251"
   ]
  },
  {
   "cell_type": "markdown",
   "metadata": {
    "hidden": true
   },
   "source": [
    "Plot a figure for the results"
   ]
  },
  {
   "cell_type": "code",
   "execution_count": 49,
   "metadata": {
    "hidden": true
   },
   "outputs": [
    {
     "data": {
      "image/png": "[encoded data removed]",
      "text/plain": [
       "<Figure size 576x1152 with 1 Axes>"
      ]
     },
     "metadata": {
      "needs_background": "light"
     },
     "output_type": "display_data"
    }
   ],
   "source": [
    "fig, ax = plt.subplots(figsize=(8,16))\n",
    "sns.heatmap((rfc_naive_resdict['res_df']), cmap='Blues', annot = (rfc_naive_resdict['res_df'])/2.51, \n",
    "            square=True, cbar=False, ax=ax);\n",
    "\n",
    "B_labels = np.unique(y_syn_B);\n",
    "B_labels[1] = 'DS';\n",
    "\n",
    "Rev_labels = np.unique(y_syn_all);\n",
    "Rev_labels[1] = 'DS';\n",
    "\n",
    "ax.set_xticklabels(Rev_labels);\n",
    "ax.set_yticklabels(B_labels);"
   ]
  },
  {
   "cell_type": "markdown",
   "metadata": {
    "heading_collapsed": true
   },
   "source": [
    "## Model 6 : Balanced Random Forest"
   ]
  },
  {
   "cell_type": "markdown",
   "metadata": {
    "hidden": true
   },
   "source": [
    "Define the number of folds for cross-validation"
   ]
  },
  {
   "cell_type": "code",
   "execution_count": 50,
   "metadata": {
    "hidden": true
   },
   "outputs": [],
   "source": [
    "n_folds = 10"
   ]
  },
  {
   "cell_type": "markdown",
   "metadata": {
    "hidden": true
   },
   "source": [
    "Define the model"
   ]
  },
  {
   "cell_type": "code",
   "execution_count": 51,
   "metadata": {
    "hidden": true
   },
   "outputs": [],
   "source": [
    "rfc_bal = BalancedRandomForestClassifier()"
   ]
  },
  {
   "cell_type": "markdown",
   "metadata": {
    "hidden": true
   },
   "source": [
    "Define the parameters for the grid seach"
   ]
  },
  {
   "cell_type": "code",
   "execution_count": 52,
   "metadata": {
    "hidden": true
   },
   "outputs": [],
   "source": [
    "n_features = X_syn_B.shape[1]\n",
    "default_mtry = np.sqrt(n_features)\n",
    "rfc_parameters = {'max_features': [int(0.5*default_mtry), int(default_mtry), int(1.5*default_mtry), int(2*default_mtry), int(3*default_mtry)],\n",
    "             'n_estimators': [2000], 'min_samples_leaf': [1,2, 3, 4, 5]}"
   ]
  },
  {
   "cell_type": "markdown",
   "metadata": {
    "hidden": true
   },
   "source": [
    "Run the training and prediction"
   ]
  },
  {
   "cell_type": "code",
   "execution_count": 53,
   "metadata": {
    "hidden": true
   },
   "outputs": [
    {
     "name": "stdout",
     "output_type": "stream",
     "text": [
      "Fitting 10 folds for each of 25 candidates, totalling 250 fits\n"
     ]
    },
    {
     "name": "stderr",
     "output_type": "stream",
     "text": [
      "[Parallel(n_jobs=-1)]: Using backend LokyBackend with 8 concurrent workers.\n",
      "[Parallel(n_jobs=-1)]: Done  34 tasks      | elapsed:   45.5s\n",
      "/Users/joefarrington/anaconda3/lib/python3.6/site-packages/joblib/externals/loky/process_executor.py:706: UserWarning: A worker stopped while some jobs were given to the executor. This can be caused by a too short worker timeout or by a memory leak.\n",
      "  \"timeout or by a memory leak.\", UserWarning\n",
      "[Parallel(n_jobs=-1)]: Done 184 tasks      | elapsed:  4.0min\n",
      "[Parallel(n_jobs=-1)]: Done 250 out of 250 | elapsed:  5.4min finished\n"
     ]
    },
    {
     "name": "stdout",
     "output_type": "stream",
     "text": [
      "Fitting 10 folds for each of 25 candidates, totalling 250 fits\n"
     ]
    },
    {
     "name": "stderr",
     "output_type": "stream",
     "text": [
      "[Parallel(n_jobs=-1)]: Using backend LokyBackend with 8 concurrent workers.\n",
      "/Users/joefarrington/anaconda3/lib/python3.6/site-packages/joblib/externals/loky/process_executor.py:706: UserWarning: A worker stopped while some jobs were given to the executor. This can be caused by a too short worker timeout or by a memory leak.\n",
      "  \"timeout or by a memory leak.\", UserWarning\n",
      "[Parallel(n_jobs=-1)]: Done  34 tasks      | elapsed:  1.3min\n",
      "[Parallel(n_jobs=-1)]: Done 184 tasks      | elapsed:  5.5min\n",
      "[Parallel(n_jobs=-1)]: Done 250 out of 250 | elapsed:  7.4min finished\n"
     ]
    },
    {
     "name": "stdout",
     "output_type": "stream",
     "text": [
      "         22q11DS  Down  FXS-F  FXS-M   NF1  PW-UPD  PW-del  SMC15   TSC  XXY\n",
      "22q11DS     12.0   1.0   14.0    4.0   9.0     0.0     0.0    0.0   2.0  1.0\n",
      "Down         1.0  14.0    3.0    0.0   2.0     1.0     0.0    0.0   0.0  3.0\n",
      "PW           1.0  12.0   18.0    0.0   0.0     3.0     4.0    0.0   0.0  0.0\n",
      "SMC15        0.0   0.0    2.0   14.0  15.0     0.0     0.0    9.0   5.0  0.0\n",
      "TSC          2.0   2.0    6.0   26.0  25.0     0.0     2.0    1.0  11.0  2.0\n",
      "XXY          0.0   0.0    6.0    4.0   3.0     0.0     0.0    0.0   2.0  9.0\n"
     ]
    }
   ],
   "source": [
    "rfc_bal_resdict = train_syn_pred_idio(X_B = X_syn_B, y_B = y_syn_B, X_Rev = X_syn_all, y_Rev = y_syn_all, \n",
    "                                           X_idio = X_idio_all, n_folds = n_folds, param_grid = rfc_parameters,\n",
    "                                           model = rfc_bal, scorer = mcc_scorer, verbose =1)"
   ]
  },
  {
   "cell_type": "markdown",
   "metadata": {
    "hidden": true
   },
   "source": [
    "Save the results"
   ]
  },
  {
   "cell_type": "code",
   "execution_count": 54,
   "metadata": {
    "hidden": true
   },
   "outputs": [],
   "source": [
    "pickle.dump(rfc_bal_resdict, open(results_path+f\"rfc_bal_resdict.p\", \"wb\" ))"
   ]
  },
  {
   "cell_type": "markdown",
   "metadata": {
    "hidden": true
   },
   "source": [
    "Load the results"
   ]
  },
  {
   "cell_type": "code",
   "execution_count": 54,
   "metadata": {
    "hidden": true
   },
   "outputs": [],
   "source": [
    "rfc_bal_resdict = pickle.load(open(results_path+f\"rfc_bal_resdict.p\", \"rb\" ))"
   ]
  },
  {
   "cell_type": "markdown",
   "metadata": {
    "hidden": true
   },
   "source": [
    "Print the dataframe (normalized)"
   ]
  },
  {
   "cell_type": "code",
   "execution_count": 55,
   "metadata": {
    "hidden": true
   },
   "outputs": [
    {
     "data": {
      "text/html": [
       "<div>\n",
       "<style scoped>\n",
       "    .dataframe tbody tr th:only-of-type {\n",
       "        vertical-align: middle;\n",
       "    }\n",
       "\n",
       "    .dataframe tbody tr th {\n",
       "        vertical-align: top;\n",
       "    }\n",
       "\n",
       "    .dataframe thead th {\n",
       "        text-align: right;\n",
       "    }\n",
       "</style>\n",
       "<table border=\"1\" class=\"dataframe\">\n",
       "  <thead>\n",
       "    <tr style=\"text-align: right;\">\n",
       "      <th></th>\n",
       "      <th>22q11DS</th>\n",
       "      <th>Down</th>\n",
       "      <th>FXS-F</th>\n",
       "      <th>FXS-M</th>\n",
       "      <th>NF1</th>\n",
       "      <th>PW-UPD</th>\n",
       "      <th>PW-del</th>\n",
       "      <th>SMC15</th>\n",
       "      <th>TSC</th>\n",
       "      <th>XXY</th>\n",
       "    </tr>\n",
       "  </thead>\n",
       "  <tbody>\n",
       "    <tr>\n",
       "      <th>22q11DS</th>\n",
       "      <td>0.047809</td>\n",
       "      <td>0.003984</td>\n",
       "      <td>0.055777</td>\n",
       "      <td>0.015936</td>\n",
       "      <td>0.035857</td>\n",
       "      <td>0.000000</td>\n",
       "      <td>0.000000</td>\n",
       "      <td>0.000000</td>\n",
       "      <td>0.007968</td>\n",
       "      <td>0.003984</td>\n",
       "    </tr>\n",
       "    <tr>\n",
       "      <th>Down</th>\n",
       "      <td>0.003984</td>\n",
       "      <td>0.055777</td>\n",
       "      <td>0.011952</td>\n",
       "      <td>0.000000</td>\n",
       "      <td>0.007968</td>\n",
       "      <td>0.003984</td>\n",
       "      <td>0.000000</td>\n",
       "      <td>0.000000</td>\n",
       "      <td>0.000000</td>\n",
       "      <td>0.011952</td>\n",
       "    </tr>\n",
       "    <tr>\n",
       "      <th>PW</th>\n",
       "      <td>0.003984</td>\n",
       "      <td>0.047809</td>\n",
       "      <td>0.071713</td>\n",
       "      <td>0.000000</td>\n",
       "      <td>0.000000</td>\n",
       "      <td>0.011952</td>\n",
       "      <td>0.015936</td>\n",
       "      <td>0.000000</td>\n",
       "      <td>0.000000</td>\n",
       "      <td>0.000000</td>\n",
       "    </tr>\n",
       "    <tr>\n",
       "      <th>SMC15</th>\n",
       "      <td>0.000000</td>\n",
       "      <td>0.000000</td>\n",
       "      <td>0.007968</td>\n",
       "      <td>0.055777</td>\n",
       "      <td>0.059761</td>\n",
       "      <td>0.000000</td>\n",
       "      <td>0.000000</td>\n",
       "      <td>0.035857</td>\n",
       "      <td>0.019920</td>\n",
       "      <td>0.000000</td>\n",
       "    </tr>\n",
       "    <tr>\n",
       "      <th>TSC</th>\n",
       "      <td>0.007968</td>\n",
       "      <td>0.007968</td>\n",
       "      <td>0.023904</td>\n",
       "      <td>0.103586</td>\n",
       "      <td>0.099602</td>\n",
       "      <td>0.000000</td>\n",
       "      <td>0.007968</td>\n",
       "      <td>0.003984</td>\n",
       "      <td>0.043825</td>\n",
       "      <td>0.007968</td>\n",
       "    </tr>\n",
       "    <tr>\n",
       "      <th>XXY</th>\n",
       "      <td>0.000000</td>\n",
       "      <td>0.000000</td>\n",
       "      <td>0.023904</td>\n",
       "      <td>0.015936</td>\n",
       "      <td>0.011952</td>\n",
       "      <td>0.000000</td>\n",
       "      <td>0.000000</td>\n",
       "      <td>0.000000</td>\n",
       "      <td>0.007968</td>\n",
       "      <td>0.035857</td>\n",
       "    </tr>\n",
       "  </tbody>\n",
       "</table>\n",
       "</div>"
      ],
      "text/plain": [
       "          22q11DS      Down     FXS-F     FXS-M       NF1    PW-UPD    PW-del  \\\n",
       "22q11DS  0.047809  0.003984  0.055777  0.015936  0.035857  0.000000  0.000000   \n",
       "Down     0.003984  0.055777  0.011952  0.000000  0.007968  0.003984  0.000000   \n",
       "PW       0.003984  0.047809  0.071713  0.000000  0.000000  0.011952  0.015936   \n",
       "SMC15    0.000000  0.000000  0.007968  0.055777  0.059761  0.000000  0.000000   \n",
       "TSC      0.007968  0.007968  0.023904  0.103586  0.099602  0.000000  0.007968   \n",
       "XXY      0.000000  0.000000  0.023904  0.015936  0.011952  0.000000  0.000000   \n",
       "\n",
       "            SMC15       TSC       XXY  \n",
       "22q11DS  0.000000  0.007968  0.003984  \n",
       "Down     0.000000  0.000000  0.011952  \n",
       "PW       0.000000  0.000000  0.000000  \n",
       "SMC15    0.035857  0.019920  0.000000  \n",
       "TSC      0.003984  0.043825  0.007968  \n",
       "XXY      0.000000  0.007968  0.035857  "
      ]
     },
     "execution_count": 55,
     "metadata": {},
     "output_type": "execute_result"
    }
   ],
   "source": [
    "rfc_bal_resdict['res_df']/251"
   ]
  },
  {
   "cell_type": "markdown",
   "metadata": {
    "hidden": true
   },
   "source": [
    "Print the proportions assigned to each class"
   ]
  },
  {
   "cell_type": "code",
   "execution_count": 56,
   "metadata": {
    "hidden": true
   },
   "outputs": [
    {
     "data": {
      "text/plain": [
       "TSC        0.306773\n",
       "SMC15      0.179283\n",
       "22q11DS    0.171315\n",
       "PW         0.151394\n",
       "XXY        0.095618\n",
       "Down       0.095618\n",
       "dtype: float64"
      ]
     },
     "execution_count": 56,
     "metadata": {},
     "output_type": "execute_result"
    }
   ],
   "source": [
    "pd.Series(rfc_bal_resdict['ypreds_B']).value_counts()/251"
   ]
  },
  {
   "cell_type": "code",
   "execution_count": 57,
   "metadata": {
    "hidden": true
   },
   "outputs": [
    {
     "data": {
      "text/plain": [
       "NF1        0.215139\n",
       "FXS-F      0.195219\n",
       "FXS-M      0.191235\n",
       "Down       0.115538\n",
       "TSC        0.079681\n",
       "22q11DS    0.063745\n",
       "XXY        0.059761\n",
       "SMC15      0.039841\n",
       "PW-del     0.023904\n",
       "PW-UPD     0.015936\n",
       "dtype: float64"
      ]
     },
     "execution_count": 57,
     "metadata": {},
     "output_type": "execute_result"
    }
   ],
   "source": [
    "pd.Series(rfc_bal_resdict['ypreds_Rev']).value_counts()/251"
   ]
  },
  {
   "cell_type": "markdown",
   "metadata": {
    "hidden": true
   },
   "source": [
    "Plot a figure for the results"
   ]
  },
  {
   "cell_type": "code",
   "execution_count": 59,
   "metadata": {
    "hidden": true
   },
   "outputs": [
    {
     "data": {
      "image/png": "[encoded data removed]",
      "text/plain": [
       "<Figure size 576x1152 with 1 Axes>"
      ]
     },
     "metadata": {
      "needs_background": "light"
     },
     "output_type": "display_data"
    }
   ],
   "source": [
    "fig, ax = plt.subplots(figsize=(8,16))\n",
    "sns.heatmap((rfc_bal_resdict['res_df']), cmap='Blues', annot = (rfc_bal_resdict['res_df'])/2.51, \n",
    "            square=True, cbar=False, ax=ax);\n",
    "\n",
    "B_labels = np.unique(y_syn_B);\n",
    "B_labels[1] = 'DS';\n",
    "\n",
    "Rev_labels = np.unique(y_syn_all);\n",
    "Rev_labels[1] = 'DS';\n",
    "\n",
    "ax.set_xticklabels(Rev_labels);\n",
    "ax.set_yticklabels(B_labels);"
   ]
  },
  {
   "cell_type": "markdown",
   "metadata": {
    "heading_collapsed": true
   },
   "source": [
    "## Model 7: Weighted Random Forest"
   ]
  },
  {
   "cell_type": "markdown",
   "metadata": {
    "hidden": true
   },
   "source": [
    "Define the number of folds for cross-validation"
   ]
  },
  {
   "cell_type": "code",
   "execution_count": 60,
   "metadata": {
    "hidden": true
   },
   "outputs": [],
   "source": [
    "n_folds = 10"
   ]
  },
  {
   "cell_type": "markdown",
   "metadata": {
    "hidden": true
   },
   "source": [
    "Define the model"
   ]
  },
  {
   "cell_type": "code",
   "execution_count": 61,
   "metadata": {
    "hidden": true
   },
   "outputs": [],
   "source": [
    "rfc_weighted = RandomForestClassifier(class_weight = 'balanced_subsample')"
   ]
  },
  {
   "cell_type": "markdown",
   "metadata": {
    "hidden": true
   },
   "source": [
    "Define the parameters for the grid seach"
   ]
  },
  {
   "cell_type": "code",
   "execution_count": 62,
   "metadata": {
    "hidden": true
   },
   "outputs": [],
   "source": [
    "n_features = X_syn_B.shape[1]\n",
    "default_mtry = np.sqrt(n_features)\n",
    "rfc_parameters = {'max_features': [int(0.5*default_mtry), int(default_mtry), int(1.5*default_mtry), int(2*default_mtry), int(3*default_mtry)],\n",
    "             'n_estimators': [2000], 'min_samples_leaf': [1,2, 3, 4, 5]}"
   ]
  },
  {
   "cell_type": "markdown",
   "metadata": {
    "hidden": true
   },
   "source": [
    "Run the training and prediction"
   ]
  },
  {
   "cell_type": "code",
   "execution_count": 63,
   "metadata": {
    "hidden": true
   },
   "outputs": [
    {
     "name": "stdout",
     "output_type": "stream",
     "text": [
      "Fitting 10 folds for each of 25 candidates, totalling 250 fits\n"
     ]
    },
    {
     "name": "stderr",
     "output_type": "stream",
     "text": [
      "[Parallel(n_jobs=-1)]: Using backend LokyBackend with 8 concurrent workers.\n",
      "[Parallel(n_jobs=-1)]: Done  34 tasks      | elapsed:   23.4s\n",
      "[Parallel(n_jobs=-1)]: Done 184 tasks      | elapsed:  2.0min\n",
      "[Parallel(n_jobs=-1)]: Done 250 out of 250 | elapsed:  2.8min finished\n"
     ]
    },
    {
     "name": "stdout",
     "output_type": "stream",
     "text": [
      "Fitting 10 folds for each of 25 candidates, totalling 250 fits\n"
     ]
    },
    {
     "name": "stderr",
     "output_type": "stream",
     "text": [
      "[Parallel(n_jobs=-1)]: Using backend LokyBackend with 8 concurrent workers.\n",
      "[Parallel(n_jobs=-1)]: Done  34 tasks      | elapsed:   30.2s\n",
      "[Parallel(n_jobs=-1)]: Done 184 tasks      | elapsed:  2.8min\n",
      "[Parallel(n_jobs=-1)]: Done 250 out of 250 | elapsed:  3.8min finished\n"
     ]
    },
    {
     "name": "stdout",
     "output_type": "stream",
     "text": [
      "         22q11DS  Down  FXS-F  FXS-M   NF1  PW-UPD  PW-del  SMC15   TSC  XXY\n",
      "22q11DS     18.0   7.0   11.0   25.0   6.0     0.0     0.0    1.0  17.0  2.0\n",
      "Down         0.0   2.0    0.0    0.0   0.0     0.0     0.0    0.0   0.0  0.0\n",
      "PW           0.0  28.0    6.0    0.0   0.0     2.0     6.0    0.0   2.0  0.0\n",
      "SMC15        0.0   0.0    0.0    1.0   0.0     0.0     0.0    0.0   0.0  0.0\n",
      "TSC          2.0   3.0    4.0   29.0  13.0     0.0     2.0    7.0  29.0  1.0\n",
      "XXY          0.0   0.0    2.0    8.0   2.0     1.0     1.0    0.0   7.0  6.0\n"
     ]
    }
   ],
   "source": [
    "rfc_weighted_resdict = train_syn_pred_idio(X_B = X_syn_B, y_B = y_syn_B, X_Rev = X_syn_all, y_Rev = y_syn_all, \n",
    "                                           X_idio = X_idio_all, n_folds = n_folds, param_grid = rfc_parameters,\n",
    "                                           model = rfc_weighted, scorer = mcc_scorer, verbose =1)"
   ]
  },
  {
   "cell_type": "markdown",
   "metadata": {
    "hidden": true
   },
   "source": [
    "Save the results"
   ]
  },
  {
   "cell_type": "code",
   "execution_count": 69,
   "metadata": {
    "hidden": true
   },
   "outputs": [],
   "source": [
    "pickle.dump(rfc_weighted_resdict, open(results_path+f\"rfc_weighted_resdict.p\", \"wb\" ))"
   ]
  },
  {
   "cell_type": "markdown",
   "metadata": {
    "hidden": true
   },
   "source": [
    "Load the results"
   ]
  },
  {
   "cell_type": "code",
   "execution_count": 35,
   "metadata": {
    "hidden": true
   },
   "outputs": [],
   "source": [
    "rfc_weighted_resdict = pickle.load(open(results_path+f\"rfc_weighted_resdict.p\", \"rb\" ))"
   ]
  },
  {
   "cell_type": "markdown",
   "metadata": {
    "hidden": true
   },
   "source": [
    "Print the dataframe (normalized)"
   ]
  },
  {
   "cell_type": "code",
   "execution_count": 56,
   "metadata": {
    "hidden": true
   },
   "outputs": [
    {
     "data": {
      "text/html": [
       "<div>\n",
       "<style scoped>\n",
       "    .dataframe tbody tr th:only-of-type {\n",
       "        vertical-align: middle;\n",
       "    }\n",
       "\n",
       "    .dataframe tbody tr th {\n",
       "        vertical-align: top;\n",
       "    }\n",
       "\n",
       "    .dataframe thead th {\n",
       "        text-align: right;\n",
       "    }\n",
       "</style>\n",
       "<table border=\"1\" class=\"dataframe\">\n",
       "  <thead>\n",
       "    <tr style=\"text-align: right;\">\n",
       "      <th></th>\n",
       "      <th>22q11DS</th>\n",
       "      <th>Down</th>\n",
       "      <th>FXS-F</th>\n",
       "      <th>FXS-M</th>\n",
       "      <th>NF1</th>\n",
       "      <th>PW-UPD</th>\n",
       "      <th>PW-del</th>\n",
       "      <th>SMC15</th>\n",
       "      <th>TSC</th>\n",
       "      <th>XXY</th>\n",
       "    </tr>\n",
       "  </thead>\n",
       "  <tbody>\n",
       "    <tr>\n",
       "      <th>22q11DS</th>\n",
       "      <td>0.071713</td>\n",
       "      <td>0.027888</td>\n",
       "      <td>0.043825</td>\n",
       "      <td>0.099602</td>\n",
       "      <td>0.023904</td>\n",
       "      <td>0.000000</td>\n",
       "      <td>0.000000</td>\n",
       "      <td>0.003984</td>\n",
       "      <td>0.067729</td>\n",
       "      <td>0.007968</td>\n",
       "    </tr>\n",
       "    <tr>\n",
       "      <th>Down</th>\n",
       "      <td>0.000000</td>\n",
       "      <td>0.007968</td>\n",
       "      <td>0.000000</td>\n",
       "      <td>0.000000</td>\n",
       "      <td>0.000000</td>\n",
       "      <td>0.000000</td>\n",
       "      <td>0.000000</td>\n",
       "      <td>0.000000</td>\n",
       "      <td>0.000000</td>\n",
       "      <td>0.000000</td>\n",
       "    </tr>\n",
       "    <tr>\n",
       "      <th>PW</th>\n",
       "      <td>0.000000</td>\n",
       "      <td>0.111554</td>\n",
       "      <td>0.023904</td>\n",
       "      <td>0.000000</td>\n",
       "      <td>0.000000</td>\n",
       "      <td>0.007968</td>\n",
       "      <td>0.023904</td>\n",
       "      <td>0.000000</td>\n",
       "      <td>0.007968</td>\n",
       "      <td>0.000000</td>\n",
       "    </tr>\n",
       "    <tr>\n",
       "      <th>SMC15</th>\n",
       "      <td>0.000000</td>\n",
       "      <td>0.000000</td>\n",
       "      <td>0.000000</td>\n",
       "      <td>0.003984</td>\n",
       "      <td>0.000000</td>\n",
       "      <td>0.000000</td>\n",
       "      <td>0.000000</td>\n",
       "      <td>0.000000</td>\n",
       "      <td>0.000000</td>\n",
       "      <td>0.000000</td>\n",
       "    </tr>\n",
       "    <tr>\n",
       "      <th>TSC</th>\n",
       "      <td>0.007968</td>\n",
       "      <td>0.011952</td>\n",
       "      <td>0.015936</td>\n",
       "      <td>0.115538</td>\n",
       "      <td>0.051793</td>\n",
       "      <td>0.000000</td>\n",
       "      <td>0.007968</td>\n",
       "      <td>0.027888</td>\n",
       "      <td>0.115538</td>\n",
       "      <td>0.003984</td>\n",
       "    </tr>\n",
       "    <tr>\n",
       "      <th>XXY</th>\n",
       "      <td>0.000000</td>\n",
       "      <td>0.000000</td>\n",
       "      <td>0.007968</td>\n",
       "      <td>0.031873</td>\n",
       "      <td>0.007968</td>\n",
       "      <td>0.003984</td>\n",
       "      <td>0.003984</td>\n",
       "      <td>0.000000</td>\n",
       "      <td>0.027888</td>\n",
       "      <td>0.023904</td>\n",
       "    </tr>\n",
       "  </tbody>\n",
       "</table>\n",
       "</div>"
      ],
      "text/plain": [
       "          22q11DS      Down     FXS-F     FXS-M       NF1    PW-UPD    PW-del  \\\n",
       "22q11DS  0.071713  0.027888  0.043825  0.099602  0.023904  0.000000  0.000000   \n",
       "Down     0.000000  0.007968  0.000000  0.000000  0.000000  0.000000  0.000000   \n",
       "PW       0.000000  0.111554  0.023904  0.000000  0.000000  0.007968  0.023904   \n",
       "SMC15    0.000000  0.000000  0.000000  0.003984  0.000000  0.000000  0.000000   \n",
       "TSC      0.007968  0.011952  0.015936  0.115538  0.051793  0.000000  0.007968   \n",
       "XXY      0.000000  0.000000  0.007968  0.031873  0.007968  0.003984  0.003984   \n",
       "\n",
       "            SMC15       TSC       XXY  \n",
       "22q11DS  0.003984  0.067729  0.007968  \n",
       "Down     0.000000  0.000000  0.000000  \n",
       "PW       0.000000  0.007968  0.000000  \n",
       "SMC15    0.000000  0.000000  0.000000  \n",
       "TSC      0.027888  0.115538  0.003984  \n",
       "XXY      0.000000  0.027888  0.023904  "
      ]
     },
     "execution_count": 56,
     "metadata": {},
     "output_type": "execute_result"
    }
   ],
   "source": [
    "rfc_weighted_resdict['res_df']/251"
   ]
  },
  {
   "cell_type": "markdown",
   "metadata": {
    "hidden": true
   },
   "source": [
    "Print the proportions assigned to each class"
   ]
  },
  {
   "cell_type": "code",
   "execution_count": 71,
   "metadata": {
    "hidden": true
   },
   "outputs": [
    {
     "data": {
      "text/plain": [
       "TSC        0.358566\n",
       "22q11DS    0.346614\n",
       "PW         0.175299\n",
       "XXY        0.107570\n",
       "Down       0.007968\n",
       "SMC15      0.003984\n",
       "dtype: float64"
      ]
     },
     "execution_count": 71,
     "metadata": {},
     "output_type": "execute_result"
    }
   ],
   "source": [
    "pd.Series(rfc_weighted_resdict['ypreds_B']).value_counts()/251"
   ]
  },
  {
   "cell_type": "code",
   "execution_count": 72,
   "metadata": {
    "hidden": true
   },
   "outputs": [
    {
     "data": {
      "text/plain": [
       "FXS-M      0.250996\n",
       "TSC        0.219124\n",
       "Down       0.159363\n",
       "FXS-F      0.091633\n",
       "NF1        0.083665\n",
       "22q11DS    0.079681\n",
       "PW-del     0.035857\n",
       "XXY        0.035857\n",
       "SMC15      0.031873\n",
       "PW-UPD     0.011952\n",
       "dtype: float64"
      ]
     },
     "execution_count": 72,
     "metadata": {},
     "output_type": "execute_result"
    }
   ],
   "source": [
    "pd.Series(rfc_weighted_resdict['ypreds_Rev']).value_counts()/251"
   ]
  },
  {
   "cell_type": "markdown",
   "metadata": {
    "hidden": true
   },
   "source": [
    "Plot a figure for the results"
   ]
  },
  {
   "cell_type": "code",
   "execution_count": 36,
   "metadata": {
    "hidden": true
   },
   "outputs": [
    {
     "data": {
      "image/png": "[encoded data removed]",
      "text/plain": [
       "<Figure size 576x1152 with 1 Axes>"
      ]
     },
     "metadata": {
      "needs_background": "light"
     },
     "output_type": "display_data"
    }
   ],
   "source": [
    "fig, ax = plt.subplots(figsize=(8,16))\n",
    "sns.heatmap((rfc_weighted_resdict['res_df']), cmap='Blues', annot = (rfc_weighted_resdict['res_df'])/2.51, \n",
    "            square=True, cbar=False, ax=ax);\n",
    "\n",
    "B_labels = np.unique(y_syn_B);\n",
    "B_labels[1] = 'DS';\n",
    "\n",
    "Rev_labels = np.unique(y_syn_all);\n",
    "Rev_labels[1] = 'DS';\n",
    "\n",
    "ax.set_xticklabels(Rev_labels);\n",
    "ax.set_yticklabels(B_labels);"
   ]
  }
 ],
 "metadata": {
  "kernelspec": {
   "display_name": "Python 3",
   "language": "python",
   "name": "python3"
  },
  "language_info": {
   "codemirror_mode": {
    "name": "ipython",
    "version": 3
   },
   "file_extension": ".py",
   "mimetype": "text/x-python",
   "name": "python",
   "nbconvert_exporter": "python",
   "pygments_lexer": "ipython3",
   "version": "3.6.7"
  }
 },
 "nbformat": 4,
 "nbformat_minor": 2
}

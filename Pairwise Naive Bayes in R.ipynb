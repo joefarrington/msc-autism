{
 "cells": [
  {
   "cell_type": "markdown",
   "metadata": {},
   "source": [
    "# Pairwise Naive Bayes models"
   ]
  },
  {
   "cell_type": "markdown",
   "metadata": {
    "heading_collapsed": true
   },
   "source": [
    "## Setup"
   ]
  },
  {
   "cell_type": "markdown",
   "metadata": {
    "hidden": true
   },
   "source": [
    "Import libraries"
   ]
  },
  {
   "cell_type": "code",
   "execution_count": 7,
   "metadata": {
    "hidden": true
   },
   "outputs": [],
   "source": [
    "library(naivebayes) #For the naive bayes model\n",
    "library(caret) #For performing cross-validation\n",
    "library(yardstick) #For calculating the MCC\n",
    "library(utils)"
   ]
  },
  {
   "cell_type": "markdown",
   "metadata": {
    "hidden": true
   },
   "source": [
    "Define the data path"
   ]
  },
  {
   "cell_type": "code",
   "execution_count": 8,
   "metadata": {
    "hidden": true
   },
   "outputs": [],
   "source": [
    "data_path <- '/Users/joefarrington/Documents/MSc Machine Learning/Project/August/Data for import/'"
   ]
  },
  {
   "cell_type": "markdown",
   "metadata": {
    "hidden": true
   },
   "source": [
    "Define a function for running repeated training and evaluation"
   ]
  },
  {
   "cell_type": "code",
   "execution_count": 9,
   "metadata": {
    "hidden": true
   },
   "outputs": [],
   "source": [
    "repeated_training <- function(data, n_repeats, n_folds, laplace_grid, prior) {\n",
    "\n",
    "    #Get a count of the number of classes\n",
    "    n_classes <- length(unique(data[[\"Label\"]]))\n",
    "    \n",
    "    #Instantiate some object to hold the results\n",
    "    results_list = list()\n",
    "    mcc_array = vector()\n",
    "    acc_array = vector()\n",
    "    overall_conf = matrix(rep( 0, len=(n_classes*n_classes)), nrow = n_classes, ncol=n_classes)\n",
    "    allpreds = data.frame(matrix(ncol = 2, nrow = 0))\n",
    "    colnames(allpreds) <- c('ytrue', 'ypred')\n",
    "    \n",
    "    #Get laplace values as string to use as index during grid search\n",
    "    lrange_index <- lapply(lrange, toString)\n",
    "    \n",
    "    #\n",
    "    for (i in 1:n_repeats){\n",
    "        \n",
    "        #Create a train/test split\n",
    "        tr <- (createDataPartition(data$Label, times = 1, p = 0.8, list = TRUE))$Resample1\n",
    "        train <- data[tr,]\n",
    "        test <- data[-tr,]\n",
    "        \n",
    "        #Run a grid search to find the best value of the hyperparameter\n",
    "        \n",
    "        ##Create the folds\n",
    "        folds <- createFolds(train$Label, k = n_folds)\n",
    "        \n",
    "        ##Create a dataframe to hold the results of the CV\n",
    "        \n",
    "        ###Create  a matrix of zeros with the right dimensions\n",
    "        matz <- matrix(0, length(folds), length(lrange) )\n",
    "\n",
    "        ###Create the dataframe\n",
    "        CVdf <- data.frame(matz)\n",
    "\n",
    "        ###Name the rows and columns\n",
    "        rownames(CVdf) <- names(folds)\n",
    "        names(CVdf) <- lrange_index\n",
    "        \n",
    "        #Loop over the hyperparameter value\n",
    "        for(lp in lrange){ \n",
    "    \n",
    "            #Get the value of laplace as a string to use as an index\n",
    "            ind <- toString(lp)\n",
    "    \n",
    "            #Loop over the folds\n",
    "            for(fname in names(folds)){\n",
    "\n",
    "                #Get the name of the fold to use as a column index\n",
    "                f <- folds[[fname]]\n",
    "\n",
    "                #Get the training rows for this fold\n",
    "                cvtrain <- train[f,]\n",
    "\n",
    "                #Get the validation rows for this fold\n",
    "                cvalid <- train[-f,]\n",
    "\n",
    "                #Train the model for this fold\n",
    "                nb <- naive_bayes(Label ~ ., cvtrain, laplace=lp, prior=prior)\n",
    "\n",
    "                #Perform predictions on the validation set\n",
    "                preds <- predict(nb, within(cvalid, rm(Label)) , type = \"class\")\n",
    "\n",
    "                #Store the MCC on the validation set in the dataframe\n",
    "                CVdf[fname,ind] <- (mcc_vec(cvalid$Label, preds))}}\n",
    "        \n",
    "        #Find the best hyperparameter value\n",
    "        CV_Mean <- colMeans(CVdf)\n",
    "        CVsummary <- data.frame(CV_Mean)\n",
    "        laplace_opt <- lrange[which.max(CVsummary$CV_Mean)]\n",
    "            \n",
    "        #Train a model using the best value of Laplace\n",
    "        nb_opt <- naive_bayes(Label ~ ., train, laplace=lp, prior=prior)\n",
    "            \n",
    "        #Get predictions on the test set\n",
    "        ypred <- predict(nb_opt, within(test, rm(Label)) , type = \"class\")\n",
    "        \n",
    "        #Get the accuracy and MCC on the test set and store them in the relevant arrays\n",
    "        \n",
    "        acc_test <- accuracy_vec(test$Label, ypred)\n",
    "        acc_array <- c(acc_array, acc_test)\n",
    "        \n",
    "        mcc_test <- mcc_vec(test$Label, ypred)\n",
    "        mcc_array <- c(mcc_array, mcc_test)\n",
    "        \n",
    "        #Get the confusion matrix\n",
    "        conf = table(test$Label, ypred)\n",
    "        \n",
    "        #Normalize the confusion matrix\n",
    "        nconf <- conf/(rowSums(conf))\n",
    "        \n",
    "        #Add 1/n_repeats of the confusion matrix to a running total\n",
    "        overall_conf <- overall_conf + (nconf/n_repeats)\n",
    "        \n",
    "        #Add the labels and predictions from this run to a dataframe\n",
    "        predstemp <- data.frame(ytrue = test$Label, ypred = ypred)\n",
    "        allpreds <- rbind(allpreds, predstemp)\n",
    "        \n",
    "        #Store the information from this repeat\n",
    "        results_list[[paste(\"Run\",i, sep=\"\")]] <- list(train = train, test = test, ypred=ypred, model=nb_opt, \n",
    "                                                      mcc_test = mcc_test, acc_test = acc_test, laplace = laplace_opt, conf=conf)\n",
    "    \n",
    "        }\n",
    "    \n",
    "    #Calculate and print the mean and std dev of accuracy\n",
    "    print(paste('Mean test Acc:', mean(acc_array), sep = \" \"))\n",
    "    print(paste('Std dev test Acc:', sd(acc_array), sep= \" \"))\n",
    "    \n",
    "    #Calculate and print the mean and std dev of MCC\n",
    "    print(paste('Mean test MCC:', mean(mcc_array), sep = \" \"))\n",
    "    print(paste('Std dev test MCC:', sd(mcc_array), sep= \" \"))\n",
    "    \n",
    "    #Store the statistics from each model\n",
    "    results_list[[\"mean_acc\"]] = mean(acc_array)\n",
    "    results_list[[\"std_acc\"]] = sd(acc_array)\n",
    "    results_list[[\"mean_mcc\"]] = mean(mcc_array)\n",
    "    results_list[[\"std_mcc\"]] = sd(mcc_array)\n",
    "    \n",
    "    #Store the overall confusion matrix\n",
    "    results_list[[\"conf\"]] <- overall_conf\n",
    "    \n",
    "    #Store the dataframe of cumulative labels and predictions\n",
    "    results_list[[\"allpreds\"]] <- allpreds\n",
    "    \n",
    "    return(results_list)\n",
    "}"
   ]
  },
  {
   "cell_type": "markdown",
   "metadata": {
    "hidden": true
   },
   "source": [
    "Define a function to get pairwise data"
   ]
  },
  {
   "cell_type": "code",
   "execution_count": 10,
   "metadata": {
    "hidden": true
   },
   "outputs": [],
   "source": [
    "get_pairwise_data <- function(class1, class2, data) {\n",
    "    \n",
    "    subset <- data[data$Label %in% c(class1, class2), ]\n",
    "    subset <- droplevels(subset)\n",
    "    \n",
    "    return(subset)\n",
    "}"
   ]
  },
  {
   "cell_type": "markdown",
   "metadata": {
    "hidden": true
   },
   "source": [
    "Set the range for the hyperparameter laplace"
   ]
  },
  {
   "cell_type": "code",
   "execution_count": 11,
   "metadata": {
    "hidden": true
   },
   "outputs": [],
   "source": [
    "lrange <- 0\n",
    "for (pow in seq(-20, 1, by=1)){\n",
    "    lrange<- c(lrange, 2**pow)\n",
    "}"
   ]
  },
  {
   "cell_type": "markdown",
   "metadata": {
    "hidden": true
   },
   "source": [
    "Define the number of repeats and the number of folds"
   ]
  },
  {
   "cell_type": "code",
   "execution_count": 12,
   "metadata": {
    "hidden": true
   },
   "outputs": [],
   "source": [
    "n_repeats = 10\n",
    "n_folds = 10"
   ]
  },
  {
   "cell_type": "markdown",
   "metadata": {
    "hidden": true
   },
   "source": [
    "Define a path to save the results"
   ]
  },
  {
   "cell_type": "code",
   "execution_count": 13,
   "metadata": {
    "hidden": true
   },
   "outputs": [],
   "source": [
    "results_path <- '/Users/joefarrington/Documents/MSc Machine Learning/Project/August/Results/Ch4Allpairwise/'"
   ]
  },
  {
   "cell_type": "markdown",
   "metadata": {
    "hidden": true
   },
   "source": [
    "### Import and process the data"
   ]
  },
  {
   "cell_type": "markdown",
   "metadata": {
    "hidden": true
   },
   "source": [
    "Import the data"
   ]
  },
  {
   "cell_type": "code",
   "execution_count": 16,
   "metadata": {
    "hidden": true
   },
   "outputs": [],
   "source": [
    "X_all_Rev = read.csv(paste(data_path,\"X_all_Rev.csv\", sep = \"\", collapse = NULL),\n",
    "               colClasses=c(\"integer\",rep(\"factor\",34)),header = TRUE)\n",
    "y_all_Rev = read.csv(paste(data_path,\"y_all_Rev.csv\", sep = \"\", collapse = NULL),\n",
    "               header = FALSE)"
   ]
  },
  {
   "cell_type": "markdown",
   "metadata": {
    "hidden": true
   },
   "source": [
    "Combine data and labels, get rid of the index column and rename the label column"
   ]
  },
  {
   "cell_type": "code",
   "execution_count": 17,
   "metadata": {
    "hidden": true
   },
   "outputs": [],
   "source": [
    "data_Rev <- cbind(X_all_Rev,y_all_Rev)\n",
    "data_Rev <- within(data_Rev, rm(X, V1))\n",
    "colnames(data_Rev)[colnames(data_Rev)==\"V2\"] <- \"Label\""
   ]
  },
  {
   "cell_type": "code",
   "execution_count": 18,
   "metadata": {
    "hidden": true
   },
   "outputs": [],
   "source": [
    "comparisons<-combn(classes, 2,simplify = FALSE)"
   ]
  },
  {
   "cell_type": "markdown",
   "metadata": {
    "hidden": true
   },
   "source": [
    "Get the number of classes, and a vector of the classes and a matrix to use as a template for the dataframes that will hold the results"
   ]
  },
  {
   "cell_type": "code",
   "execution_count": 19,
   "metadata": {
    "hidden": true
   },
   "outputs": [],
   "source": [
    "classes = c('22q11DS', 'Down', 'FXS-F', 'FXS-M', 'NF1',  'PW-UPD', 'PW-del', 'SMC15', 'TSC', 'XXY')\n",
    "n_classes <- length(unique(data_Rev[[\"Label\"]]))\n",
    "temp_map <- matrix(0, n_classes, n_classes)"
   ]
  },
  {
   "cell_type": "markdown",
   "metadata": {
    "heading_collapsed": true
   },
   "source": [
    "## Pairwise, no prior"
   ]
  },
  {
   "cell_type": "markdown",
   "metadata": {
    "hidden": true
   },
   "source": [
    " Define a subfolder to save the results"
   ]
  },
  {
   "cell_type": "code",
   "execution_count": 20,
   "metadata": {
    "hidden": true
   },
   "outputs": [],
   "source": [
    "subfolder = 'NB_tonoerprior/'"
   ]
  },
  {
   "cell_type": "markdown",
   "metadata": {
    "hidden": true
   },
   "source": [
    "Set up dataframes to store the results"
   ]
  },
  {
   "cell_type": "code",
   "execution_count": 21,
   "metadata": {
    "hidden": true
   },
   "outputs": [],
   "source": [
    "###Create dataframes to store the results ofthe pairwise analysis\n",
    "df_mean_mcc_noprior <- data.frame(temp_map)\n",
    "df_std_mcc_noprior <- data.frame(temp_map)\n",
    "df_mean_acc_noprior <- data.frame(temp_map)\n",
    "df_std_acc_noprior <- data.frame(temp_map)\n",
    "\n",
    "###Name the rows and columns\n",
    "rownames(df_mean_mcc_noprior) <- classes\n",
    "names(df_mean_mcc_noprior) <- classes\n",
    "\n",
    "rownames(df_std_mcc_noprior) <- classes\n",
    "names(df_std_mcc_noprior) <- classes\n",
    "\n",
    "rownames(df_mean_acc_noprior) <- classes\n",
    "names(df_mean_acc_noprior) <- classes\n",
    "\n",
    "rownames(df_std_acc_noprior) <- classes\n",
    "names(df_std_acc_noprior) <- classes"
   ]
  },
  {
   "cell_type": "markdown",
   "metadata": {
    "hidden": true
   },
   "source": [
    "Define the prior"
   ]
  },
  {
   "cell_type": "code",
   "execution_count": 22,
   "metadata": {
    "hidden": true
   },
   "outputs": [],
   "source": [
    "prior_noprior = NULL"
   ]
  },
  {
   "cell_type": "markdown",
   "metadata": {
    "hidden": true
   },
   "source": [
    "Train the pairwise models and store the results"
   ]
  },
  {
   "cell_type": "code",
   "execution_count": null,
   "metadata": {
    "hidden": true
   },
   "outputs": [],
   "source": [
    "for (comp in comparisons){\n",
    "    \n",
    "    class1 = as.character(comp[[1]])\n",
    "    class2 = as.character(comp[[2]])\n",
    "    \n",
    "    data <- get_pairwise_data(class1,class2, data_Rev)\n",
    "    \n",
    "    res_list = repeated_training(data, n_repeats, n_folds, lrange, prior_noprior) \n",
    "    \n",
    "    df_mean_acc_noprior[[class1, class2]]<- res_list[[\"mean_acc\"]] \n",
    "    df_std_acc_noprior[[class1, class2]]<- res_list[[\"std_acc\"]]\n",
    "    df_mean_mcc_noprior[[class1, class2]]<- res_list[[\"mean_mcc\"]]\n",
    "    df_std_mcc_noprior[[class1, class2]]<- res_list[[\"std_mcc\"]]\n",
    "    \n",
    "}"
   ]
  },
  {
   "cell_type": "markdown",
   "metadata": {
    "hidden": true
   },
   "source": [
    "Save the results"
   ]
  },
  {
   "cell_type": "code",
   "execution_count": 28,
   "metadata": {
    "hidden": true
   },
   "outputs": [],
   "source": [
    "write.csv(df_mean_acc_noprior, file = paste(results_path,subfolder,\"df_mean_acc_noprior.csv\", sep = \"\", collapse = NULL))\n",
    "write.csv(df_std_acc_noprior, file = paste(results_path,subfolder,\"df_std_acc_noprior.csv\", sep = \"\", collapse = NULL))\n",
    "write.csv(df_mean_mcc_noprior, file = paste(results_path,subfolder,\"df_mean_mcc_noprior.csv\", sep = \"\", collapse = NULL))\n",
    "write.csv(df_std_mcc_noprior, file = paste(results_path,subfolder,\"df_std_mcc_noprior.csv\", sep = \"\", collapse = NULL))"
   ]
  },
  {
   "cell_type": "markdown",
   "metadata": {
    "hidden": true
   },
   "source": [
    "Print out the dataframes"
   ]
  },
  {
   "cell_type": "code",
   "execution_count": 24,
   "metadata": {
    "hidden": true
   },
   "outputs": [
    {
     "data": {
      "text/html": [
       "<table>\n",
       "<caption>A data.frame: 10 × 10</caption>\n",
       "<thead>\n",
       "\t<tr><th></th><th scope=col>22q11DS</th><th scope=col>Down</th><th scope=col>FXS-F</th><th scope=col>FXS-M</th><th scope=col>NF1</th><th scope=col>PW-UPD</th><th scope=col>PW-del</th><th scope=col>SMC15</th><th scope=col>TSC</th><th scope=col>XXY</th></tr>\n",
       "\t<tr><th></th><th scope=col>&lt;dbl&gt;</th><th scope=col>&lt;dbl&gt;</th><th scope=col>&lt;dbl&gt;</th><th scope=col>&lt;dbl&gt;</th><th scope=col>&lt;dbl&gt;</th><th scope=col>&lt;dbl&gt;</th><th scope=col>&lt;dbl&gt;</th><th scope=col>&lt;dbl&gt;</th><th scope=col>&lt;dbl&gt;</th><th scope=col>&lt;dbl&gt;</th></tr>\n",
       "</thead>\n",
       "<tbody>\n",
       "\t<tr><th scope=row>22q11DS</th><td>0</td><td>0.8695652</td><td>0.8000000</td><td>0.7911765</td><td>0.7259259</td><td>0.9000000</td><td>0.8296296</td><td>0.9360000</td><td>0.6863636</td><td>0.8357143</td></tr>\n",
       "\t<tr><th scope=row>Down</th><td>0</td><td>0.0000000</td><td>0.8214286</td><td>0.8428571</td><td>0.7714286</td><td>0.6428571</td><td>0.6000000</td><td>0.7833333</td><td>0.7677419</td><td>0.8200000</td></tr>\n",
       "\t<tr><th scope=row>FXS-F</th><td>0</td><td>0.0000000</td><td>0.0000000</td><td>0.7400000</td><td>0.6944444</td><td>0.9333333</td><td>0.8611111</td><td>0.8375000</td><td>0.6542857</td><td>0.7947368</td></tr>\n",
       "\t<tr><th scope=row>FXS-M</th><td>0</td><td>0.0000000</td><td>0.0000000</td><td>0.0000000</td><td>0.7600000</td><td>0.8880000</td><td>0.8880000</td><td>0.9478261</td><td>0.6952381</td><td>0.8269231</td></tr>\n",
       "\t<tr><th scope=row>NF1</th><td>0</td><td>0.0000000</td><td>0.0000000</td><td>0.0000000</td><td>0.0000000</td><td>0.8555556</td><td>0.8333333</td><td>0.8562500</td><td>0.6657143</td><td>0.7842105</td></tr>\n",
       "\t<tr><th scope=row>PW-UPD</th><td>0</td><td>0.0000000</td><td>0.0000000</td><td>0.0000000</td><td>0.0000000</td><td>0.0000000</td><td>0.5555556</td><td>0.8125000</td><td>0.7942857</td><td>0.8631579</td></tr>\n",
       "\t<tr><th scope=row>PW-del</th><td>0</td><td>0.0000000</td><td>0.0000000</td><td>0.0000000</td><td>0.0000000</td><td>0.0000000</td><td>0.0000000</td><td>0.8687500</td><td>0.7885714</td><td>0.8263158</td></tr>\n",
       "\t<tr><th scope=row>SMC15</th><td>0</td><td>0.0000000</td><td>0.0000000</td><td>0.0000000</td><td>0.0000000</td><td>0.0000000</td><td>0.0000000</td><td>0.0000000</td><td>0.8696970</td><td>0.8647059</td></tr>\n",
       "\t<tr><th scope=row>TSC</th><td>0</td><td>0.0000000</td><td>0.0000000</td><td>0.0000000</td><td>0.0000000</td><td>0.0000000</td><td>0.0000000</td><td>0.0000000</td><td>0.0000000</td><td>0.6805556</td></tr>\n",
       "\t<tr><th scope=row>XXY</th><td>0</td><td>0.0000000</td><td>0.0000000</td><td>0.0000000</td><td>0.0000000</td><td>0.0000000</td><td>0.0000000</td><td>0.0000000</td><td>0.0000000</td><td>0.0000000</td></tr>\n",
       "</tbody>\n",
       "</table>\n"
      ],
      "text/latex": [
       "A data.frame: 10 × 10\n",
       "\\begin{tabular}{r|llllllllll}\n",
       "  & 22q11DS & Down & FXS-F & FXS-M & NF1 & PW-UPD & PW-del & SMC15 & TSC & XXY\\\\\n",
       "  & <dbl> & <dbl> & <dbl> & <dbl> & <dbl> & <dbl> & <dbl> & <dbl> & <dbl> & <dbl>\\\\\n",
       "\\hline\n",
       "\t22q11DS & 0 & 0.8695652 & 0.8000000 & 0.7911765 & 0.7259259 & 0.9000000 & 0.8296296 & 0.9360000 & 0.6863636 & 0.8357143\\\\\n",
       "\tDown & 0 & 0.0000000 & 0.8214286 & 0.8428571 & 0.7714286 & 0.6428571 & 0.6000000 & 0.7833333 & 0.7677419 & 0.8200000\\\\\n",
       "\tFXS-F & 0 & 0.0000000 & 0.0000000 & 0.7400000 & 0.6944444 & 0.9333333 & 0.8611111 & 0.8375000 & 0.6542857 & 0.7947368\\\\\n",
       "\tFXS-M & 0 & 0.0000000 & 0.0000000 & 0.0000000 & 0.7600000 & 0.8880000 & 0.8880000 & 0.9478261 & 0.6952381 & 0.8269231\\\\\n",
       "\tNF1 & 0 & 0.0000000 & 0.0000000 & 0.0000000 & 0.0000000 & 0.8555556 & 0.8333333 & 0.8562500 & 0.6657143 & 0.7842105\\\\\n",
       "\tPW-UPD & 0 & 0.0000000 & 0.0000000 & 0.0000000 & 0.0000000 & 0.0000000 & 0.5555556 & 0.8125000 & 0.7942857 & 0.8631579\\\\\n",
       "\tPW-del & 0 & 0.0000000 & 0.0000000 & 0.0000000 & 0.0000000 & 0.0000000 & 0.0000000 & 0.8687500 & 0.7885714 & 0.8263158\\\\\n",
       "\tSMC15 & 0 & 0.0000000 & 0.0000000 & 0.0000000 & 0.0000000 & 0.0000000 & 0.0000000 & 0.0000000 & 0.8696970 & 0.8647059\\\\\n",
       "\tTSC & 0 & 0.0000000 & 0.0000000 & 0.0000000 & 0.0000000 & 0.0000000 & 0.0000000 & 0.0000000 & 0.0000000 & 0.6805556\\\\\n",
       "\tXXY & 0 & 0.0000000 & 0.0000000 & 0.0000000 & 0.0000000 & 0.0000000 & 0.0000000 & 0.0000000 & 0.0000000 & 0.0000000\\\\\n",
       "\\end{tabular}\n"
      ],
      "text/markdown": [
       "\n",
       "A data.frame: 10 × 10\n",
       "\n",
       "| <!--/--> | 22q11DS &lt;dbl&gt; | Down &lt;dbl&gt; | FXS-F &lt;dbl&gt; | FXS-M &lt;dbl&gt; | NF1 &lt;dbl&gt; | PW-UPD &lt;dbl&gt; | PW-del &lt;dbl&gt; | SMC15 &lt;dbl&gt; | TSC &lt;dbl&gt; | XXY &lt;dbl&gt; |\n",
       "|---|---|---|---|---|---|---|---|---|---|---|\n",
       "| 22q11DS | 0 | 0.8695652 | 0.8000000 | 0.7911765 | 0.7259259 | 0.9000000 | 0.8296296 | 0.9360000 | 0.6863636 | 0.8357143 |\n",
       "| Down | 0 | 0.0000000 | 0.8214286 | 0.8428571 | 0.7714286 | 0.6428571 | 0.6000000 | 0.7833333 | 0.7677419 | 0.8200000 |\n",
       "| FXS-F | 0 | 0.0000000 | 0.0000000 | 0.7400000 | 0.6944444 | 0.9333333 | 0.8611111 | 0.8375000 | 0.6542857 | 0.7947368 |\n",
       "| FXS-M | 0 | 0.0000000 | 0.0000000 | 0.0000000 | 0.7600000 | 0.8880000 | 0.8880000 | 0.9478261 | 0.6952381 | 0.8269231 |\n",
       "| NF1 | 0 | 0.0000000 | 0.0000000 | 0.0000000 | 0.0000000 | 0.8555556 | 0.8333333 | 0.8562500 | 0.6657143 | 0.7842105 |\n",
       "| PW-UPD | 0 | 0.0000000 | 0.0000000 | 0.0000000 | 0.0000000 | 0.0000000 | 0.5555556 | 0.8125000 | 0.7942857 | 0.8631579 |\n",
       "| PW-del | 0 | 0.0000000 | 0.0000000 | 0.0000000 | 0.0000000 | 0.0000000 | 0.0000000 | 0.8687500 | 0.7885714 | 0.8263158 |\n",
       "| SMC15 | 0 | 0.0000000 | 0.0000000 | 0.0000000 | 0.0000000 | 0.0000000 | 0.0000000 | 0.0000000 | 0.8696970 | 0.8647059 |\n",
       "| TSC | 0 | 0.0000000 | 0.0000000 | 0.0000000 | 0.0000000 | 0.0000000 | 0.0000000 | 0.0000000 | 0.0000000 | 0.6805556 |\n",
       "| XXY | 0 | 0.0000000 | 0.0000000 | 0.0000000 | 0.0000000 | 0.0000000 | 0.0000000 | 0.0000000 | 0.0000000 | 0.0000000 |\n",
       "\n"
      ],
      "text/plain": [
       "        22q11DS Down      FXS-F     FXS-M     NF1       PW-UPD    PW-del   \n",
       "22q11DS 0       0.8695652 0.8000000 0.7911765 0.7259259 0.9000000 0.8296296\n",
       "Down    0       0.0000000 0.8214286 0.8428571 0.7714286 0.6428571 0.6000000\n",
       "FXS-F   0       0.0000000 0.0000000 0.7400000 0.6944444 0.9333333 0.8611111\n",
       "FXS-M   0       0.0000000 0.0000000 0.0000000 0.7600000 0.8880000 0.8880000\n",
       "NF1     0       0.0000000 0.0000000 0.0000000 0.0000000 0.8555556 0.8333333\n",
       "PW-UPD  0       0.0000000 0.0000000 0.0000000 0.0000000 0.0000000 0.5555556\n",
       "PW-del  0       0.0000000 0.0000000 0.0000000 0.0000000 0.0000000 0.0000000\n",
       "SMC15   0       0.0000000 0.0000000 0.0000000 0.0000000 0.0000000 0.0000000\n",
       "TSC     0       0.0000000 0.0000000 0.0000000 0.0000000 0.0000000 0.0000000\n",
       "XXY     0       0.0000000 0.0000000 0.0000000 0.0000000 0.0000000 0.0000000\n",
       "        SMC15     TSC       XXY      \n",
       "22q11DS 0.9360000 0.6863636 0.8357143\n",
       "Down    0.7833333 0.7677419 0.8200000\n",
       "FXS-F   0.8375000 0.6542857 0.7947368\n",
       "FXS-M   0.9478261 0.6952381 0.8269231\n",
       "NF1     0.8562500 0.6657143 0.7842105\n",
       "PW-UPD  0.8125000 0.7942857 0.8631579\n",
       "PW-del  0.8687500 0.7885714 0.8263158\n",
       "SMC15   0.0000000 0.8696970 0.8647059\n",
       "TSC     0.0000000 0.0000000 0.6805556\n",
       "XXY     0.0000000 0.0000000 0.0000000"
      ]
     },
     "metadata": {},
     "output_type": "display_data"
    }
   ],
   "source": [
    "df_mean_acc_noprior"
   ]
  },
  {
   "cell_type": "code",
   "execution_count": 25,
   "metadata": {
    "hidden": true
   },
   "outputs": [
    {
     "data": {
      "text/html": [
       "<table>\n",
       "<caption>A data.frame: 10 × 10</caption>\n",
       "<thead>\n",
       "\t<tr><th></th><th scope=col>22q11DS</th><th scope=col>Down</th><th scope=col>FXS-F</th><th scope=col>FXS-M</th><th scope=col>NF1</th><th scope=col>PW-UPD</th><th scope=col>PW-del</th><th scope=col>SMC15</th><th scope=col>TSC</th><th scope=col>XXY</th></tr>\n",
       "\t<tr><th></th><th scope=col>&lt;dbl&gt;</th><th scope=col>&lt;dbl&gt;</th><th scope=col>&lt;dbl&gt;</th><th scope=col>&lt;dbl&gt;</th><th scope=col>&lt;dbl&gt;</th><th scope=col>&lt;dbl&gt;</th><th scope=col>&lt;dbl&gt;</th><th scope=col>&lt;dbl&gt;</th><th scope=col>&lt;dbl&gt;</th><th scope=col>&lt;dbl&gt;</th></tr>\n",
       "</thead>\n",
       "<tbody>\n",
       "\t<tr><th scope=row>22q11DS</th><td>0</td><td>0.07389883</td><td>0.06098316</td><td>0.06269913</td><td>0.06579216</td><td>0.03923518</td><td>0.09105723</td><td>0.02065591</td><td>0.06320198</td><td>0.06563833</td></tr>\n",
       "\t<tr><th scope=row>Down</th><td>0</td><td>0.00000000</td><td>0.11785113</td><td>0.08708487</td><td>0.11566626</td><td>0.08247861</td><td>0.07678341</td><td>0.13146844</td><td>0.04511006</td><td>0.07062333</td></tr>\n",
       "\t<tr><th scope=row>FXS-F</th><td>0</td><td>0.00000000</td><td>0.00000000</td><td>0.08485281</td><td>0.06547285</td><td>0.05105203</td><td>0.09166199</td><td>0.05270463</td><td>0.09566571</td><td>0.10364249</td></tr>\n",
       "\t<tr><th scope=row>FXS-M</th><td>0</td><td>0.00000000</td><td>0.00000000</td><td>0.00000000</td><td>0.06531973</td><td>0.06746192</td><td>0.05593647</td><td>0.03429611</td><td>0.07999748</td><td>0.07954919</td></tr>\n",
       "\t<tr><th scope=row>NF1</th><td>0</td><td>0.00000000</td><td>0.00000000</td><td>0.00000000</td><td>0.00000000</td><td>0.07499428</td><td>0.08281733</td><td>0.07822910</td><td>0.07133327</td><td>0.08754368</td></tr>\n",
       "\t<tr><th scope=row>PW-UPD</th><td>0</td><td>0.00000000</td><td>0.00000000</td><td>0.00000000</td><td>0.00000000</td><td>0.00000000</td><td>0.11712139</td><td>0.08333333</td><td>0.04426267</td><td>0.07104722</td></tr>\n",
       "\t<tr><th scope=row>PW-del</th><td>0</td><td>0.00000000</td><td>0.00000000</td><td>0.00000000</td><td>0.00000000</td><td>0.00000000</td><td>0.00000000</td><td>0.09524275</td><td>0.07642820</td><td>0.04993070</td></tr>\n",
       "\t<tr><th scope=row>SMC15</th><td>0</td><td>0.00000000</td><td>0.00000000</td><td>0.00000000</td><td>0.00000000</td><td>0.00000000</td><td>0.00000000</td><td>0.00000000</td><td>0.07149632</td><td>0.06820599</td></tr>\n",
       "\t<tr><th scope=row>TSC</th><td>0</td><td>0.00000000</td><td>0.00000000</td><td>0.00000000</td><td>0.00000000</td><td>0.00000000</td><td>0.00000000</td><td>0.00000000</td><td>0.00000000</td><td>0.05438583</td></tr>\n",
       "\t<tr><th scope=row>XXY</th><td>0</td><td>0.00000000</td><td>0.00000000</td><td>0.00000000</td><td>0.00000000</td><td>0.00000000</td><td>0.00000000</td><td>0.00000000</td><td>0.00000000</td><td>0.00000000</td></tr>\n",
       "</tbody>\n",
       "</table>\n"
      ],
      "text/latex": [
       "A data.frame: 10 × 10\n",
       "\\begin{tabular}{r|llllllllll}\n",
       "  & 22q11DS & Down & FXS-F & FXS-M & NF1 & PW-UPD & PW-del & SMC15 & TSC & XXY\\\\\n",
       "  & <dbl> & <dbl> & <dbl> & <dbl> & <dbl> & <dbl> & <dbl> & <dbl> & <dbl> & <dbl>\\\\\n",
       "\\hline\n",
       "\t22q11DS & 0 & 0.07389883 & 0.06098316 & 0.06269913 & 0.06579216 & 0.03923518 & 0.09105723 & 0.02065591 & 0.06320198 & 0.06563833\\\\\n",
       "\tDown & 0 & 0.00000000 & 0.11785113 & 0.08708487 & 0.11566626 & 0.08247861 & 0.07678341 & 0.13146844 & 0.04511006 & 0.07062333\\\\\n",
       "\tFXS-F & 0 & 0.00000000 & 0.00000000 & 0.08485281 & 0.06547285 & 0.05105203 & 0.09166199 & 0.05270463 & 0.09566571 & 0.10364249\\\\\n",
       "\tFXS-M & 0 & 0.00000000 & 0.00000000 & 0.00000000 & 0.06531973 & 0.06746192 & 0.05593647 & 0.03429611 & 0.07999748 & 0.07954919\\\\\n",
       "\tNF1 & 0 & 0.00000000 & 0.00000000 & 0.00000000 & 0.00000000 & 0.07499428 & 0.08281733 & 0.07822910 & 0.07133327 & 0.08754368\\\\\n",
       "\tPW-UPD & 0 & 0.00000000 & 0.00000000 & 0.00000000 & 0.00000000 & 0.00000000 & 0.11712139 & 0.08333333 & 0.04426267 & 0.07104722\\\\\n",
       "\tPW-del & 0 & 0.00000000 & 0.00000000 & 0.00000000 & 0.00000000 & 0.00000000 & 0.00000000 & 0.09524275 & 0.07642820 & 0.04993070\\\\\n",
       "\tSMC15 & 0 & 0.00000000 & 0.00000000 & 0.00000000 & 0.00000000 & 0.00000000 & 0.00000000 & 0.00000000 & 0.07149632 & 0.06820599\\\\\n",
       "\tTSC & 0 & 0.00000000 & 0.00000000 & 0.00000000 & 0.00000000 & 0.00000000 & 0.00000000 & 0.00000000 & 0.00000000 & 0.05438583\\\\\n",
       "\tXXY & 0 & 0.00000000 & 0.00000000 & 0.00000000 & 0.00000000 & 0.00000000 & 0.00000000 & 0.00000000 & 0.00000000 & 0.00000000\\\\\n",
       "\\end{tabular}\n"
      ],
      "text/markdown": [
       "\n",
       "A data.frame: 10 × 10\n",
       "\n",
       "| <!--/--> | 22q11DS &lt;dbl&gt; | Down &lt;dbl&gt; | FXS-F &lt;dbl&gt; | FXS-M &lt;dbl&gt; | NF1 &lt;dbl&gt; | PW-UPD &lt;dbl&gt; | PW-del &lt;dbl&gt; | SMC15 &lt;dbl&gt; | TSC &lt;dbl&gt; | XXY &lt;dbl&gt; |\n",
       "|---|---|---|---|---|---|---|---|---|---|---|\n",
       "| 22q11DS | 0 | 0.07389883 | 0.06098316 | 0.06269913 | 0.06579216 | 0.03923518 | 0.09105723 | 0.02065591 | 0.06320198 | 0.06563833 |\n",
       "| Down | 0 | 0.00000000 | 0.11785113 | 0.08708487 | 0.11566626 | 0.08247861 | 0.07678341 | 0.13146844 | 0.04511006 | 0.07062333 |\n",
       "| FXS-F | 0 | 0.00000000 | 0.00000000 | 0.08485281 | 0.06547285 | 0.05105203 | 0.09166199 | 0.05270463 | 0.09566571 | 0.10364249 |\n",
       "| FXS-M | 0 | 0.00000000 | 0.00000000 | 0.00000000 | 0.06531973 | 0.06746192 | 0.05593647 | 0.03429611 | 0.07999748 | 0.07954919 |\n",
       "| NF1 | 0 | 0.00000000 | 0.00000000 | 0.00000000 | 0.00000000 | 0.07499428 | 0.08281733 | 0.07822910 | 0.07133327 | 0.08754368 |\n",
       "| PW-UPD | 0 | 0.00000000 | 0.00000000 | 0.00000000 | 0.00000000 | 0.00000000 | 0.11712139 | 0.08333333 | 0.04426267 | 0.07104722 |\n",
       "| PW-del | 0 | 0.00000000 | 0.00000000 | 0.00000000 | 0.00000000 | 0.00000000 | 0.00000000 | 0.09524275 | 0.07642820 | 0.04993070 |\n",
       "| SMC15 | 0 | 0.00000000 | 0.00000000 | 0.00000000 | 0.00000000 | 0.00000000 | 0.00000000 | 0.00000000 | 0.07149632 | 0.06820599 |\n",
       "| TSC | 0 | 0.00000000 | 0.00000000 | 0.00000000 | 0.00000000 | 0.00000000 | 0.00000000 | 0.00000000 | 0.00000000 | 0.05438583 |\n",
       "| XXY | 0 | 0.00000000 | 0.00000000 | 0.00000000 | 0.00000000 | 0.00000000 | 0.00000000 | 0.00000000 | 0.00000000 | 0.00000000 |\n",
       "\n"
      ],
      "text/plain": [
       "        22q11DS Down       FXS-F      FXS-M      NF1        PW-UPD    \n",
       "22q11DS 0       0.07389883 0.06098316 0.06269913 0.06579216 0.03923518\n",
       "Down    0       0.00000000 0.11785113 0.08708487 0.11566626 0.08247861\n",
       "FXS-F   0       0.00000000 0.00000000 0.08485281 0.06547285 0.05105203\n",
       "FXS-M   0       0.00000000 0.00000000 0.00000000 0.06531973 0.06746192\n",
       "NF1     0       0.00000000 0.00000000 0.00000000 0.00000000 0.07499428\n",
       "PW-UPD  0       0.00000000 0.00000000 0.00000000 0.00000000 0.00000000\n",
       "PW-del  0       0.00000000 0.00000000 0.00000000 0.00000000 0.00000000\n",
       "SMC15   0       0.00000000 0.00000000 0.00000000 0.00000000 0.00000000\n",
       "TSC     0       0.00000000 0.00000000 0.00000000 0.00000000 0.00000000\n",
       "XXY     0       0.00000000 0.00000000 0.00000000 0.00000000 0.00000000\n",
       "        PW-del     SMC15      TSC        XXY       \n",
       "22q11DS 0.09105723 0.02065591 0.06320198 0.06563833\n",
       "Down    0.07678341 0.13146844 0.04511006 0.07062333\n",
       "FXS-F   0.09166199 0.05270463 0.09566571 0.10364249\n",
       "FXS-M   0.05593647 0.03429611 0.07999748 0.07954919\n",
       "NF1     0.08281733 0.07822910 0.07133327 0.08754368\n",
       "PW-UPD  0.11712139 0.08333333 0.04426267 0.07104722\n",
       "PW-del  0.00000000 0.09524275 0.07642820 0.04993070\n",
       "SMC15   0.00000000 0.00000000 0.07149632 0.06820599\n",
       "TSC     0.00000000 0.00000000 0.00000000 0.05438583\n",
       "XXY     0.00000000 0.00000000 0.00000000 0.00000000"
      ]
     },
     "metadata": {},
     "output_type": "display_data"
    }
   ],
   "source": [
    "df_std_acc_noprior"
   ]
  },
  {
   "cell_type": "code",
   "execution_count": 26,
   "metadata": {
    "hidden": true
   },
   "outputs": [
    {
     "data": {
      "text/html": [
       "<table>\n",
       "<caption>A data.frame: 10 × 10</caption>\n",
       "<thead>\n",
       "\t<tr><th></th><th scope=col>22q11DS</th><th scope=col>Down</th><th scope=col>FXS-F</th><th scope=col>FXS-M</th><th scope=col>NF1</th><th scope=col>PW-UPD</th><th scope=col>PW-del</th><th scope=col>SMC15</th><th scope=col>TSC</th><th scope=col>XXY</th></tr>\n",
       "\t<tr><th></th><th scope=col>&lt;dbl&gt;</th><th scope=col>&lt;dbl&gt;</th><th scope=col>&lt;dbl&gt;</th><th scope=col>&lt;dbl&gt;</th><th scope=col>&lt;dbl&gt;</th><th scope=col>&lt;dbl&gt;</th><th scope=col>&lt;dbl&gt;</th><th scope=col>&lt;dbl&gt;</th><th scope=col>&lt;dbl&gt;</th><th scope=col>&lt;dbl&gt;</th></tr>\n",
       "</thead>\n",
       "<tbody>\n",
       "\t<tr><th scope=row>22q11DS</th><td>0</td><td>0.7111601</td><td>0.5323684</td><td>0.5842164</td><td>0.3737677</td><td>0.8007881</td><td>0.6672725</td><td>0.8422161</td><td>0.4092508</td><td>0.6426711</td></tr>\n",
       "\t<tr><th scope=row>Down</th><td>0</td><td>0.0000000</td><td>0.6724746</td><td>0.6591486</td><td>0.5776153</td><td>0.2698063</td><td>0.1104505</td><td>0.5826048</td><td>0.4651472</td><td>0.6839917</td></tr>\n",
       "\t<tr><th scope=row>FXS-F</th><td>0</td><td>0.0000000</td><td>0.0000000</td><td>0.4579591</td><td>0.4119995</td><td>0.8734798</td><td>0.7304455</td><td>0.6871722</td><td>0.3392854</td><td>0.6000226</td></tr>\n",
       "\t<tr><th scope=row>FXS-M</th><td>0</td><td>0.0000000</td><td>0.0000000</td><td>0.0000000</td><td>0.4637268</td><td>0.7811097</td><td>0.7786025</td><td>0.8787520</td><td>0.3938398</td><td>0.6491618</td></tr>\n",
       "\t<tr><th scope=row>NF1</th><td>0</td><td>0.0000000</td><td>0.0000000</td><td>0.0000000</td><td>0.0000000</td><td>0.7278067</td><td>0.7000507</td><td>0.7329771</td><td>0.1517188</td><td>0.5752920</td></tr>\n",
       "\t<tr><th scope=row>PW-UPD</th><td>0</td><td>0.0000000</td><td>0.0000000</td><td>0.0000000</td><td>0.0000000</td><td>0.0000000</td><td>0.1274421</td><td>0.6227090</td><td>0.5660410</td><td>0.7547571</td></tr>\n",
       "\t<tr><th scope=row>PW-del</th><td>0</td><td>0.0000000</td><td>0.0000000</td><td>0.0000000</td><td>0.0000000</td><td>0.0000000</td><td>0.0000000</td><td>0.7377573</td><td>0.5835816</td><td>0.6673723</td></tr>\n",
       "\t<tr><th scope=row>SMC15</th><td>0</td><td>0.0000000</td><td>0.0000000</td><td>0.0000000</td><td>0.0000000</td><td>0.0000000</td><td>0.0000000</td><td>0.0000000</td><td>0.6844883</td><td>0.7289544</td></tr>\n",
       "\t<tr><th scope=row>TSC</th><td>0</td><td>0.0000000</td><td>0.0000000</td><td>0.0000000</td><td>0.0000000</td><td>0.0000000</td><td>0.0000000</td><td>0.0000000</td><td>0.0000000</td><td>0.4045097</td></tr>\n",
       "\t<tr><th scope=row>XXY</th><td>0</td><td>0.0000000</td><td>0.0000000</td><td>0.0000000</td><td>0.0000000</td><td>0.0000000</td><td>0.0000000</td><td>0.0000000</td><td>0.0000000</td><td>0.0000000</td></tr>\n",
       "</tbody>\n",
       "</table>\n"
      ],
      "text/latex": [
       "A data.frame: 10 × 10\n",
       "\\begin{tabular}{r|llllllllll}\n",
       "  & 22q11DS & Down & FXS-F & FXS-M & NF1 & PW-UPD & PW-del & SMC15 & TSC & XXY\\\\\n",
       "  & <dbl> & <dbl> & <dbl> & <dbl> & <dbl> & <dbl> & <dbl> & <dbl> & <dbl> & <dbl>\\\\\n",
       "\\hline\n",
       "\t22q11DS & 0 & 0.7111601 & 0.5323684 & 0.5842164 & 0.3737677 & 0.8007881 & 0.6672725 & 0.8422161 & 0.4092508 & 0.6426711\\\\\n",
       "\tDown & 0 & 0.0000000 & 0.6724746 & 0.6591486 & 0.5776153 & 0.2698063 & 0.1104505 & 0.5826048 & 0.4651472 & 0.6839917\\\\\n",
       "\tFXS-F & 0 & 0.0000000 & 0.0000000 & 0.4579591 & 0.4119995 & 0.8734798 & 0.7304455 & 0.6871722 & 0.3392854 & 0.6000226\\\\\n",
       "\tFXS-M & 0 & 0.0000000 & 0.0000000 & 0.0000000 & 0.4637268 & 0.7811097 & 0.7786025 & 0.8787520 & 0.3938398 & 0.6491618\\\\\n",
       "\tNF1 & 0 & 0.0000000 & 0.0000000 & 0.0000000 & 0.0000000 & 0.7278067 & 0.7000507 & 0.7329771 & 0.1517188 & 0.5752920\\\\\n",
       "\tPW-UPD & 0 & 0.0000000 & 0.0000000 & 0.0000000 & 0.0000000 & 0.0000000 & 0.1274421 & 0.6227090 & 0.5660410 & 0.7547571\\\\\n",
       "\tPW-del & 0 & 0.0000000 & 0.0000000 & 0.0000000 & 0.0000000 & 0.0000000 & 0.0000000 & 0.7377573 & 0.5835816 & 0.6673723\\\\\n",
       "\tSMC15 & 0 & 0.0000000 & 0.0000000 & 0.0000000 & 0.0000000 & 0.0000000 & 0.0000000 & 0.0000000 & 0.6844883 & 0.7289544\\\\\n",
       "\tTSC & 0 & 0.0000000 & 0.0000000 & 0.0000000 & 0.0000000 & 0.0000000 & 0.0000000 & 0.0000000 & 0.0000000 & 0.4045097\\\\\n",
       "\tXXY & 0 & 0.0000000 & 0.0000000 & 0.0000000 & 0.0000000 & 0.0000000 & 0.0000000 & 0.0000000 & 0.0000000 & 0.0000000\\\\\n",
       "\\end{tabular}\n"
      ],
      "text/markdown": [
       "\n",
       "A data.frame: 10 × 10\n",
       "\n",
       "| <!--/--> | 22q11DS &lt;dbl&gt; | Down &lt;dbl&gt; | FXS-F &lt;dbl&gt; | FXS-M &lt;dbl&gt; | NF1 &lt;dbl&gt; | PW-UPD &lt;dbl&gt; | PW-del &lt;dbl&gt; | SMC15 &lt;dbl&gt; | TSC &lt;dbl&gt; | XXY &lt;dbl&gt; |\n",
       "|---|---|---|---|---|---|---|---|---|---|---|\n",
       "| 22q11DS | 0 | 0.7111601 | 0.5323684 | 0.5842164 | 0.3737677 | 0.8007881 | 0.6672725 | 0.8422161 | 0.4092508 | 0.6426711 |\n",
       "| Down | 0 | 0.0000000 | 0.6724746 | 0.6591486 | 0.5776153 | 0.2698063 | 0.1104505 | 0.5826048 | 0.4651472 | 0.6839917 |\n",
       "| FXS-F | 0 | 0.0000000 | 0.0000000 | 0.4579591 | 0.4119995 | 0.8734798 | 0.7304455 | 0.6871722 | 0.3392854 | 0.6000226 |\n",
       "| FXS-M | 0 | 0.0000000 | 0.0000000 | 0.0000000 | 0.4637268 | 0.7811097 | 0.7786025 | 0.8787520 | 0.3938398 | 0.6491618 |\n",
       "| NF1 | 0 | 0.0000000 | 0.0000000 | 0.0000000 | 0.0000000 | 0.7278067 | 0.7000507 | 0.7329771 | 0.1517188 | 0.5752920 |\n",
       "| PW-UPD | 0 | 0.0000000 | 0.0000000 | 0.0000000 | 0.0000000 | 0.0000000 | 0.1274421 | 0.6227090 | 0.5660410 | 0.7547571 |\n",
       "| PW-del | 0 | 0.0000000 | 0.0000000 | 0.0000000 | 0.0000000 | 0.0000000 | 0.0000000 | 0.7377573 | 0.5835816 | 0.6673723 |\n",
       "| SMC15 | 0 | 0.0000000 | 0.0000000 | 0.0000000 | 0.0000000 | 0.0000000 | 0.0000000 | 0.0000000 | 0.6844883 | 0.7289544 |\n",
       "| TSC | 0 | 0.0000000 | 0.0000000 | 0.0000000 | 0.0000000 | 0.0000000 | 0.0000000 | 0.0000000 | 0.0000000 | 0.4045097 |\n",
       "| XXY | 0 | 0.0000000 | 0.0000000 | 0.0000000 | 0.0000000 | 0.0000000 | 0.0000000 | 0.0000000 | 0.0000000 | 0.0000000 |\n",
       "\n"
      ],
      "text/plain": [
       "        22q11DS Down      FXS-F     FXS-M     NF1       PW-UPD    PW-del   \n",
       "22q11DS 0       0.7111601 0.5323684 0.5842164 0.3737677 0.8007881 0.6672725\n",
       "Down    0       0.0000000 0.6724746 0.6591486 0.5776153 0.2698063 0.1104505\n",
       "FXS-F   0       0.0000000 0.0000000 0.4579591 0.4119995 0.8734798 0.7304455\n",
       "FXS-M   0       0.0000000 0.0000000 0.0000000 0.4637268 0.7811097 0.7786025\n",
       "NF1     0       0.0000000 0.0000000 0.0000000 0.0000000 0.7278067 0.7000507\n",
       "PW-UPD  0       0.0000000 0.0000000 0.0000000 0.0000000 0.0000000 0.1274421\n",
       "PW-del  0       0.0000000 0.0000000 0.0000000 0.0000000 0.0000000 0.0000000\n",
       "SMC15   0       0.0000000 0.0000000 0.0000000 0.0000000 0.0000000 0.0000000\n",
       "TSC     0       0.0000000 0.0000000 0.0000000 0.0000000 0.0000000 0.0000000\n",
       "XXY     0       0.0000000 0.0000000 0.0000000 0.0000000 0.0000000 0.0000000\n",
       "        SMC15     TSC       XXY      \n",
       "22q11DS 0.8422161 0.4092508 0.6426711\n",
       "Down    0.5826048 0.4651472 0.6839917\n",
       "FXS-F   0.6871722 0.3392854 0.6000226\n",
       "FXS-M   0.8787520 0.3938398 0.6491618\n",
       "NF1     0.7329771 0.1517188 0.5752920\n",
       "PW-UPD  0.6227090 0.5660410 0.7547571\n",
       "PW-del  0.7377573 0.5835816 0.6673723\n",
       "SMC15   0.0000000 0.6844883 0.7289544\n",
       "TSC     0.0000000 0.0000000 0.4045097\n",
       "XXY     0.0000000 0.0000000 0.0000000"
      ]
     },
     "metadata": {},
     "output_type": "display_data"
    }
   ],
   "source": [
    "df_mean_mcc_noprior"
   ]
  },
  {
   "cell_type": "code",
   "execution_count": 27,
   "metadata": {
    "hidden": true
   },
   "outputs": [
    {
     "data": {
      "text/html": [
       "<table>\n",
       "<caption>A data.frame: 10 × 10</caption>\n",
       "<thead>\n",
       "\t<tr><th></th><th scope=col>22q11DS</th><th scope=col>Down</th><th scope=col>FXS-F</th><th scope=col>FXS-M</th><th scope=col>NF1</th><th scope=col>PW-UPD</th><th scope=col>PW-del</th><th scope=col>SMC15</th><th scope=col>TSC</th><th scope=col>XXY</th></tr>\n",
       "\t<tr><th></th><th scope=col>&lt;dbl&gt;</th><th scope=col>&lt;dbl&gt;</th><th scope=col>&lt;dbl&gt;</th><th scope=col>&lt;dbl&gt;</th><th scope=col>&lt;dbl&gt;</th><th scope=col>&lt;dbl&gt;</th><th scope=col>&lt;dbl&gt;</th><th scope=col>&lt;dbl&gt;</th><th scope=col>&lt;dbl&gt;</th><th scope=col>&lt;dbl&gt;</th></tr>\n",
       "</thead>\n",
       "<tbody>\n",
       "\t<tr><th scope=row>22q11DS</th><td>0</td><td>0.1549653</td><td>0.1591321</td><td>0.1273586</td><td>0.1522174</td><td>0.07061786</td><td>0.1336772</td><td>0.05245931</td><td>0.12479664</td><td>0.14570045</td></tr>\n",
       "\t<tr><th scope=row>Down</th><td>0</td><td>0.0000000</td><td>0.2081011</td><td>0.1380285</td><td>0.2301131</td><td>0.16569959</td><td>0.1632742</td><td>0.26298517</td><td>0.08919455</td><td>0.09393338</td></tr>\n",
       "\t<tr><th scope=row>FXS-F</th><td>0</td><td>0.0000000</td><td>0.0000000</td><td>0.1684248</td><td>0.1406751</td><td>0.09440246</td><td>0.1838018</td><td>0.11094055</td><td>0.17763476</td><td>0.21084643</td></tr>\n",
       "\t<tr><th scope=row>FXS-M</th><td>0</td><td>0.0000000</td><td>0.0000000</td><td>0.0000000</td><td>0.1609273</td><td>0.12825981</td><td>0.1165361</td><td>0.08035546</td><td>0.15359230</td><td>0.15394931</td></tr>\n",
       "\t<tr><th scope=row>NF1</th><td>0</td><td>0.0000000</td><td>0.0000000</td><td>0.0000000</td><td>0.0000000</td><td>0.14384974</td><td>0.1478149</td><td>0.14671242</td><td>0.15600650</td><td>0.17776210</td></tr>\n",
       "\t<tr><th scope=row>PW-UPD</th><td>0</td><td>0.0000000</td><td>0.0000000</td><td>0.0000000</td><td>0.0000000</td><td>0.00000000</td><td>0.2461355</td><td>0.16956611</td><td>0.07964314</td><td>0.11826751</td></tr>\n",
       "\t<tr><th scope=row>PW-del</th><td>0</td><td>0.0000000</td><td>0.0000000</td><td>0.0000000</td><td>0.0000000</td><td>0.00000000</td><td>0.0000000</td><td>0.19247172</td><td>0.13068947</td><td>0.10340001</td></tr>\n",
       "\t<tr><th scope=row>SMC15</th><td>0</td><td>0.0000000</td><td>0.0000000</td><td>0.0000000</td><td>0.0000000</td><td>0.00000000</td><td>0.0000000</td><td>0.00000000</td><td>0.13404497</td><td>0.13981589</td></tr>\n",
       "\t<tr><th scope=row>TSC</th><td>0</td><td>0.0000000</td><td>0.0000000</td><td>0.0000000</td><td>0.0000000</td><td>0.00000000</td><td>0.0000000</td><td>0.00000000</td><td>0.00000000</td><td>0.10601852</td></tr>\n",
       "\t<tr><th scope=row>XXY</th><td>0</td><td>0.0000000</td><td>0.0000000</td><td>0.0000000</td><td>0.0000000</td><td>0.00000000</td><td>0.0000000</td><td>0.00000000</td><td>0.00000000</td><td>0.00000000</td></tr>\n",
       "</tbody>\n",
       "</table>\n"
      ],
      "text/latex": [
       "A data.frame: 10 × 10\n",
       "\\begin{tabular}{r|llllllllll}\n",
       "  & 22q11DS & Down & FXS-F & FXS-M & NF1 & PW-UPD & PW-del & SMC15 & TSC & XXY\\\\\n",
       "  & <dbl> & <dbl> & <dbl> & <dbl> & <dbl> & <dbl> & <dbl> & <dbl> & <dbl> & <dbl>\\\\\n",
       "\\hline\n",
       "\t22q11DS & 0 & 0.1549653 & 0.1591321 & 0.1273586 & 0.1522174 & 0.07061786 & 0.1336772 & 0.05245931 & 0.12479664 & 0.14570045\\\\\n",
       "\tDown & 0 & 0.0000000 & 0.2081011 & 0.1380285 & 0.2301131 & 0.16569959 & 0.1632742 & 0.26298517 & 0.08919455 & 0.09393338\\\\\n",
       "\tFXS-F & 0 & 0.0000000 & 0.0000000 & 0.1684248 & 0.1406751 & 0.09440246 & 0.1838018 & 0.11094055 & 0.17763476 & 0.21084643\\\\\n",
       "\tFXS-M & 0 & 0.0000000 & 0.0000000 & 0.0000000 & 0.1609273 & 0.12825981 & 0.1165361 & 0.08035546 & 0.15359230 & 0.15394931\\\\\n",
       "\tNF1 & 0 & 0.0000000 & 0.0000000 & 0.0000000 & 0.0000000 & 0.14384974 & 0.1478149 & 0.14671242 & 0.15600650 & 0.17776210\\\\\n",
       "\tPW-UPD & 0 & 0.0000000 & 0.0000000 & 0.0000000 & 0.0000000 & 0.00000000 & 0.2461355 & 0.16956611 & 0.07964314 & 0.11826751\\\\\n",
       "\tPW-del & 0 & 0.0000000 & 0.0000000 & 0.0000000 & 0.0000000 & 0.00000000 & 0.0000000 & 0.19247172 & 0.13068947 & 0.10340001\\\\\n",
       "\tSMC15 & 0 & 0.0000000 & 0.0000000 & 0.0000000 & 0.0000000 & 0.00000000 & 0.0000000 & 0.00000000 & 0.13404497 & 0.13981589\\\\\n",
       "\tTSC & 0 & 0.0000000 & 0.0000000 & 0.0000000 & 0.0000000 & 0.00000000 & 0.0000000 & 0.00000000 & 0.00000000 & 0.10601852\\\\\n",
       "\tXXY & 0 & 0.0000000 & 0.0000000 & 0.0000000 & 0.0000000 & 0.00000000 & 0.0000000 & 0.00000000 & 0.00000000 & 0.00000000\\\\\n",
       "\\end{tabular}\n"
      ],
      "text/markdown": [
       "\n",
       "A data.frame: 10 × 10\n",
       "\n",
       "| <!--/--> | 22q11DS &lt;dbl&gt; | Down &lt;dbl&gt; | FXS-F &lt;dbl&gt; | FXS-M &lt;dbl&gt; | NF1 &lt;dbl&gt; | PW-UPD &lt;dbl&gt; | PW-del &lt;dbl&gt; | SMC15 &lt;dbl&gt; | TSC &lt;dbl&gt; | XXY &lt;dbl&gt; |\n",
       "|---|---|---|---|---|---|---|---|---|---|---|\n",
       "| 22q11DS | 0 | 0.1549653 | 0.1591321 | 0.1273586 | 0.1522174 | 0.07061786 | 0.1336772 | 0.05245931 | 0.12479664 | 0.14570045 |\n",
       "| Down | 0 | 0.0000000 | 0.2081011 | 0.1380285 | 0.2301131 | 0.16569959 | 0.1632742 | 0.26298517 | 0.08919455 | 0.09393338 |\n",
       "| FXS-F | 0 | 0.0000000 | 0.0000000 | 0.1684248 | 0.1406751 | 0.09440246 | 0.1838018 | 0.11094055 | 0.17763476 | 0.21084643 |\n",
       "| FXS-M | 0 | 0.0000000 | 0.0000000 | 0.0000000 | 0.1609273 | 0.12825981 | 0.1165361 | 0.08035546 | 0.15359230 | 0.15394931 |\n",
       "| NF1 | 0 | 0.0000000 | 0.0000000 | 0.0000000 | 0.0000000 | 0.14384974 | 0.1478149 | 0.14671242 | 0.15600650 | 0.17776210 |\n",
       "| PW-UPD | 0 | 0.0000000 | 0.0000000 | 0.0000000 | 0.0000000 | 0.00000000 | 0.2461355 | 0.16956611 | 0.07964314 | 0.11826751 |\n",
       "| PW-del | 0 | 0.0000000 | 0.0000000 | 0.0000000 | 0.0000000 | 0.00000000 | 0.0000000 | 0.19247172 | 0.13068947 | 0.10340001 |\n",
       "| SMC15 | 0 | 0.0000000 | 0.0000000 | 0.0000000 | 0.0000000 | 0.00000000 | 0.0000000 | 0.00000000 | 0.13404497 | 0.13981589 |\n",
       "| TSC | 0 | 0.0000000 | 0.0000000 | 0.0000000 | 0.0000000 | 0.00000000 | 0.0000000 | 0.00000000 | 0.00000000 | 0.10601852 |\n",
       "| XXY | 0 | 0.0000000 | 0.0000000 | 0.0000000 | 0.0000000 | 0.00000000 | 0.0000000 | 0.00000000 | 0.00000000 | 0.00000000 |\n",
       "\n"
      ],
      "text/plain": [
       "        22q11DS Down      FXS-F     FXS-M     NF1       PW-UPD     PW-del   \n",
       "22q11DS 0       0.1549653 0.1591321 0.1273586 0.1522174 0.07061786 0.1336772\n",
       "Down    0       0.0000000 0.2081011 0.1380285 0.2301131 0.16569959 0.1632742\n",
       "FXS-F   0       0.0000000 0.0000000 0.1684248 0.1406751 0.09440246 0.1838018\n",
       "FXS-M   0       0.0000000 0.0000000 0.0000000 0.1609273 0.12825981 0.1165361\n",
       "NF1     0       0.0000000 0.0000000 0.0000000 0.0000000 0.14384974 0.1478149\n",
       "PW-UPD  0       0.0000000 0.0000000 0.0000000 0.0000000 0.00000000 0.2461355\n",
       "PW-del  0       0.0000000 0.0000000 0.0000000 0.0000000 0.00000000 0.0000000\n",
       "SMC15   0       0.0000000 0.0000000 0.0000000 0.0000000 0.00000000 0.0000000\n",
       "TSC     0       0.0000000 0.0000000 0.0000000 0.0000000 0.00000000 0.0000000\n",
       "XXY     0       0.0000000 0.0000000 0.0000000 0.0000000 0.00000000 0.0000000\n",
       "        SMC15      TSC        XXY       \n",
       "22q11DS 0.05245931 0.12479664 0.14570045\n",
       "Down    0.26298517 0.08919455 0.09393338\n",
       "FXS-F   0.11094055 0.17763476 0.21084643\n",
       "FXS-M   0.08035546 0.15359230 0.15394931\n",
       "NF1     0.14671242 0.15600650 0.17776210\n",
       "PW-UPD  0.16956611 0.07964314 0.11826751\n",
       "PW-del  0.19247172 0.13068947 0.10340001\n",
       "SMC15   0.00000000 0.13404497 0.13981589\n",
       "TSC     0.00000000 0.00000000 0.10601852\n",
       "XXY     0.00000000 0.00000000 0.00000000"
      ]
     },
     "metadata": {},
     "output_type": "display_data"
    }
   ],
   "source": [
    "df_std_mcc_noprior"
   ]
  },
  {
   "cell_type": "markdown",
   "metadata": {
    "heading_collapsed": true
   },
   "source": [
    "## Pairwise, uniform prior"
   ]
  },
  {
   "cell_type": "markdown",
   "metadata": {
    "hidden": true
   },
   "source": [
    "Define a subfolder to save the results"
   ]
  },
  {
   "cell_type": "code",
   "execution_count": 29,
   "metadata": {
    "hidden": true
   },
   "outputs": [],
   "source": [
    "subfolder = 'NB_uniprior/'"
   ]
  },
  {
   "cell_type": "markdown",
   "metadata": {
    "hidden": true
   },
   "source": [
    "Set up dataframes to store the results"
   ]
  },
  {
   "cell_type": "code",
   "execution_count": 30,
   "metadata": {
    "hidden": true
   },
   "outputs": [],
   "source": [
    "###Create dataframes to store the results ofthe pairwise analysis\n",
    "df_mean_mcc_uniprior <- data.frame(temp_map)\n",
    "df_std_mcc_uniprior <- data.frame(temp_map)\n",
    "df_mean_acc_uniprior <- data.frame(temp_map)\n",
    "df_std_acc_uniprior <- data.frame(temp_map)\n",
    "\n",
    "###Name the rows and columns\n",
    "rownames(df_mean_mcc_uniprior) <- classes\n",
    "names(df_mean_mcc_uniprior) <- classes\n",
    "\n",
    "rownames(df_std_mcc_uniprior) <- classes\n",
    "names(df_std_mcc_uniprior) <- classes\n",
    "\n",
    "rownames(df_mean_acc_uniprior) <- classes\n",
    "names(df_mean_acc_uniprior) <- classes\n",
    "\n",
    "rownames(df_std_acc_uniprior) <- classes\n",
    "names(df_std_acc_uniprior) <- classes"
   ]
  },
  {
   "cell_type": "markdown",
   "metadata": {
    "hidden": true
   },
   "source": [
    "Define the prior"
   ]
  },
  {
   "cell_type": "code",
   "execution_count": 31,
   "metadata": {
    "hidden": true
   },
   "outputs": [],
   "source": [
    "prior_uniprior = rep(1/2, times=2)"
   ]
  },
  {
   "cell_type": "markdown",
   "metadata": {
    "hidden": true
   },
   "source": [
    "Train the pairwise models and store the results"
   ]
  },
  {
   "cell_type": "code",
   "execution_count": null,
   "metadata": {
    "hidden": true
   },
   "outputs": [],
   "source": [
    "for (comp in comparisons){\n",
    "    \n",
    "    class1 = as.character(comp[[1]])\n",
    "    class2 = as.character(comp[[2]])\n",
    "    \n",
    "    data <- get_pairwise_data(class1,class2, data_Rev)\n",
    "    \n",
    "    res_list = repeated_training(data, n_repeats, n_folds, lrange, prior_uniprior) \n",
    "    \n",
    "    df_mean_acc_uniprior[[class1, class2]]<- res_list[[\"mean_acc\"]] \n",
    "    df_std_acc_uniprior[[class1, class2]]<- res_list[[\"std_acc\"]]\n",
    "    df_mean_mcc_uniprior[[class1, class2]]<- res_list[[\"mean_mcc\"]]\n",
    "    df_std_mcc_uniprior[[class1, class2]]<- res_list[[\"std_mcc\"]]\n",
    "    \n",
    "}"
   ]
  },
  {
   "cell_type": "markdown",
   "metadata": {
    "hidden": true
   },
   "source": [
    "Save the results"
   ]
  },
  {
   "cell_type": "code",
   "execution_count": 33,
   "metadata": {
    "hidden": true
   },
   "outputs": [],
   "source": [
    "write.csv(df_mean_acc_uniprior, file = paste(results_path,subfolder,\"df_mean_acc_uniprior.csv\", sep = \"\", collapse = NULL))\n",
    "write.csv(df_std_acc_uniprior, file = paste(results_path,subfolder,\"df_std_acc_uniprior.csv\", sep = \"\", collapse = NULL))\n",
    "write.csv(df_mean_mcc_uniprior, file = paste(results_path,subfolder,\"df_mean_mcc_uniprior.csv\", sep = \"\", collapse = NULL))\n",
    "write.csv(df_std_mcc_uniprior, file = paste(results_path,subfolder,\"df_std_mcc_uniprior.csv\", sep = \"\", collapse = NULL))"
   ]
  },
  {
   "cell_type": "markdown",
   "metadata": {
    "hidden": true
   },
   "source": [
    "Print out the dataframes"
   ]
  },
  {
   "cell_type": "code",
   "execution_count": 34,
   "metadata": {
    "hidden": true
   },
   "outputs": [
    {
     "data": {
      "text/html": [
       "<table>\n",
       "<caption>A data.frame: 10 × 10</caption>\n",
       "<thead>\n",
       "\t<tr><th></th><th scope=col>22q11DS</th><th scope=col>Down</th><th scope=col>FXS-F</th><th scope=col>FXS-M</th><th scope=col>NF1</th><th scope=col>PW-UPD</th><th scope=col>PW-del</th><th scope=col>SMC15</th><th scope=col>TSC</th><th scope=col>XXY</th></tr>\n",
       "\t<tr><th></th><th scope=col>&lt;dbl&gt;</th><th scope=col>&lt;dbl&gt;</th><th scope=col>&lt;dbl&gt;</th><th scope=col>&lt;dbl&gt;</th><th scope=col>&lt;dbl&gt;</th><th scope=col>&lt;dbl&gt;</th><th scope=col>&lt;dbl&gt;</th><th scope=col>&lt;dbl&gt;</th><th scope=col>&lt;dbl&gt;</th><th scope=col>&lt;dbl&gt;</th></tr>\n",
       "</thead>\n",
       "<tbody>\n",
       "\t<tr><th scope=row>22q11DS</th><td>0</td><td>0.8173913</td><td>0.8074074</td><td>0.8352941</td><td>0.7518519</td><td>0.8777778</td><td>0.8111111</td><td>0.9120000</td><td>0.6636364</td><td>0.8071429</td></tr>\n",
       "\t<tr><th scope=row>Down</th><td>0</td><td>0.0000000</td><td>0.8785714</td><td>0.8333333</td><td>0.7071429</td><td>0.6714286</td><td>0.6571429</td><td>0.8666667</td><td>0.6741935</td><td>0.7333333</td></tr>\n",
       "\t<tr><th scope=row>FXS-F</th><td>0</td><td>0.0000000</td><td>0.0000000</td><td>0.7680000</td><td>0.6833333</td><td>0.9277778</td><td>0.8166667</td><td>0.8875000</td><td>0.5971429</td><td>0.7894737</td></tr>\n",
       "\t<tr><th scope=row>FXS-M</th><td>0</td><td>0.0000000</td><td>0.0000000</td><td>0.0000000</td><td>0.7600000</td><td>0.8440000</td><td>0.8880000</td><td>0.9565217</td><td>0.6809524</td><td>0.8192308</td></tr>\n",
       "\t<tr><th scope=row>NF1</th><td>0</td><td>0.0000000</td><td>0.0000000</td><td>0.0000000</td><td>0.0000000</td><td>0.8388889</td><td>0.8777778</td><td>0.8375000</td><td>0.6314286</td><td>0.7894737</td></tr>\n",
       "\t<tr><th scope=row>PW-UPD</th><td>0</td><td>0.0000000</td><td>0.0000000</td><td>0.0000000</td><td>0.0000000</td><td>0.0000000</td><td>0.5166667</td><td>0.8125000</td><td>0.7914286</td><td>0.8894737</td></tr>\n",
       "\t<tr><th scope=row>PW-del</th><td>0</td><td>0.0000000</td><td>0.0000000</td><td>0.0000000</td><td>0.0000000</td><td>0.0000000</td><td>0.0000000</td><td>0.8562500</td><td>0.7228571</td><td>0.8105263</td></tr>\n",
       "\t<tr><th scope=row>SMC15</th><td>0</td><td>0.0000000</td><td>0.0000000</td><td>0.0000000</td><td>0.0000000</td><td>0.0000000</td><td>0.0000000</td><td>0.0000000</td><td>0.8000000</td><td>0.8882353</td></tr>\n",
       "\t<tr><th scope=row>TSC</th><td>0</td><td>0.0000000</td><td>0.0000000</td><td>0.0000000</td><td>0.0000000</td><td>0.0000000</td><td>0.0000000</td><td>0.0000000</td><td>0.0000000</td><td>0.6583333</td></tr>\n",
       "\t<tr><th scope=row>XXY</th><td>0</td><td>0.0000000</td><td>0.0000000</td><td>0.0000000</td><td>0.0000000</td><td>0.0000000</td><td>0.0000000</td><td>0.0000000</td><td>0.0000000</td><td>0.0000000</td></tr>\n",
       "</tbody>\n",
       "</table>\n"
      ],
      "text/latex": [
       "A data.frame: 10 × 10\n",
       "\\begin{tabular}{r|llllllllll}\n",
       "  & 22q11DS & Down & FXS-F & FXS-M & NF1 & PW-UPD & PW-del & SMC15 & TSC & XXY\\\\\n",
       "  & <dbl> & <dbl> & <dbl> & <dbl> & <dbl> & <dbl> & <dbl> & <dbl> & <dbl> & <dbl>\\\\\n",
       "\\hline\n",
       "\t22q11DS & 0 & 0.8173913 & 0.8074074 & 0.8352941 & 0.7518519 & 0.8777778 & 0.8111111 & 0.9120000 & 0.6636364 & 0.8071429\\\\\n",
       "\tDown & 0 & 0.0000000 & 0.8785714 & 0.8333333 & 0.7071429 & 0.6714286 & 0.6571429 & 0.8666667 & 0.6741935 & 0.7333333\\\\\n",
       "\tFXS-F & 0 & 0.0000000 & 0.0000000 & 0.7680000 & 0.6833333 & 0.9277778 & 0.8166667 & 0.8875000 & 0.5971429 & 0.7894737\\\\\n",
       "\tFXS-M & 0 & 0.0000000 & 0.0000000 & 0.0000000 & 0.7600000 & 0.8440000 & 0.8880000 & 0.9565217 & 0.6809524 & 0.8192308\\\\\n",
       "\tNF1 & 0 & 0.0000000 & 0.0000000 & 0.0000000 & 0.0000000 & 0.8388889 & 0.8777778 & 0.8375000 & 0.6314286 & 0.7894737\\\\\n",
       "\tPW-UPD & 0 & 0.0000000 & 0.0000000 & 0.0000000 & 0.0000000 & 0.0000000 & 0.5166667 & 0.8125000 & 0.7914286 & 0.8894737\\\\\n",
       "\tPW-del & 0 & 0.0000000 & 0.0000000 & 0.0000000 & 0.0000000 & 0.0000000 & 0.0000000 & 0.8562500 & 0.7228571 & 0.8105263\\\\\n",
       "\tSMC15 & 0 & 0.0000000 & 0.0000000 & 0.0000000 & 0.0000000 & 0.0000000 & 0.0000000 & 0.0000000 & 0.8000000 & 0.8882353\\\\\n",
       "\tTSC & 0 & 0.0000000 & 0.0000000 & 0.0000000 & 0.0000000 & 0.0000000 & 0.0000000 & 0.0000000 & 0.0000000 & 0.6583333\\\\\n",
       "\tXXY & 0 & 0.0000000 & 0.0000000 & 0.0000000 & 0.0000000 & 0.0000000 & 0.0000000 & 0.0000000 & 0.0000000 & 0.0000000\\\\\n",
       "\\end{tabular}\n"
      ],
      "text/markdown": [
       "\n",
       "A data.frame: 10 × 10\n",
       "\n",
       "| <!--/--> | 22q11DS &lt;dbl&gt; | Down &lt;dbl&gt; | FXS-F &lt;dbl&gt; | FXS-M &lt;dbl&gt; | NF1 &lt;dbl&gt; | PW-UPD &lt;dbl&gt; | PW-del &lt;dbl&gt; | SMC15 &lt;dbl&gt; | TSC &lt;dbl&gt; | XXY &lt;dbl&gt; |\n",
       "|---|---|---|---|---|---|---|---|---|---|---|\n",
       "| 22q11DS | 0 | 0.8173913 | 0.8074074 | 0.8352941 | 0.7518519 | 0.8777778 | 0.8111111 | 0.9120000 | 0.6636364 | 0.8071429 |\n",
       "| Down | 0 | 0.0000000 | 0.8785714 | 0.8333333 | 0.7071429 | 0.6714286 | 0.6571429 | 0.8666667 | 0.6741935 | 0.7333333 |\n",
       "| FXS-F | 0 | 0.0000000 | 0.0000000 | 0.7680000 | 0.6833333 | 0.9277778 | 0.8166667 | 0.8875000 | 0.5971429 | 0.7894737 |\n",
       "| FXS-M | 0 | 0.0000000 | 0.0000000 | 0.0000000 | 0.7600000 | 0.8440000 | 0.8880000 | 0.9565217 | 0.6809524 | 0.8192308 |\n",
       "| NF1 | 0 | 0.0000000 | 0.0000000 | 0.0000000 | 0.0000000 | 0.8388889 | 0.8777778 | 0.8375000 | 0.6314286 | 0.7894737 |\n",
       "| PW-UPD | 0 | 0.0000000 | 0.0000000 | 0.0000000 | 0.0000000 | 0.0000000 | 0.5166667 | 0.8125000 | 0.7914286 | 0.8894737 |\n",
       "| PW-del | 0 | 0.0000000 | 0.0000000 | 0.0000000 | 0.0000000 | 0.0000000 | 0.0000000 | 0.8562500 | 0.7228571 | 0.8105263 |\n",
       "| SMC15 | 0 | 0.0000000 | 0.0000000 | 0.0000000 | 0.0000000 | 0.0000000 | 0.0000000 | 0.0000000 | 0.8000000 | 0.8882353 |\n",
       "| TSC | 0 | 0.0000000 | 0.0000000 | 0.0000000 | 0.0000000 | 0.0000000 | 0.0000000 | 0.0000000 | 0.0000000 | 0.6583333 |\n",
       "| XXY | 0 | 0.0000000 | 0.0000000 | 0.0000000 | 0.0000000 | 0.0000000 | 0.0000000 | 0.0000000 | 0.0000000 | 0.0000000 |\n",
       "\n"
      ],
      "text/plain": [
       "        22q11DS Down      FXS-F     FXS-M     NF1       PW-UPD    PW-del   \n",
       "22q11DS 0       0.8173913 0.8074074 0.8352941 0.7518519 0.8777778 0.8111111\n",
       "Down    0       0.0000000 0.8785714 0.8333333 0.7071429 0.6714286 0.6571429\n",
       "FXS-F   0       0.0000000 0.0000000 0.7680000 0.6833333 0.9277778 0.8166667\n",
       "FXS-M   0       0.0000000 0.0000000 0.0000000 0.7600000 0.8440000 0.8880000\n",
       "NF1     0       0.0000000 0.0000000 0.0000000 0.0000000 0.8388889 0.8777778\n",
       "PW-UPD  0       0.0000000 0.0000000 0.0000000 0.0000000 0.0000000 0.5166667\n",
       "PW-del  0       0.0000000 0.0000000 0.0000000 0.0000000 0.0000000 0.0000000\n",
       "SMC15   0       0.0000000 0.0000000 0.0000000 0.0000000 0.0000000 0.0000000\n",
       "TSC     0       0.0000000 0.0000000 0.0000000 0.0000000 0.0000000 0.0000000\n",
       "XXY     0       0.0000000 0.0000000 0.0000000 0.0000000 0.0000000 0.0000000\n",
       "        SMC15     TSC       XXY      \n",
       "22q11DS 0.9120000 0.6636364 0.8071429\n",
       "Down    0.8666667 0.6741935 0.7333333\n",
       "FXS-F   0.8875000 0.5971429 0.7894737\n",
       "FXS-M   0.9565217 0.6809524 0.8192308\n",
       "NF1     0.8375000 0.6314286 0.7894737\n",
       "PW-UPD  0.8125000 0.7914286 0.8894737\n",
       "PW-del  0.8562500 0.7228571 0.8105263\n",
       "SMC15   0.0000000 0.8000000 0.8882353\n",
       "TSC     0.0000000 0.0000000 0.6583333\n",
       "XXY     0.0000000 0.0000000 0.0000000"
      ]
     },
     "metadata": {},
     "output_type": "display_data"
    }
   ],
   "source": [
    "df_mean_acc_uniprior"
   ]
  },
  {
   "cell_type": "code",
   "execution_count": 35,
   "metadata": {
    "hidden": true
   },
   "outputs": [
    {
     "data": {
      "text/html": [
       "<table>\n",
       "<caption>A data.frame: 10 × 10</caption>\n",
       "<thead>\n",
       "\t<tr><th></th><th scope=col>22q11DS</th><th scope=col>Down</th><th scope=col>FXS-F</th><th scope=col>FXS-M</th><th scope=col>NF1</th><th scope=col>PW-UPD</th><th scope=col>PW-del</th><th scope=col>SMC15</th><th scope=col>TSC</th><th scope=col>XXY</th></tr>\n",
       "\t<tr><th></th><th scope=col>&lt;dbl&gt;</th><th scope=col>&lt;dbl&gt;</th><th scope=col>&lt;dbl&gt;</th><th scope=col>&lt;dbl&gt;</th><th scope=col>&lt;dbl&gt;</th><th scope=col>&lt;dbl&gt;</th><th scope=col>&lt;dbl&gt;</th><th scope=col>&lt;dbl&gt;</th><th scope=col>&lt;dbl&gt;</th><th scope=col>&lt;dbl&gt;</th></tr>\n",
       "</thead>\n",
       "<tbody>\n",
       "\t<tr><th scope=row>22q11DS</th><td>0</td><td>0.05724179</td><td>0.07570227</td><td>0.06383851</td><td>0.0630718</td><td>0.04953680</td><td>0.05907894</td><td>0.04131182</td><td>0.05335399</td><td>0.07751819</td></tr>\n",
       "\t<tr><th scope=row>Down</th><td>0</td><td>0.00000000</td><td>0.10674529</td><td>0.06827242</td><td>0.1406577</td><td>0.13552619</td><td>0.10540926</td><td>0.05826716</td><td>0.07967154</td><td>0.07027284</td></tr>\n",
       "\t<tr><th scope=row>FXS-F</th><td>0</td><td>0.00000000</td><td>0.00000000</td><td>0.07728734</td><td>0.1482638</td><td>0.07878536</td><td>0.11126533</td><td>0.05743354</td><td>0.08979695</td><td>0.07845853</td></tr>\n",
       "\t<tr><th scope=row>FXS-M</th><td>0</td><td>0.00000000</td><td>0.00000000</td><td>0.00000000</td><td>0.0800000</td><td>0.04788876</td><td>0.04917090</td><td>0.04099170</td><td>0.09336788</td><td>0.07702984</td></tr>\n",
       "\t<tr><th scope=row>NF1</th><td>0</td><td>0.00000000</td><td>0.00000000</td><td>0.00000000</td><td>0.0000000</td><td>0.09240722</td><td>0.08996265</td><td>0.12219065</td><td>0.04140393</td><td>0.09283338</td></tr>\n",
       "\t<tr><th scope=row>PW-UPD</th><td>0</td><td>0.00000000</td><td>0.00000000</td><td>0.00000000</td><td>0.0000000</td><td>0.00000000</td><td>0.05885277</td><td>0.07216878</td><td>0.08416591</td><td>0.07627040</td></tr>\n",
       "\t<tr><th scope=row>PW-del</th><td>0</td><td>0.00000000</td><td>0.00000000</td><td>0.00000000</td><td>0.0000000</td><td>0.00000000</td><td>0.00000000</td><td>0.07246886</td><td>0.09336248</td><td>0.11423734</td></tr>\n",
       "\t<tr><th scope=row>SMC15</th><td>0</td><td>0.00000000</td><td>0.00000000</td><td>0.00000000</td><td>0.0000000</td><td>0.00000000</td><td>0.00000000</td><td>0.00000000</td><td>0.07979159</td><td>0.09383126</td></tr>\n",
       "\t<tr><th scope=row>TSC</th><td>0</td><td>0.00000000</td><td>0.00000000</td><td>0.00000000</td><td>0.0000000</td><td>0.00000000</td><td>0.00000000</td><td>0.00000000</td><td>0.00000000</td><td>0.08182797</td></tr>\n",
       "\t<tr><th scope=row>XXY</th><td>0</td><td>0.00000000</td><td>0.00000000</td><td>0.00000000</td><td>0.0000000</td><td>0.00000000</td><td>0.00000000</td><td>0.00000000</td><td>0.00000000</td><td>0.00000000</td></tr>\n",
       "</tbody>\n",
       "</table>\n"
      ],
      "text/latex": [
       "A data.frame: 10 × 10\n",
       "\\begin{tabular}{r|llllllllll}\n",
       "  & 22q11DS & Down & FXS-F & FXS-M & NF1 & PW-UPD & PW-del & SMC15 & TSC & XXY\\\\\n",
       "  & <dbl> & <dbl> & <dbl> & <dbl> & <dbl> & <dbl> & <dbl> & <dbl> & <dbl> & <dbl>\\\\\n",
       "\\hline\n",
       "\t22q11DS & 0 & 0.05724179 & 0.07570227 & 0.06383851 & 0.0630718 & 0.04953680 & 0.05907894 & 0.04131182 & 0.05335399 & 0.07751819\\\\\n",
       "\tDown & 0 & 0.00000000 & 0.10674529 & 0.06827242 & 0.1406577 & 0.13552619 & 0.10540926 & 0.05826716 & 0.07967154 & 0.07027284\\\\\n",
       "\tFXS-F & 0 & 0.00000000 & 0.00000000 & 0.07728734 & 0.1482638 & 0.07878536 & 0.11126533 & 0.05743354 & 0.08979695 & 0.07845853\\\\\n",
       "\tFXS-M & 0 & 0.00000000 & 0.00000000 & 0.00000000 & 0.0800000 & 0.04788876 & 0.04917090 & 0.04099170 & 0.09336788 & 0.07702984\\\\\n",
       "\tNF1 & 0 & 0.00000000 & 0.00000000 & 0.00000000 & 0.0000000 & 0.09240722 & 0.08996265 & 0.12219065 & 0.04140393 & 0.09283338\\\\\n",
       "\tPW-UPD & 0 & 0.00000000 & 0.00000000 & 0.00000000 & 0.0000000 & 0.00000000 & 0.05885277 & 0.07216878 & 0.08416591 & 0.07627040\\\\\n",
       "\tPW-del & 0 & 0.00000000 & 0.00000000 & 0.00000000 & 0.0000000 & 0.00000000 & 0.00000000 & 0.07246886 & 0.09336248 & 0.11423734\\\\\n",
       "\tSMC15 & 0 & 0.00000000 & 0.00000000 & 0.00000000 & 0.0000000 & 0.00000000 & 0.00000000 & 0.00000000 & 0.07979159 & 0.09383126\\\\\n",
       "\tTSC & 0 & 0.00000000 & 0.00000000 & 0.00000000 & 0.0000000 & 0.00000000 & 0.00000000 & 0.00000000 & 0.00000000 & 0.08182797\\\\\n",
       "\tXXY & 0 & 0.00000000 & 0.00000000 & 0.00000000 & 0.0000000 & 0.00000000 & 0.00000000 & 0.00000000 & 0.00000000 & 0.00000000\\\\\n",
       "\\end{tabular}\n"
      ],
      "text/markdown": [
       "\n",
       "A data.frame: 10 × 10\n",
       "\n",
       "| <!--/--> | 22q11DS &lt;dbl&gt; | Down &lt;dbl&gt; | FXS-F &lt;dbl&gt; | FXS-M &lt;dbl&gt; | NF1 &lt;dbl&gt; | PW-UPD &lt;dbl&gt; | PW-del &lt;dbl&gt; | SMC15 &lt;dbl&gt; | TSC &lt;dbl&gt; | XXY &lt;dbl&gt; |\n",
       "|---|---|---|---|---|---|---|---|---|---|---|\n",
       "| 22q11DS | 0 | 0.05724179 | 0.07570227 | 0.06383851 | 0.0630718 | 0.04953680 | 0.05907894 | 0.04131182 | 0.05335399 | 0.07751819 |\n",
       "| Down | 0 | 0.00000000 | 0.10674529 | 0.06827242 | 0.1406577 | 0.13552619 | 0.10540926 | 0.05826716 | 0.07967154 | 0.07027284 |\n",
       "| FXS-F | 0 | 0.00000000 | 0.00000000 | 0.07728734 | 0.1482638 | 0.07878536 | 0.11126533 | 0.05743354 | 0.08979695 | 0.07845853 |\n",
       "| FXS-M | 0 | 0.00000000 | 0.00000000 | 0.00000000 | 0.0800000 | 0.04788876 | 0.04917090 | 0.04099170 | 0.09336788 | 0.07702984 |\n",
       "| NF1 | 0 | 0.00000000 | 0.00000000 | 0.00000000 | 0.0000000 | 0.09240722 | 0.08996265 | 0.12219065 | 0.04140393 | 0.09283338 |\n",
       "| PW-UPD | 0 | 0.00000000 | 0.00000000 | 0.00000000 | 0.0000000 | 0.00000000 | 0.05885277 | 0.07216878 | 0.08416591 | 0.07627040 |\n",
       "| PW-del | 0 | 0.00000000 | 0.00000000 | 0.00000000 | 0.0000000 | 0.00000000 | 0.00000000 | 0.07246886 | 0.09336248 | 0.11423734 |\n",
       "| SMC15 | 0 | 0.00000000 | 0.00000000 | 0.00000000 | 0.0000000 | 0.00000000 | 0.00000000 | 0.00000000 | 0.07979159 | 0.09383126 |\n",
       "| TSC | 0 | 0.00000000 | 0.00000000 | 0.00000000 | 0.0000000 | 0.00000000 | 0.00000000 | 0.00000000 | 0.00000000 | 0.08182797 |\n",
       "| XXY | 0 | 0.00000000 | 0.00000000 | 0.00000000 | 0.0000000 | 0.00000000 | 0.00000000 | 0.00000000 | 0.00000000 | 0.00000000 |\n",
       "\n"
      ],
      "text/plain": [
       "        22q11DS Down       FXS-F      FXS-M      NF1       PW-UPD    \n",
       "22q11DS 0       0.05724179 0.07570227 0.06383851 0.0630718 0.04953680\n",
       "Down    0       0.00000000 0.10674529 0.06827242 0.1406577 0.13552619\n",
       "FXS-F   0       0.00000000 0.00000000 0.07728734 0.1482638 0.07878536\n",
       "FXS-M   0       0.00000000 0.00000000 0.00000000 0.0800000 0.04788876\n",
       "NF1     0       0.00000000 0.00000000 0.00000000 0.0000000 0.09240722\n",
       "PW-UPD  0       0.00000000 0.00000000 0.00000000 0.0000000 0.00000000\n",
       "PW-del  0       0.00000000 0.00000000 0.00000000 0.0000000 0.00000000\n",
       "SMC15   0       0.00000000 0.00000000 0.00000000 0.0000000 0.00000000\n",
       "TSC     0       0.00000000 0.00000000 0.00000000 0.0000000 0.00000000\n",
       "XXY     0       0.00000000 0.00000000 0.00000000 0.0000000 0.00000000\n",
       "        PW-del     SMC15      TSC        XXY       \n",
       "22q11DS 0.05907894 0.04131182 0.05335399 0.07751819\n",
       "Down    0.10540926 0.05826716 0.07967154 0.07027284\n",
       "FXS-F   0.11126533 0.05743354 0.08979695 0.07845853\n",
       "FXS-M   0.04917090 0.04099170 0.09336788 0.07702984\n",
       "NF1     0.08996265 0.12219065 0.04140393 0.09283338\n",
       "PW-UPD  0.05885277 0.07216878 0.08416591 0.07627040\n",
       "PW-del  0.00000000 0.07246886 0.09336248 0.11423734\n",
       "SMC15   0.00000000 0.00000000 0.07979159 0.09383126\n",
       "TSC     0.00000000 0.00000000 0.00000000 0.08182797\n",
       "XXY     0.00000000 0.00000000 0.00000000 0.00000000"
      ]
     },
     "metadata": {},
     "output_type": "display_data"
    }
   ],
   "source": [
    "df_std_acc_uniprior"
   ]
  },
  {
   "cell_type": "code",
   "execution_count": 36,
   "metadata": {
    "hidden": true
   },
   "outputs": [
    {
     "data": {
      "text/html": [
       "<table>\n",
       "<caption>A data.frame: 10 × 10</caption>\n",
       "<thead>\n",
       "\t<tr><th></th><th scope=col>22q11DS</th><th scope=col>Down</th><th scope=col>FXS-F</th><th scope=col>FXS-M</th><th scope=col>NF1</th><th scope=col>PW-UPD</th><th scope=col>PW-del</th><th scope=col>SMC15</th><th scope=col>TSC</th><th scope=col>XXY</th></tr>\n",
       "\t<tr><th></th><th scope=col>&lt;dbl&gt;</th><th scope=col>&lt;dbl&gt;</th><th scope=col>&lt;dbl&gt;</th><th scope=col>&lt;dbl&gt;</th><th scope=col>&lt;dbl&gt;</th><th scope=col>&lt;dbl&gt;</th><th scope=col>&lt;dbl&gt;</th><th scope=col>&lt;dbl&gt;</th><th scope=col>&lt;dbl&gt;</th><th scope=col>&lt;dbl&gt;</th></tr>\n",
       "</thead>\n",
       "<tbody>\n",
       "\t<tr><th scope=row>22q11DS</th><td>0</td><td>0.6405912</td><td>0.5838005</td><td>0.6706299</td><td>0.4260457</td><td>0.7590521</td><td>0.6273706</td><td>0.7897862</td><td>0.3808178</td><td>0.5694701</td></tr>\n",
       "\t<tr><th scope=row>Down</th><td>0</td><td>0.0000000</td><td>0.7934959</td><td>0.6400197</td><td>0.5017890</td><td>0.3586404</td><td>0.2486980</td><td>0.7614891</td><td>0.3857166</td><td>0.5499838</td></tr>\n",
       "\t<tr><th scope=row>FXS-F</th><td>0</td><td>0.0000000</td><td>0.0000000</td><td>0.5173494</td><td>0.3672573</td><td>0.8711583</td><td>0.6466648</td><td>0.7748572</td><td>0.2908900</td><td>0.5913408</td></tr>\n",
       "\t<tr><th scope=row>FXS-M</th><td>0</td><td>0.0000000</td><td>0.0000000</td><td>0.0000000</td><td>0.4999119</td><td>0.6930867</td><td>0.7824012</td><td>0.9015448</td><td>0.3673748</td><td>0.6313791</td></tr>\n",
       "\t<tr><th scope=row>NF1</th><td>0</td><td>0.0000000</td><td>0.0000000</td><td>0.0000000</td><td>0.0000000</td><td>0.7091546</td><td>0.7836563</td><td>0.6886851</td><td>0.1743192</td><td>0.5840964</td></tr>\n",
       "\t<tr><th scope=row>PW-UPD</th><td>0</td><td>0.0000000</td><td>0.0000000</td><td>0.0000000</td><td>0.0000000</td><td>0.0000000</td><td>0.0346257</td><td>0.6297577</td><td>0.6226124</td><td>0.7886172</td></tr>\n",
       "\t<tr><th scope=row>PW-del</th><td>0</td><td>0.0000000</td><td>0.0000000</td><td>0.0000000</td><td>0.0000000</td><td>0.0000000</td><td>0.0000000</td><td>0.7212619</td><td>0.5037121</td><td>0.6438729</td></tr>\n",
       "\t<tr><th scope=row>SMC15</th><td>0</td><td>0.0000000</td><td>0.0000000</td><td>0.0000000</td><td>0.0000000</td><td>0.0000000</td><td>0.0000000</td><td>0.0000000</td><td>0.5617320</td><td>0.7781012</td></tr>\n",
       "\t<tr><th scope=row>TSC</th><td>0</td><td>0.0000000</td><td>0.0000000</td><td>0.0000000</td><td>0.0000000</td><td>0.0000000</td><td>0.0000000</td><td>0.0000000</td><td>0.0000000</td><td>0.3875652</td></tr>\n",
       "\t<tr><th scope=row>XXY</th><td>0</td><td>0.0000000</td><td>0.0000000</td><td>0.0000000</td><td>0.0000000</td><td>0.0000000</td><td>0.0000000</td><td>0.0000000</td><td>0.0000000</td><td>0.0000000</td></tr>\n",
       "</tbody>\n",
       "</table>\n"
      ],
      "text/latex": [
       "A data.frame: 10 × 10\n",
       "\\begin{tabular}{r|llllllllll}\n",
       "  & 22q11DS & Down & FXS-F & FXS-M & NF1 & PW-UPD & PW-del & SMC15 & TSC & XXY\\\\\n",
       "  & <dbl> & <dbl> & <dbl> & <dbl> & <dbl> & <dbl> & <dbl> & <dbl> & <dbl> & <dbl>\\\\\n",
       "\\hline\n",
       "\t22q11DS & 0 & 0.6405912 & 0.5838005 & 0.6706299 & 0.4260457 & 0.7590521 & 0.6273706 & 0.7897862 & 0.3808178 & 0.5694701\\\\\n",
       "\tDown & 0 & 0.0000000 & 0.7934959 & 0.6400197 & 0.5017890 & 0.3586404 & 0.2486980 & 0.7614891 & 0.3857166 & 0.5499838\\\\\n",
       "\tFXS-F & 0 & 0.0000000 & 0.0000000 & 0.5173494 & 0.3672573 & 0.8711583 & 0.6466648 & 0.7748572 & 0.2908900 & 0.5913408\\\\\n",
       "\tFXS-M & 0 & 0.0000000 & 0.0000000 & 0.0000000 & 0.4999119 & 0.6930867 & 0.7824012 & 0.9015448 & 0.3673748 & 0.6313791\\\\\n",
       "\tNF1 & 0 & 0.0000000 & 0.0000000 & 0.0000000 & 0.0000000 & 0.7091546 & 0.7836563 & 0.6886851 & 0.1743192 & 0.5840964\\\\\n",
       "\tPW-UPD & 0 & 0.0000000 & 0.0000000 & 0.0000000 & 0.0000000 & 0.0000000 & 0.0346257 & 0.6297577 & 0.6226124 & 0.7886172\\\\\n",
       "\tPW-del & 0 & 0.0000000 & 0.0000000 & 0.0000000 & 0.0000000 & 0.0000000 & 0.0000000 & 0.7212619 & 0.5037121 & 0.6438729\\\\\n",
       "\tSMC15 & 0 & 0.0000000 & 0.0000000 & 0.0000000 & 0.0000000 & 0.0000000 & 0.0000000 & 0.0000000 & 0.5617320 & 0.7781012\\\\\n",
       "\tTSC & 0 & 0.0000000 & 0.0000000 & 0.0000000 & 0.0000000 & 0.0000000 & 0.0000000 & 0.0000000 & 0.0000000 & 0.3875652\\\\\n",
       "\tXXY & 0 & 0.0000000 & 0.0000000 & 0.0000000 & 0.0000000 & 0.0000000 & 0.0000000 & 0.0000000 & 0.0000000 & 0.0000000\\\\\n",
       "\\end{tabular}\n"
      ],
      "text/markdown": [
       "\n",
       "A data.frame: 10 × 10\n",
       "\n",
       "| <!--/--> | 22q11DS &lt;dbl&gt; | Down &lt;dbl&gt; | FXS-F &lt;dbl&gt; | FXS-M &lt;dbl&gt; | NF1 &lt;dbl&gt; | PW-UPD &lt;dbl&gt; | PW-del &lt;dbl&gt; | SMC15 &lt;dbl&gt; | TSC &lt;dbl&gt; | XXY &lt;dbl&gt; |\n",
       "|---|---|---|---|---|---|---|---|---|---|---|\n",
       "| 22q11DS | 0 | 0.6405912 | 0.5838005 | 0.6706299 | 0.4260457 | 0.7590521 | 0.6273706 | 0.7897862 | 0.3808178 | 0.5694701 |\n",
       "| Down | 0 | 0.0000000 | 0.7934959 | 0.6400197 | 0.5017890 | 0.3586404 | 0.2486980 | 0.7614891 | 0.3857166 | 0.5499838 |\n",
       "| FXS-F | 0 | 0.0000000 | 0.0000000 | 0.5173494 | 0.3672573 | 0.8711583 | 0.6466648 | 0.7748572 | 0.2908900 | 0.5913408 |\n",
       "| FXS-M | 0 | 0.0000000 | 0.0000000 | 0.0000000 | 0.4999119 | 0.6930867 | 0.7824012 | 0.9015448 | 0.3673748 | 0.6313791 |\n",
       "| NF1 | 0 | 0.0000000 | 0.0000000 | 0.0000000 | 0.0000000 | 0.7091546 | 0.7836563 | 0.6886851 | 0.1743192 | 0.5840964 |\n",
       "| PW-UPD | 0 | 0.0000000 | 0.0000000 | 0.0000000 | 0.0000000 | 0.0000000 | 0.0346257 | 0.6297577 | 0.6226124 | 0.7886172 |\n",
       "| PW-del | 0 | 0.0000000 | 0.0000000 | 0.0000000 | 0.0000000 | 0.0000000 | 0.0000000 | 0.7212619 | 0.5037121 | 0.6438729 |\n",
       "| SMC15 | 0 | 0.0000000 | 0.0000000 | 0.0000000 | 0.0000000 | 0.0000000 | 0.0000000 | 0.0000000 | 0.5617320 | 0.7781012 |\n",
       "| TSC | 0 | 0.0000000 | 0.0000000 | 0.0000000 | 0.0000000 | 0.0000000 | 0.0000000 | 0.0000000 | 0.0000000 | 0.3875652 |\n",
       "| XXY | 0 | 0.0000000 | 0.0000000 | 0.0000000 | 0.0000000 | 0.0000000 | 0.0000000 | 0.0000000 | 0.0000000 | 0.0000000 |\n",
       "\n"
      ],
      "text/plain": [
       "        22q11DS Down      FXS-F     FXS-M     NF1       PW-UPD    PW-del   \n",
       "22q11DS 0       0.6405912 0.5838005 0.6706299 0.4260457 0.7590521 0.6273706\n",
       "Down    0       0.0000000 0.7934959 0.6400197 0.5017890 0.3586404 0.2486980\n",
       "FXS-F   0       0.0000000 0.0000000 0.5173494 0.3672573 0.8711583 0.6466648\n",
       "FXS-M   0       0.0000000 0.0000000 0.0000000 0.4999119 0.6930867 0.7824012\n",
       "NF1     0       0.0000000 0.0000000 0.0000000 0.0000000 0.7091546 0.7836563\n",
       "PW-UPD  0       0.0000000 0.0000000 0.0000000 0.0000000 0.0000000 0.0346257\n",
       "PW-del  0       0.0000000 0.0000000 0.0000000 0.0000000 0.0000000 0.0000000\n",
       "SMC15   0       0.0000000 0.0000000 0.0000000 0.0000000 0.0000000 0.0000000\n",
       "TSC     0       0.0000000 0.0000000 0.0000000 0.0000000 0.0000000 0.0000000\n",
       "XXY     0       0.0000000 0.0000000 0.0000000 0.0000000 0.0000000 0.0000000\n",
       "        SMC15     TSC       XXY      \n",
       "22q11DS 0.7897862 0.3808178 0.5694701\n",
       "Down    0.7614891 0.3857166 0.5499838\n",
       "FXS-F   0.7748572 0.2908900 0.5913408\n",
       "FXS-M   0.9015448 0.3673748 0.6313791\n",
       "NF1     0.6886851 0.1743192 0.5840964\n",
       "PW-UPD  0.6297577 0.6226124 0.7886172\n",
       "PW-del  0.7212619 0.5037121 0.6438729\n",
       "SMC15   0.0000000 0.5617320 0.7781012\n",
       "TSC     0.0000000 0.0000000 0.3875652\n",
       "XXY     0.0000000 0.0000000 0.0000000"
      ]
     },
     "metadata": {},
     "output_type": "display_data"
    }
   ],
   "source": [
    "df_mean_mcc_uniprior"
   ]
  },
  {
   "cell_type": "code",
   "execution_count": 37,
   "metadata": {
    "hidden": true
   },
   "outputs": [
    {
     "data": {
      "text/html": [
       "<table>\n",
       "<caption>A data.frame: 10 × 10</caption>\n",
       "<thead>\n",
       "\t<tr><th></th><th scope=col>22q11DS</th><th scope=col>Down</th><th scope=col>FXS-F</th><th scope=col>FXS-M</th><th scope=col>NF1</th><th scope=col>PW-UPD</th><th scope=col>PW-del</th><th scope=col>SMC15</th><th scope=col>TSC</th><th scope=col>XXY</th></tr>\n",
       "\t<tr><th></th><th scope=col>&lt;dbl&gt;</th><th scope=col>&lt;dbl&gt;</th><th scope=col>&lt;dbl&gt;</th><th scope=col>&lt;dbl&gt;</th><th scope=col>&lt;dbl&gt;</th><th scope=col>&lt;dbl&gt;</th><th scope=col>&lt;dbl&gt;</th><th scope=col>&lt;dbl&gt;</th><th scope=col>&lt;dbl&gt;</th><th scope=col>&lt;dbl&gt;</th></tr>\n",
       "</thead>\n",
       "<tbody>\n",
       "\t<tr><th scope=row>22q11DS</th><td>0</td><td>0.09964519</td><td>0.1746930</td><td>0.1288155</td><td>0.1651080</td><td>0.07807705</td><td>0.10618178</td><td>0.10232353</td><td>0.09529416</td><td>0.1898214</td></tr>\n",
       "\t<tr><th scope=row>Down</th><td>0</td><td>0.00000000</td><td>0.1603541</td><td>0.1409318</td><td>0.2695277</td><td>0.24111319</td><td>0.23610671</td><td>0.09314127</td><td>0.12645086</td><td>0.1055033</td></tr>\n",
       "\t<tr><th scope=row>FXS-F</th><td>0</td><td>0.00000000</td><td>0.0000000</td><td>0.1645911</td><td>0.3032293</td><td>0.13669714</td><td>0.22388173</td><td>0.11841962</td><td>0.14738394</td><td>0.1541945</td></tr>\n",
       "\t<tr><th scope=row>FXS-M</th><td>0</td><td>0.00000000</td><td>0.0000000</td><td>0.0000000</td><td>0.1735969</td><td>0.07718060</td><td>0.09211531</td><td>0.09327821</td><td>0.19413124</td><td>0.1619132</td></tr>\n",
       "\t<tr><th scope=row>NF1</th><td>0</td><td>0.00000000</td><td>0.0000000</td><td>0.0000000</td><td>0.0000000</td><td>0.15240741</td><td>0.15159289</td><td>0.23337937</td><td>0.15795507</td><td>0.1883515</td></tr>\n",
       "\t<tr><th scope=row>PW-UPD</th><td>0</td><td>0.00000000</td><td>0.0000000</td><td>0.0000000</td><td>0.0000000</td><td>0.00000000</td><td>0.11929729</td><td>0.14518663</td><td>0.11140848</td><td>0.1436586</td></tr>\n",
       "\t<tr><th scope=row>PW-del</th><td>0</td><td>0.00000000</td><td>0.0000000</td><td>0.0000000</td><td>0.0000000</td><td>0.00000000</td><td>0.00000000</td><td>0.14456350</td><td>0.14701948</td><td>0.2220914</td></tr>\n",
       "\t<tr><th scope=row>SMC15</th><td>0</td><td>0.00000000</td><td>0.0000000</td><td>0.0000000</td><td>0.0000000</td><td>0.00000000</td><td>0.00000000</td><td>0.00000000</td><td>0.13147375</td><td>0.1935264</td></tr>\n",
       "\t<tr><th scope=row>TSC</th><td>0</td><td>0.00000000</td><td>0.0000000</td><td>0.0000000</td><td>0.0000000</td><td>0.00000000</td><td>0.00000000</td><td>0.00000000</td><td>0.00000000</td><td>0.1229115</td></tr>\n",
       "\t<tr><th scope=row>XXY</th><td>0</td><td>0.00000000</td><td>0.0000000</td><td>0.0000000</td><td>0.0000000</td><td>0.00000000</td><td>0.00000000</td><td>0.00000000</td><td>0.00000000</td><td>0.0000000</td></tr>\n",
       "</tbody>\n",
       "</table>\n"
      ],
      "text/latex": [
       "A data.frame: 10 × 10\n",
       "\\begin{tabular}{r|llllllllll}\n",
       "  & 22q11DS & Down & FXS-F & FXS-M & NF1 & PW-UPD & PW-del & SMC15 & TSC & XXY\\\\\n",
       "  & <dbl> & <dbl> & <dbl> & <dbl> & <dbl> & <dbl> & <dbl> & <dbl> & <dbl> & <dbl>\\\\\n",
       "\\hline\n",
       "\t22q11DS & 0 & 0.09964519 & 0.1746930 & 0.1288155 & 0.1651080 & 0.07807705 & 0.10618178 & 0.10232353 & 0.09529416 & 0.1898214\\\\\n",
       "\tDown & 0 & 0.00000000 & 0.1603541 & 0.1409318 & 0.2695277 & 0.24111319 & 0.23610671 & 0.09314127 & 0.12645086 & 0.1055033\\\\\n",
       "\tFXS-F & 0 & 0.00000000 & 0.0000000 & 0.1645911 & 0.3032293 & 0.13669714 & 0.22388173 & 0.11841962 & 0.14738394 & 0.1541945\\\\\n",
       "\tFXS-M & 0 & 0.00000000 & 0.0000000 & 0.0000000 & 0.1735969 & 0.07718060 & 0.09211531 & 0.09327821 & 0.19413124 & 0.1619132\\\\\n",
       "\tNF1 & 0 & 0.00000000 & 0.0000000 & 0.0000000 & 0.0000000 & 0.15240741 & 0.15159289 & 0.23337937 & 0.15795507 & 0.1883515\\\\\n",
       "\tPW-UPD & 0 & 0.00000000 & 0.0000000 & 0.0000000 & 0.0000000 & 0.00000000 & 0.11929729 & 0.14518663 & 0.11140848 & 0.1436586\\\\\n",
       "\tPW-del & 0 & 0.00000000 & 0.0000000 & 0.0000000 & 0.0000000 & 0.00000000 & 0.00000000 & 0.14456350 & 0.14701948 & 0.2220914\\\\\n",
       "\tSMC15 & 0 & 0.00000000 & 0.0000000 & 0.0000000 & 0.0000000 & 0.00000000 & 0.00000000 & 0.00000000 & 0.13147375 & 0.1935264\\\\\n",
       "\tTSC & 0 & 0.00000000 & 0.0000000 & 0.0000000 & 0.0000000 & 0.00000000 & 0.00000000 & 0.00000000 & 0.00000000 & 0.1229115\\\\\n",
       "\tXXY & 0 & 0.00000000 & 0.0000000 & 0.0000000 & 0.0000000 & 0.00000000 & 0.00000000 & 0.00000000 & 0.00000000 & 0.0000000\\\\\n",
       "\\end{tabular}\n"
      ],
      "text/markdown": [
       "\n",
       "A data.frame: 10 × 10\n",
       "\n",
       "| <!--/--> | 22q11DS &lt;dbl&gt; | Down &lt;dbl&gt; | FXS-F &lt;dbl&gt; | FXS-M &lt;dbl&gt; | NF1 &lt;dbl&gt; | PW-UPD &lt;dbl&gt; | PW-del &lt;dbl&gt; | SMC15 &lt;dbl&gt; | TSC &lt;dbl&gt; | XXY &lt;dbl&gt; |\n",
       "|---|---|---|---|---|---|---|---|---|---|---|\n",
       "| 22q11DS | 0 | 0.09964519 | 0.1746930 | 0.1288155 | 0.1651080 | 0.07807705 | 0.10618178 | 0.10232353 | 0.09529416 | 0.1898214 |\n",
       "| Down | 0 | 0.00000000 | 0.1603541 | 0.1409318 | 0.2695277 | 0.24111319 | 0.23610671 | 0.09314127 | 0.12645086 | 0.1055033 |\n",
       "| FXS-F | 0 | 0.00000000 | 0.0000000 | 0.1645911 | 0.3032293 | 0.13669714 | 0.22388173 | 0.11841962 | 0.14738394 | 0.1541945 |\n",
       "| FXS-M | 0 | 0.00000000 | 0.0000000 | 0.0000000 | 0.1735969 | 0.07718060 | 0.09211531 | 0.09327821 | 0.19413124 | 0.1619132 |\n",
       "| NF1 | 0 | 0.00000000 | 0.0000000 | 0.0000000 | 0.0000000 | 0.15240741 | 0.15159289 | 0.23337937 | 0.15795507 | 0.1883515 |\n",
       "| PW-UPD | 0 | 0.00000000 | 0.0000000 | 0.0000000 | 0.0000000 | 0.00000000 | 0.11929729 | 0.14518663 | 0.11140848 | 0.1436586 |\n",
       "| PW-del | 0 | 0.00000000 | 0.0000000 | 0.0000000 | 0.0000000 | 0.00000000 | 0.00000000 | 0.14456350 | 0.14701948 | 0.2220914 |\n",
       "| SMC15 | 0 | 0.00000000 | 0.0000000 | 0.0000000 | 0.0000000 | 0.00000000 | 0.00000000 | 0.00000000 | 0.13147375 | 0.1935264 |\n",
       "| TSC | 0 | 0.00000000 | 0.0000000 | 0.0000000 | 0.0000000 | 0.00000000 | 0.00000000 | 0.00000000 | 0.00000000 | 0.1229115 |\n",
       "| XXY | 0 | 0.00000000 | 0.0000000 | 0.0000000 | 0.0000000 | 0.00000000 | 0.00000000 | 0.00000000 | 0.00000000 | 0.0000000 |\n",
       "\n"
      ],
      "text/plain": [
       "        22q11DS Down       FXS-F     FXS-M     NF1       PW-UPD     PW-del    \n",
       "22q11DS 0       0.09964519 0.1746930 0.1288155 0.1651080 0.07807705 0.10618178\n",
       "Down    0       0.00000000 0.1603541 0.1409318 0.2695277 0.24111319 0.23610671\n",
       "FXS-F   0       0.00000000 0.0000000 0.1645911 0.3032293 0.13669714 0.22388173\n",
       "FXS-M   0       0.00000000 0.0000000 0.0000000 0.1735969 0.07718060 0.09211531\n",
       "NF1     0       0.00000000 0.0000000 0.0000000 0.0000000 0.15240741 0.15159289\n",
       "PW-UPD  0       0.00000000 0.0000000 0.0000000 0.0000000 0.00000000 0.11929729\n",
       "PW-del  0       0.00000000 0.0000000 0.0000000 0.0000000 0.00000000 0.00000000\n",
       "SMC15   0       0.00000000 0.0000000 0.0000000 0.0000000 0.00000000 0.00000000\n",
       "TSC     0       0.00000000 0.0000000 0.0000000 0.0000000 0.00000000 0.00000000\n",
       "XXY     0       0.00000000 0.0000000 0.0000000 0.0000000 0.00000000 0.00000000\n",
       "        SMC15      TSC        XXY      \n",
       "22q11DS 0.10232353 0.09529416 0.1898214\n",
       "Down    0.09314127 0.12645086 0.1055033\n",
       "FXS-F   0.11841962 0.14738394 0.1541945\n",
       "FXS-M   0.09327821 0.19413124 0.1619132\n",
       "NF1     0.23337937 0.15795507 0.1883515\n",
       "PW-UPD  0.14518663 0.11140848 0.1436586\n",
       "PW-del  0.14456350 0.14701948 0.2220914\n",
       "SMC15   0.00000000 0.13147375 0.1935264\n",
       "TSC     0.00000000 0.00000000 0.1229115\n",
       "XXY     0.00000000 0.00000000 0.0000000"
      ]
     },
     "metadata": {},
     "output_type": "display_data"
    }
   ],
   "source": [
    "df_std_mcc_uniprior"
   ]
  }
 ],
 "metadata": {
  "kernelspec": {
   "display_name": "R",
   "language": "R",
   "name": "ir"
  },
  "language_info": {
   "codemirror_mode": "r",
   "file_extension": ".r",
   "mimetype": "text/x-r-source",
   "name": "R",
   "pygments_lexer": "r",
   "version": "3.5.1"
  }
 },
 "nbformat": 4,
 "nbformat_minor": 2
}

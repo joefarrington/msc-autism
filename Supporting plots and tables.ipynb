{
 "cells": [
  {
   "cell_type": "markdown",
   "metadata": {},
   "source": [
    "# Supporting tables and plots"
   ]
  },
  {
   "cell_type": "markdown",
   "metadata": {
    "heading_collapsed": true
   },
   "source": [
    "## Load in libraries and data"
   ]
  },
  {
   "cell_type": "markdown",
   "metadata": {
    "hidden": true
   },
   "source": [
    "Run Python file listing imports"
   ]
  },
  {
   "cell_type": "code",
   "execution_count": 2,
   "metadata": {
    "hidden": true
   },
   "outputs": [
    {
     "name": "stderr",
     "output_type": "stream",
     "text": [
      "/Users/joefarrington/anaconda3/lib/python3.6/site-packages/sklearn/externals/six.py:31: DeprecationWarning: The module is deprecated in version 0.21 and will be removed in version 0.23 since we've dropped support for Python 2.7. Please rely on the official version of six (https://pypi.org/project/six/).\n",
      "  \"(https://pypi.org/project/six/).\", DeprecationWarning)\n",
      "/Users/joefarrington/anaconda3/lib/python3.6/site-packages/sklearn/externals/joblib/__init__.py:15: DeprecationWarning: sklearn.externals.joblib is deprecated in 0.21 and will be removed in 0.23. Please import this functionality directly from joblib, which can be installed with: pip install joblib. If this warning is raised when loading pickled models, you may need to re-serialize those models with scikit-learn 0.21+.\n",
      "  warnings.warn(msg, category=DeprecationWarning)\n"
     ]
    }
   ],
   "source": [
    "%run libraries.py"
   ]
  },
  {
   "cell_type": "markdown",
   "metadata": {
    "hidden": true
   },
   "source": [
    "Load in the data"
   ]
  },
  {
   "cell_type": "code",
   "execution_count": 3,
   "metadata": {
    "hidden": true
   },
   "outputs": [],
   "source": [
    "data_path = '/Users/joefarrington/Documents/MSc Machine Learning/Project/Data/'\n",
    "df = pd.read_csv(data_path+'/compiled_JMFadditions.csv')"
   ]
  },
  {
   "cell_type": "markdown",
   "metadata": {
    "hidden": true
   },
   "source": [
    "Define a path to save the datasets"
   ]
  },
  {
   "cell_type": "code",
   "execution_count": 17,
   "metadata": {
    "hidden": true
   },
   "outputs": [],
   "source": [
    "save_path = '/Users/joefarrington/Documents/MSc Machine Learning/Project/August/Plots/Support/'"
   ]
  },
  {
   "cell_type": "markdown",
   "metadata": {
    "heading_collapsed": true
   },
   "source": [
    "## Drop rows with missing data"
   ]
  },
  {
   "cell_type": "markdown",
   "metadata": {
    "hidden": true
   },
   "source": [
    "Check for missing values"
   ]
  },
  {
   "cell_type": "code",
   "execution_count": 4,
   "metadata": {
    "hidden": true
   },
   "outputs": [
    {
     "data": {
      "text/plain": [
       "IQ            124\n",
       "adi_50m        82\n",
       "adi_51m        82\n",
       "adi_57m        82\n",
       "adi_49m        82\n",
       "adi_62m        82\n",
       "adi_63m        82\n",
       "adi_52m        82\n",
       "adi_53m        82\n",
       "adi_54m        82\n",
       "adi_31e        82\n",
       "adi_55m        82\n",
       "adi_56m        82\n",
       "adi_58e        82\n",
       "adi_59m        82\n",
       "adi_42m        82\n",
       "adi_43m        82\n",
       "adi_44m        82\n",
       "adi_45m        82\n",
       "adi_47m        82\n",
       "adi_48m        82\n",
       "adi_61m        82\n",
       "adi_34e        82\n",
       "adi_35e        82\n",
       "adi_33e        83\n",
       "adi_36e        82\n",
       "adi_37e        82\n",
       "adi_38e        82\n",
       "adi_67e        82\n",
       "adi_68e        82\n",
       "adi_39e        82\n",
       "adi_70e        82\n",
       "Item64_65      84\n",
       "Item77_78      82\n",
       "Item69_71      82\n",
       "Gender_FXS    732\n",
       "PW_subset     846\n",
       "Verbal        593\n",
       "dtype: int64"
      ]
     },
     "execution_count": 4,
     "metadata": {},
     "output_type": "execute_result"
    }
   ],
   "source": [
    "null_columns=df.columns[df.isnull().any()]\n",
    "df[null_columns].isnull().sum()"
   ]
  },
  {
   "cell_type": "markdown",
   "metadata": {
    "hidden": true
   },
   "source": [
    "Drop rows that do not have complete questionnaire responses: this includes 82 rows for FXS with no questionnaire responses, 2 rows for NF1 missing a response to Item64_65 and one row for XXY where the data apears to be incorrect due to data being overwritten by a formula in the Excel source document. "
   ]
  },
  {
   "cell_type": "code",
   "execution_count": 5,
   "metadata": {
    "hidden": true
   },
   "outputs": [],
   "source": [
    "df = df.dropna(subset=['Item64_65', 'adi_33e'])"
   ]
  },
  {
   "cell_type": "markdown",
   "metadata": {
    "heading_collapsed": true
   },
   "source": [
    "## ADI-R summary table"
   ]
  },
  {
   "cell_type": "markdown",
   "metadata": {
    "hidden": true
   },
   "source": [
    "Domain A"
   ]
  },
  {
   "cell_type": "code",
   "execution_count": 44,
   "metadata": {
    "hidden": true
   },
   "outputs": [
    {
     "data": {
      "text/html": [
       "<div>\n",
       "<style scoped>\n",
       "    .dataframe tbody tr th:only-of-type {\n",
       "        vertical-align: middle;\n",
       "    }\n",
       "\n",
       "    .dataframe tbody tr th {\n",
       "        vertical-align: top;\n",
       "    }\n",
       "\n",
       "    .dataframe thead th {\n",
       "        text-align: right;\n",
       "    }\n",
       "</style>\n",
       "<table border=\"1\" class=\"dataframe\">\n",
       "  <thead>\n",
       "    <tr style=\"text-align: right;\">\n",
       "      <th></th>\n",
       "      <th>count</th>\n",
       "      <th>mean</th>\n",
       "      <th>std</th>\n",
       "      <th>min</th>\n",
       "      <th>25%</th>\n",
       "      <th>50%</th>\n",
       "      <th>75%</th>\n",
       "      <th>max</th>\n",
       "    </tr>\n",
       "    <tr>\n",
       "      <th>Revised_genetic_syndrome</th>\n",
       "      <th></th>\n",
       "      <th></th>\n",
       "      <th></th>\n",
       "      <th></th>\n",
       "      <th></th>\n",
       "      <th></th>\n",
       "      <th></th>\n",
       "      <th></th>\n",
       "    </tr>\n",
       "  </thead>\n",
       "  <tbody>\n",
       "    <tr>\n",
       "      <th>22q11DS</th>\n",
       "      <td>90.0</td>\n",
       "      <td>9.788889</td>\n",
       "      <td>6.367922</td>\n",
       "      <td>0.0</td>\n",
       "      <td>5.00</td>\n",
       "      <td>10.0</td>\n",
       "      <td>14.00</td>\n",
       "      <td>25.0</td>\n",
       "    </tr>\n",
       "    <tr>\n",
       "      <th>Down</th>\n",
       "      <td>27.0</td>\n",
       "      <td>5.666667</td>\n",
       "      <td>4.891122</td>\n",
       "      <td>0.0</td>\n",
       "      <td>1.50</td>\n",
       "      <td>5.0</td>\n",
       "      <td>9.00</td>\n",
       "      <td>16.0</td>\n",
       "    </tr>\n",
       "    <tr>\n",
       "      <th>FXS-F</th>\n",
       "      <td>45.0</td>\n",
       "      <td>10.266667</td>\n",
       "      <td>7.729518</td>\n",
       "      <td>0.0</td>\n",
       "      <td>4.00</td>\n",
       "      <td>9.0</td>\n",
       "      <td>14.00</td>\n",
       "      <td>28.0</td>\n",
       "    </tr>\n",
       "    <tr>\n",
       "      <th>FXS-M</th>\n",
       "      <td>81.0</td>\n",
       "      <td>15.679012</td>\n",
       "      <td>5.928379</td>\n",
       "      <td>4.0</td>\n",
       "      <td>12.00</td>\n",
       "      <td>15.0</td>\n",
       "      <td>20.00</td>\n",
       "      <td>28.0</td>\n",
       "    </tr>\n",
       "    <tr>\n",
       "      <th>NF1</th>\n",
       "      <td>48.0</td>\n",
       "      <td>14.375000</td>\n",
       "      <td>8.426465</td>\n",
       "      <td>0.0</td>\n",
       "      <td>7.75</td>\n",
       "      <td>15.0</td>\n",
       "      <td>21.50</td>\n",
       "      <td>28.0</td>\n",
       "    </tr>\n",
       "    <tr>\n",
       "      <th>PW-UPD</th>\n",
       "      <td>45.0</td>\n",
       "      <td>8.488889</td>\n",
       "      <td>5.590667</td>\n",
       "      <td>0.0</td>\n",
       "      <td>4.00</td>\n",
       "      <td>9.0</td>\n",
       "      <td>12.00</td>\n",
       "      <td>25.0</td>\n",
       "    </tr>\n",
       "    <tr>\n",
       "      <th>PW-del</th>\n",
       "      <td>49.0</td>\n",
       "      <td>7.306122</td>\n",
       "      <td>5.128369</td>\n",
       "      <td>0.0</td>\n",
       "      <td>3.00</td>\n",
       "      <td>7.0</td>\n",
       "      <td>10.00</td>\n",
       "      <td>22.0</td>\n",
       "    </tr>\n",
       "    <tr>\n",
       "      <th>SMC15</th>\n",
       "      <td>35.0</td>\n",
       "      <td>17.028571</td>\n",
       "      <td>5.543866</td>\n",
       "      <td>7.0</td>\n",
       "      <td>11.50</td>\n",
       "      <td>18.0</td>\n",
       "      <td>21.50</td>\n",
       "      <td>28.0</td>\n",
       "    </tr>\n",
       "    <tr>\n",
       "      <th>TSC</th>\n",
       "      <td>134.0</td>\n",
       "      <td>13.485075</td>\n",
       "      <td>8.489476</td>\n",
       "      <td>0.0</td>\n",
       "      <td>5.00</td>\n",
       "      <td>13.0</td>\n",
       "      <td>21.00</td>\n",
       "      <td>30.0</td>\n",
       "    </tr>\n",
       "    <tr>\n",
       "      <th>XXY</th>\n",
       "      <td>50.0</td>\n",
       "      <td>8.380000</td>\n",
       "      <td>5.979182</td>\n",
       "      <td>0.0</td>\n",
       "      <td>3.25</td>\n",
       "      <td>7.5</td>\n",
       "      <td>12.75</td>\n",
       "      <td>21.0</td>\n",
       "    </tr>\n",
       "    <tr>\n",
       "      <th>none</th>\n",
       "      <td>251.0</td>\n",
       "      <td>12.673307</td>\n",
       "      <td>9.481184</td>\n",
       "      <td>0.0</td>\n",
       "      <td>3.00</td>\n",
       "      <td>12.0</td>\n",
       "      <td>20.50</td>\n",
       "      <td>30.0</td>\n",
       "    </tr>\n",
       "  </tbody>\n",
       "</table>\n",
       "</div>"
      ],
      "text/plain": [
       "                          count       mean       std  min    25%   50%    75%  \\\n",
       "Revised_genetic_syndrome                                                        \n",
       "22q11DS                    90.0   9.788889  6.367922  0.0   5.00  10.0  14.00   \n",
       "Down                       27.0   5.666667  4.891122  0.0   1.50   5.0   9.00   \n",
       "FXS-F                      45.0  10.266667  7.729518  0.0   4.00   9.0  14.00   \n",
       "FXS-M                      81.0  15.679012  5.928379  4.0  12.00  15.0  20.00   \n",
       "NF1                        48.0  14.375000  8.426465  0.0   7.75  15.0  21.50   \n",
       "PW-UPD                     45.0   8.488889  5.590667  0.0   4.00   9.0  12.00   \n",
       "PW-del                     49.0   7.306122  5.128369  0.0   3.00   7.0  10.00   \n",
       "SMC15                      35.0  17.028571  5.543866  7.0  11.50  18.0  21.50   \n",
       "TSC                       134.0  13.485075  8.489476  0.0   5.00  13.0  21.00   \n",
       "XXY                        50.0   8.380000  5.979182  0.0   3.25   7.5  12.75   \n",
       "none                      251.0  12.673307  9.481184  0.0   3.00  12.0  20.50   \n",
       "\n",
       "                           max  \n",
       "Revised_genetic_syndrome        \n",
       "22q11DS                   25.0  \n",
       "Down                      16.0  \n",
       "FXS-F                     28.0  \n",
       "FXS-M                     28.0  \n",
       "NF1                       28.0  \n",
       "PW-UPD                    25.0  \n",
       "PW-del                    22.0  \n",
       "SMC15                     28.0  \n",
       "TSC                       30.0  \n",
       "XXY                       21.0  \n",
       "none                      30.0  "
      ]
     },
     "execution_count": 44,
     "metadata": {},
     "output_type": "execute_result"
    }
   ],
   "source": [
    "df['grand_total_A'].astype('float').groupby(df['Revised_genetic_syndrome']).describe()"
   ]
  },
  {
   "cell_type": "markdown",
   "metadata": {
    "hidden": true
   },
   "source": [
    "Domain B"
   ]
  },
  {
   "cell_type": "code",
   "execution_count": 45,
   "metadata": {
    "hidden": true
   },
   "outputs": [
    {
     "data": {
      "text/html": [
       "<div>\n",
       "<style scoped>\n",
       "    .dataframe tbody tr th:only-of-type {\n",
       "        vertical-align: middle;\n",
       "    }\n",
       "\n",
       "    .dataframe tbody tr th {\n",
       "        vertical-align: top;\n",
       "    }\n",
       "\n",
       "    .dataframe thead th {\n",
       "        text-align: right;\n",
       "    }\n",
       "</style>\n",
       "<table border=\"1\" class=\"dataframe\">\n",
       "  <thead>\n",
       "    <tr style=\"text-align: right;\">\n",
       "      <th></th>\n",
       "      <th>count</th>\n",
       "      <th>mean</th>\n",
       "      <th>std</th>\n",
       "      <th>min</th>\n",
       "      <th>25%</th>\n",
       "      <th>50%</th>\n",
       "      <th>75%</th>\n",
       "      <th>max</th>\n",
       "    </tr>\n",
       "    <tr>\n",
       "      <th>Revised_genetic_syndrome</th>\n",
       "      <th></th>\n",
       "      <th></th>\n",
       "      <th></th>\n",
       "      <th></th>\n",
       "      <th></th>\n",
       "      <th></th>\n",
       "      <th></th>\n",
       "      <th></th>\n",
       "    </tr>\n",
       "  </thead>\n",
       "  <tbody>\n",
       "    <tr>\n",
       "      <th>22q11DS</th>\n",
       "      <td>90.0</td>\n",
       "      <td>7.700000</td>\n",
       "      <td>4.867803</td>\n",
       "      <td>0.0</td>\n",
       "      <td>4.0</td>\n",
       "      <td>8.0</td>\n",
       "      <td>11.0</td>\n",
       "      <td>19.0</td>\n",
       "    </tr>\n",
       "    <tr>\n",
       "      <th>Down</th>\n",
       "      <td>27.0</td>\n",
       "      <td>5.407407</td>\n",
       "      <td>4.325766</td>\n",
       "      <td>0.0</td>\n",
       "      <td>2.0</td>\n",
       "      <td>5.0</td>\n",
       "      <td>8.5</td>\n",
       "      <td>14.0</td>\n",
       "    </tr>\n",
       "    <tr>\n",
       "      <th>FXS-F</th>\n",
       "      <td>45.0</td>\n",
       "      <td>7.866667</td>\n",
       "      <td>6.058803</td>\n",
       "      <td>0.0</td>\n",
       "      <td>4.0</td>\n",
       "      <td>7.0</td>\n",
       "      <td>11.0</td>\n",
       "      <td>24.0</td>\n",
       "    </tr>\n",
       "    <tr>\n",
       "      <th>FXS-M</th>\n",
       "      <td>81.0</td>\n",
       "      <td>12.629630</td>\n",
       "      <td>4.920479</td>\n",
       "      <td>2.0</td>\n",
       "      <td>9.0</td>\n",
       "      <td>13.0</td>\n",
       "      <td>16.0</td>\n",
       "      <td>23.0</td>\n",
       "    </tr>\n",
       "    <tr>\n",
       "      <th>NF1</th>\n",
       "      <td>48.0</td>\n",
       "      <td>10.958333</td>\n",
       "      <td>6.610624</td>\n",
       "      <td>1.0</td>\n",
       "      <td>5.0</td>\n",
       "      <td>10.5</td>\n",
       "      <td>16.0</td>\n",
       "      <td>22.0</td>\n",
       "    </tr>\n",
       "    <tr>\n",
       "      <th>PW-UPD</th>\n",
       "      <td>45.0</td>\n",
       "      <td>6.622222</td>\n",
       "      <td>4.978540</td>\n",
       "      <td>0.0</td>\n",
       "      <td>3.0</td>\n",
       "      <td>6.0</td>\n",
       "      <td>9.0</td>\n",
       "      <td>20.0</td>\n",
       "    </tr>\n",
       "    <tr>\n",
       "      <th>PW-del</th>\n",
       "      <td>49.0</td>\n",
       "      <td>4.897959</td>\n",
       "      <td>4.149523</td>\n",
       "      <td>0.0</td>\n",
       "      <td>2.0</td>\n",
       "      <td>4.0</td>\n",
       "      <td>7.0</td>\n",
       "      <td>20.0</td>\n",
       "    </tr>\n",
       "    <tr>\n",
       "      <th>SMC15</th>\n",
       "      <td>35.0</td>\n",
       "      <td>14.857143</td>\n",
       "      <td>5.208268</td>\n",
       "      <td>3.0</td>\n",
       "      <td>11.0</td>\n",
       "      <td>16.0</td>\n",
       "      <td>19.0</td>\n",
       "      <td>24.0</td>\n",
       "    </tr>\n",
       "    <tr>\n",
       "      <th>TSC</th>\n",
       "      <td>134.0</td>\n",
       "      <td>10.104478</td>\n",
       "      <td>6.014105</td>\n",
       "      <td>0.0</td>\n",
       "      <td>5.0</td>\n",
       "      <td>10.0</td>\n",
       "      <td>14.0</td>\n",
       "      <td>26.0</td>\n",
       "    </tr>\n",
       "    <tr>\n",
       "      <th>XXY</th>\n",
       "      <td>50.0</td>\n",
       "      <td>8.820000</td>\n",
       "      <td>5.476070</td>\n",
       "      <td>0.0</td>\n",
       "      <td>5.0</td>\n",
       "      <td>9.0</td>\n",
       "      <td>11.0</td>\n",
       "      <td>23.0</td>\n",
       "    </tr>\n",
       "    <tr>\n",
       "      <th>none</th>\n",
       "      <td>251.0</td>\n",
       "      <td>9.713147</td>\n",
       "      <td>6.980357</td>\n",
       "      <td>0.0</td>\n",
       "      <td>4.0</td>\n",
       "      <td>10.0</td>\n",
       "      <td>15.0</td>\n",
       "      <td>26.0</td>\n",
       "    </tr>\n",
       "  </tbody>\n",
       "</table>\n",
       "</div>"
      ],
      "text/plain": [
       "                          count       mean       std  min   25%   50%   75%  \\\n",
       "Revised_genetic_syndrome                                                      \n",
       "22q11DS                    90.0   7.700000  4.867803  0.0   4.0   8.0  11.0   \n",
       "Down                       27.0   5.407407  4.325766  0.0   2.0   5.0   8.5   \n",
       "FXS-F                      45.0   7.866667  6.058803  0.0   4.0   7.0  11.0   \n",
       "FXS-M                      81.0  12.629630  4.920479  2.0   9.0  13.0  16.0   \n",
       "NF1                        48.0  10.958333  6.610624  1.0   5.0  10.5  16.0   \n",
       "PW-UPD                     45.0   6.622222  4.978540  0.0   3.0   6.0   9.0   \n",
       "PW-del                     49.0   4.897959  4.149523  0.0   2.0   4.0   7.0   \n",
       "SMC15                      35.0  14.857143  5.208268  3.0  11.0  16.0  19.0   \n",
       "TSC                       134.0  10.104478  6.014105  0.0   5.0  10.0  14.0   \n",
       "XXY                        50.0   8.820000  5.476070  0.0   5.0   9.0  11.0   \n",
       "none                      251.0   9.713147  6.980357  0.0   4.0  10.0  15.0   \n",
       "\n",
       "                           max  \n",
       "Revised_genetic_syndrome        \n",
       "22q11DS                   19.0  \n",
       "Down                      14.0  \n",
       "FXS-F                     24.0  \n",
       "FXS-M                     23.0  \n",
       "NF1                       22.0  \n",
       "PW-UPD                    20.0  \n",
       "PW-del                    20.0  \n",
       "SMC15                     24.0  \n",
       "TSC                       26.0  \n",
       "XXY                       23.0  \n",
       "none                      26.0  "
      ]
     },
     "execution_count": 45,
     "metadata": {},
     "output_type": "execute_result"
    }
   ],
   "source": [
    "df['grand_total_B'].astype('float').groupby(df['Revised_genetic_syndrome']).describe()"
   ]
  },
  {
   "cell_type": "markdown",
   "metadata": {
    "hidden": true
   },
   "source": [
    "Domain C"
   ]
  },
  {
   "cell_type": "code",
   "execution_count": 46,
   "metadata": {
    "hidden": true
   },
   "outputs": [
    {
     "data": {
      "text/html": [
       "<div>\n",
       "<style scoped>\n",
       "    .dataframe tbody tr th:only-of-type {\n",
       "        vertical-align: middle;\n",
       "    }\n",
       "\n",
       "    .dataframe tbody tr th {\n",
       "        vertical-align: top;\n",
       "    }\n",
       "\n",
       "    .dataframe thead th {\n",
       "        text-align: right;\n",
       "    }\n",
       "</style>\n",
       "<table border=\"1\" class=\"dataframe\">\n",
       "  <thead>\n",
       "    <tr style=\"text-align: right;\">\n",
       "      <th></th>\n",
       "      <th>count</th>\n",
       "      <th>mean</th>\n",
       "      <th>std</th>\n",
       "      <th>min</th>\n",
       "      <th>25%</th>\n",
       "      <th>50%</th>\n",
       "      <th>75%</th>\n",
       "      <th>max</th>\n",
       "    </tr>\n",
       "    <tr>\n",
       "      <th>Revised_genetic_syndrome</th>\n",
       "      <th></th>\n",
       "      <th></th>\n",
       "      <th></th>\n",
       "      <th></th>\n",
       "      <th></th>\n",
       "      <th></th>\n",
       "      <th></th>\n",
       "      <th></th>\n",
       "    </tr>\n",
       "  </thead>\n",
       "  <tbody>\n",
       "    <tr>\n",
       "      <th>22q11DS</th>\n",
       "      <td>90.0</td>\n",
       "      <td>2.522222</td>\n",
       "      <td>2.126493</td>\n",
       "      <td>0.0</td>\n",
       "      <td>1.0</td>\n",
       "      <td>3.0</td>\n",
       "      <td>4.00</td>\n",
       "      <td>9.0</td>\n",
       "    </tr>\n",
       "    <tr>\n",
       "      <th>Down</th>\n",
       "      <td>27.0</td>\n",
       "      <td>2.629630</td>\n",
       "      <td>2.002847</td>\n",
       "      <td>0.0</td>\n",
       "      <td>1.0</td>\n",
       "      <td>2.0</td>\n",
       "      <td>4.00</td>\n",
       "      <td>8.0</td>\n",
       "    </tr>\n",
       "    <tr>\n",
       "      <th>FXS-F</th>\n",
       "      <td>45.0</td>\n",
       "      <td>2.244444</td>\n",
       "      <td>2.432316</td>\n",
       "      <td>0.0</td>\n",
       "      <td>0.0</td>\n",
       "      <td>1.0</td>\n",
       "      <td>3.00</td>\n",
       "      <td>9.0</td>\n",
       "    </tr>\n",
       "    <tr>\n",
       "      <th>FXS-M</th>\n",
       "      <td>81.0</td>\n",
       "      <td>5.148148</td>\n",
       "      <td>2.877113</td>\n",
       "      <td>0.0</td>\n",
       "      <td>3.0</td>\n",
       "      <td>5.0</td>\n",
       "      <td>8.00</td>\n",
       "      <td>12.0</td>\n",
       "    </tr>\n",
       "    <tr>\n",
       "      <th>NF1</th>\n",
       "      <td>48.0</td>\n",
       "      <td>4.312500</td>\n",
       "      <td>3.282165</td>\n",
       "      <td>0.0</td>\n",
       "      <td>1.0</td>\n",
       "      <td>4.0</td>\n",
       "      <td>7.00</td>\n",
       "      <td>11.0</td>\n",
       "    </tr>\n",
       "    <tr>\n",
       "      <th>PW-UPD</th>\n",
       "      <td>45.0</td>\n",
       "      <td>2.977778</td>\n",
       "      <td>1.948063</td>\n",
       "      <td>0.0</td>\n",
       "      <td>1.0</td>\n",
       "      <td>3.0</td>\n",
       "      <td>4.00</td>\n",
       "      <td>7.0</td>\n",
       "    </tr>\n",
       "    <tr>\n",
       "      <th>PW-del</th>\n",
       "      <td>49.0</td>\n",
       "      <td>2.428571</td>\n",
       "      <td>1.914854</td>\n",
       "      <td>0.0</td>\n",
       "      <td>1.0</td>\n",
       "      <td>2.0</td>\n",
       "      <td>4.00</td>\n",
       "      <td>7.0</td>\n",
       "    </tr>\n",
       "    <tr>\n",
       "      <th>SMC15</th>\n",
       "      <td>35.0</td>\n",
       "      <td>6.342857</td>\n",
       "      <td>2.127452</td>\n",
       "      <td>2.0</td>\n",
       "      <td>5.0</td>\n",
       "      <td>6.0</td>\n",
       "      <td>7.50</td>\n",
       "      <td>12.0</td>\n",
       "    </tr>\n",
       "    <tr>\n",
       "      <th>TSC</th>\n",
       "      <td>134.0</td>\n",
       "      <td>3.738806</td>\n",
       "      <td>2.878306</td>\n",
       "      <td>0.0</td>\n",
       "      <td>1.0</td>\n",
       "      <td>3.0</td>\n",
       "      <td>5.75</td>\n",
       "      <td>12.0</td>\n",
       "    </tr>\n",
       "    <tr>\n",
       "      <th>XXY</th>\n",
       "      <td>50.0</td>\n",
       "      <td>2.300000</td>\n",
       "      <td>2.092260</td>\n",
       "      <td>0.0</td>\n",
       "      <td>1.0</td>\n",
       "      <td>2.0</td>\n",
       "      <td>3.00</td>\n",
       "      <td>9.0</td>\n",
       "    </tr>\n",
       "    <tr>\n",
       "      <th>none</th>\n",
       "      <td>251.0</td>\n",
       "      <td>3.844622</td>\n",
       "      <td>3.223005</td>\n",
       "      <td>0.0</td>\n",
       "      <td>1.0</td>\n",
       "      <td>3.0</td>\n",
       "      <td>6.00</td>\n",
       "      <td>12.0</td>\n",
       "    </tr>\n",
       "  </tbody>\n",
       "</table>\n",
       "</div>"
      ],
      "text/plain": [
       "                          count      mean       std  min  25%  50%   75%   max\n",
       "Revised_genetic_syndrome                                                      \n",
       "22q11DS                    90.0  2.522222  2.126493  0.0  1.0  3.0  4.00   9.0\n",
       "Down                       27.0  2.629630  2.002847  0.0  1.0  2.0  4.00   8.0\n",
       "FXS-F                      45.0  2.244444  2.432316  0.0  0.0  1.0  3.00   9.0\n",
       "FXS-M                      81.0  5.148148  2.877113  0.0  3.0  5.0  8.00  12.0\n",
       "NF1                        48.0  4.312500  3.282165  0.0  1.0  4.0  7.00  11.0\n",
       "PW-UPD                     45.0  2.977778  1.948063  0.0  1.0  3.0  4.00   7.0\n",
       "PW-del                     49.0  2.428571  1.914854  0.0  1.0  2.0  4.00   7.0\n",
       "SMC15                      35.0  6.342857  2.127452  2.0  5.0  6.0  7.50  12.0\n",
       "TSC                       134.0  3.738806  2.878306  0.0  1.0  3.0  5.75  12.0\n",
       "XXY                        50.0  2.300000  2.092260  0.0  1.0  2.0  3.00   9.0\n",
       "none                      251.0  3.844622  3.223005  0.0  1.0  3.0  6.00  12.0"
      ]
     },
     "execution_count": 46,
     "metadata": {},
     "output_type": "execute_result"
    }
   ],
   "source": [
    "df['grand_total_C'].groupby(df['Revised_genetic_syndrome']).describe()"
   ]
  },
  {
   "cell_type": "markdown",
   "metadata": {
    "heading_collapsed": true
   },
   "source": [
    "## IQ boxplot"
   ]
  },
  {
   "cell_type": "code",
   "execution_count": 8,
   "metadata": {
    "hidden": true
   },
   "outputs": [],
   "source": [
    "df_IQ = df.copy()[pd.notna(df.IQ)]"
   ]
  },
  {
   "cell_type": "code",
   "execution_count": 25,
   "metadata": {
    "hidden": true
   },
   "outputs": [
    {
     "data": {
      "text/plain": [
       "array(['22q11DS', 'Down', 'FXS-F', 'FXS-M', 'NF1', 'PW-UPD', 'PW-del',\n",
       "       'SMC15', 'TSC', 'XXY', 'none'], dtype=object)"
      ]
     },
     "execution_count": 25,
     "metadata": {},
     "output_type": "execute_result"
    }
   ],
   "source": [
    "np.unique(df_IQ['Revised_genetic_syndrome'])"
   ]
  },
  {
   "cell_type": "code",
   "execution_count": 61,
   "metadata": {
    "hidden": true
   },
   "outputs": [
    {
     "data": {
      "image/png": "[encoded data removed]",
      "text/plain": [
       "<Figure size 576x432 with 1 Axes>"
      ]
     },
     "metadata": {
      "needs_background": "light"
     },
     "output_type": "display_data"
    }
   ],
   "source": [
    "fig, ax = plt.subplots(figsize = (8,6))\n",
    "sns.boxplot(x=df_IQ['IQ'], y=df_IQ['Revised_genetic_syndrome'], ax=ax, order = ['22q11DS', 'Down', 'FXS-F', 'FXS-M', 'NF1', 'PW-UPD', 'PW-del',\n",
    "       'SMC15', 'TSC', 'XXY', 'none'], color = 'white')\n",
    "ax.set_yticklabels(['22q11DS', 'DS', 'FXS-F', 'FXS-M', 'NF1', 'PW-UPD', 'PW-del',\n",
    "       'SMC15', 'TSC', 'XXY', 'None'])\n",
    "ax.set_title('');\n",
    "ax.set_xlabel('IQ score')\n",
    "ax.set_ylabel('Genetic disorder')\n",
    "fig.suptitle('');\n",
    "plt.savefig(save_path+'IQbox.png')"
   ]
  },
  {
   "cell_type": "markdown",
   "metadata": {
    "heading_collapsed": true
   },
   "source": [
    "## Duplicate rows"
   ]
  },
  {
   "cell_type": "markdown",
   "metadata": {
    "hidden": true
   },
   "source": [
    "Identify the rows with exactly the same feature values"
   ]
  },
  {
   "cell_type": "code",
   "execution_count": 52,
   "metadata": {
    "hidden": true
   },
   "outputs": [],
   "source": [
    "syn_df = df[(df.Revised_genetic_syndrome != 'none')].copy()"
   ]
  },
  {
   "cell_type": "code",
   "execution_count": 55,
   "metadata": {
    "hidden": true
   },
   "outputs": [],
   "source": [
    "duplicates = syn_df[syn_df.duplicated(['adi_50m', 'adi_51m', 'adi_57m',\n",
    "       'adi_49m', 'adi_62m', 'adi_63m', 'adi_52m', 'adi_53m', 'adi_54m',\n",
    "       'adi_31e', 'adi_55m', 'adi_56m', 'adi_58e', 'adi_59m', 'adi_42m',\n",
    "       'adi_43m', 'adi_44m', 'adi_45m', 'adi_47m', 'adi_48m', 'adi_61m',\n",
    "       'adi_34e', 'adi_35e', 'adi_33e', 'adi_36e', 'adi_37e', 'adi_38e',\n",
    "       'adi_67e', 'adi_68e', 'adi_39e', 'adi_70e', 'Item64_65', 'Item77_78',\n",
    "       'Item69_71'], keep=False)]"
   ]
  },
  {
   "cell_type": "code",
   "execution_count": 60,
   "metadata": {
    "hidden": true
   },
   "outputs": [
    {
     "data": {
      "text/html": [
       "<div>\n",
       "<style scoped>\n",
       "    .dataframe tbody tr th:only-of-type {\n",
       "        vertical-align: middle;\n",
       "    }\n",
       "\n",
       "    .dataframe tbody tr th {\n",
       "        vertical-align: top;\n",
       "    }\n",
       "\n",
       "    .dataframe thead th {\n",
       "        text-align: right;\n",
       "    }\n",
       "</style>\n",
       "<table border=\"1\" class=\"dataframe\">\n",
       "  <thead>\n",
       "    <tr style=\"text-align: right;\">\n",
       "      <th></th>\n",
       "      <th>Study</th>\n",
       "      <th>IQ</th>\n",
       "      <th>Genetic_Syndrome</th>\n",
       "      <th>adi_50m</th>\n",
       "      <th>adi_51m</th>\n",
       "      <th>adi_57m</th>\n",
       "      <th>adi_49m</th>\n",
       "      <th>adi_62m</th>\n",
       "      <th>adi_63m</th>\n",
       "      <th>adi_52m</th>\n",
       "      <th>...</th>\n",
       "      <th>total_B2</th>\n",
       "      <th>total_B3</th>\n",
       "      <th>total_B4</th>\n",
       "      <th>total_C1</th>\n",
       "      <th>total_C2</th>\n",
       "      <th>total_C3</th>\n",
       "      <th>total_C4</th>\n",
       "      <th>grand_total_A</th>\n",
       "      <th>grand_total_B</th>\n",
       "      <th>grand_total_C</th>\n",
       "    </tr>\n",
       "  </thead>\n",
       "  <tbody>\n",
       "    <tr>\n",
       "      <th>54</th>\n",
       "      <td>Bruining</td>\n",
       "      <td>NaN</td>\n",
       "      <td>Down</td>\n",
       "      <td>0.0</td>\n",
       "      <td>0.0</td>\n",
       "      <td>0.0</td>\n",
       "      <td>0.0</td>\n",
       "      <td>0.0</td>\n",
       "      <td>0.0</td>\n",
       "      <td>0.0</td>\n",
       "      <td>...</td>\n",
       "      <td>0</td>\n",
       "      <td>2</td>\n",
       "      <td>1</td>\n",
       "      <td>0</td>\n",
       "      <td>0</td>\n",
       "      <td>0</td>\n",
       "      <td>0</td>\n",
       "      <td>0</td>\n",
       "      <td>3</td>\n",
       "      <td>0</td>\n",
       "    </tr>\n",
       "    <tr>\n",
       "      <th>57</th>\n",
       "      <td>Bruining</td>\n",
       "      <td>49.0</td>\n",
       "      <td>Down</td>\n",
       "      <td>0.0</td>\n",
       "      <td>0.0</td>\n",
       "      <td>0.0</td>\n",
       "      <td>0.0</td>\n",
       "      <td>0.0</td>\n",
       "      <td>0.0</td>\n",
       "      <td>0.0</td>\n",
       "      <td>...</td>\n",
       "      <td>0</td>\n",
       "      <td>0</td>\n",
       "      <td>0</td>\n",
       "      <td>0</td>\n",
       "      <td>0</td>\n",
       "      <td>1</td>\n",
       "      <td>1</td>\n",
       "      <td>0</td>\n",
       "      <td>0</td>\n",
       "      <td>2</td>\n",
       "    </tr>\n",
       "    <tr>\n",
       "      <th>61</th>\n",
       "      <td>Bruining</td>\n",
       "      <td>49.0</td>\n",
       "      <td>Down</td>\n",
       "      <td>0.0</td>\n",
       "      <td>0.0</td>\n",
       "      <td>0.0</td>\n",
       "      <td>0.0</td>\n",
       "      <td>0.0</td>\n",
       "      <td>0.0</td>\n",
       "      <td>0.0</td>\n",
       "      <td>...</td>\n",
       "      <td>0</td>\n",
       "      <td>0</td>\n",
       "      <td>0</td>\n",
       "      <td>0</td>\n",
       "      <td>0</td>\n",
       "      <td>0</td>\n",
       "      <td>0</td>\n",
       "      <td>0</td>\n",
       "      <td>0</td>\n",
       "      <td>0</td>\n",
       "    </tr>\n",
       "    <tr>\n",
       "      <th>97</th>\n",
       "      <td>Bruining</td>\n",
       "      <td>95.0</td>\n",
       "      <td>PW</td>\n",
       "      <td>0.0</td>\n",
       "      <td>0.0</td>\n",
       "      <td>0.0</td>\n",
       "      <td>0.0</td>\n",
       "      <td>0.0</td>\n",
       "      <td>0.0</td>\n",
       "      <td>0.0</td>\n",
       "      <td>...</td>\n",
       "      <td>0</td>\n",
       "      <td>2</td>\n",
       "      <td>1</td>\n",
       "      <td>0</td>\n",
       "      <td>0</td>\n",
       "      <td>0</td>\n",
       "      <td>0</td>\n",
       "      <td>0</td>\n",
       "      <td>3</td>\n",
       "      <td>0</td>\n",
       "    </tr>\n",
       "    <tr>\n",
       "      <th>139</th>\n",
       "      <td>Bruining</td>\n",
       "      <td>77.0</td>\n",
       "      <td>PW</td>\n",
       "      <td>0.0</td>\n",
       "      <td>0.0</td>\n",
       "      <td>0.0</td>\n",
       "      <td>0.0</td>\n",
       "      <td>0.0</td>\n",
       "      <td>0.0</td>\n",
       "      <td>0.0</td>\n",
       "      <td>...</td>\n",
       "      <td>0</td>\n",
       "      <td>0</td>\n",
       "      <td>0</td>\n",
       "      <td>0</td>\n",
       "      <td>0</td>\n",
       "      <td>0</td>\n",
       "      <td>0</td>\n",
       "      <td>0</td>\n",
       "      <td>0</td>\n",
       "      <td>0</td>\n",
       "    </tr>\n",
       "    <tr>\n",
       "      <th>143</th>\n",
       "      <td>Bruining</td>\n",
       "      <td>63.0</td>\n",
       "      <td>PW</td>\n",
       "      <td>0.0</td>\n",
       "      <td>0.0</td>\n",
       "      <td>0.0</td>\n",
       "      <td>0.0</td>\n",
       "      <td>0.0</td>\n",
       "      <td>0.0</td>\n",
       "      <td>0.0</td>\n",
       "      <td>...</td>\n",
       "      <td>0</td>\n",
       "      <td>0</td>\n",
       "      <td>0</td>\n",
       "      <td>0</td>\n",
       "      <td>0</td>\n",
       "      <td>0</td>\n",
       "      <td>0</td>\n",
       "      <td>0</td>\n",
       "      <td>0</td>\n",
       "      <td>0</td>\n",
       "    </tr>\n",
       "    <tr>\n",
       "      <th>190</th>\n",
       "      <td>Bruining</td>\n",
       "      <td>86.0</td>\n",
       "      <td>XXY</td>\n",
       "      <td>0.0</td>\n",
       "      <td>0.0</td>\n",
       "      <td>0.0</td>\n",
       "      <td>0.0</td>\n",
       "      <td>0.0</td>\n",
       "      <td>0.0</td>\n",
       "      <td>0.0</td>\n",
       "      <td>...</td>\n",
       "      <td>0</td>\n",
       "      <td>0</td>\n",
       "      <td>0</td>\n",
       "      <td>0</td>\n",
       "      <td>0</td>\n",
       "      <td>0</td>\n",
       "      <td>0</td>\n",
       "      <td>0</td>\n",
       "      <td>0</td>\n",
       "      <td>0</td>\n",
       "    </tr>\n",
       "    <tr>\n",
       "      <th>229</th>\n",
       "      <td>Bruining</td>\n",
       "      <td>91.0</td>\n",
       "      <td>22q11DS</td>\n",
       "      <td>0.0</td>\n",
       "      <td>0.0</td>\n",
       "      <td>0.0</td>\n",
       "      <td>0.0</td>\n",
       "      <td>0.0</td>\n",
       "      <td>0.0</td>\n",
       "      <td>0.0</td>\n",
       "      <td>...</td>\n",
       "      <td>0</td>\n",
       "      <td>0</td>\n",
       "      <td>1</td>\n",
       "      <td>0</td>\n",
       "      <td>0</td>\n",
       "      <td>0</td>\n",
       "      <td>0</td>\n",
       "      <td>0</td>\n",
       "      <td>1</td>\n",
       "      <td>0</td>\n",
       "    </tr>\n",
       "    <tr>\n",
       "      <th>255</th>\n",
       "      <td>Bruining</td>\n",
       "      <td>59.0</td>\n",
       "      <td>22q11DS</td>\n",
       "      <td>0.0</td>\n",
       "      <td>0.0</td>\n",
       "      <td>0.0</td>\n",
       "      <td>0.0</td>\n",
       "      <td>0.0</td>\n",
       "      <td>0.0</td>\n",
       "      <td>0.0</td>\n",
       "      <td>...</td>\n",
       "      <td>0</td>\n",
       "      <td>0</td>\n",
       "      <td>0</td>\n",
       "      <td>0</td>\n",
       "      <td>0</td>\n",
       "      <td>0</td>\n",
       "      <td>0</td>\n",
       "      <td>0</td>\n",
       "      <td>0</td>\n",
       "      <td>0</td>\n",
       "    </tr>\n",
       "    <tr>\n",
       "      <th>259</th>\n",
       "      <td>Bruining</td>\n",
       "      <td>64.0</td>\n",
       "      <td>22q11DS</td>\n",
       "      <td>0.0</td>\n",
       "      <td>0.0</td>\n",
       "      <td>0.0</td>\n",
       "      <td>0.0</td>\n",
       "      <td>0.0</td>\n",
       "      <td>0.0</td>\n",
       "      <td>0.0</td>\n",
       "      <td>...</td>\n",
       "      <td>0</td>\n",
       "      <td>0</td>\n",
       "      <td>0</td>\n",
       "      <td>0</td>\n",
       "      <td>0</td>\n",
       "      <td>0</td>\n",
       "      <td>0</td>\n",
       "      <td>0</td>\n",
       "      <td>0</td>\n",
       "      <td>0</td>\n",
       "    </tr>\n",
       "    <tr>\n",
       "      <th>268</th>\n",
       "      <td>Bruining</td>\n",
       "      <td>NaN</td>\n",
       "      <td>22q11DS</td>\n",
       "      <td>0.0</td>\n",
       "      <td>0.0</td>\n",
       "      <td>0.0</td>\n",
       "      <td>0.0</td>\n",
       "      <td>0.0</td>\n",
       "      <td>0.0</td>\n",
       "      <td>0.0</td>\n",
       "      <td>...</td>\n",
       "      <td>0</td>\n",
       "      <td>0</td>\n",
       "      <td>0</td>\n",
       "      <td>0</td>\n",
       "      <td>0</td>\n",
       "      <td>0</td>\n",
       "      <td>0</td>\n",
       "      <td>0</td>\n",
       "      <td>0</td>\n",
       "      <td>0</td>\n",
       "    </tr>\n",
       "    <tr>\n",
       "      <th>312</th>\n",
       "      <td>Bruining</td>\n",
       "      <td>NaN</td>\n",
       "      <td>TSC</td>\n",
       "      <td>0.0</td>\n",
       "      <td>0.0</td>\n",
       "      <td>0.0</td>\n",
       "      <td>0.0</td>\n",
       "      <td>0.0</td>\n",
       "      <td>0.0</td>\n",
       "      <td>0.0</td>\n",
       "      <td>...</td>\n",
       "      <td>0</td>\n",
       "      <td>0</td>\n",
       "      <td>0</td>\n",
       "      <td>0</td>\n",
       "      <td>0</td>\n",
       "      <td>0</td>\n",
       "      <td>0</td>\n",
       "      <td>0</td>\n",
       "      <td>0</td>\n",
       "      <td>0</td>\n",
       "    </tr>\n",
       "    <tr>\n",
       "      <th>315</th>\n",
       "      <td>Bruining</td>\n",
       "      <td>NaN</td>\n",
       "      <td>TSC</td>\n",
       "      <td>0.0</td>\n",
       "      <td>0.0</td>\n",
       "      <td>0.0</td>\n",
       "      <td>0.0</td>\n",
       "      <td>0.0</td>\n",
       "      <td>0.0</td>\n",
       "      <td>0.0</td>\n",
       "      <td>...</td>\n",
       "      <td>0</td>\n",
       "      <td>0</td>\n",
       "      <td>0</td>\n",
       "      <td>0</td>\n",
       "      <td>0</td>\n",
       "      <td>0</td>\n",
       "      <td>0</td>\n",
       "      <td>0</td>\n",
       "      <td>0</td>\n",
       "      <td>0</td>\n",
       "    </tr>\n",
       "    <tr>\n",
       "      <th>478</th>\n",
       "      <td>FXS</td>\n",
       "      <td>124.0</td>\n",
       "      <td>FXS</td>\n",
       "      <td>0.0</td>\n",
       "      <td>0.0</td>\n",
       "      <td>0.0</td>\n",
       "      <td>0.0</td>\n",
       "      <td>0.0</td>\n",
       "      <td>0.0</td>\n",
       "      <td>0.0</td>\n",
       "      <td>...</td>\n",
       "      <td>0</td>\n",
       "      <td>0</td>\n",
       "      <td>0</td>\n",
       "      <td>0</td>\n",
       "      <td>0</td>\n",
       "      <td>0</td>\n",
       "      <td>0</td>\n",
       "      <td>0</td>\n",
       "      <td>0</td>\n",
       "      <td>0</td>\n",
       "    </tr>\n",
       "    <tr>\n",
       "      <th>549</th>\n",
       "      <td>FXS</td>\n",
       "      <td>103.0</td>\n",
       "      <td>FXS</td>\n",
       "      <td>0.0</td>\n",
       "      <td>0.0</td>\n",
       "      <td>0.0</td>\n",
       "      <td>0.0</td>\n",
       "      <td>0.0</td>\n",
       "      <td>0.0</td>\n",
       "      <td>0.0</td>\n",
       "      <td>...</td>\n",
       "      <td>0</td>\n",
       "      <td>0</td>\n",
       "      <td>0</td>\n",
       "      <td>0</td>\n",
       "      <td>0</td>\n",
       "      <td>0</td>\n",
       "      <td>0</td>\n",
       "      <td>0</td>\n",
       "      <td>0</td>\n",
       "      <td>0</td>\n",
       "    </tr>\n",
       "    <tr>\n",
       "      <th>885</th>\n",
       "      <td>TS2000</td>\n",
       "      <td>89.0</td>\n",
       "      <td>TSC</td>\n",
       "      <td>0.0</td>\n",
       "      <td>0.0</td>\n",
       "      <td>0.0</td>\n",
       "      <td>0.0</td>\n",
       "      <td>0.0</td>\n",
       "      <td>0.0</td>\n",
       "      <td>0.0</td>\n",
       "      <td>...</td>\n",
       "      <td>0</td>\n",
       "      <td>0</td>\n",
       "      <td>1</td>\n",
       "      <td>0</td>\n",
       "      <td>0</td>\n",
       "      <td>0</td>\n",
       "      <td>0</td>\n",
       "      <td>0</td>\n",
       "      <td>1</td>\n",
       "      <td>0</td>\n",
       "    </tr>\n",
       "    <tr>\n",
       "      <th>887</th>\n",
       "      <td>TS2000</td>\n",
       "      <td>54.0</td>\n",
       "      <td>TSC</td>\n",
       "      <td>0.0</td>\n",
       "      <td>0.0</td>\n",
       "      <td>0.0</td>\n",
       "      <td>0.0</td>\n",
       "      <td>0.0</td>\n",
       "      <td>0.0</td>\n",
       "      <td>0.0</td>\n",
       "      <td>...</td>\n",
       "      <td>0</td>\n",
       "      <td>0</td>\n",
       "      <td>0</td>\n",
       "      <td>0</td>\n",
       "      <td>0</td>\n",
       "      <td>1</td>\n",
       "      <td>1</td>\n",
       "      <td>0</td>\n",
       "      <td>0</td>\n",
       "      <td>2</td>\n",
       "    </tr>\n",
       "  </tbody>\n",
       "</table>\n",
       "<p>17 rows × 56 columns</p>\n",
       "</div>"
      ],
      "text/plain": [
       "        Study     IQ Genetic_Syndrome  adi_50m  adi_51m  adi_57m  adi_49m  \\\n",
       "54   Bruining    NaN             Down      0.0      0.0      0.0      0.0   \n",
       "57   Bruining   49.0             Down      0.0      0.0      0.0      0.0   \n",
       "61   Bruining   49.0             Down      0.0      0.0      0.0      0.0   \n",
       "97   Bruining   95.0               PW      0.0      0.0      0.0      0.0   \n",
       "139  Bruining   77.0               PW      0.0      0.0      0.0      0.0   \n",
       "143  Bruining   63.0               PW      0.0      0.0      0.0      0.0   \n",
       "190  Bruining   86.0              XXY      0.0      0.0      0.0      0.0   \n",
       "229  Bruining   91.0          22q11DS      0.0      0.0      0.0      0.0   \n",
       "255  Bruining   59.0          22q11DS      0.0      0.0      0.0      0.0   \n",
       "259  Bruining   64.0          22q11DS      0.0      0.0      0.0      0.0   \n",
       "268  Bruining    NaN          22q11DS      0.0      0.0      0.0      0.0   \n",
       "312  Bruining    NaN              TSC      0.0      0.0      0.0      0.0   \n",
       "315  Bruining    NaN              TSC      0.0      0.0      0.0      0.0   \n",
       "478       FXS  124.0              FXS      0.0      0.0      0.0      0.0   \n",
       "549       FXS  103.0              FXS      0.0      0.0      0.0      0.0   \n",
       "885    TS2000   89.0              TSC      0.0      0.0      0.0      0.0   \n",
       "887    TS2000   54.0              TSC      0.0      0.0      0.0      0.0   \n",
       "\n",
       "     adi_62m  adi_63m  adi_52m  ...  total_B2  total_B3  total_B4  total_C1  \\\n",
       "54       0.0      0.0      0.0  ...         0         2         1         0   \n",
       "57       0.0      0.0      0.0  ...         0         0         0         0   \n",
       "61       0.0      0.0      0.0  ...         0         0         0         0   \n",
       "97       0.0      0.0      0.0  ...         0         2         1         0   \n",
       "139      0.0      0.0      0.0  ...         0         0         0         0   \n",
       "143      0.0      0.0      0.0  ...         0         0         0         0   \n",
       "190      0.0      0.0      0.0  ...         0         0         0         0   \n",
       "229      0.0      0.0      0.0  ...         0         0         1         0   \n",
       "255      0.0      0.0      0.0  ...         0         0         0         0   \n",
       "259      0.0      0.0      0.0  ...         0         0         0         0   \n",
       "268      0.0      0.0      0.0  ...         0         0         0         0   \n",
       "312      0.0      0.0      0.0  ...         0         0         0         0   \n",
       "315      0.0      0.0      0.0  ...         0         0         0         0   \n",
       "478      0.0      0.0      0.0  ...         0         0         0         0   \n",
       "549      0.0      0.0      0.0  ...         0         0         0         0   \n",
       "885      0.0      0.0      0.0  ...         0         0         1         0   \n",
       "887      0.0      0.0      0.0  ...         0         0         0         0   \n",
       "\n",
       "     total_C2  total_C3  total_C4  grand_total_A  grand_total_B  grand_total_C  \n",
       "54          0         0         0              0              3              0  \n",
       "57          0         1         1              0              0              2  \n",
       "61          0         0         0              0              0              0  \n",
       "97          0         0         0              0              3              0  \n",
       "139         0         0         0              0              0              0  \n",
       "143         0         0         0              0              0              0  \n",
       "190         0         0         0              0              0              0  \n",
       "229         0         0         0              0              1              0  \n",
       "255         0         0         0              0              0              0  \n",
       "259         0         0         0              0              0              0  \n",
       "268         0         0         0              0              0              0  \n",
       "312         0         0         0              0              0              0  \n",
       "315         0         0         0              0              0              0  \n",
       "478         0         0         0              0              0              0  \n",
       "549         0         0         0              0              0              0  \n",
       "885         0         0         0              0              1              0  \n",
       "887         0         1         1              0              0              2  \n",
       "\n",
       "[17 rows x 56 columns]"
      ]
     },
     "execution_count": 60,
     "metadata": {},
     "output_type": "execute_result"
    }
   ],
   "source": [
    "duplicates"
   ]
  },
  {
   "cell_type": "markdown",
   "metadata": {
    "heading_collapsed": true
   },
   "source": [
    "## Confusion matrix plots for Ch5 covering results from multiple notebooks"
   ]
  },
  {
   "cell_type": "markdown",
   "metadata": {
    "hidden": true
   },
   "source": [
    "Create a list of the labels for labelling axes"
   ]
  },
  {
   "cell_type": "code",
   "execution_count": 5,
   "metadata": {
    "hidden": true
   },
   "outputs": [
    {
     "data": {
      "text/plain": [
       "array(['22q11DS', 'DS', 'FXS-F', 'FXS-M', 'NF1', 'PW-UPD', 'PW-del',\n",
       "       'SMC15', 'TSC', 'XXY'], dtype=object)"
      ]
     },
     "execution_count": 5,
     "metadata": {},
     "output_type": "execute_result"
    }
   ],
   "source": [
    "B_labels = np.unique(df['Revised_genetic_syndrome'])\n",
    "B_labels[1] = 'DS'\n",
    "B_labels = B_labels[:-1]\n",
    "B_labels"
   ]
  },
  {
   "cell_type": "markdown",
   "metadata": {
    "hidden": true
   },
   "source": [
    "Define a path to save the plots"
   ]
  },
  {
   "cell_type": "code",
   "execution_count": 6,
   "metadata": {
    "hidden": true
   },
   "outputs": [],
   "source": [
    "plot_path = '/Users/joefarrington/Documents/MSc Machine Learning/Project/August/Plots/Ch5/'"
   ]
  },
  {
   "cell_type": "markdown",
   "metadata": {
    "hidden": true
   },
   "source": [
    "### Weighted Random Forest"
   ]
  },
  {
   "cell_type": "markdown",
   "metadata": {
    "hidden": true
   },
   "source": [
    "Load in the results for the WRF"
   ]
  },
  {
   "cell_type": "code",
   "execution_count": 21,
   "metadata": {
    "hidden": true
   },
   "outputs": [],
   "source": [
    "a_path = '/Users/joefarrington/Documents/MSc Machine Learning/Project/August/Results/Ch5xIQ/'\n",
    "a_nbname = 'Ch5xIQ'\n",
    "rfc_weighted_behav= pickle_load(a_path+f\"rfc_weighted_dict_{a_nbname}.p\")"
   ]
  },
  {
   "cell_type": "code",
   "execution_count": 24,
   "metadata": {
    "hidden": true
   },
   "outputs": [],
   "source": [
    "b_path ='/Users/joefarrington/Documents/MSc Machine Learning/Project/August/Results/Ch5IQbehav/'\n",
    "b_nbname = 'Ch5IQbehav'\n",
    "rfc_weighted_IQbehav= pickle_load(b_path+f\"rfc_weighted_dict_{b_nbname}.p\")"
   ]
  },
  {
   "cell_type": "code",
   "execution_count": 25,
   "metadata": {
    "hidden": true
   },
   "outputs": [],
   "source": [
    "c_path ='/Users/joefarrington/Documents/MSc Machine Learning/Project/August/Results/Ch5resid/'\n",
    "c_nbname = 'Ch5resid'\n",
    "rfc_weighted_resid= pickle_load(c_path+f\"rfc_weighted_dict_{c_nbname}.p\")"
   ]
  },
  {
   "cell_type": "markdown",
   "metadata": {
    "hidden": true
   },
   "source": [
    "Plot the normalized confusion matrices for the WRF models"
   ]
  },
  {
   "cell_type": "code",
   "execution_count": 30,
   "metadata": {
    "hidden": true
   },
   "outputs": [
    {
     "data": {
      "image/png": "[encoded data removed]",
      "text/plain": [
       "<Figure size 1440x432 with 3 Axes>"
      ]
     },
     "metadata": {
      "needs_background": "light"
     },
     "output_type": "display_data"
    }
   ],
   "source": [
    "fig, (ax1, ax2, ax3) = plt.subplots(nrows = 1, ncols = 3, figsize=(20,6))\n",
    "\n",
    "plot_normalized_cm(rfc_weighted_behav[\"cmdf\"][\"label\"],rfc_weighted_behav[\"cmdf\"][\"pred\"], B_labels, ax=ax1)\n",
    "ax1.set_yticklabels(labels = B_labels, rotation=0);\n",
    "ax1.set_xticklabels(labels = B_labels, rotation=45);\n",
    "ax1.set_title('Weighted Random Forest (ADI-R only)');\n",
    "ax1.set_ylabel('True label');\n",
    "ax1.set_xlabel('Predicted label');\n",
    "\n",
    "plot_normalized_cm(rfc_weighted_IQbehav[\"cmdf\"][\"label\"],rfc_weighted_IQbehav[\"cmdf\"][\"pred\"], B_labels, ax=ax2)\n",
    "ax2.set_yticklabels(labels = B_labels, rotation=0);\n",
    "ax2.set_xticklabels(labels = B_labels, rotation=45);\n",
    "ax2.set_title('Weighted Random Forest (IQ & ADI-R)');\n",
    "ax2.set_xlabel('Predicted label');\n",
    "\n",
    "plot_normalized_cm(rfc_weighted_resid[\"cmdf\"][\"label\"],rfc_weighted_resid[\"cmdf\"][\"pred\"], B_labels, ax=ax3)\n",
    "ax3.set_yticklabels(labels = B_labels, rotation=0);\n",
    "ax3.set_xticklabels(labels = B_labels, rotation=45);\n",
    "ax3.set_title('Weighted Random Forest (Residuals)');\n",
    "ax3.set_xlabel('Predicted label');\n",
    "\n",
    "plt.subplots_adjust(wspace=0.3)\n",
    "\n",
    "plt.savefig(plot_path+'compWRFcm.png')"
   ]
  },
  {
   "cell_type": "markdown",
   "metadata": {
    "hidden": true
   },
   "source": [
    "### RBF kernel SVM"
   ]
  },
  {
   "cell_type": "markdown",
   "metadata": {
    "hidden": true
   },
   "source": [
    "Load in the results and plot the normalized confusion matrices for the RBF SVM."
   ]
  },
  {
   "cell_type": "code",
   "execution_count": 7,
   "metadata": {
    "hidden": true
   },
   "outputs": [
    {
     "data": {
      "image/png": "[encoded data removed]",
      "text/plain": [
       "<Figure size 1440x432 with 3 Axes>"
      ]
     },
     "metadata": {
      "needs_background": "light"
     },
     "output_type": "display_data"
    }
   ],
   "source": [
    "a_path = '/Users/joefarrington/Documents/MSc Machine Learning/Project/August/Results/Ch5xIQ/'\n",
    "a_nbname = 'Ch5xIQ'\n",
    "svm_rbf_behav= pickle_load(a_path+f\"svm_rbf_dict_{a_nbname}.p\")\n",
    "\n",
    "b_path = '/Users/joefarrington/Documents/MSc Machine Learning/Project/August/Results/Ch5IQbehav/'\n",
    "b_nbname = 'Ch5IQbehav'\n",
    "svm_rbf_IQbehav= pickle_load(b_path+f\"svm_rbf_dict_{b_nbname}.p\")\n",
    "\n",
    "c_path = '/Users/joefarrington/Documents/MSc Machine Learning/Project/August/Results/Ch5resid/'\n",
    "c_nbname = 'Ch5resid'\n",
    "svm_rbf_resid= pickle_load(c_path+f\"svm_rbf_dict_{c_nbname}.p\")\n",
    "\n",
    "fig, (ax1, ax2, ax3) = plt.subplots(nrows = 1, ncols = 3, figsize=(20,6))\n",
    "\n",
    "plot_normalized_cm(svm_rbf_behav[\"cmdf\"][\"label\"],svm_rbf_behav[\"cmdf\"][\"pred\"], B_labels, ax=ax1)\n",
    "ax1.set_yticklabels(labels = B_labels, rotation=0);\n",
    "ax1.set_xticklabels(labels = B_labels, rotation=45);\n",
    "ax1.set_title('SVM (RBF kernel) (ADI-R only)');\n",
    "ax1.set_ylabel('True label');\n",
    "ax1.set_xlabel('Predicted label');\n",
    "\n",
    "plot_normalized_cm(svm_rbf_IQbehav[\"cmdf\"][\"label\"],svm_rbf_IQbehav[\"cmdf\"][\"pred\"], B_labels, ax=ax2)\n",
    "ax2.set_yticklabels(labels = B_labels, rotation=0);\n",
    "ax2.set_xticklabels(labels = B_labels, rotation=45);\n",
    "ax2.set_title('SVM (RBF kernel) (IQ & ADI-R)');\n",
    "ax2.set_xlabel('Predicted label');\n",
    "\n",
    "plot_normalized_cm(svm_rbf_resid[\"cmdf\"][\"label\"],svm_rbf_resid[\"cmdf\"][\"pred\"], B_labels, ax=ax3)\n",
    "ax3.set_yticklabels(labels = B_labels, rotation=0);\n",
    "ax3.set_xticklabels(labels = B_labels, rotation=45);\n",
    "ax3.set_title('SVM (RBF kernel) (Residuals)');\n",
    "ax3.set_xlabel('Predicted label');\n",
    "\n",
    "plt.subplots_adjust(wspace=0.3)\n",
    "\n",
    "plt.savefig(plot_path+'compRBFSVMcm.png')"
   ]
  }
 ],
 "metadata": {
  "kernelspec": {
   "display_name": "Python 3",
   "language": "python",
   "name": "python3"
  },
  "language_info": {
   "codemirror_mode": {
    "name": "ipython",
    "version": 3
   },
   "file_extension": ".py",
   "mimetype": "text/x-python",
   "name": "python",
   "nbconvert_exporter": "python",
   "pygments_lexer": "ipython3",
   "version": "3.6.7"
  }
 },
 "nbformat": 4,
 "nbformat_minor": 2
}

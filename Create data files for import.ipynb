{
 "cells": [
  {
   "cell_type": "markdown",
   "metadata": {},
   "source": [
    "# Create data files for import"
   ]
  },
  {
   "cell_type": "markdown",
   "metadata": {
    "heading_collapsed": true
   },
   "source": [
    "## Load in libraries and data"
   ]
  },
  {
   "cell_type": "markdown",
   "metadata": {
    "hidden": true
   },
   "source": [
    "Run Python file listing imports"
   ]
  },
  {
   "cell_type": "code",
   "execution_count": 1,
   "metadata": {
    "hidden": true
   },
   "outputs": [
    {
     "name": "stderr",
     "output_type": "stream",
     "text": [
      "/Users/joefarrington/anaconda3/lib/python3.6/site-packages/sklearn/externals/six.py:31: DeprecationWarning: The module is deprecated in version 0.21 and will be removed in version 0.23 since we've dropped support for Python 2.7. Please rely on the official version of six (https://pypi.org/project/six/).\n",
      "  \"(https://pypi.org/project/six/).\", DeprecationWarning)\n",
      "/Users/joefarrington/anaconda3/lib/python3.6/site-packages/sklearn/externals/joblib/__init__.py:15: DeprecationWarning: sklearn.externals.joblib is deprecated in 0.21 and will be removed in 0.23. Please import this functionality directly from joblib, which can be installed with: pip install joblib. If this warning is raised when loading pickled models, you may need to re-serialize those models with scikit-learn 0.21+.\n",
      "  warnings.warn(msg, category=DeprecationWarning)\n"
     ]
    }
   ],
   "source": [
    "%run libraries.py"
   ]
  },
  {
   "cell_type": "markdown",
   "metadata": {
    "hidden": true
   },
   "source": [
    "Load in the data"
   ]
  },
  {
   "cell_type": "code",
   "execution_count": 2,
   "metadata": {
    "hidden": true
   },
   "outputs": [],
   "source": [
    "data_path = '/Users/joefarrington/Documents/MSc Machine Learning/Project/Data/'\n",
    "df = pd.read_csv(data_path+'/compiled_JMFadditions.csv')"
   ]
  },
  {
   "cell_type": "markdown",
   "metadata": {
    "hidden": true
   },
   "source": [
    "Define a path to save the datasets"
   ]
  },
  {
   "cell_type": "code",
   "execution_count": 3,
   "metadata": {
    "hidden": true
   },
   "outputs": [],
   "source": [
    "save_path = '/Users/joefarrington/Documents/MSc Machine Learning/Project/August/Data for import/'"
   ]
  },
  {
   "cell_type": "markdown",
   "metadata": {
    "heading_collapsed": true
   },
   "source": [
    "## Drop rows with missing data"
   ]
  },
  {
   "cell_type": "markdown",
   "metadata": {
    "hidden": true
   },
   "source": [
    "Check for missing values"
   ]
  },
  {
   "cell_type": "code",
   "execution_count": 4,
   "metadata": {
    "hidden": true
   },
   "outputs": [
    {
     "data": {
      "text/plain": [
       "IQ            124\n",
       "adi_50m        82\n",
       "adi_51m        82\n",
       "adi_57m        82\n",
       "adi_49m        82\n",
       "adi_62m        82\n",
       "adi_63m        82\n",
       "adi_52m        82\n",
       "adi_53m        82\n",
       "adi_54m        82\n",
       "adi_31e        82\n",
       "adi_55m        82\n",
       "adi_56m        82\n",
       "adi_58e        82\n",
       "adi_59m        82\n",
       "adi_42m        82\n",
       "adi_43m        82\n",
       "adi_44m        82\n",
       "adi_45m        82\n",
       "adi_47m        82\n",
       "adi_48m        82\n",
       "adi_61m        82\n",
       "adi_34e        82\n",
       "adi_35e        82\n",
       "adi_33e        83\n",
       "adi_36e        82\n",
       "adi_37e        82\n",
       "adi_38e        82\n",
       "adi_67e        82\n",
       "adi_68e        82\n",
       "adi_39e        82\n",
       "adi_70e        82\n",
       "Item64_65      84\n",
       "Item77_78      82\n",
       "Item69_71      82\n",
       "Gender_FXS    732\n",
       "PW_subset     846\n",
       "Verbal        593\n",
       "dtype: int64"
      ]
     },
     "execution_count": 4,
     "metadata": {},
     "output_type": "execute_result"
    }
   ],
   "source": [
    "null_columns=df.columns[df.isnull().any()]\n",
    "df[null_columns].isnull().sum()"
   ]
  },
  {
   "cell_type": "markdown",
   "metadata": {
    "hidden": true
   },
   "source": [
    "Drop rows that do not have complete questionnaire responses: this includes 82 rows for FXS with no questionnaire responses, 2 rows for NF1 missing a response to Item64_65 and one row for XXY where the data apears to be incorrect due to data being overwritten by a formula in the Excel source document. "
   ]
  },
  {
   "cell_type": "code",
   "execution_count": 5,
   "metadata": {
    "hidden": true
   },
   "outputs": [],
   "source": [
    "df = df.dropna(subset=['Item64_65', 'adi_33e'])"
   ]
  },
  {
   "cell_type": "markdown",
   "metadata": {
    "heading_collapsed": true
   },
   "source": [
    "## Ch4: Save down a dataframe with just Bruining syndromic dataset"
   ]
  },
  {
   "cell_type": "code",
   "execution_count": 7,
   "metadata": {
    "hidden": true
   },
   "outputs": [],
   "source": [
    "cols_to_drop = ['Study','IQ', 'Gender_FXS', 'Genetic_Syndrome', 'PW_subset', 'Verbal',\n",
    "       'Revised_genetic_syndrome', 'total_A1', 'total_A2', 'total_A3',\n",
    "       'total_A4', 'total_B1', 'total_B2', 'total_B3', 'total_B4', 'total_C1',\n",
    "       'total_C2', 'total_C3', 'total_C4', 'grand_total_A', 'grand_total_B',\n",
    "       'grand_total_C']"
   ]
  },
  {
   "cell_type": "code",
   "execution_count": 8,
   "metadata": {
    "hidden": true
   },
   "outputs": [],
   "source": [
    "y_all_B = df['Genetic_Syndrome'].copy()[(df.Study=='Bruining') & (df.Verbal == 'Verbal')]\n",
    "X_all_B = df.copy().drop(cols_to_drop, axis=1)[(df.Study=='Bruining') & (df.Verbal == 'Verbal')]"
   ]
  },
  {
   "cell_type": "code",
   "execution_count": 14,
   "metadata": {
    "hidden": true
   },
   "outputs": [],
   "source": [
    "X_all_B.to_csv(save_path+'X_all_B.csv')\n",
    "y_all_B.to_csv(save_path+'y_all_B.csv', header=False)"
   ]
  },
  {
   "cell_type": "markdown",
   "metadata": {
    "heading_collapsed": true
   },
   "source": [
    "## Ch4: Save down a dataframe with full syndromic dataset and the revised labels"
   ]
  },
  {
   "cell_type": "code",
   "execution_count": 15,
   "metadata": {
    "hidden": true
   },
   "outputs": [],
   "source": [
    "cols_to_drop = ['Study','IQ', 'Gender_FXS', 'Genetic_Syndrome', 'PW_subset', 'Verbal',\n",
    "       'Revised_genetic_syndrome', 'total_A1', 'total_A2', 'total_A3',\n",
    "       'total_A4', 'total_B1', 'total_B2', 'total_B3', 'total_B4', 'total_C1',\n",
    "       'total_C2', 'total_C3', 'total_C4', 'grand_total_A', 'grand_total_B',\n",
    "       'grand_total_C']"
   ]
  },
  {
   "cell_type": "code",
   "execution_count": 16,
   "metadata": {
    "hidden": true
   },
   "outputs": [],
   "source": [
    "y_all_Rev = df['Revised_genetic_syndrome'].copy()[(df.Revised_genetic_syndrome != 'none')]\n",
    "X_all_Rev = df.copy().drop(cols_to_drop, axis=1)[(df.Revised_genetic_syndrome != 'none')]"
   ]
  },
  {
   "cell_type": "code",
   "execution_count": 17,
   "metadata": {
    "hidden": true
   },
   "outputs": [],
   "source": [
    "X_all_Rev.to_csv(save_path+'X_all_Rev.csv')\n",
    "y_all_Rev.to_csv(save_path+'y_all_Rev.csv', header=False)"
   ]
  },
  {
   "cell_type": "markdown",
   "metadata": {
    "heading_collapsed": true
   },
   "source": [
    "## Ch5: Save down a dataframe for the syndromic IQ subset, including IQ as a feature"
   ]
  },
  {
   "cell_type": "code",
   "execution_count": 18,
   "metadata": {
    "hidden": true
   },
   "outputs": [],
   "source": [
    "cols_to_drop = ['Study', 'Revised_genetic_syndrome', 'Gender_FXS', 'Genetic_Syndrome', 'PW_subset', 'Verbal',\n",
    "       'total_A1', 'total_A2', 'total_A3',\n",
    "       'total_A4', 'total_B1', 'total_B2', 'total_B3', 'total_B4', 'total_C1',\n",
    "       'total_C2', 'total_C3', 'total_C4', 'grand_total_A', 'grand_total_B',\n",
    "       'grand_total_C']"
   ]
  },
  {
   "cell_type": "code",
   "execution_count": 19,
   "metadata": {
    "hidden": true
   },
   "outputs": [],
   "source": [
    "y_synd_IQ = df['Revised_genetic_syndrome'].copy()[(df.Revised_genetic_syndrome != 'none') & pd.notna(df.IQ)]\n",
    "X_synd_IQ = df.copy().drop(cols_to_drop, axis=1)[(df.Revised_genetic_syndrome != 'none') & pd.notna(df.IQ)]"
   ]
  },
  {
   "cell_type": "code",
   "execution_count": 20,
   "metadata": {
    "hidden": true
   },
   "outputs": [],
   "source": [
    "X_synd_IQ.to_csv(save_path+'X_synd_IQ.csv')\n",
    "y_synd_IQ.to_csv(save_path+'y_synd_IQ.csv', header=False)"
   ]
  },
  {
   "cell_type": "markdown",
   "metadata": {
    "heading_collapsed": true
   },
   "source": [
    "## Ch5: Save down a dataframe for the non-syndromic IQ subset, including IQ as a feature"
   ]
  },
  {
   "cell_type": "code",
   "execution_count": 21,
   "metadata": {
    "hidden": true
   },
   "outputs": [],
   "source": [
    "cols_to_drop = ['Study', 'Revised_genetic_syndrome', 'Gender_FXS', 'Genetic_Syndrome', 'PW_subset', 'Verbal',\n",
    "       'total_A1', 'total_A2', 'total_A3',\n",
    "       'total_A4', 'total_B1', 'total_B2', 'total_B3', 'total_B4', 'total_C1',\n",
    "       'total_C2', 'total_C3', 'total_C4', 'grand_total_A', 'grand_total_B',\n",
    "       'grand_total_C']"
   ]
  },
  {
   "cell_type": "code",
   "execution_count": 22,
   "metadata": {
    "hidden": true
   },
   "outputs": [],
   "source": [
    "y_idio_IQ = df['Revised_genetic_syndrome'].copy()[(df.Revised_genetic_syndrome == 'none') & pd.notna(df.IQ)]\n",
    "X_idio_IQ = df.copy().drop(cols_to_drop, axis=1)[(df.Revised_genetic_syndrome == 'none') & pd.notna(df.IQ)]"
   ]
  },
  {
   "cell_type": "code",
   "execution_count": 23,
   "metadata": {
    "hidden": true
   },
   "outputs": [],
   "source": [
    "X_idio_IQ.to_csv(save_path+'X_idio_IQ.csv')\n",
    "y_idio_IQ.to_csv(save_path+'y_idio_IQ.csv', header=False)"
   ]
  },
  {
   "cell_type": "markdown",
   "metadata": {
    "heading_collapsed": true
   },
   "source": [
    "## Ch6: Save down a dataframe for the idiopathic subset"
   ]
  },
  {
   "cell_type": "code",
   "execution_count": 6,
   "metadata": {
    "hidden": true
   },
   "outputs": [],
   "source": [
    "X_idio_all = df.copy()[df.Revised_genetic_syndrome == 'none']"
   ]
  },
  {
   "cell_type": "markdown",
   "metadata": {
    "hidden": true
   },
   "source": [
    "Select only those that meet the thresholds in the three domains of the ADI-R (for domain B, use the verbal threshold)."
   ]
  },
  {
   "cell_type": "code",
   "execution_count": 9,
   "metadata": {
    "hidden": true
   },
   "outputs": [],
   "source": [
    "X_idio_all[['grand_total_A', 'grand_total_B', 'grand_total_C']] = X_idio_all[['grand_total_A', 'grand_total_B', 'grand_total_C']].apply(pd.to_numeric)\n",
    "X_idio_subset = X_idio_all[(X_idio_all['grand_total_A'] >= 10) & (X_idio_all['grand_total_B'] >= 8) & (X_idio_all['grand_total_C'] >= 3)]"
   ]
  },
  {
   "cell_type": "code",
   "execution_count": 11,
   "metadata": {
    "hidden": true
   },
   "outputs": [],
   "source": [
    "cols_to_drop = ['Study', 'IQ', 'Revised_genetic_syndrome', 'Gender_FXS', 'Genetic_Syndrome', 'PW_subset', 'Verbal',\n",
    "       'total_A1', 'total_A2', 'total_A3',\n",
    "       'total_A4', 'total_B1', 'total_B2', 'total_B3', 'total_B4', 'total_C1',\n",
    "       'total_C2', 'total_C3', 'total_C4', 'grand_total_A', 'grand_total_B',\n",
    "       'grand_total_C']"
   ]
  },
  {
   "cell_type": "code",
   "execution_count": 12,
   "metadata": {
    "hidden": true
   },
   "outputs": [],
   "source": [
    "X_idio_subset = X_idio_subset.drop(cols_to_drop, axis=1)"
   ]
  },
  {
   "cell_type": "code",
   "execution_count": 13,
   "metadata": {
    "hidden": true
   },
   "outputs": [],
   "source": [
    "X_idio_subset.to_csv(save_path+'X_idio_subset.csv')"
   ]
  }
 ],
 "metadata": {
  "kernelspec": {
   "display_name": "Python 3",
   "language": "python",
   "name": "python3"
  },
  "language_info": {
   "codemirror_mode": {
    "name": "ipython",
    "version": 3
   },
   "file_extension": ".py",
   "mimetype": "text/x-python",
   "name": "python",
   "nbconvert_exporter": "python",
   "pygments_lexer": "ipython3",
   "version": "3.6.7"
  }
 },
 "nbformat": 4,
 "nbformat_minor": 2
}

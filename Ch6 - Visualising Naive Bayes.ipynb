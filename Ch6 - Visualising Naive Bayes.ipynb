{
 "cells": [
  {
   "cell_type": "markdown",
   "metadata": {},
   "source": [
    "# Chapter 6 - Visualising Naive Bayes"
   ]
  },
  {
   "cell_type": "markdown",
   "metadata": {
    "heading_collapsed": true
   },
   "source": [
    "## Setup"
   ]
  },
  {
   "cell_type": "markdown",
   "metadata": {
    "hidden": true
   },
   "source": [
    "<b>Note:</b> These visualizations were inspired by a blog post by Drazen Zaric about using heatmaps with different sized cells, which can be found at https://towardsdatascience.com/better-heatmaps-and-correlation-matrix-plots-in-python-41445d0f2bec . The code in the blog post was particularly helpful for understanding how to correctly format the background grid to improve the presentation of the plots. "
   ]
  },
  {
   "cell_type": "markdown",
   "metadata": {
    "hidden": true
   },
   "source": [
    "Run Python file to import libraries and custom functions"
   ]
  },
  {
   "cell_type": "code",
   "execution_count": 1,
   "metadata": {
    "hidden": true
   },
   "outputs": [
    {
     "name": "stderr",
     "output_type": "stream",
     "text": [
      "/Users/joefarrington/anaconda3/lib/python3.6/site-packages/sklearn/externals/six.py:31: DeprecationWarning: The module is deprecated in version 0.21 and will be removed in version 0.23 since we've dropped support for Python 2.7. Please rely on the official version of six (https://pypi.org/project/six/).\n",
      "  \"(https://pypi.org/project/six/).\", DeprecationWarning)\n",
      "/Users/joefarrington/anaconda3/lib/python3.6/site-packages/sklearn/externals/joblib/__init__.py:15: DeprecationWarning: sklearn.externals.joblib is deprecated in 0.21 and will be removed in 0.23. Please import this functionality directly from joblib, which can be installed with: pip install joblib. If this warning is raised when loading pickled models, you may need to re-serialize those models with scikit-learn 0.21+.\n",
      "  warnings.warn(msg, category=DeprecationWarning)\n"
     ]
    }
   ],
   "source": [
    "%run libraries.py"
   ]
  },
  {
   "cell_type": "markdown",
   "metadata": {
    "hidden": true
   },
   "source": [
    "Set paths for importing data and saving results"
   ]
  },
  {
   "cell_type": "code",
   "execution_count": 5,
   "metadata": {
    "hidden": true
   },
   "outputs": [],
   "source": [
    "results_path = '/Users/joefarrington/Documents/MSc Machine Learning/Project/August/Results/Ch6plotNB/'"
   ]
  },
  {
   "cell_type": "code",
   "execution_count": 6,
   "metadata": {
    "hidden": true
   },
   "outputs": [],
   "source": [
    "plot_path = '/Users/joefarrington/Documents/MSc Machine Learning/Project/August/Plots/Ch6/'"
   ]
  },
  {
   "cell_type": "markdown",
   "metadata": {
    "hidden": true
   },
   "source": [
    "Create a list of all the ADI-R behavioural items"
   ]
  },
  {
   "cell_type": "code",
   "execution_count": 7,
   "metadata": {
    "hidden": true
   },
   "outputs": [],
   "source": [
    "behavs = ['adi_50m', 'adi_51m', 'adi_57m', 'adi_49m', 'adi_62m', 'adi_63m', 'Item64_65',\n",
    "       'adi_52m', 'adi_53m', 'adi_54m', 'adi_31e', 'adi_55m', 'adi_56m',\n",
    "       'adi_58e', 'adi_59m', 'adi_42m', 'adi_43m', 'adi_44m', 'adi_45m',\n",
    "       'adi_47m', 'adi_48m', 'adi_61m', 'adi_34e', 'adi_35e', 'adi_33e',\n",
    "       'adi_36e', 'adi_37e', 'adi_38e', 'adi_67e', 'adi_68e', 'adi_39e',\n",
    "       'adi_70e', 'Item77_78', 'Item69_71']"
   ]
  },
  {
   "cell_type": "markdown",
   "metadata": {
    "hidden": true
   },
   "source": [
    "Create a list of the labels to use in the plots"
   ]
  },
  {
   "cell_type": "code",
   "execution_count": 8,
   "metadata": {
    "hidden": true
   },
   "outputs": [],
   "source": [
    "x_labs = ['50', '51', '57', '49', '62', '63', '64/65', '52', '53', '54', '31', '55', '56','58', '59', '42', \n",
    "          '43', '44', '45', '47', '48', '61', '34', '35', '33', '36', '37', '38', '67', '68',\n",
    "          '39', '70', '77/78', '69/71']"
   ]
  },
  {
   "cell_type": "markdown",
   "metadata": {
    "heading_collapsed": true
   },
   "source": [
    "## Plot the conditional likelihoods for the Bruining syndromic dataset"
   ]
  },
  {
   "cell_type": "markdown",
   "metadata": {
    "hidden": true
   },
   "source": [
    "Create a dataframe to store the probabilities"
   ]
  },
  {
   "cell_type": "code",
   "execution_count": 94,
   "metadata": {
    "hidden": true
   },
   "outputs": [],
   "source": [
    "df_B_weights = pd.DataFrame(columns = [\"Syndrome\", \"Behaviour\", \"Score\", \"Prob\"])"
   ]
  },
  {
   "cell_type": "markdown",
   "metadata": {
    "hidden": true
   },
   "source": [
    "For each combination of behaviour and score, check if the maximum conditional likelihood is tied. If it is, print out the results. If not, just add the score corresponding to the maximum conditional likelihood to the dataframe."
   ]
  },
  {
   "cell_type": "code",
   "execution_count": 95,
   "metadata": {
    "hidden": true
   },
   "outputs": [
    {
     "name": "stdout",
     "output_type": "stream",
     "text": [
      "-----adi_50m-----\n",
      "-----adi_51m-----\n",
      "-----adi_57m-----\n",
      "-----adi_49m-----\n",
      "-----adi_62m-----\n",
      "-----adi_63m-----\n",
      "0.0    0.407407\n",
      "1.0    0.407407\n",
      "2.0    0.185185\n",
      "Name: Down, dtype: float64\n",
      "-----Item64_65-----\n",
      "0.0    0.404255\n",
      "1.0    0.404255\n",
      "2.0    0.191489\n",
      "Name: PW, dtype: float64\n",
      "-----adi_52m-----\n",
      "0.0    0.142857\n",
      "1.0    0.428571\n",
      "2.0    0.428571\n",
      "Name: SMC15, dtype: float64\n",
      "-----adi_53m-----\n",
      "-----adi_54m-----\n",
      "-----adi_31e-----\n",
      "-----adi_55m-----\n",
      "-----adi_56m-----\n",
      "0.0    0.370370\n",
      "1.0    0.370370\n",
      "2.0    0.259259\n",
      "Name: Down, dtype: float64\n",
      "-----adi_58e-----\n",
      "-----adi_59m-----\n",
      "0.0    0.444444\n",
      "1.0    0.111111\n",
      "2.0    0.444444\n",
      "Name: Down, dtype: float64\n",
      "-----adi_42m-----\n",
      "-----adi_43m-----\n",
      "-----adi_44m-----\n",
      "-----adi_45m-----\n",
      "0.0    0.464286\n",
      "1.0    0.071429\n",
      "2.0    0.464286\n",
      "Name: SMC15, dtype: float64\n",
      "-----adi_47m-----\n",
      "-----adi_48m-----\n",
      "-----adi_61m-----\n",
      "-----adi_34e-----\n",
      "-----adi_35e-----\n",
      "0.0    0.392857\n",
      "1.0    0.392857\n",
      "2.0    0.214286\n",
      "Name: TSC, dtype: float64\n",
      "-----adi_33e-----\n",
      "-----adi_36e-----\n",
      "-----adi_37e-----\n",
      "-----adi_38e-----\n",
      "-----adi_67e-----\n",
      "-----adi_68e-----\n",
      "-----adi_39e-----\n",
      "-----adi_70e-----\n",
      "-----Item77_78-----\n",
      "0.0    0.285714\n",
      "1.0    0.357143\n",
      "2.0    0.357143\n",
      "Name: SMC15, dtype: float64\n",
      "-----Item69_71-----\n"
     ]
    }
   ],
   "source": [
    "count = 0\n",
    "idx = 0\n",
    "for b in behavs:\n",
    "    \n",
    "    print(f'-----{b}-----')\n",
    "    \n",
    "    nboutput = pd.read_csv(results_path+f'/Bruining_NB_viz{b}.csv', index_col=0)\n",
    "    \n",
    "    #Print out any duplicates if the sum of the duplicates is greater than 2/3\n",
    "    for synd in nboutput.columns:\n",
    "        if np.sum(nboutput[synd][nboutput[synd].duplicated(keep=False)])>=(2/3):\n",
    "            print(nboutput[synd])\n",
    "            count+=1\n",
    "    \n",
    "    #Where there is no tie, add the details to a dataframe\n",
    "        else:\n",
    "            newrow = pd.DataFrame({\"Syndrome\":synd, \"Behaviour\": b,\n",
    "                         \"Score\":np.argmax(np.array(nboutput[synd]), axis=0), \"Prob\":np.array(np.max(nboutput[synd], axis=0)), \"Tie\": \"N\"}, index=[idx]) \n",
    "            \n",
    "            df_B_weights = df_B_weights.append(newrow)\n",
    "            idx +=1"
   ]
  },
  {
   "cell_type": "markdown",
   "metadata": {
    "hidden": true
   },
   "source": [
    "Add lines to the dataframe manually to account for the ties. The 'score' is the mean of the scores with the same probability. "
   ]
  },
  {
   "cell_type": "code",
   "execution_count": 96,
   "metadata": {
    "hidden": true
   },
   "outputs": [],
   "source": [
    "tie_synd = [\"Down\", \"PW\", \"SMC15\", \"Down\", \"Down\", \"SMC15\", \"TSC\", \"SMC15\" ]\n",
    "tie_behav = [\"adi_63m\", \"Item64_65\", \"adi_52m\", \"adi_56m\", \"adi_59m\", \"adi_45m\", \"adi_35e\", \"Item77_78\"]\n",
    "tie_score = [0.5, 0.5, 1.5, 0.5, 1, 1, 0.5, 1.5]\n",
    "tie_prob = [0.407407, 0.404255, 0.428571,0.370370, 0.444444, 0.464286, 0.392857, 0.357143]\n",
    "tie_tie = [\"Y\", \"Y\", \"Y\", \"Y\", \"Y\", \"Y\", \"Y\", \"Y\"]\n",
    "\n",
    "tie_rows = pd.DataFrame({\"Syndrome\":tie_synd, \"Behaviour\": tie_behav,\n",
    "                         \"Score\":tie_score, \"Prob\":tie_prob, \"Tie\": tie_tie}) \n",
    "            \n",
    "df_B_weights = df_B_weights.append(tie_rows)"
   ]
  },
  {
   "cell_type": "markdown",
   "metadata": {
    "hidden": true
   },
   "source": [
    "Convert the scores to floats so that they can be used by Seaborn to set the size of the markers"
   ]
  },
  {
   "cell_type": "code",
   "execution_count": 98,
   "metadata": {
    "hidden": true
   },
   "outputs": [],
   "source": [
    "df_B_weights.loc[:,'Score'] = df_B_weights.Score.astype(np.float)"
   ]
  },
  {
   "cell_type": "markdown",
   "metadata": {
    "hidden": true
   },
   "source": [
    "Create the plot and save it"
   ]
  },
  {
   "cell_type": "code",
   "execution_count": 105,
   "metadata": {
    "hidden": true
   },
   "outputs": [
    {
     "data": {
      "image/png": "[encoded data removed]",
      "text/plain": [
       "<Figure size 1152x252 with 1 Axes>"
      ]
     },
     "metadata": {
      "needs_background": "light"
     },
     "output_type": "display_data"
    }
   ],
   "source": [
    "fig, ax = plt.subplots(figsize=(16,3.5))\n",
    "\n",
    "ax = sns.scatterplot(x='Behaviour', y='Syndrome',\n",
    "                     hue='Prob', size='Score', sizes=(50, 750),\n",
    "                     data=df_B_weights, style = 'Tie', markers=['s', 'D'], legend=False)\n",
    "\n",
    "plt.xticks(rotation=45, ha='right');\n",
    "\n",
    "ax.grid(False, 'major')\n",
    "ax.grid(True, 'minor')\n",
    "ax.set_xticks([t + 0.5 for t in ax.get_xticks()], minor=True)\n",
    "ax.set_yticks([t + 0.5 for t in ax.get_yticks()], minor=True)\n",
    "ax.set_xticklabels(labels = x_labs, rotation = 45, minor=False)\n",
    "ax.set_ylabel('Genetic disorder')\n",
    "ax.set_xlabel('')\n",
    "ax.set_xlim([-0.5, max([v for v in range(0,34)]) + 0.5]) \n",
    "ax.set_ylim([-0.5, max([v for v in range(0,6)]) + 0.5])\n",
    "plt.tight_layout()\n",
    "plt.savefig(plot_path+'NBvis_B_ties')"
   ]
  },
  {
   "cell_type": "markdown",
   "metadata": {
    "heading_collapsed": true
   },
   "source": [
    "## Plot the conditional likelihoods for the full syndromic dataset"
   ]
  },
  {
   "cell_type": "markdown",
   "metadata": {
    "hidden": true
   },
   "source": [
    "Create a dataframe to store the probabilities"
   ]
  },
  {
   "cell_type": "code",
   "execution_count": 106,
   "metadata": {
    "hidden": true
   },
   "outputs": [],
   "source": [
    "df_Rev_weights = pd.DataFrame(columns = [\"Syndrome\", \"Behaviour\", \"Score\", \"Prob\"])"
   ]
  },
  {
   "cell_type": "markdown",
   "metadata": {
    "hidden": true
   },
   "source": [
    "For each combination of behaviour and score, check if the maximum conditional likelihood is tied. If it is, print out the results. If not, just add the score corresponding to the maximum conditional likelihood to the dataframe."
   ]
  },
  {
   "cell_type": "code",
   "execution_count": 108,
   "metadata": {
    "hidden": true
   },
   "outputs": [
    {
     "name": "stdout",
     "output_type": "stream",
     "text": [
      "-----adi_50m-----\n",
      "-----adi_51m-----\n",
      "-----adi_57m-----\n",
      "-----adi_49m-----\n",
      "-----adi_62m-----\n",
      "-----adi_63m-----\n",
      "-----Item64_65-----\n",
      "-----adi_52m-----\n",
      "-----adi_53m-----\n",
      "-----adi_54m-----\n",
      "-----adi_31e-----\n",
      "-----adi_55m-----\n",
      "0.0    0.333333\n",
      "1.0    0.333333\n",
      "2.0    0.333333\n",
      "Name: NF1, dtype: float64\n",
      "-----adi_56m-----\n",
      "-----adi_58e-----\n",
      "-----adi_59m-----\n",
      "-----adi_42m-----\n",
      "-----adi_43m-----\n",
      "-----adi_44m-----\n",
      "0.0    0.368421\n",
      "1.0    0.263158\n",
      "2.0    0.368421\n",
      "Name: SMC15, dtype: float64\n",
      "-----adi_45m-----\n",
      "-----adi_47m-----\n",
      "-----adi_48m-----\n",
      "-----adi_61m-----\n",
      "-----adi_34e-----\n",
      "-----adi_35e-----\n",
      "0.0    0.368421\n",
      "1.0    0.368421\n",
      "2.0    0.263158\n",
      "Name: SMC15, dtype: float64\n",
      "-----adi_33e-----\n",
      "-----adi_36e-----\n",
      "0.0    0.215686\n",
      "1.0    0.392157\n",
      "2.0    0.392157\n",
      "Name: NF1, dtype: float64\n",
      "-----adi_37e-----\n",
      "-----adi_38e-----\n",
      "-----adi_67e-----\n",
      "-----adi_68e-----\n",
      "0.0    0.366667\n",
      "1.0    0.266667\n",
      "2.0    0.366667\n",
      "Name: Down, dtype: float64\n",
      "-----adi_39e-----\n",
      "-----adi_70e-----\n",
      "-----Item77_78-----\n",
      "-----Item69_71-----\n"
     ]
    }
   ],
   "source": [
    "count = 0\n",
    "idx = 0\n",
    "\n",
    "for b in behavs:\n",
    "    \n",
    "    print(f'-----{b}-----')\n",
    "    \n",
    "    nboutput = pd.read_csv(results_path+f'/Rev_NB_viz{b}.csv', index_col=0)\n",
    "    \n",
    "    #Print out any duplicates if the sum of the duplicates is greater than 2/3\n",
    "    for synd in nboutput.columns:\n",
    "        if np.sum(nboutput[synd][nboutput[synd].duplicated(keep=False)])>=(2/3):\n",
    "            print(nboutput[synd])\n",
    "            count+=1\n",
    "    #Where there is no tie, add the details to a dataframe\n",
    "        else:\n",
    "            newrows = pd.DataFrame({\"Syndrome\":synd, \"Behaviour\":b,\n",
    "                         \"Score\":np.argmax(np.array(nboutput[synd]), axis=0), \"Prob\":np.array(np.max(nboutput[synd], axis=0)), \"Tie\": \"N\"}, index=[idx]) \n",
    "    \n",
    "            df_Rev_weights = df_Rev_weights.append(newrows, ignore_index=True)\n",
    "            idx+=1"
   ]
  },
  {
   "cell_type": "markdown",
   "metadata": {
    "hidden": true
   },
   "source": [
    "Add lines to the dataframe manually to account for the ties. The 'score' is the mean of the scores with the same probability."
   ]
  },
  {
   "cell_type": "code",
   "execution_count": 109,
   "metadata": {
    "hidden": true
   },
   "outputs": [],
   "source": [
    "tie_synd = [\"NF1\", \"SMC15\", \"SMC15\", \"NF1\", \"Down\"]\n",
    "tie_behav = [\"adi_55m\", \"adi_44m\", \"adi_35e\", \"adi_36e\", \"adi_68e\"]\n",
    "tie_score = [1, 1, 0.5, 1.5, 1]\n",
    "tie_prob = [0.333333, 0.368421, 0.368421, 0.392157, 0.366667]\n",
    "tie_tie = [\"Y\", \"Y\", \"Y\", \"Y\", \"Y\"]\n",
    "\n",
    "tie_rows = pd.DataFrame({\"Syndrome\":tie_synd, \"Behaviour\": tie_behav,\n",
    "                         \"Score\":tie_score, \"Prob\":tie_prob, \"Tie\": tie_tie}) \n",
    "            \n",
    "df_Rev_weights = df_Rev_weights.append(tie_rows)"
   ]
  },
  {
   "cell_type": "markdown",
   "metadata": {
    "hidden": true
   },
   "source": [
    "Convert the scores to floats so that they can be used by Seaborn to set the size of the markers"
   ]
  },
  {
   "cell_type": "code",
   "execution_count": 110,
   "metadata": {
    "hidden": true
   },
   "outputs": [],
   "source": [
    "df_Rev_weights.loc[:,'Score'] = df_Rev_weights.Score.astype(np.float)"
   ]
  },
  {
   "cell_type": "markdown",
   "metadata": {
    "hidden": true
   },
   "source": [
    "Creat the plot and save it"
   ]
  },
  {
   "cell_type": "code",
   "execution_count": 111,
   "metadata": {
    "hidden": true
   },
   "outputs": [
    {
     "data": {
      "image/png": "[encoded data removed]",
      "text/plain": [
       "<Figure size 1116x345.6 with 1 Axes>"
      ]
     },
     "metadata": {
      "needs_background": "light"
     },
     "output_type": "display_data"
    }
   ],
   "source": [
    "fig, ax = plt.subplots(figsize=(15.5,4.8))\n",
    "ax = sns.scatterplot(x='Behaviour', y='Syndrome',\n",
    "                     hue='Prob', size='Score', sizes=(50, 750),\n",
    "                     data=df_Rev_weights, style = 'Tie', markers=['s', 'D'], legend=False)\n",
    "plt.xticks(rotation=45, ha='right');\n",
    "\n",
    "ax.grid(False, 'major')\n",
    "ax.grid(True, 'minor')\n",
    "ax.set_xticks([t + 0.5 for t in ax.get_xticks()], minor=True)\n",
    "ax.set_yticks([t + 0.5 for t in ax.get_yticks()], minor=True)\n",
    "ax.set_xticklabels(labels = x_labs, rotation = 45, minor=False)\n",
    "ax.set_xlabel('')\n",
    "ax.set_ylabel('Genetic disorder')\n",
    "\n",
    "ax.set_xlim([-0.5, max([v for v in range(0,34)]) + 0.5]) \n",
    "ax.set_ylim([-0.5, max([v for v in range(0,10)]) + 0.5])\n",
    "plt.tight_layout()\n",
    "plt.savefig(plot_path+'NBvis_Rev_ties')"
   ]
  },
  {
   "cell_type": "code",
   "execution_count": null,
   "metadata": {
    "hidden": true
   },
   "outputs": [],
   "source": []
  }
 ],
 "metadata": {
  "kernelspec": {
   "display_name": "Python 3",
   "language": "python",
   "name": "python3"
  },
  "language_info": {
   "codemirror_mode": {
    "name": "ipython",
    "version": 3
   },
   "file_extension": ".py",
   "mimetype": "text/x-python",
   "name": "python",
   "nbconvert_exporter": "python",
   "pygments_lexer": "ipython3",
   "version": "3.6.7"
  }
 },
 "nbformat": 4,
 "nbformat_minor": 2
}
